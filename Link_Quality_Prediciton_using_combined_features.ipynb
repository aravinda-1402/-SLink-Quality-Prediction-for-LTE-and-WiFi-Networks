{
  "nbformat": 4,
  "nbformat_minor": 0,
  "metadata": {
    "accelerator": "GPU",
    "colab": {
      "name": "Link_Quality_Prediciton_using_combined_features.ipynb",
      "provenance": [],
      "collapsed_sections": []
    },
    "kernelspec": {
      "display_name": "Python 3",
      "language": "python",
      "name": "python3"
    },
    "language_info": {
      "codemirror_mode": {
        "name": "ipython",
        "version": 3
      },
      "file_extension": ".py",
      "mimetype": "text/x-python",
      "name": "python",
      "nbconvert_exporter": "python",
      "pygments_lexer": "ipython3",
      "version": "3.8.8"
    }
  },
  "cells": [
    {
      "cell_type": "code",
      "metadata": {
        "id": "X9CkDS6WAttw"
      },
      "source": [
        "import numpy as np\n",
        "import pandas as pd\n",
        "import matplotlib.pyplot as plt\n",
        "import random\n",
        "import sys\n",
        "from threading import Thread, RLock\n",
        "import time\n",
        "from imblearn.under_sampling import RandomUnderSampler\n",
        "from imblearn.over_sampling import RandomOverSampler\n",
        "import seaborn as sns\n",
        "import tensorflow as tf\n",
        "import keras\n",
        "%matplotlib inline"
      ],
      "execution_count": 2,
      "outputs": []
    },
    {
      "cell_type": "code",
      "metadata": {
        "id": "1lCe3bQnBNPc"
      },
      "source": [
        "df = pd.read_csv('grenoble_7.k7.csv',\n",
        "                 parse_dates=['datetime'],\n",
        "                 infer_datetime_format=True,\n",
        "                 index_col='datetime')              "
      ],
      "execution_count": 3,
      "outputs": []
    },
    {
      "cell_type": "code",
      "metadata": {
        "colab": {
          "base_uri": "https://localhost:8080/",
          "height": 446
        },
        "id": "7loGGWSHBSSF",
        "outputId": "53a6bfd9-eb18-49dd-df37-bac9e2d6cb17"
      },
      "source": [
        "df"
      ],
      "execution_count": 4,
      "outputs": [
        {
          "output_type": "execute_result",
          "data": {
            "text/html": [
              "<div>\n",
              "<style scoped>\n",
              "    .dataframe tbody tr th:only-of-type {\n",
              "        vertical-align: middle;\n",
              "    }\n",
              "\n",
              "    .dataframe tbody tr th {\n",
              "        vertical-align: top;\n",
              "    }\n",
              "\n",
              "    .dataframe thead th {\n",
              "        text-align: right;\n",
              "    }\n",
              "</style>\n",
              "<table border=\"1\" class=\"dataframe\">\n",
              "  <thead>\n",
              "    <tr style=\"text-align: right;\">\n",
              "      <th></th>\n",
              "      <th>src</th>\n",
              "      <th>dst</th>\n",
              "      <th>channel</th>\n",
              "      <th>mean_rssi</th>\n",
              "      <th>pdr</th>\n",
              "      <th>tx_count</th>\n",
              "    </tr>\n",
              "    <tr>\n",
              "      <th>datetime</th>\n",
              "      <th></th>\n",
              "      <th></th>\n",
              "      <th></th>\n",
              "      <th></th>\n",
              "      <th></th>\n",
              "      <th></th>\n",
              "    </tr>\n",
              "  </thead>\n",
              "  <tbody>\n",
              "    <tr>\n",
              "      <th>2018-01-11 16:32:22</th>\n",
              "      <td>0</td>\n",
              "      <td>18</td>\n",
              "      <td>11</td>\n",
              "      <td>-5.90</td>\n",
              "      <td>1.0</td>\n",
              "      <td>100</td>\n",
              "    </tr>\n",
              "    <tr>\n",
              "      <th>2018-01-11 16:32:22</th>\n",
              "      <td>0</td>\n",
              "      <td>7</td>\n",
              "      <td>11</td>\n",
              "      <td>-70.74</td>\n",
              "      <td>1.0</td>\n",
              "      <td>100</td>\n",
              "    </tr>\n",
              "    <tr>\n",
              "      <th>2018-01-11 16:32:22</th>\n",
              "      <td>0</td>\n",
              "      <td>42</td>\n",
              "      <td>11</td>\n",
              "      <td>-80.06</td>\n",
              "      <td>0.6</td>\n",
              "      <td>100</td>\n",
              "    </tr>\n",
              "    <tr>\n",
              "      <th>2018-01-11 16:32:22</th>\n",
              "      <td>0</td>\n",
              "      <td>28</td>\n",
              "      <td>11</td>\n",
              "      <td>-68.46</td>\n",
              "      <td>1.0</td>\n",
              "      <td>100</td>\n",
              "    </tr>\n",
              "    <tr>\n",
              "      <th>2018-01-11 16:32:22</th>\n",
              "      <td>0</td>\n",
              "      <td>12</td>\n",
              "      <td>11</td>\n",
              "      <td>-71.84</td>\n",
              "      <td>0.6</td>\n",
              "      <td>100</td>\n",
              "    </tr>\n",
              "    <tr>\n",
              "      <th>...</th>\n",
              "      <td>...</td>\n",
              "      <td>...</td>\n",
              "      <td>...</td>\n",
              "      <td>...</td>\n",
              "      <td>...</td>\n",
              "      <td>...</td>\n",
              "    </tr>\n",
              "    <tr>\n",
              "      <th>2018-01-13 16:21:20</th>\n",
              "      <td>49</td>\n",
              "      <td>28</td>\n",
              "      <td>26</td>\n",
              "      <td>-75.13</td>\n",
              "      <td>1.0</td>\n",
              "      <td>100</td>\n",
              "    </tr>\n",
              "    <tr>\n",
              "      <th>2018-01-13 16:21:20</th>\n",
              "      <td>49</td>\n",
              "      <td>37</td>\n",
              "      <td>26</td>\n",
              "      <td>-68.39</td>\n",
              "      <td>1.0</td>\n",
              "      <td>100</td>\n",
              "    </tr>\n",
              "    <tr>\n",
              "      <th>2018-01-13 16:21:20</th>\n",
              "      <td>49</td>\n",
              "      <td>13</td>\n",
              "      <td>26</td>\n",
              "      <td>-74.39</td>\n",
              "      <td>1.0</td>\n",
              "      <td>100</td>\n",
              "    </tr>\n",
              "    <tr>\n",
              "      <th>2018-01-13 16:21:20</th>\n",
              "      <td>49</td>\n",
              "      <td>33</td>\n",
              "      <td>26</td>\n",
              "      <td>-80.38</td>\n",
              "      <td>1.0</td>\n",
              "      <td>100</td>\n",
              "    </tr>\n",
              "    <tr>\n",
              "      <th>2018-01-13 16:21:20</th>\n",
              "      <td>49</td>\n",
              "      <td>43</td>\n",
              "      <td>26</td>\n",
              "      <td>-75.62</td>\n",
              "      <td>1.0</td>\n",
              "      <td>100</td>\n",
              "    </tr>\n",
              "  </tbody>\n",
              "</table>\n",
              "<p>108659 rows × 6 columns</p>\n",
              "</div>"
            ],
            "text/plain": [
              "                     src  dst  channel  mean_rssi  pdr  tx_count\n",
              "datetime                                                        \n",
              "2018-01-11 16:32:22    0   18       11      -5.90  1.0       100\n",
              "2018-01-11 16:32:22    0    7       11     -70.74  1.0       100\n",
              "2018-01-11 16:32:22    0   42       11     -80.06  0.6       100\n",
              "2018-01-11 16:32:22    0   28       11     -68.46  1.0       100\n",
              "2018-01-11 16:32:22    0   12       11     -71.84  0.6       100\n",
              "...                  ...  ...      ...        ...  ...       ...\n",
              "2018-01-13 16:21:20   49   28       26     -75.13  1.0       100\n",
              "2018-01-13 16:21:20   49   37       26     -68.39  1.0       100\n",
              "2018-01-13 16:21:20   49   13       26     -74.39  1.0       100\n",
              "2018-01-13 16:21:20   49   33       26     -80.38  1.0       100\n",
              "2018-01-13 16:21:20   49   43       26     -75.62  1.0       100\n",
              "\n",
              "[108659 rows x 6 columns]"
            ]
          },
          "metadata": {
            "tags": []
          },
          "execution_count": 4
        }
      ]
    },
    {
      "cell_type": "code",
      "metadata": {
        "id": "qwJBoCcQBUB1"
      },
      "source": [
        "ros = RandomOverSampler(random_state=0)\n",
        "rus = RandomUnderSampler(random_state=0)\n",
        "target_names=[]\n",
        "\n",
        "                                           # for pdr+rssi\n",
        "combined_features=[]\n",
        "for i in range(len(df)):\n",
        "        combined_features.append(df['pdr'][i]*df['pdr'][i]+df['mean_rssi'][i]*df['mean_rssi'][i])\n",
        "        if df['pdr'][i] <= 0.3:\n",
        "            target_names.append('Bad')\n",
        "        elif df['pdr'][i]>=0.75:\n",
        "            target_names.append('Good')\n",
        "        elif ((df['pdr'][i]>0.3 and df['pdr'][i]<0.75)and df['mean_rssi'][i]<=-87):\n",
        "            target_names.append('Bad')\n",
        "        else:\n",
        "            target_names.append('Interm.')\n",
        "\n",
        "df['combined_features']=combined_features\n",
        "coloumn=['combined_features']\n",
        "\n",
        "    \n",
        "df['target_names']=target_names\n",
        "coloumn2=['target_names']"
      ],
      "execution_count": 5,
      "outputs": []
    },
    {
      "cell_type": "code",
      "metadata": {
        "colab": {
          "base_uri": "https://localhost:8080/",
          "height": 801
        },
        "id": "zTVKnvl2Kyak",
        "outputId": "ef1b6374-9462-4f28-eac8-d1c97a0284f7"
      },
      "source": [
        "df"
      ],
      "execution_count": 6,
      "outputs": [
        {
          "output_type": "execute_result",
          "data": {
            "text/html": [
              "<div>\n",
              "<style scoped>\n",
              "    .dataframe tbody tr th:only-of-type {\n",
              "        vertical-align: middle;\n",
              "    }\n",
              "\n",
              "    .dataframe tbody tr th {\n",
              "        vertical-align: top;\n",
              "    }\n",
              "\n",
              "    .dataframe thead th {\n",
              "        text-align: right;\n",
              "    }\n",
              "</style>\n",
              "<table border=\"1\" class=\"dataframe\">\n",
              "  <thead>\n",
              "    <tr style=\"text-align: right;\">\n",
              "      <th></th>\n",
              "      <th>src</th>\n",
              "      <th>dst</th>\n",
              "      <th>channel</th>\n",
              "      <th>mean_rssi</th>\n",
              "      <th>pdr</th>\n",
              "      <th>tx_count</th>\n",
              "      <th>combined_features</th>\n",
              "      <th>target_names</th>\n",
              "    </tr>\n",
              "    <tr>\n",
              "      <th>datetime</th>\n",
              "      <th></th>\n",
              "      <th></th>\n",
              "      <th></th>\n",
              "      <th></th>\n",
              "      <th></th>\n",
              "      <th></th>\n",
              "      <th></th>\n",
              "      <th></th>\n",
              "    </tr>\n",
              "  </thead>\n",
              "  <tbody>\n",
              "    <tr>\n",
              "      <th>2018-01-11 16:32:22</th>\n",
              "      <td>0</td>\n",
              "      <td>18</td>\n",
              "      <td>11</td>\n",
              "      <td>-5.90</td>\n",
              "      <td>1.0</td>\n",
              "      <td>100</td>\n",
              "      <td>35.8100</td>\n",
              "      <td>Good</td>\n",
              "    </tr>\n",
              "    <tr>\n",
              "      <th>2018-01-11 16:32:22</th>\n",
              "      <td>0</td>\n",
              "      <td>7</td>\n",
              "      <td>11</td>\n",
              "      <td>-70.74</td>\n",
              "      <td>1.0</td>\n",
              "      <td>100</td>\n",
              "      <td>5005.1476</td>\n",
              "      <td>Good</td>\n",
              "    </tr>\n",
              "    <tr>\n",
              "      <th>2018-01-11 16:32:22</th>\n",
              "      <td>0</td>\n",
              "      <td>42</td>\n",
              "      <td>11</td>\n",
              "      <td>-80.06</td>\n",
              "      <td>0.6</td>\n",
              "      <td>100</td>\n",
              "      <td>6409.9636</td>\n",
              "      <td>Interm.</td>\n",
              "    </tr>\n",
              "    <tr>\n",
              "      <th>2018-01-11 16:32:22</th>\n",
              "      <td>0</td>\n",
              "      <td>28</td>\n",
              "      <td>11</td>\n",
              "      <td>-68.46</td>\n",
              "      <td>1.0</td>\n",
              "      <td>100</td>\n",
              "      <td>4687.7716</td>\n",
              "      <td>Good</td>\n",
              "    </tr>\n",
              "    <tr>\n",
              "      <th>2018-01-11 16:32:22</th>\n",
              "      <td>0</td>\n",
              "      <td>12</td>\n",
              "      <td>11</td>\n",
              "      <td>-71.84</td>\n",
              "      <td>0.6</td>\n",
              "      <td>100</td>\n",
              "      <td>5161.3456</td>\n",
              "      <td>Interm.</td>\n",
              "    </tr>\n",
              "    <tr>\n",
              "      <th>...</th>\n",
              "      <td>...</td>\n",
              "      <td>...</td>\n",
              "      <td>...</td>\n",
              "      <td>...</td>\n",
              "      <td>...</td>\n",
              "      <td>...</td>\n",
              "      <td>...</td>\n",
              "      <td>...</td>\n",
              "    </tr>\n",
              "    <tr>\n",
              "      <th>2018-01-13 16:21:20</th>\n",
              "      <td>49</td>\n",
              "      <td>28</td>\n",
              "      <td>26</td>\n",
              "      <td>-75.13</td>\n",
              "      <td>1.0</td>\n",
              "      <td>100</td>\n",
              "      <td>5645.5169</td>\n",
              "      <td>Good</td>\n",
              "    </tr>\n",
              "    <tr>\n",
              "      <th>2018-01-13 16:21:20</th>\n",
              "      <td>49</td>\n",
              "      <td>37</td>\n",
              "      <td>26</td>\n",
              "      <td>-68.39</td>\n",
              "      <td>1.0</td>\n",
              "      <td>100</td>\n",
              "      <td>4678.1921</td>\n",
              "      <td>Good</td>\n",
              "    </tr>\n",
              "    <tr>\n",
              "      <th>2018-01-13 16:21:20</th>\n",
              "      <td>49</td>\n",
              "      <td>13</td>\n",
              "      <td>26</td>\n",
              "      <td>-74.39</td>\n",
              "      <td>1.0</td>\n",
              "      <td>100</td>\n",
              "      <td>5534.8721</td>\n",
              "      <td>Good</td>\n",
              "    </tr>\n",
              "    <tr>\n",
              "      <th>2018-01-13 16:21:20</th>\n",
              "      <td>49</td>\n",
              "      <td>33</td>\n",
              "      <td>26</td>\n",
              "      <td>-80.38</td>\n",
              "      <td>1.0</td>\n",
              "      <td>100</td>\n",
              "      <td>6461.9444</td>\n",
              "      <td>Good</td>\n",
              "    </tr>\n",
              "    <tr>\n",
              "      <th>2018-01-13 16:21:20</th>\n",
              "      <td>49</td>\n",
              "      <td>43</td>\n",
              "      <td>26</td>\n",
              "      <td>-75.62</td>\n",
              "      <td>1.0</td>\n",
              "      <td>100</td>\n",
              "      <td>5719.3844</td>\n",
              "      <td>Good</td>\n",
              "    </tr>\n",
              "  </tbody>\n",
              "</table>\n",
              "<p>108659 rows × 8 columns</p>\n",
              "</div>"
            ],
            "text/plain": [
              "                     src  dst  ...  combined_features  target_names\n",
              "datetime                       ...                                 \n",
              "2018-01-11 16:32:22    0   18  ...            35.8100          Good\n",
              "2018-01-11 16:32:22    0    7  ...          5005.1476          Good\n",
              "2018-01-11 16:32:22    0   42  ...          6409.9636       Interm.\n",
              "2018-01-11 16:32:22    0   28  ...          4687.7716          Good\n",
              "2018-01-11 16:32:22    0   12  ...          5161.3456       Interm.\n",
              "...                  ...  ...  ...                ...           ...\n",
              "2018-01-13 16:21:20   49   28  ...          5645.5169          Good\n",
              "2018-01-13 16:21:20   49   37  ...          4678.1921          Good\n",
              "2018-01-13 16:21:20   49   13  ...          5534.8721          Good\n",
              "2018-01-13 16:21:20   49   33  ...          6461.9444          Good\n",
              "2018-01-13 16:21:20   49   43  ...          5719.3844          Good\n",
              "\n",
              "[108659 rows x 8 columns]"
            ]
          },
          "metadata": {
            "tags": []
          },
          "execution_count": 6
        }
      ]
    },
    {
      "cell_type": "code",
      "metadata": {
        "id": "D6ptRAUzKFuJ"
      },
      "source": [
        "target_names = np.array('target_names')"
      ],
      "execution_count": 7,
      "outputs": []
    },
    {
      "cell_type": "code",
      "metadata": {
        "colab": {
          "base_uri": "https://localhost:8080/"
        },
        "id": "7VCWUO9EEYoL",
        "outputId": "fc334ab8-92c9-41a0-8ef9-23ab2152c12e"
      },
      "source": [
        "count_bad=(df['target_names']=='Bad').sum()\n",
        "print(count_bad)"
      ],
      "execution_count": 8,
      "outputs": [
        {
          "output_type": "stream",
          "text": [
            "10220\n"
          ],
          "name": "stdout"
        }
      ]
    },
    {
      "cell_type": "code",
      "metadata": {
        "colab": {
          "base_uri": "https://localhost:8080/"
        },
        "id": "dYozQ1XyGAZq",
        "outputId": "10967816-1864-4218-d557-88af27121fc1"
      },
      "source": [
        "count_interm=(df['target_names']=='Interm.').sum()\n",
        "print(count_interm)"
      ],
      "execution_count": 9,
      "outputs": [
        {
          "output_type": "stream",
          "text": [
            "13017\n"
          ],
          "name": "stdout"
        }
      ]
    },
    {
      "cell_type": "code",
      "metadata": {
        "colab": {
          "base_uri": "https://localhost:8080/"
        },
        "id": "BWRXwf5XJRWm",
        "outputId": "b481ef51-9ab5-44be-e7ea-bb8859cbd85b"
      },
      "source": [
        "count_good=(df['target_names']=='Good').sum()\n",
        "print(count_good)"
      ],
      "execution_count": 10,
      "outputs": [
        {
          "output_type": "stream",
          "text": [
            "85422\n"
          ],
          "name": "stdout"
        }
      ]
    },
    {
      "cell_type": "code",
      "metadata": {
        "colab": {
          "base_uri": "https://localhost:8080/"
        },
        "id": "sVHqPAeDKeKj",
        "outputId": "55fb7e76-41f6-4ae4-b94b-f6bd9e40bdc3"
      },
      "source": [
        "df.info()"
      ],
      "execution_count": 11,
      "outputs": [
        {
          "output_type": "stream",
          "text": [
            "<class 'pandas.core.frame.DataFrame'>\n",
            "DatetimeIndex: 108659 entries, 2018-01-11 16:32:22 to 2018-01-13 16:21:20\n",
            "Data columns (total 8 columns):\n",
            " #   Column             Non-Null Count   Dtype  \n",
            "---  ------             --------------   -----  \n",
            " 0   src                108659 non-null  int64  \n",
            " 1   dst                108659 non-null  int64  \n",
            " 2   channel            108659 non-null  int64  \n",
            " 3   mean_rssi          108659 non-null  float64\n",
            " 4   pdr                108659 non-null  float64\n",
            " 5   tx_count           108659 non-null  int64  \n",
            " 6   combined_features  108659 non-null  float64\n",
            " 7   target_names       108659 non-null  object \n",
            "dtypes: float64(3), int64(4), object(1)\n",
            "memory usage: 7.5+ MB\n"
          ],
          "name": "stdout"
        }
      ]
    },
    {
      "cell_type": "code",
      "metadata": {
        "colab": {
          "base_uri": "https://localhost:8080/"
        },
        "id": "YshRreBmOB1p",
        "outputId": "d55fd91f-4301-45e5-db62-f3c96877accf"
      },
      "source": [
        "df.shape"
      ],
      "execution_count": 12,
      "outputs": [
        {
          "output_type": "execute_result",
          "data": {
            "text/plain": [
              "(108659, 8)"
            ]
          },
          "metadata": {
            "tags": []
          },
          "execution_count": 12
        }
      ]
    },
    {
      "cell_type": "code",
      "metadata": {
        "colab": {
          "base_uri": "https://localhost:8080/",
          "height": 315
        },
        "id": "CFQ6lhkNOv5i",
        "outputId": "0852833f-73a2-4006-c0d3-446f72b86e38"
      },
      "source": [
        "df.describe()"
      ],
      "execution_count": 13,
      "outputs": [
        {
          "output_type": "execute_result",
          "data": {
            "text/html": [
              "<div>\n",
              "<style scoped>\n",
              "    .dataframe tbody tr th:only-of-type {\n",
              "        vertical-align: middle;\n",
              "    }\n",
              "\n",
              "    .dataframe tbody tr th {\n",
              "        vertical-align: top;\n",
              "    }\n",
              "\n",
              "    .dataframe thead th {\n",
              "        text-align: right;\n",
              "    }\n",
              "</style>\n",
              "<table border=\"1\" class=\"dataframe\">\n",
              "  <thead>\n",
              "    <tr style=\"text-align: right;\">\n",
              "      <th></th>\n",
              "      <th>src</th>\n",
              "      <th>dst</th>\n",
              "      <th>channel</th>\n",
              "      <th>mean_rssi</th>\n",
              "      <th>pdr</th>\n",
              "      <th>tx_count</th>\n",
              "      <th>combined_features</th>\n",
              "    </tr>\n",
              "  </thead>\n",
              "  <tbody>\n",
              "    <tr>\n",
              "      <th>count</th>\n",
              "      <td>108659.000000</td>\n",
              "      <td>108659.000000</td>\n",
              "      <td>108659.000000</td>\n",
              "      <td>108659.000000</td>\n",
              "      <td>108659.000000</td>\n",
              "      <td>108659.0</td>\n",
              "      <td>108659.000000</td>\n",
              "    </tr>\n",
              "    <tr>\n",
              "      <th>mean</th>\n",
              "      <td>24.923485</td>\n",
              "      <td>25.047387</td>\n",
              "      <td>18.376895</td>\n",
              "      <td>-74.550728</td>\n",
              "      <td>0.874964</td>\n",
              "      <td>100.0</td>\n",
              "      <td>5699.554141</td>\n",
              "    </tr>\n",
              "    <tr>\n",
              "      <th>std</th>\n",
              "      <td>14.831090</td>\n",
              "      <td>14.836094</td>\n",
              "      <td>4.579974</td>\n",
              "      <td>11.870855</td>\n",
              "      <td>0.248361</td>\n",
              "      <td>0.0</td>\n",
              "      <td>1656.734295</td>\n",
              "    </tr>\n",
              "    <tr>\n",
              "      <th>min</th>\n",
              "      <td>0.000000</td>\n",
              "      <td>0.000000</td>\n",
              "      <td>11.000000</td>\n",
              "      <td>-91.000000</td>\n",
              "      <td>0.010000</td>\n",
              "      <td>100.0</td>\n",
              "      <td>35.810000</td>\n",
              "    </tr>\n",
              "    <tr>\n",
              "      <th>25%</th>\n",
              "      <td>12.000000</td>\n",
              "      <td>13.000000</td>\n",
              "      <td>14.000000</td>\n",
              "      <td>-85.770000</td>\n",
              "      <td>0.910000</td>\n",
              "      <td>100.0</td>\n",
              "      <td>4485.980900</td>\n",
              "    </tr>\n",
              "    <tr>\n",
              "      <th>50%</th>\n",
              "      <td>25.000000</td>\n",
              "      <td>25.000000</td>\n",
              "      <td>18.000000</td>\n",
              "      <td>-76.570000</td>\n",
              "      <td>1.000000</td>\n",
              "      <td>100.0</td>\n",
              "      <td>5863.964900</td>\n",
              "    </tr>\n",
              "    <tr>\n",
              "      <th>75%</th>\n",
              "      <td>39.000000</td>\n",
              "      <td>40.000000</td>\n",
              "      <td>22.000000</td>\n",
              "      <td>-66.970000</td>\n",
              "      <td>1.000000</td>\n",
              "      <td>100.0</td>\n",
              "      <td>7357.492900</td>\n",
              "    </tr>\n",
              "    <tr>\n",
              "      <th>max</th>\n",
              "      <td>49.000000</td>\n",
              "      <td>49.000000</td>\n",
              "      <td>26.000000</td>\n",
              "      <td>-5.900000</td>\n",
              "      <td>1.000000</td>\n",
              "      <td>100.0</td>\n",
              "      <td>8281.000100</td>\n",
              "    </tr>\n",
              "  </tbody>\n",
              "</table>\n",
              "</div>"
            ],
            "text/plain": [
              "                 src            dst  ...  tx_count  combined_features\n",
              "count  108659.000000  108659.000000  ...  108659.0      108659.000000\n",
              "mean       24.923485      25.047387  ...     100.0        5699.554141\n",
              "std        14.831090      14.836094  ...       0.0        1656.734295\n",
              "min         0.000000       0.000000  ...     100.0          35.810000\n",
              "25%        12.000000      13.000000  ...     100.0        4485.980900\n",
              "50%        25.000000      25.000000  ...     100.0        5863.964900\n",
              "75%        39.000000      40.000000  ...     100.0        7357.492900\n",
              "max        49.000000      49.000000  ...     100.0        8281.000100\n",
              "\n",
              "[8 rows x 7 columns]"
            ]
          },
          "metadata": {
            "tags": []
          },
          "execution_count": 13
        }
      ]
    },
    {
      "cell_type": "code",
      "metadata": {
        "id": "Na2VgwoffJ32"
      },
      "source": [
        "features = df[['combined_features']]\n",
        "target_names = df[['target_names']]              "
      ],
      "execution_count": 14,
      "outputs": []
    },
    {
      "cell_type": "code",
      "metadata": {
        "colab": {
          "base_uri": "https://localhost:8080/",
          "height": 447
        },
        "id": "upLnlgyZUrPK",
        "outputId": "62df3513-30ed-4e38-8ef3-3cee235a5e98"
      },
      "source": [
        "features"
      ],
      "execution_count": 15,
      "outputs": [
        {
          "output_type": "execute_result",
          "data": {
            "text/html": [
              "<div>\n",
              "<style scoped>\n",
              "    .dataframe tbody tr th:only-of-type {\n",
              "        vertical-align: middle;\n",
              "    }\n",
              "\n",
              "    .dataframe tbody tr th {\n",
              "        vertical-align: top;\n",
              "    }\n",
              "\n",
              "    .dataframe thead th {\n",
              "        text-align: right;\n",
              "    }\n",
              "</style>\n",
              "<table border=\"1\" class=\"dataframe\">\n",
              "  <thead>\n",
              "    <tr style=\"text-align: right;\">\n",
              "      <th></th>\n",
              "      <th>combined_features</th>\n",
              "    </tr>\n",
              "    <tr>\n",
              "      <th>datetime</th>\n",
              "      <th></th>\n",
              "    </tr>\n",
              "  </thead>\n",
              "  <tbody>\n",
              "    <tr>\n",
              "      <th>2018-01-11 16:32:22</th>\n",
              "      <td>35.8100</td>\n",
              "    </tr>\n",
              "    <tr>\n",
              "      <th>2018-01-11 16:32:22</th>\n",
              "      <td>5005.1476</td>\n",
              "    </tr>\n",
              "    <tr>\n",
              "      <th>2018-01-11 16:32:22</th>\n",
              "      <td>6409.9636</td>\n",
              "    </tr>\n",
              "    <tr>\n",
              "      <th>2018-01-11 16:32:22</th>\n",
              "      <td>4687.7716</td>\n",
              "    </tr>\n",
              "    <tr>\n",
              "      <th>2018-01-11 16:32:22</th>\n",
              "      <td>5161.3456</td>\n",
              "    </tr>\n",
              "    <tr>\n",
              "      <th>...</th>\n",
              "      <td>...</td>\n",
              "    </tr>\n",
              "    <tr>\n",
              "      <th>2018-01-13 16:21:20</th>\n",
              "      <td>5645.5169</td>\n",
              "    </tr>\n",
              "    <tr>\n",
              "      <th>2018-01-13 16:21:20</th>\n",
              "      <td>4678.1921</td>\n",
              "    </tr>\n",
              "    <tr>\n",
              "      <th>2018-01-13 16:21:20</th>\n",
              "      <td>5534.8721</td>\n",
              "    </tr>\n",
              "    <tr>\n",
              "      <th>2018-01-13 16:21:20</th>\n",
              "      <td>6461.9444</td>\n",
              "    </tr>\n",
              "    <tr>\n",
              "      <th>2018-01-13 16:21:20</th>\n",
              "      <td>5719.3844</td>\n",
              "    </tr>\n",
              "  </tbody>\n",
              "</table>\n",
              "<p>108659 rows × 1 columns</p>\n",
              "</div>"
            ],
            "text/plain": [
              "                     combined_features\n",
              "datetime                              \n",
              "2018-01-11 16:32:22            35.8100\n",
              "2018-01-11 16:32:22          5005.1476\n",
              "2018-01-11 16:32:22          6409.9636\n",
              "2018-01-11 16:32:22          4687.7716\n",
              "2018-01-11 16:32:22          5161.3456\n",
              "...                                ...\n",
              "2018-01-13 16:21:20          5645.5169\n",
              "2018-01-13 16:21:20          4678.1921\n",
              "2018-01-13 16:21:20          5534.8721\n",
              "2018-01-13 16:21:20          6461.9444\n",
              "2018-01-13 16:21:20          5719.3844\n",
              "\n",
              "[108659 rows x 1 columns]"
            ]
          },
          "metadata": {
            "tags": []
          },
          "execution_count": 15
        }
      ]
    },
    {
      "cell_type": "code",
      "metadata": {
        "id": "dKhxc5e8U-WQ"
      },
      "source": [
        "#from sklearn.model_selection import train_test_split\n",
        "#train_features,test_features,train_labels,test_labels = train_test_split(features,target_names,test_size=0.3,shuffle=False)"
      ],
      "execution_count": 16,
      "outputs": []
    },
    {
      "cell_type": "code",
      "metadata": {
        "id": "x04kMzF4V4dF"
      },
      "source": [
        "#train_labels"
      ],
      "execution_count": 17,
      "outputs": []
    },
    {
      "cell_type": "code",
      "metadata": {
        "id": "7anwtDdzWJtM"
      },
      "source": [
        "#test_labels"
      ],
      "execution_count": 18,
      "outputs": []
    },
    {
      "cell_type": "code",
      "metadata": {
        "colab": {
          "base_uri": "https://localhost:8080/"
        },
        "id": "hhL4rWzUn2rQ",
        "outputId": "015bec4d-ac1b-4aa2-93c6-db59f7f4bcf1"
      },
      "source": [
        "# Split train and test data\n",
        "train_features = features.loc['2018-01-11 16:32:22':'2018-01-13 06:43:02']\n",
        "train_labels = target_names.loc['2018-01-11 16:32:22':'2018-01-13 06:43:02','target_names']\n",
        "\n",
        "test_features = features.loc['2018-01-13 06:43:02':'2018-01-13 16:21:20']\n",
        "test_labels = target_names.loc['2018-01-13 06:43:02':'2018-01-13 16:21:20','target_names']\n",
        "\n",
        "# I want to use a T-days window of input data for predicting target_class\n",
        "# It means I need to prepend (T-1) last train records to the 1st test window\n",
        "\n",
        "T = 30  # my choice of the timesteps window\n",
        "\n",
        "prepend_features = train_features.iloc[-(T-1):]\n",
        "test_features = pd.concat([prepend_features, test_features], axis=0)\n",
        "\n",
        "train_features.shape, train_labels.shape, test_features.shape, test_labels.shape"
      ],
      "execution_count": 19,
      "outputs": [
        {
          "output_type": "execute_result",
          "data": {
            "text/plain": [
              "((86928, 1), (86928,), (21763, 1), (21734,))"
            ]
          },
          "metadata": {
            "tags": []
          },
          "execution_count": 19
        }
      ]
    },
    {
      "cell_type": "code",
      "metadata": {
        "colab": {
          "base_uri": "https://localhost:8080/"
        },
        "id": "mKZuUJPAl3iK",
        "outputId": "b08ed50a-14fc-4b19-8769-871eea21ef11"
      },
      "source": [
        "# Rescale the features\n",
        "from sklearn.preprocessing import StandardScaler  # MinMaxScaler\n",
        "\n",
        "scaler = StandardScaler()  # MinMaxScaler(feature_range=(-1,1))\n",
        "scaled_train_features = pd.DataFrame(scaler.fit_transform(train_features.values),\n",
        "                                     index=train_features.index,\n",
        "                                     columns=train_features.columns)\n",
        "# The Scaler is fit on the training set and then applied to the test set\n",
        "scaled_test_features = pd.DataFrame(scaler.transform(test_features.values),\n",
        "                                    index=test_features.index,\n",
        "                                    columns=test_features.columns)\n",
        "\n",
        "scaled_train_features.shape, scaled_test_features.shape"
      ],
      "execution_count": 20,
      "outputs": [
        {
          "output_type": "execute_result",
          "data": {
            "text/plain": [
              "((86928, 1), (21763, 1))"
            ]
          },
          "metadata": {
            "tags": []
          },
          "execution_count": 20
        }
      ]
    },
    {
      "cell_type": "code",
      "metadata": {
        "colab": {
          "base_uri": "https://localhost:8080/",
          "height": 447
        },
        "id": "PWOHaCKTENOZ",
        "outputId": "ad9da18e-dd4c-4c1f-c00c-0eaadd569f29"
      },
      "source": [
        "scaled_train_features"
      ],
      "execution_count": 21,
      "outputs": [
        {
          "output_type": "execute_result",
          "data": {
            "text/html": [
              "<div>\n",
              "<style scoped>\n",
              "    .dataframe tbody tr th:only-of-type {\n",
              "        vertical-align: middle;\n",
              "    }\n",
              "\n",
              "    .dataframe tbody tr th {\n",
              "        vertical-align: top;\n",
              "    }\n",
              "\n",
              "    .dataframe thead th {\n",
              "        text-align: right;\n",
              "    }\n",
              "</style>\n",
              "<table border=\"1\" class=\"dataframe\">\n",
              "  <thead>\n",
              "    <tr style=\"text-align: right;\">\n",
              "      <th></th>\n",
              "      <th>combined_features</th>\n",
              "    </tr>\n",
              "    <tr>\n",
              "      <th>datetime</th>\n",
              "      <th></th>\n",
              "    </tr>\n",
              "  </thead>\n",
              "  <tbody>\n",
              "    <tr>\n",
              "      <th>2018-01-11 16:32:22</th>\n",
              "      <td>-3.419235</td>\n",
              "    </tr>\n",
              "    <tr>\n",
              "      <th>2018-01-11 16:32:22</th>\n",
              "      <td>-0.419327</td>\n",
              "    </tr>\n",
              "    <tr>\n",
              "      <th>2018-01-11 16:32:22</th>\n",
              "      <td>0.428737</td>\n",
              "    </tr>\n",
              "    <tr>\n",
              "      <th>2018-01-11 16:32:22</th>\n",
              "      <td>-0.610922</td>\n",
              "    </tr>\n",
              "    <tr>\n",
              "      <th>2018-01-11 16:32:22</th>\n",
              "      <td>-0.325033</td>\n",
              "    </tr>\n",
              "    <tr>\n",
              "      <th>...</th>\n",
              "      <td>...</td>\n",
              "    </tr>\n",
              "    <tr>\n",
              "      <th>2018-01-13 06:42:51</th>\n",
              "      <td>-1.045750</td>\n",
              "    </tr>\n",
              "    <tr>\n",
              "      <th>2018-01-13 06:42:51</th>\n",
              "      <td>0.893700</td>\n",
              "    </tr>\n",
              "    <tr>\n",
              "      <th>2018-01-13 06:43:02</th>\n",
              "      <td>-1.013707</td>\n",
              "    </tr>\n",
              "    <tr>\n",
              "      <th>2018-01-13 06:43:02</th>\n",
              "      <td>-0.877901</td>\n",
              "    </tr>\n",
              "    <tr>\n",
              "      <th>2018-01-13 06:43:02</th>\n",
              "      <td>-1.090403</td>\n",
              "    </tr>\n",
              "  </tbody>\n",
              "</table>\n",
              "<p>86928 rows × 1 columns</p>\n",
              "</div>"
            ],
            "text/plain": [
              "                     combined_features\n",
              "datetime                              \n",
              "2018-01-11 16:32:22          -3.419235\n",
              "2018-01-11 16:32:22          -0.419327\n",
              "2018-01-11 16:32:22           0.428737\n",
              "2018-01-11 16:32:22          -0.610922\n",
              "2018-01-11 16:32:22          -0.325033\n",
              "...                                ...\n",
              "2018-01-13 06:42:51          -1.045750\n",
              "2018-01-13 06:42:51           0.893700\n",
              "2018-01-13 06:43:02          -1.013707\n",
              "2018-01-13 06:43:02          -0.877901\n",
              "2018-01-13 06:43:02          -1.090403\n",
              "\n",
              "[86928 rows x 1 columns]"
            ]
          },
          "metadata": {
            "tags": []
          },
          "execution_count": 21
        }
      ]
    },
    {
      "cell_type": "code",
      "metadata": {
        "colab": {
          "base_uri": "https://localhost:8080/",
          "height": 447
        },
        "id": "nwqpj1FTEVzL",
        "outputId": "7430b64e-6b96-405b-c364-8694ff0f7b44"
      },
      "source": [
        "scaled_test_features"
      ],
      "execution_count": 22,
      "outputs": [
        {
          "output_type": "execute_result",
          "data": {
            "text/html": [
              "<div>\n",
              "<style scoped>\n",
              "    .dataframe tbody tr th:only-of-type {\n",
              "        vertical-align: middle;\n",
              "    }\n",
              "\n",
              "    .dataframe tbody tr th {\n",
              "        vertical-align: top;\n",
              "    }\n",
              "\n",
              "    .dataframe thead th {\n",
              "        text-align: right;\n",
              "    }\n",
              "</style>\n",
              "<table border=\"1\" class=\"dataframe\">\n",
              "  <thead>\n",
              "    <tr style=\"text-align: right;\">\n",
              "      <th></th>\n",
              "      <th>combined_features</th>\n",
              "    </tr>\n",
              "    <tr>\n",
              "      <th>datetime</th>\n",
              "      <th></th>\n",
              "    </tr>\n",
              "  </thead>\n",
              "  <tbody>\n",
              "    <tr>\n",
              "      <th>2018-01-13 06:42:29</th>\n",
              "      <td>-0.616705</td>\n",
              "    </tr>\n",
              "    <tr>\n",
              "      <th>2018-01-13 06:42:29</th>\n",
              "      <td>1.229850</td>\n",
              "    </tr>\n",
              "    <tr>\n",
              "      <th>2018-01-13 06:42:29</th>\n",
              "      <td>-0.486424</td>\n",
              "    </tr>\n",
              "    <tr>\n",
              "      <th>2018-01-13 06:42:29</th>\n",
              "      <td>1.155886</td>\n",
              "    </tr>\n",
              "    <tr>\n",
              "      <th>2018-01-13 06:42:30</th>\n",
              "      <td>1.363519</td>\n",
              "    </tr>\n",
              "    <tr>\n",
              "      <th>...</th>\n",
              "      <td>...</td>\n",
              "    </tr>\n",
              "    <tr>\n",
              "      <th>2018-01-13 16:21:20</th>\n",
              "      <td>-0.032747</td>\n",
              "    </tr>\n",
              "    <tr>\n",
              "      <th>2018-01-13 16:21:20</th>\n",
              "      <td>-0.616705</td>\n",
              "    </tr>\n",
              "    <tr>\n",
              "      <th>2018-01-13 16:21:20</th>\n",
              "      <td>-0.099541</td>\n",
              "    </tr>\n",
              "    <tr>\n",
              "      <th>2018-01-13 16:21:20</th>\n",
              "      <td>0.460117</td>\n",
              "    </tr>\n",
              "    <tr>\n",
              "      <th>2018-01-13 16:21:20</th>\n",
              "      <td>0.011846</td>\n",
              "    </tr>\n",
              "  </tbody>\n",
              "</table>\n",
              "<p>21763 rows × 1 columns</p>\n",
              "</div>"
            ],
            "text/plain": [
              "                     combined_features\n",
              "datetime                              \n",
              "2018-01-13 06:42:29          -0.616705\n",
              "2018-01-13 06:42:29           1.229850\n",
              "2018-01-13 06:42:29          -0.486424\n",
              "2018-01-13 06:42:29           1.155886\n",
              "2018-01-13 06:42:30           1.363519\n",
              "...                                ...\n",
              "2018-01-13 16:21:20          -0.032747\n",
              "2018-01-13 16:21:20          -0.616705\n",
              "2018-01-13 16:21:20          -0.099541\n",
              "2018-01-13 16:21:20           0.460117\n",
              "2018-01-13 16:21:20           0.011846\n",
              "\n",
              "[21763 rows x 1 columns]"
            ]
          },
          "metadata": {
            "tags": []
          },
          "execution_count": 22
        }
      ]
    },
    {
      "cell_type": "code",
      "metadata": {
        "id": "eh6XHa7igI0S",
        "colab": {
          "base_uri": "https://localhost:8080/"
        },
        "outputId": "866abbf1-2255-4650-a02d-7045eb8e40bd"
      },
      "source": [
        "# Create sequences of T timesteps\n",
        "X_train, y_train = [], []\n",
        "for i in range(train_labels.shape[0] - (T-1)):\n",
        "    X_train.append(scaled_train_features.iloc[i:i+T].values)\n",
        "    y_train.append(train_labels.iloc[i + (T-1)])\n",
        "X_train, y_train = np.array(X_train), np.array(y_train).reshape(-1,1)\n",
        "print(f'Train data dimensions: {X_train.shape}, {y_train.shape}')\n",
        "\n",
        "X_test, y_test = [], []\n",
        "for i in range(test_labels.shape[0]):\n",
        "    X_test.append(scaled_test_features.iloc[i:i+T].values)\n",
        "    y_test.append(test_labels.iloc[i])\n",
        "X_test, y_test = np.array(X_test), np.array(y_test).reshape(-1,1)  \n",
        "\n",
        "print(f'Test data dimensions: {X_test.shape}, {y_test.shape}')"
      ],
      "execution_count": 23,
      "outputs": [
        {
          "output_type": "stream",
          "text": [
            "Train data dimensions: (86899, 30, 1), (86899, 1)\n",
            "Test data dimensions: (21734, 30, 1), (21734, 1)\n"
          ],
          "name": "stdout"
        }
      ]
    },
    {
      "cell_type": "code",
      "metadata": {
        "id": "oAbdrXadjTb4",
        "colab": {
          "base_uri": "https://localhost:8080/",
          "height": 417
        },
        "outputId": "130d49b5-fcba-4eb8-cf66-088f4070032a"
      },
      "source": [
        "y_train = pd.DataFrame(y_train)\n",
        "y_train.head(102)"
      ],
      "execution_count": 24,
      "outputs": [
        {
          "output_type": "execute_result",
          "data": {
            "text/html": [
              "<div>\n",
              "<style scoped>\n",
              "    .dataframe tbody tr th:only-of-type {\n",
              "        vertical-align: middle;\n",
              "    }\n",
              "\n",
              "    .dataframe tbody tr th {\n",
              "        vertical-align: top;\n",
              "    }\n",
              "\n",
              "    .dataframe thead th {\n",
              "        text-align: right;\n",
              "    }\n",
              "</style>\n",
              "<table border=\"1\" class=\"dataframe\">\n",
              "  <thead>\n",
              "    <tr style=\"text-align: right;\">\n",
              "      <th></th>\n",
              "      <th>0</th>\n",
              "    </tr>\n",
              "  </thead>\n",
              "  <tbody>\n",
              "    <tr>\n",
              "      <th>0</th>\n",
              "      <td>Good</td>\n",
              "    </tr>\n",
              "    <tr>\n",
              "      <th>1</th>\n",
              "      <td>Good</td>\n",
              "    </tr>\n",
              "    <tr>\n",
              "      <th>2</th>\n",
              "      <td>Good</td>\n",
              "    </tr>\n",
              "    <tr>\n",
              "      <th>3</th>\n",
              "      <td>Good</td>\n",
              "    </tr>\n",
              "    <tr>\n",
              "      <th>4</th>\n",
              "      <td>Good</td>\n",
              "    </tr>\n",
              "    <tr>\n",
              "      <th>...</th>\n",
              "      <td>...</td>\n",
              "    </tr>\n",
              "    <tr>\n",
              "      <th>97</th>\n",
              "      <td>Good</td>\n",
              "    </tr>\n",
              "    <tr>\n",
              "      <th>98</th>\n",
              "      <td>Interm.</td>\n",
              "    </tr>\n",
              "    <tr>\n",
              "      <th>99</th>\n",
              "      <td>Good</td>\n",
              "    </tr>\n",
              "    <tr>\n",
              "      <th>100</th>\n",
              "      <td>Good</td>\n",
              "    </tr>\n",
              "    <tr>\n",
              "      <th>101</th>\n",
              "      <td>Interm.</td>\n",
              "    </tr>\n",
              "  </tbody>\n",
              "</table>\n",
              "<p>102 rows × 1 columns</p>\n",
              "</div>"
            ],
            "text/plain": [
              "           0\n",
              "0       Good\n",
              "1       Good\n",
              "2       Good\n",
              "3       Good\n",
              "4       Good\n",
              "..       ...\n",
              "97      Good\n",
              "98   Interm.\n",
              "99      Good\n",
              "100     Good\n",
              "101  Interm.\n",
              "\n",
              "[102 rows x 1 columns]"
            ]
          },
          "metadata": {
            "tags": []
          },
          "execution_count": 24
        }
      ]
    },
    {
      "cell_type": "code",
      "metadata": {
        "id": "-uEHlS6ma-yH"
      },
      "source": [
        "y_train = pd.DataFrame(y_train)\n",
        "y_train = pd.get_dummies(y_train)"
      ],
      "execution_count": 25,
      "outputs": []
    },
    {
      "cell_type": "code",
      "metadata": {
        "id": "40WxiQPfCFuN",
        "colab": {
          "base_uri": "https://localhost:8080/",
          "height": 417
        },
        "outputId": "d0160953-a31a-4954-b0ae-5e685361761c"
      },
      "source": [
        "y_train"
      ],
      "execution_count": 26,
      "outputs": [
        {
          "output_type": "execute_result",
          "data": {
            "text/html": [
              "<div>\n",
              "<style scoped>\n",
              "    .dataframe tbody tr th:only-of-type {\n",
              "        vertical-align: middle;\n",
              "    }\n",
              "\n",
              "    .dataframe tbody tr th {\n",
              "        vertical-align: top;\n",
              "    }\n",
              "\n",
              "    .dataframe thead th {\n",
              "        text-align: right;\n",
              "    }\n",
              "</style>\n",
              "<table border=\"1\" class=\"dataframe\">\n",
              "  <thead>\n",
              "    <tr style=\"text-align: right;\">\n",
              "      <th></th>\n",
              "      <th>0_Bad</th>\n",
              "      <th>0_Good</th>\n",
              "      <th>0_Interm.</th>\n",
              "    </tr>\n",
              "  </thead>\n",
              "  <tbody>\n",
              "    <tr>\n",
              "      <th>0</th>\n",
              "      <td>0</td>\n",
              "      <td>1</td>\n",
              "      <td>0</td>\n",
              "    </tr>\n",
              "    <tr>\n",
              "      <th>1</th>\n",
              "      <td>0</td>\n",
              "      <td>1</td>\n",
              "      <td>0</td>\n",
              "    </tr>\n",
              "    <tr>\n",
              "      <th>2</th>\n",
              "      <td>0</td>\n",
              "      <td>1</td>\n",
              "      <td>0</td>\n",
              "    </tr>\n",
              "    <tr>\n",
              "      <th>3</th>\n",
              "      <td>0</td>\n",
              "      <td>1</td>\n",
              "      <td>0</td>\n",
              "    </tr>\n",
              "    <tr>\n",
              "      <th>4</th>\n",
              "      <td>0</td>\n",
              "      <td>1</td>\n",
              "      <td>0</td>\n",
              "    </tr>\n",
              "    <tr>\n",
              "      <th>...</th>\n",
              "      <td>...</td>\n",
              "      <td>...</td>\n",
              "      <td>...</td>\n",
              "    </tr>\n",
              "    <tr>\n",
              "      <th>86894</th>\n",
              "      <td>0</td>\n",
              "      <td>1</td>\n",
              "      <td>0</td>\n",
              "    </tr>\n",
              "    <tr>\n",
              "      <th>86895</th>\n",
              "      <td>0</td>\n",
              "      <td>1</td>\n",
              "      <td>0</td>\n",
              "    </tr>\n",
              "    <tr>\n",
              "      <th>86896</th>\n",
              "      <td>0</td>\n",
              "      <td>1</td>\n",
              "      <td>0</td>\n",
              "    </tr>\n",
              "    <tr>\n",
              "      <th>86897</th>\n",
              "      <td>0</td>\n",
              "      <td>1</td>\n",
              "      <td>0</td>\n",
              "    </tr>\n",
              "    <tr>\n",
              "      <th>86898</th>\n",
              "      <td>0</td>\n",
              "      <td>1</td>\n",
              "      <td>0</td>\n",
              "    </tr>\n",
              "  </tbody>\n",
              "</table>\n",
              "<p>86899 rows × 3 columns</p>\n",
              "</div>"
            ],
            "text/plain": [
              "       0_Bad  0_Good  0_Interm.\n",
              "0          0       1          0\n",
              "1          0       1          0\n",
              "2          0       1          0\n",
              "3          0       1          0\n",
              "4          0       1          0\n",
              "...      ...     ...        ...\n",
              "86894      0       1          0\n",
              "86895      0       1          0\n",
              "86896      0       1          0\n",
              "86897      0       1          0\n",
              "86898      0       1          0\n",
              "\n",
              "[86899 rows x 3 columns]"
            ]
          },
          "metadata": {
            "tags": []
          },
          "execution_count": 26
        }
      ]
    },
    {
      "cell_type": "code",
      "metadata": {
        "id": "GVv1nCfst7QA",
        "colab": {
          "base_uri": "https://localhost:8080/"
        },
        "outputId": "a2280937-9f43-47b9-de14-f160b2fd9ec2"
      },
      "source": [
        "y_train = np.array(y_train)\n",
        "print(y_train.shape)\n",
        "y_train"
      ],
      "execution_count": 27,
      "outputs": [
        {
          "output_type": "stream",
          "text": [
            "(86899, 3)\n"
          ],
          "name": "stdout"
        },
        {
          "output_type": "execute_result",
          "data": {
            "text/plain": [
              "array([[0, 1, 0],\n",
              "       [0, 1, 0],\n",
              "       [0, 1, 0],\n",
              "       ...,\n",
              "       [0, 1, 0],\n",
              "       [0, 1, 0],\n",
              "       [0, 1, 0]], dtype=uint8)"
            ]
          },
          "metadata": {
            "tags": []
          },
          "execution_count": 27
        }
      ]
    },
    {
      "cell_type": "code",
      "metadata": {
        "id": "PZbrOn4BbyNf",
        "colab": {
          "base_uri": "https://localhost:8080/",
          "height": 417
        },
        "outputId": "edbead49-1a9d-464a-a9ea-7bf0d73dccf2"
      },
      "source": [
        "y_test = pd.DataFrame(y_test)\n",
        "y_test = pd.get_dummies(y_test)\n",
        "y_test "
      ],
      "execution_count": 28,
      "outputs": [
        {
          "output_type": "execute_result",
          "data": {
            "text/html": [
              "<div>\n",
              "<style scoped>\n",
              "    .dataframe tbody tr th:only-of-type {\n",
              "        vertical-align: middle;\n",
              "    }\n",
              "\n",
              "    .dataframe tbody tr th {\n",
              "        vertical-align: top;\n",
              "    }\n",
              "\n",
              "    .dataframe thead th {\n",
              "        text-align: right;\n",
              "    }\n",
              "</style>\n",
              "<table border=\"1\" class=\"dataframe\">\n",
              "  <thead>\n",
              "    <tr style=\"text-align: right;\">\n",
              "      <th></th>\n",
              "      <th>0_Bad</th>\n",
              "      <th>0_Good</th>\n",
              "      <th>0_Interm.</th>\n",
              "    </tr>\n",
              "  </thead>\n",
              "  <tbody>\n",
              "    <tr>\n",
              "      <th>0</th>\n",
              "      <td>0</td>\n",
              "      <td>1</td>\n",
              "      <td>0</td>\n",
              "    </tr>\n",
              "    <tr>\n",
              "      <th>1</th>\n",
              "      <td>0</td>\n",
              "      <td>1</td>\n",
              "      <td>0</td>\n",
              "    </tr>\n",
              "    <tr>\n",
              "      <th>2</th>\n",
              "      <td>0</td>\n",
              "      <td>1</td>\n",
              "      <td>0</td>\n",
              "    </tr>\n",
              "    <tr>\n",
              "      <th>3</th>\n",
              "      <td>0</td>\n",
              "      <td>0</td>\n",
              "      <td>1</td>\n",
              "    </tr>\n",
              "    <tr>\n",
              "      <th>4</th>\n",
              "      <td>1</td>\n",
              "      <td>0</td>\n",
              "      <td>0</td>\n",
              "    </tr>\n",
              "    <tr>\n",
              "      <th>...</th>\n",
              "      <td>...</td>\n",
              "      <td>...</td>\n",
              "      <td>...</td>\n",
              "    </tr>\n",
              "    <tr>\n",
              "      <th>21729</th>\n",
              "      <td>0</td>\n",
              "      <td>1</td>\n",
              "      <td>0</td>\n",
              "    </tr>\n",
              "    <tr>\n",
              "      <th>21730</th>\n",
              "      <td>0</td>\n",
              "      <td>1</td>\n",
              "      <td>0</td>\n",
              "    </tr>\n",
              "    <tr>\n",
              "      <th>21731</th>\n",
              "      <td>0</td>\n",
              "      <td>1</td>\n",
              "      <td>0</td>\n",
              "    </tr>\n",
              "    <tr>\n",
              "      <th>21732</th>\n",
              "      <td>0</td>\n",
              "      <td>1</td>\n",
              "      <td>0</td>\n",
              "    </tr>\n",
              "    <tr>\n",
              "      <th>21733</th>\n",
              "      <td>0</td>\n",
              "      <td>1</td>\n",
              "      <td>0</td>\n",
              "    </tr>\n",
              "  </tbody>\n",
              "</table>\n",
              "<p>21734 rows × 3 columns</p>\n",
              "</div>"
            ],
            "text/plain": [
              "       0_Bad  0_Good  0_Interm.\n",
              "0          0       1          0\n",
              "1          0       1          0\n",
              "2          0       1          0\n",
              "3          0       0          1\n",
              "4          1       0          0\n",
              "...      ...     ...        ...\n",
              "21729      0       1          0\n",
              "21730      0       1          0\n",
              "21731      0       1          0\n",
              "21732      0       1          0\n",
              "21733      0       1          0\n",
              "\n",
              "[21734 rows x 3 columns]"
            ]
          },
          "metadata": {
            "tags": []
          },
          "execution_count": 28
        }
      ]
    },
    {
      "cell_type": "code",
      "metadata": {
        "id": "Nx62rfILuV4F",
        "colab": {
          "base_uri": "https://localhost:8080/"
        },
        "outputId": "fd52360f-141e-4dea-9226-3c48194d1e69"
      },
      "source": [
        "y_test = np.array(y_test)\n",
        "print(y_test.shape)\n",
        "y_test"
      ],
      "execution_count": 29,
      "outputs": [
        {
          "output_type": "stream",
          "text": [
            "(21734, 3)\n"
          ],
          "name": "stdout"
        },
        {
          "output_type": "execute_result",
          "data": {
            "text/plain": [
              "array([[0, 1, 0],\n",
              "       [0, 1, 0],\n",
              "       [0, 1, 0],\n",
              "       ...,\n",
              "       [0, 1, 0],\n",
              "       [0, 1, 0],\n",
              "       [0, 1, 0]], dtype=uint8)"
            ]
          },
          "metadata": {
            "tags": []
          },
          "execution_count": 29
        }
      ]
    },
    {
      "cell_type": "code",
      "metadata": {
        "id": "94YIMuOKX3ub"
      },
      "source": [
        "#X_train = X_train.reshape(-1, 1, 1)\n",
        "#X_test  = X_test.reshape(-1, 30, 3)\n",
        "#y_train = y_train.reshape(-1, , 3)\n",
        "#y_test = y_test.reshape(-1, 30, 3)"
      ],
      "execution_count": 30,
      "outputs": []
    },
    {
      "cell_type": "code",
      "metadata": {
        "id": "DrA2JNjEcVcD",
        "colab": {
          "base_uri": "https://localhost:8080/"
        },
        "outputId": "35d027a8-a396-43cc-ccf8-218be4fe71e3"
      },
      "source": [
        "print(X_train.shape)\n",
        "print(X_test.shape)\n",
        "print(y_train.shape)\n",
        "print(y_test.shape)\n"
      ],
      "execution_count": 31,
      "outputs": [
        {
          "output_type": "stream",
          "text": [
            "(86899, 30, 1)\n",
            "(21734, 30, 1)\n",
            "(86899, 3)\n",
            "(21734, 3)\n"
          ],
          "name": "stdout"
        }
      ]
    },
    {
      "cell_type": "code",
      "metadata": {
        "id": "DTkMqE--z225",
        "colab": {
          "base_uri": "https://localhost:8080/"
        },
        "outputId": "d9093086-09a8-4d1c-f0d4-210480c27031"
      },
      "source": [
        "T"
      ],
      "execution_count": 32,
      "outputs": [
        {
          "output_type": "execute_result",
          "data": {
            "text/plain": [
              "30"
            ]
          },
          "metadata": {
            "tags": []
          },
          "execution_count": 32
        }
      ]
    },
    {
      "cell_type": "code",
      "metadata": {
        "id": "6EjfG0yavWh5"
      },
      "source": [
        "#from keras.layers.recurrent import LSTM\n",
        "#N = X_train.shape[2]\n",
        "\n",
        "#model = keras.models.Sequential()\n",
        "#model.add(LSTM(1, input_shape=(T,N),return_sequences=True))\n",
        "#model.add(keras.layers.Dense(3, activation='softmax'))"
      ],
      "execution_count": 33,
      "outputs": []
    },
    {
      "cell_type": "code",
      "metadata": {
        "id": "WAH4Zeb6deSd"
      },
      "source": [
        "from keras.models import Sequential\n",
        "from keras.layers import Dense, LSTM, BatchNormalization\n",
        "from keras.optimizers import Adam\n",
        "from keras.callbacks import ReduceLROnPlateau, EarlyStopping\n",
        "from keras.regularizers import l2\n",
        "from time import time"
      ],
      "execution_count": 34,
      "outputs": []
    },
    {
      "cell_type": "code",
      "metadata": {
        "id": "rttR71VrdZbn",
        "colab": {
          "base_uri": "https://localhost:8080/"
        },
        "outputId": "15c17eac-12e0-4415-dc30-63243bd95f96"
      },
      "source": [
        "# Let's make a list of CONSTANTS for modelling:\n",
        "LAYERS = [8, 8, 8, 3]                # number of units in hidden and output layers\n",
        "M_TRAIN = X_train.shape[0]           # number of training examples (2D)\n",
        "M_TEST = X_test.shape[0]             # number of test examples (2D),full=X_test.shape[0]\n",
        "N = X_train.shape[2]                 # number of features\n",
        "BATCH = M_TRAIN                          # batch size\n",
        "EPOCH =  10                         # number of epochs\n",
        "DP = 0.0                             # dropout rate\n",
        "RDP = 0.0                            # recurrent dropout rate\n",
        "print(f'layers={LAYERS}, train_examples={M_TRAIN}, test_examples={M_TEST}')\n",
        "print(f'batch = {BATCH}, timesteps = {T}, features = {N}, epochs = {EPOCH}')\n",
        "print(f'dropout = {DP}, recurr_dropout = {RDP}')\n",
        "\n",
        "# Build the Model\n",
        "model = Sequential()\n",
        "model.add(LSTM(input_shape=(T, N), units=LAYERS[0],\n",
        "               activation='tanh', recurrent_activation='sigmoid',\n",
        "               kernel_regularizer=None, recurrent_regularizer=None,\n",
        "               return_sequences=True, recurrent_dropout=RDP, dropout=DP\n",
        "               ))\n",
        "\n",
        "model.add(BatchNormalization())\n",
        "model.add(LSTM(units=LAYERS[1],\n",
        "               activation='tanh', recurrent_activation='sigmoid',\n",
        "               kernel_regularizer=None, recurrent_regularizer=None,\n",
        "               return_sequences=True, recurrent_dropout=RDP, dropout=DP\n",
        "               ))\n",
        "\n",
        "model.add(BatchNormalization())\n",
        "model.add(LSTM(units=LAYERS[2],\n",
        "               activation='tanh', recurrent_activation='sigmoid',\n",
        "               kernel_regularizer=None, recurrent_regularizer=None,\n",
        "               return_sequences=False, recurrent_dropout=RDP, dropout=DP\n",
        "               ))\n",
        "\n",
        "model.add(BatchNormalization())\n",
        "model.add(Dense(units=LAYERS[3], activation='softmax'))\n",
        "\n",
        "print(model.summary())"
      ],
      "execution_count": 35,
      "outputs": [
        {
          "output_type": "stream",
          "text": [
            "layers=[8, 8, 8, 3], train_examples=86899, test_examples=21734\n",
            "batch = 86899, timesteps = 30, features = 1, epochs = 10\n",
            "dropout = 0.0, recurr_dropout = 0.0\n",
            "Model: \"sequential\"\n",
            "_________________________________________________________________\n",
            "Layer (type)                 Output Shape              Param #   \n",
            "=================================================================\n",
            "lstm (LSTM)                  (None, 30, 8)             320       \n",
            "_________________________________________________________________\n",
            "batch_normalization (BatchNo (None, 30, 8)             32        \n",
            "_________________________________________________________________\n",
            "lstm_1 (LSTM)                (None, 30, 8)             544       \n",
            "_________________________________________________________________\n",
            "batch_normalization_1 (Batch (None, 30, 8)             32        \n",
            "_________________________________________________________________\n",
            "lstm_2 (LSTM)                (None, 8)                 544       \n",
            "_________________________________________________________________\n",
            "batch_normalization_2 (Batch (None, 8)                 32        \n",
            "_________________________________________________________________\n",
            "dense (Dense)                (None, 3)                 27        \n",
            "=================================================================\n",
            "Total params: 1,531\n",
            "Trainable params: 1,483\n",
            "Non-trainable params: 48\n",
            "_________________________________________________________________\n",
            "None\n"
          ],
          "name": "stdout"
        }
      ]
    },
    {
      "cell_type": "code",
      "metadata": {
        "id": "XOQXN77PI-jU"
      },
      "source": [
        "# Compile the model with Adam optimizer\n",
        "model.compile(loss='categorical_crossentropy',\n",
        "              metrics=['accuracy'],\n",
        "              optimizer='adam')"
      ],
      "execution_count": 36,
      "outputs": []
    },
    {
      "cell_type": "code",
      "metadata": {
        "id": "bv55kA8nI_Oq",
        "colab": {
          "base_uri": "https://localhost:8080/"
        },
        "outputId": "41d89e3f-5237-4f7f-dc14-11d7af94ee1c"
      },
      "source": [
        "# Train the model. \n",
        "# The dataset is small for NN - let's use test_data for validation\n",
        "start = time()\n",
        "History = model.fit(X_train, y_train,\n",
        "                    epochs=EPOCH,\n",
        "                    validation_split=0.0,\n",
        "                    validation_data=(X_test[:M_TEST], y_test[:M_TEST]),\n",
        "                    verbose=2)\n",
        "\n",
        "print('-'*65)\n",
        "print(f'Training was completed in {time() - start:.2f} secs')\n",
        "print('-'*65)\n",
        "# Evaluate the model:\n",
        "train_loss, train_acc = model.evaluate(X_train, y_train,\n",
        "                                       batch_size=M_TRAIN, verbose=1)\n",
        "test_loss, test_acc = model.evaluate(X_test[:M_TEST], y_test[:M_TEST],\n",
        "                                     batch_size=M_TEST, verbose=1)\n",
        "print('-'*65)\n",
        "print(f'train accuracy = {round(train_acc * 100, 4)}%')\n",
        "print(f'test accuracy = {round(test_acc * 100, 4)}%')\n",
        "print(f'test error = {round((1 - test_acc) * M_TEST)} out of {M_TEST} examples')\n"
      ],
      "execution_count": 37,
      "outputs": [
        {
          "output_type": "stream",
          "text": [
            "Epoch 1/10\n",
            "2716/2716 - 103s - loss: 0.4692 - accuracy: 0.8229 - val_loss: 0.4715 - val_accuracy: 0.7895\n",
            "Epoch 2/10\n",
            "2716/2716 - 74s - loss: 0.3204 - accuracy: 0.8786 - val_loss: 0.2632 - val_accuracy: 0.9040\n",
            "Epoch 3/10\n",
            "2716/2716 - 74s - loss: 0.2926 - accuracy: 0.8906 - val_loss: 0.2463 - val_accuracy: 0.9134\n",
            "Epoch 4/10\n",
            "2716/2716 - 74s - loss: 0.2806 - accuracy: 0.8952 - val_loss: 0.2955 - val_accuracy: 0.8799\n",
            "Epoch 5/10\n",
            "2716/2716 - 74s - loss: 0.2682 - accuracy: 0.8997 - val_loss: 0.2240 - val_accuracy: 0.9182\n",
            "Epoch 6/10\n",
            "2716/2716 - 74s - loss: 0.2642 - accuracy: 0.9007 - val_loss: 0.2233 - val_accuracy: 0.9193\n",
            "Epoch 7/10\n",
            "2716/2716 - 74s - loss: 0.2573 - accuracy: 0.9029 - val_loss: 0.3023 - val_accuracy: 0.8842\n",
            "Epoch 8/10\n",
            "2716/2716 - 74s - loss: 0.2521 - accuracy: 0.9052 - val_loss: 0.3255 - val_accuracy: 0.8784\n",
            "Epoch 9/10\n",
            "2716/2716 - 73s - loss: 0.2513 - accuracy: 0.9060 - val_loss: 0.2086 - val_accuracy: 0.9233\n",
            "Epoch 10/10\n",
            "2716/2716 - 73s - loss: 0.2478 - accuracy: 0.9062 - val_loss: 0.2153 - val_accuracy: 0.9184\n",
            "-----------------------------------------------------------------\n",
            "Training was completed in 825.71 secs\n",
            "-----------------------------------------------------------------\n",
            "1/1 [==============================] - 2s 2s/step - loss: 0.2273 - accuracy: 0.9142\n",
            "1/1 [==============================] - 2s 2s/step - loss: 0.2153 - accuracy: 0.9184\n",
            "-----------------------------------------------------------------\n",
            "train accuracy = 91.4153%\n",
            "test accuracy = 91.8377%\n",
            "test error = 1774 out of 21734 examples\n"
          ],
          "name": "stdout"
        }
      ]
    },
    {
      "cell_type": "code",
      "metadata": {
        "id": "y4xgqhF6i2Gf",
        "colab": {
          "base_uri": "https://localhost:8080/",
          "height": 255
        },
        "outputId": "5a3256de-cf34-4913-b7ca-f9c416ac023f"
      },
      "source": [
        "# Plot the loss and accuracy curves over epochs:\n",
        "fig, axs = plt.subplots(nrows=1, ncols=2, figsize=(18,6))\n",
        "axs[0].plot(History.history['loss'], color='b', label='Training loss')\n",
        "axs[0].plot(History.history['val_loss'], color='r', label='Validation loss')\n",
        "axs[0].set_title(\"Loss curves\")\n",
        "axs[0].legend(loc='best', shadow=True)\n",
        "axs[1].plot(History.history['accuracy'], color='b', label='Training accuracy')\n",
        "axs[1].plot(History.history['val_accuracy'], color='r', label='Validation accuracy')\n",
        "axs[1].set_title(\"Accuracy curves\")\n",
        "axs[1].legend(loc='best', shadow=True)\n",
        "plt.show()"
      ],
      "execution_count": 55,
      "outputs": [
        {
          "output_type": "display_data",
          "data": {
            "image/png": "[encoded data removed]",
            "text/plain": [
              "<Figure size 1296x432 with 2 Axes>"
            ]
          },
          "metadata": {
            "tags": [],
            "needs_background": "light"
          }
        }
      ]
    },
    {
      "cell_type": "code",
      "metadata": {
        "id": "Itdi510wvPWg"
      },
      "source": [
        "#model.compile(optimizer='adam',loss='categorical_crossentropy',metrics=['accuracy'])"
      ],
      "execution_count": 56,
      "outputs": []
    },
    {
      "cell_type": "code",
      "metadata": {
        "id": "YO0uko0CXh_l"
      },
      "source": [
        "#history  = model.fit(X_train,y_train,epochs=2,batch_size=32,validation_data=(X_test,y_test))"
      ],
      "execution_count": 57,
      "outputs": []
    },
    {
      "cell_type": "code",
      "metadata": {
        "id": "3KrP9ssxfKBT"
      },
      "source": [
        "#model.evaluate(X_test,y_test)"
      ],
      "execution_count": 58,
      "outputs": []
    },
    {
      "cell_type": "code",
      "metadata": {
        "id": "RigLN-rlhdcr"
      },
      "source": [
        "#y_pred = model.predict(X_test)"
      ],
      "execution_count": 59,
      "outputs": []
    },
    {
      "cell_type": "code",
      "metadata": {
        "id": "7GiurpHjfVFx"
      },
      "source": [
        "#y_pred"
      ],
      "execution_count": 60,
      "outputs": []
    },
    {
      "cell_type": "code",
      "metadata": {
        "id": "YWbo130IiOwI"
      },
      "source": [
        "#predict_class = np.argmax(y_pred, axis=1)\n",
        "#predict_class = predict_class"
      ],
      "execution_count": 61,
      "outputs": []
    },
    {
      "cell_type": "code",
      "metadata": {
        "id": "9bhktn1riOzQ"
      },
      "source": [
        "#predict_class"
      ],
      "execution_count": 62,
      "outputs": []
    },
    {
      "cell_type": "code",
      "metadata": {
        "id": "lLFxK0fd_17I"
      },
      "source": [
        "#from sklearn.neighbors import KNeighborsClassifier\n",
        "#classifier = KNeighborsClassifier(n_neighbors = 5, metric = 'minkowski', p = 2)\n",
        "#classifier.fit(X_train, y_train)"
      ],
      "execution_count": 63,
      "outputs": []
    },
    {
      "cell_type": "code",
      "metadata": {
        "id": "8LDusYD2EpBj"
      },
      "source": [
        "#y_pred = np.array(y_train)\n",
        "#y_test = np.array(y_test)"
      ],
      "execution_count": 64,
      "outputs": []
    },
    {
      "cell_type": "code",
      "metadata": {
        "id": "Qu1gFROFEb5O"
      },
      "source": [
        "#y_pred = classifier.predict(X_test)\n",
        "#print(np.concatenate((y_pred.reshape(len(y_pred),1), y_test.reshape(len(y_test),1)),1))"
      ],
      "execution_count": 65,
      "outputs": []
    },
    {
      "cell_type": "code",
      "metadata": {
        "id": "kzzM-s1fE3z2"
      },
      "source": [
        "#from sklearn.metrics import accuracy_score,confusion_matrix,classification_report\n",
        "#conf = confusion_matrix(y_pred,y_test)\n",
        "#acc = accuracy_score(y_pred,y_test)\n",
        "#report = classification_report(y_pred,y_test)"
      ],
      "execution_count": 66,
      "outputs": []
    },
    {
      "cell_type": "code",
      "metadata": {
        "id": "sMFVF9xUE-r1"
      },
      "source": [
        "#print(report)"
      ],
      "execution_count": 67,
      "outputs": []
    },
    {
      "cell_type": "code",
      "metadata": {
        "id": "BZ-sXEy9jAfu",
        "colab": {
          "base_uri": "https://localhost:8080/"
        },
        "outputId": "bef82c9b-9f22-401f-b404-c23612c2979a"
      },
      "source": [
        "y_test"
      ],
      "execution_count": 68,
      "outputs": [
        {
          "output_type": "execute_result",
          "data": {
            "text/plain": [
              "array([1, 1, 1, ..., 1, 1, 1])"
            ]
          },
          "metadata": {
            "tags": []
          },
          "execution_count": 68
        }
      ]
    },
    {
      "cell_type": "code",
      "metadata": {
        "id": "CL7PydRRp8ze",
        "colab": {
          "base_uri": "https://localhost:8080/"
        },
        "outputId": "3eb5b6a0-98f3-4648-fc15-0375cd0baed5"
      },
      "source": [
        "y_test = pd.DataFrame(y_test)\n",
        "y_test=np.argmax(y_test.iloc[:,:].values, axis=1)\n",
        "y_test"
      ],
      "execution_count": 52,
      "outputs": [
        {
          "output_type": "execute_result",
          "data": {
            "text/plain": [
              "array([1, 1, 1, ..., 1, 1, 1])"
            ]
          },
          "metadata": {
            "tags": []
          },
          "execution_count": 52
        }
      ]
    },
    {
      "cell_type": "code",
      "metadata": {
        "id": "i2QDYPesE_sg",
        "colab": {
          "base_uri": "https://localhost:8080/",
          "height": 572
        },
        "outputId": "df5fe066-2f66-4b8a-edd5-34a082a5da07"
      },
      "source": [
        "y_pred = np.argmax(model.predict(X_test, batch_size=M_TEST, verbose=1),axis=-1)\n",
        "#score = sum(y_pred == y_test) / len(y_test)\n",
        "#print(f'Prediction accuracy = {score*100}%')\n",
        "index = pd.date_range(start='2019-01-13 06:43:02', end='2019-01-13 16:43:02', freq='H')\n",
        "for i in range(y_pred.shape[0]):\n",
        "    print(index[i], y_pred[i], y_test[i])"
      ],
      "execution_count": 71,
      "outputs": [
        {
          "output_type": "stream",
          "text": [
            "1/1 [==============================] - 0s 47ms/step\n",
            "2019-01-13 06:43:02 1 1\n",
            "2019-01-13 07:43:02 1 1\n",
            "2019-01-13 08:43:02 1 1\n",
            "2019-01-13 09:43:02 0 2\n",
            "2019-01-13 10:43:02 0 0\n",
            "2019-01-13 11:43:02 2 2\n",
            "2019-01-13 12:43:02 1 2\n",
            "2019-01-13 13:43:02 2 2\n",
            "2019-01-13 14:43:02 1 1\n",
            "2019-01-13 15:43:02 1 1\n",
            "2019-01-13 16:43:02 1 1\n"
          ],
          "name": "stdout"
        },
        {
          "output_type": "error",
          "ename": "IndexError",
          "evalue": "ignored",
          "traceback": [
            "\u001b[0;31m---------------------------------------------------------------------------\u001b[0m",
            "\u001b[0;31mIndexError\u001b[0m                                Traceback (most recent call last)",
            "\u001b[0;32m<ipython-input-71-e5bb155b75a1>\u001b[0m in \u001b[0;36m<module>\u001b[0;34m()\u001b[0m\n\u001b[1;32m      4\u001b[0m \u001b[0mindex\u001b[0m \u001b[0;34m=\u001b[0m \u001b[0mpd\u001b[0m\u001b[0;34m.\u001b[0m\u001b[0mdate_range\u001b[0m\u001b[0;34m(\u001b[0m\u001b[0mstart\u001b[0m\u001b[0;34m=\u001b[0m\u001b[0;34m'2019-01-13 06:43:02'\u001b[0m\u001b[0;34m,\u001b[0m \u001b[0mend\u001b[0m\u001b[0;34m=\u001b[0m\u001b[0;34m'2019-01-13 16:43:02'\u001b[0m\u001b[0;34m,\u001b[0m \u001b[0mfreq\u001b[0m\u001b[0;34m=\u001b[0m\u001b[0;34m'H'\u001b[0m\u001b[0;34m)\u001b[0m\u001b[0;34m\u001b[0m\u001b[0;34m\u001b[0m\u001b[0m\n\u001b[1;32m      5\u001b[0m \u001b[0;32mfor\u001b[0m \u001b[0mi\u001b[0m \u001b[0;32min\u001b[0m \u001b[0mrange\u001b[0m\u001b[0;34m(\u001b[0m\u001b[0my_pred\u001b[0m\u001b[0;34m.\u001b[0m\u001b[0mshape\u001b[0m\u001b[0;34m[\u001b[0m\u001b[0;36m0\u001b[0m\u001b[0;34m]\u001b[0m\u001b[0;34m)\u001b[0m\u001b[0;34m:\u001b[0m\u001b[0;34m\u001b[0m\u001b[0;34m\u001b[0m\u001b[0m\n\u001b[0;32m----> 6\u001b[0;31m     \u001b[0mprint\u001b[0m\u001b[0;34m(\u001b[0m\u001b[0mindex\u001b[0m\u001b[0;34m[\u001b[0m\u001b[0mi\u001b[0m\u001b[0;34m]\u001b[0m\u001b[0;34m,\u001b[0m \u001b[0my_pred\u001b[0m\u001b[0;34m[\u001b[0m\u001b[0mi\u001b[0m\u001b[0;34m]\u001b[0m\u001b[0;34m,\u001b[0m \u001b[0my_test\u001b[0m\u001b[0;34m[\u001b[0m\u001b[0mi\u001b[0m\u001b[0;34m]\u001b[0m\u001b[0;34m)\u001b[0m\u001b[0;34m\u001b[0m\u001b[0;34m\u001b[0m\u001b[0m\n\u001b[0m",
            "\u001b[0;32m/usr/local/lib/python3.7/dist-packages/pandas/core/indexes/extension.py\u001b[0m in \u001b[0;36m__getitem__\u001b[0;34m(self, key)\u001b[0m\n\u001b[1;32m    213\u001b[0m \u001b[0;34m\u001b[0m\u001b[0m\n\u001b[1;32m    214\u001b[0m     \u001b[0;32mdef\u001b[0m \u001b[0m__getitem__\u001b[0m\u001b[0;34m(\u001b[0m\u001b[0mself\u001b[0m\u001b[0;34m,\u001b[0m \u001b[0mkey\u001b[0m\u001b[0;34m)\u001b[0m\u001b[0;34m:\u001b[0m\u001b[0;34m\u001b[0m\u001b[0;34m\u001b[0m\u001b[0m\n\u001b[0;32m--> 215\u001b[0;31m         \u001b[0mresult\u001b[0m \u001b[0;34m=\u001b[0m \u001b[0mself\u001b[0m\u001b[0;34m.\u001b[0m\u001b[0m_data\u001b[0m\u001b[0;34m[\u001b[0m\u001b[0mkey\u001b[0m\u001b[0;34m]\u001b[0m\u001b[0;34m\u001b[0m\u001b[0;34m\u001b[0m\u001b[0m\n\u001b[0m\u001b[1;32m    216\u001b[0m         \u001b[0;32mif\u001b[0m \u001b[0misinstance\u001b[0m\u001b[0;34m(\u001b[0m\u001b[0mresult\u001b[0m\u001b[0;34m,\u001b[0m \u001b[0mtype\u001b[0m\u001b[0;34m(\u001b[0m\u001b[0mself\u001b[0m\u001b[0;34m.\u001b[0m\u001b[0m_data\u001b[0m\u001b[0;34m)\u001b[0m\u001b[0;34m)\u001b[0m\u001b[0;34m:\u001b[0m\u001b[0;34m\u001b[0m\u001b[0;34m\u001b[0m\u001b[0m\n\u001b[1;32m    217\u001b[0m             \u001b[0;32mif\u001b[0m \u001b[0mresult\u001b[0m\u001b[0;34m.\u001b[0m\u001b[0mndim\u001b[0m \u001b[0;34m==\u001b[0m \u001b[0;36m1\u001b[0m\u001b[0;34m:\u001b[0m\u001b[0;34m\u001b[0m\u001b[0;34m\u001b[0m\u001b[0m\n",
            "\u001b[0;32m/usr/local/lib/python3.7/dist-packages/pandas/core/arrays/datetimelike.py\u001b[0m in \u001b[0;36m__getitem__\u001b[0;34m(self, key)\u001b[0m\n\u001b[1;32m    536\u001b[0m         \u001b[0;32mif\u001b[0m \u001b[0mlib\u001b[0m\u001b[0;34m.\u001b[0m\u001b[0mis_integer\u001b[0m\u001b[0;34m(\u001b[0m\u001b[0mkey\u001b[0m\u001b[0;34m)\u001b[0m\u001b[0;34m:\u001b[0m\u001b[0;34m\u001b[0m\u001b[0;34m\u001b[0m\u001b[0m\n\u001b[1;32m    537\u001b[0m             \u001b[0;31m# fast-path\u001b[0m\u001b[0;34m\u001b[0m\u001b[0;34m\u001b[0m\u001b[0;34m\u001b[0m\u001b[0m\n\u001b[0;32m--> 538\u001b[0;31m             \u001b[0mresult\u001b[0m \u001b[0;34m=\u001b[0m \u001b[0mself\u001b[0m\u001b[0;34m.\u001b[0m\u001b[0m_data\u001b[0m\u001b[0;34m[\u001b[0m\u001b[0mkey\u001b[0m\u001b[0;34m]\u001b[0m\u001b[0;34m\u001b[0m\u001b[0;34m\u001b[0m\u001b[0m\n\u001b[0m\u001b[1;32m    539\u001b[0m             \u001b[0;32mif\u001b[0m \u001b[0mself\u001b[0m\u001b[0;34m.\u001b[0m\u001b[0mndim\u001b[0m \u001b[0;34m==\u001b[0m \u001b[0;36m1\u001b[0m\u001b[0;34m:\u001b[0m\u001b[0;34m\u001b[0m\u001b[0;34m\u001b[0m\u001b[0m\n\u001b[1;32m    540\u001b[0m                 \u001b[0;32mreturn\u001b[0m \u001b[0mself\u001b[0m\u001b[0;34m.\u001b[0m\u001b[0m_box_func\u001b[0m\u001b[0;34m(\u001b[0m\u001b[0mresult\u001b[0m\u001b[0;34m)\u001b[0m\u001b[0;34m\u001b[0m\u001b[0;34m\u001b[0m\u001b[0m\n",
            "\u001b[0;31mIndexError\u001b[0m: index 11 is out of bounds for axis 0 with size 11"
          ]
        }
      ]
    },
    {
      "cell_type": "code",
      "metadata": {
        "id": "R1jSNS81ZWLI",
        "colab": {
          "base_uri": "https://localhost:8080/"
        },
        "outputId": "2769c9a1-a2b0-43d7-83c7-c2b6cabbc7a1"
      },
      "source": [
        "y_test"
      ],
      "execution_count": 74,
      "outputs": [
        {
          "output_type": "execute_result",
          "data": {
            "text/plain": [
              "array([1, 1, 1, ..., 1, 1, 1])"
            ]
          },
          "metadata": {
            "tags": []
          },
          "execution_count": 74
        }
      ]
    },
    {
      "cell_type": "code",
      "metadata": {
        "id": "ZADVcpkgZYsz",
        "colab": {
          "base_uri": "https://localhost:8080/"
        },
        "outputId": "18c2930d-8821-411d-a4e3-c42bbbb5c574"
      },
      "source": [
        "y_pred"
      ],
      "execution_count": 73,
      "outputs": [
        {
          "output_type": "execute_result",
          "data": {
            "text/plain": [
              "array([1, 1, 1, ..., 1, 1, 1])"
            ]
          },
          "metadata": {
            "tags": []
          },
          "execution_count": 73
        }
      ]
    },
    {
      "cell_type": "code",
      "metadata": {
        "id": "o3IBez-TF0Cn"
      },
      "source": [
        "from sklearn.metrics import accuracy_score,confusion_matrix,classification_report\n",
        "conf = confusion_matrix(y_pred,y_test)\n",
        "acc = accuracy_score(y_pred,y_test)*100\n",
        "report = classification_report(y_pred,y_test)"
      ],
      "execution_count": 75,
      "outputs": []
    },
    {
      "cell_type": "code",
      "metadata": {
        "id": "soAQkpg4famb",
        "colab": {
          "base_uri": "https://localhost:8080/"
        },
        "outputId": "beb91a50-dd6c-4cec-acd0-6911c8328eea"
      },
      "source": [
        "print(conf)"
      ],
      "execution_count": 76,
      "outputs": [
        {
          "output_type": "stream",
          "text": [
            "[[ 1923     0   100]\n",
            " [    1 16974  1345]\n",
            " [   27   301  1063]]\n"
          ],
          "name": "stdout"
        }
      ]
    },
    {
      "cell_type": "code",
      "metadata": {
        "id": "euxQwS5-fgRX",
        "colab": {
          "base_uri": "https://localhost:8080/"
        },
        "outputId": "b1da073a-f77d-42f4-83a0-dd030e04ab78"
      },
      "source": [
        "print(f'{acc:.2f} %')"
      ],
      "execution_count": 77,
      "outputs": [
        {
          "output_type": "stream",
          "text": [
            "91.84 %\n"
          ],
          "name": "stdout"
        }
      ]
    },
    {
      "cell_type": "code",
      "metadata": {
        "id": "MGNPNI5yfii3",
        "colab": {
          "base_uri": "https://localhost:8080/"
        },
        "outputId": "e6a7f8e5-07f2-46fc-d389-6f684e01c4f2"
      },
      "source": [
        "print(report)"
      ],
      "execution_count": 78,
      "outputs": [
        {
          "output_type": "stream",
          "text": [
            "              precision    recall  f1-score   support\n",
            "\n",
            "           0       0.99      0.95      0.97      2023\n",
            "           1       0.98      0.93      0.95     18320\n",
            "           2       0.42      0.76      0.55      1391\n",
            "\n",
            "    accuracy                           0.92     21734\n",
            "   macro avg       0.80      0.88      0.82     21734\n",
            "weighted avg       0.95      0.92      0.93     21734\n",
            "\n"
          ],
          "name": "stdout"
        }
      ]
    },
    {
      "cell_type": "code",
      "metadata": {
        "id": "OKLKb2xo0tjn"
      },
      "source": [
        "y_pred = y_pred.astype(object)\n",
        "y_pred[y_pred==0] = 'Bad'\n",
        "y_pred[y_pred==1] = 'Good'\n",
        "y_pred[y_pred==2] = 'Interm'"
      ],
      "execution_count": 79,
      "outputs": []
    },
    {
      "cell_type": "code",
      "metadata": {
        "id": "_hPi6kqj14QR",
        "colab": {
          "base_uri": "https://localhost:8080/"
        },
        "outputId": "369c5721-322d-48bf-c7ea-06b09923dae5"
      },
      "source": [
        "y_pred"
      ],
      "execution_count": 80,
      "outputs": [
        {
          "output_type": "execute_result",
          "data": {
            "text/plain": [
              "array(['Good', 'Good', 'Good', ..., 'Good', 'Good', 'Good'], dtype=object)"
            ]
          },
          "metadata": {
            "tags": []
          },
          "execution_count": 80
        }
      ]
    },
    {
      "cell_type": "code",
      "metadata": {
        "id": "zZ3Df54z55xa"
      },
      "source": [
        "y_test= y_test.astype(object)\n",
        "y_test[y_test==0] = 'Bad'\n",
        "y_test[y_test==1] = 'Good'\n",
        "y_test[y_test==2] = 'Interm'"
      ],
      "execution_count": 81,
      "outputs": []
    },
    {
      "cell_type": "code",
      "metadata": {
        "id": "fHKxD1eQ6F36",
        "colab": {
          "base_uri": "https://localhost:8080/"
        },
        "outputId": "8a89d97a-e414-4731-e501-d9a3dc6d0c82"
      },
      "source": [
        "y_test"
      ],
      "execution_count": 82,
      "outputs": [
        {
          "output_type": "execute_result",
          "data": {
            "text/plain": [
              "array(['Good', 'Good', 'Good', ..., 'Good', 'Good', 'Good'], dtype=object)"
            ]
          },
          "metadata": {
            "tags": []
          },
          "execution_count": 82
        }
      ]
    },
    {
      "cell_type": "code",
      "metadata": {
        "id": "c-CntyiU6dqm",
        "colab": {
          "base_uri": "https://localhost:8080/"
        },
        "outputId": "d3fa5f7c-c5f4-4d9f-8b70-9f171ef0e446"
      },
      "source": [
        "comparision=np.concatenate((y_test.reshape(len(y_test),1), y_pred.reshape(len(y_pred),1)),1)\n",
        "print(comparision)"
      ],
      "execution_count": 83,
      "outputs": [
        {
          "output_type": "stream",
          "text": [
            "[['Good' 'Good']\n",
            " ['Good' 'Good']\n",
            " ['Good' 'Good']\n",
            " ...\n",
            " ['Good' 'Good']\n",
            " ['Good' 'Good']\n",
            " ['Good' 'Good']]\n"
          ],
          "name": "stdout"
        }
      ]
    },
    {
      "cell_type": "code",
      "metadata": {
        "id": "DUFsqg940hai",
        "colab": {
          "base_uri": "https://localhost:8080/",
          "height": 572
        },
        "outputId": "9360bac5-558c-4173-d37d-246c256121ea"
      },
      "source": [
        "score = sum(y_pred == y_test) / len(y_test)\n",
        "print(f'Prediction accuracy = {score*100}%')\n",
        "index = pd.date_range(start='2019-01-13 06:43:02', end='2019-01-13 16:43:02', freq='H')\n",
        "for i in range(y_pred.shape[0]):\n",
        "   print(index[i], y_pred[i])"
      ],
      "execution_count": 87,
      "outputs": [
        {
          "output_type": "stream",
          "text": [
            "Prediction accuracy = 91.83767369099107%\n",
            "2019-01-13 06:43:02 Good\n",
            "2019-01-13 07:43:02 Good\n",
            "2019-01-13 08:43:02 Good\n",
            "2019-01-13 09:43:02 Bad\n",
            "2019-01-13 10:43:02 Bad\n",
            "2019-01-13 11:43:02 Interm\n",
            "2019-01-13 12:43:02 Good\n",
            "2019-01-13 13:43:02 Interm\n",
            "2019-01-13 14:43:02 Good\n",
            "2019-01-13 15:43:02 Good\n",
            "2019-01-13 16:43:02 Good\n"
          ],
          "name": "stdout"
        },
        {
          "output_type": "error",
          "ename": "IndexError",
          "evalue": "ignored",
          "traceback": [
            "\u001b[0;31m---------------------------------------------------------------------------\u001b[0m",
            "\u001b[0;31mIndexError\u001b[0m                                Traceback (most recent call last)",
            "\u001b[0;32m<ipython-input-87-b0d81e1f0480>\u001b[0m in \u001b[0;36m<module>\u001b[0;34m()\u001b[0m\n\u001b[1;32m      3\u001b[0m \u001b[0mindex\u001b[0m \u001b[0;34m=\u001b[0m \u001b[0mpd\u001b[0m\u001b[0;34m.\u001b[0m\u001b[0mdate_range\u001b[0m\u001b[0;34m(\u001b[0m\u001b[0mstart\u001b[0m\u001b[0;34m=\u001b[0m\u001b[0;34m'2019-01-13 06:43:02'\u001b[0m\u001b[0;34m,\u001b[0m \u001b[0mend\u001b[0m\u001b[0;34m=\u001b[0m\u001b[0;34m'2019-01-13 16:43:02'\u001b[0m\u001b[0;34m,\u001b[0m \u001b[0mfreq\u001b[0m\u001b[0;34m=\u001b[0m\u001b[0;34m'H'\u001b[0m\u001b[0;34m)\u001b[0m\u001b[0;34m\u001b[0m\u001b[0;34m\u001b[0m\u001b[0m\n\u001b[1;32m      4\u001b[0m \u001b[0;32mfor\u001b[0m \u001b[0mi\u001b[0m \u001b[0;32min\u001b[0m \u001b[0mrange\u001b[0m\u001b[0;34m(\u001b[0m\u001b[0my_pred\u001b[0m\u001b[0;34m.\u001b[0m\u001b[0mshape\u001b[0m\u001b[0;34m[\u001b[0m\u001b[0;36m0\u001b[0m\u001b[0;34m]\u001b[0m\u001b[0;34m)\u001b[0m\u001b[0;34m:\u001b[0m\u001b[0;34m\u001b[0m\u001b[0;34m\u001b[0m\u001b[0m\n\u001b[0;32m----> 5\u001b[0;31m    \u001b[0mprint\u001b[0m\u001b[0;34m(\u001b[0m\u001b[0mindex\u001b[0m\u001b[0;34m[\u001b[0m\u001b[0mi\u001b[0m\u001b[0;34m]\u001b[0m\u001b[0;34m,\u001b[0m \u001b[0my_pred\u001b[0m\u001b[0;34m[\u001b[0m\u001b[0mi\u001b[0m\u001b[0;34m]\u001b[0m\u001b[0;34m)\u001b[0m\u001b[0;34m\u001b[0m\u001b[0;34m\u001b[0m\u001b[0m\n\u001b[0m",
            "\u001b[0;32m/usr/local/lib/python3.7/dist-packages/pandas/core/indexes/extension.py\u001b[0m in \u001b[0;36m__getitem__\u001b[0;34m(self, key)\u001b[0m\n\u001b[1;32m    213\u001b[0m \u001b[0;34m\u001b[0m\u001b[0m\n\u001b[1;32m    214\u001b[0m     \u001b[0;32mdef\u001b[0m \u001b[0m__getitem__\u001b[0m\u001b[0;34m(\u001b[0m\u001b[0mself\u001b[0m\u001b[0;34m,\u001b[0m \u001b[0mkey\u001b[0m\u001b[0;34m)\u001b[0m\u001b[0;34m:\u001b[0m\u001b[0;34m\u001b[0m\u001b[0;34m\u001b[0m\u001b[0m\n\u001b[0;32m--> 215\u001b[0;31m         \u001b[0mresult\u001b[0m \u001b[0;34m=\u001b[0m \u001b[0mself\u001b[0m\u001b[0;34m.\u001b[0m\u001b[0m_data\u001b[0m\u001b[0;34m[\u001b[0m\u001b[0mkey\u001b[0m\u001b[0;34m]\u001b[0m\u001b[0;34m\u001b[0m\u001b[0;34m\u001b[0m\u001b[0m\n\u001b[0m\u001b[1;32m    216\u001b[0m         \u001b[0;32mif\u001b[0m \u001b[0misinstance\u001b[0m\u001b[0;34m(\u001b[0m\u001b[0mresult\u001b[0m\u001b[0;34m,\u001b[0m \u001b[0mtype\u001b[0m\u001b[0;34m(\u001b[0m\u001b[0mself\u001b[0m\u001b[0;34m.\u001b[0m\u001b[0m_data\u001b[0m\u001b[0;34m)\u001b[0m\u001b[0;34m)\u001b[0m\u001b[0;34m:\u001b[0m\u001b[0;34m\u001b[0m\u001b[0;34m\u001b[0m\u001b[0m\n\u001b[1;32m    217\u001b[0m             \u001b[0;32mif\u001b[0m \u001b[0mresult\u001b[0m\u001b[0;34m.\u001b[0m\u001b[0mndim\u001b[0m \u001b[0;34m==\u001b[0m \u001b[0;36m1\u001b[0m\u001b[0;34m:\u001b[0m\u001b[0;34m\u001b[0m\u001b[0;34m\u001b[0m\u001b[0m\n",
            "\u001b[0;32m/usr/local/lib/python3.7/dist-packages/pandas/core/arrays/datetimelike.py\u001b[0m in \u001b[0;36m__getitem__\u001b[0;34m(self, key)\u001b[0m\n\u001b[1;32m    536\u001b[0m         \u001b[0;32mif\u001b[0m \u001b[0mlib\u001b[0m\u001b[0;34m.\u001b[0m\u001b[0mis_integer\u001b[0m\u001b[0;34m(\u001b[0m\u001b[0mkey\u001b[0m\u001b[0;34m)\u001b[0m\u001b[0;34m:\u001b[0m\u001b[0;34m\u001b[0m\u001b[0;34m\u001b[0m\u001b[0m\n\u001b[1;32m    537\u001b[0m             \u001b[0;31m# fast-path\u001b[0m\u001b[0;34m\u001b[0m\u001b[0;34m\u001b[0m\u001b[0;34m\u001b[0m\u001b[0m\n\u001b[0;32m--> 538\u001b[0;31m             \u001b[0mresult\u001b[0m \u001b[0;34m=\u001b[0m \u001b[0mself\u001b[0m\u001b[0;34m.\u001b[0m\u001b[0m_data\u001b[0m\u001b[0;34m[\u001b[0m\u001b[0mkey\u001b[0m\u001b[0;34m]\u001b[0m\u001b[0;34m\u001b[0m\u001b[0;34m\u001b[0m\u001b[0m\n\u001b[0m\u001b[1;32m    539\u001b[0m             \u001b[0;32mif\u001b[0m \u001b[0mself\u001b[0m\u001b[0;34m.\u001b[0m\u001b[0mndim\u001b[0m \u001b[0;34m==\u001b[0m \u001b[0;36m1\u001b[0m\u001b[0;34m:\u001b[0m\u001b[0;34m\u001b[0m\u001b[0;34m\u001b[0m\u001b[0m\n\u001b[1;32m    540\u001b[0m                 \u001b[0;32mreturn\u001b[0m \u001b[0mself\u001b[0m\u001b[0;34m.\u001b[0m\u001b[0m_box_func\u001b[0m\u001b[0;34m(\u001b[0m\u001b[0mresult\u001b[0m\u001b[0;34m)\u001b[0m\u001b[0;34m\u001b[0m\u001b[0;34m\u001b[0m\u001b[0m\n",
            "\u001b[0;31mIndexError\u001b[0m: index 11 is out of bounds for axis 0 with size 11"
          ]
        }
      ]
    }
  ]
}