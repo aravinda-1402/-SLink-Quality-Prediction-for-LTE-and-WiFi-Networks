{
  "nbformat": 4,
  "nbformat_minor": 0,
  "metadata": {
    "accelerator": "GPU",
    "colab": {
      "name": "LQ_prediction_using_Bidirectional_LSTM_on_PDR.ipynb",
      "provenance": [],
      "collapsed_sections": []
    },
    "kernelspec": {
      "display_name": "Python 3",
      "language": "python",
      "name": "python3"
    },
    "language_info": {
      "codemirror_mode": {
        "name": "ipython",
        "version": 3
      },
      "file_extension": ".py",
      "mimetype": "text/x-python",
      "name": "python",
      "nbconvert_exporter": "python",
      "pygments_lexer": "ipython3",
      "version": "3.8.8"
    }
  },
  "cells": [
    {
      "cell_type": "code",
      "metadata": {
        "id": "X9CkDS6WAttw",
        "colab": {
          "base_uri": "https://localhost:8080/"
        },
        "outputId": "d5abf0e6-2a76-40b4-a404-241d1388af6e"
      },
      "source": [
        "import numpy as np\n",
        "import pandas as pd\n",
        "import matplotlib.pyplot as plt\n",
        "import random\n",
        "import sys\n",
        "import time\n",
        "from imblearn.under_sampling import RandomUnderSampler\n",
        "from imblearn.over_sampling import RandomOverSampler\n",
        "import seaborn as sns\n",
        "import tensorflow as tf\n",
        "import keras\n",
        "%matplotlib inline"
      ],
      "execution_count": 1,
      "outputs": [
        {
          "output_type": "stream",
          "text": [
            "/usr/local/lib/python3.7/dist-packages/sklearn/externals/six.py:31: FutureWarning: The module is deprecated in version 0.21 and will be removed in version 0.23 since we've dropped support for Python 2.7. Please rely on the official version of six (https://pypi.org/project/six/).\n",
            "  \"(https://pypi.org/project/six/).\", FutureWarning)\n",
            "/usr/local/lib/python3.7/dist-packages/sklearn/utils/deprecation.py:144: FutureWarning: The sklearn.neighbors.base module is  deprecated in version 0.22 and will be removed in version 0.24. The corresponding classes / functions should instead be imported from sklearn.neighbors. Anything that cannot be imported from sklearn.neighbors is now part of the private API.\n",
            "  warnings.warn(message, FutureWarning)\n"
          ],
          "name": "stderr"
        }
      ]
    },
    {
      "cell_type": "code",
      "metadata": {
        "id": "1lCe3bQnBNPc"
      },
      "source": [
        "df = pd.read_csv('grenoble_pdr.csv',\n",
        "                 parse_dates=['datetime'],\n",
        "                 infer_datetime_format=True,\n",
        "                 index_col='datetime')              "
      ],
      "execution_count": 2,
      "outputs": []
    },
    {
      "cell_type": "code",
      "metadata": {
        "colab": {
          "base_uri": "https://localhost:8080/"
        },
        "id": "7loGGWSHBSSF",
        "outputId": "98847360-b751-47de-af55-5d5b714982a0"
      },
      "source": [
        "df.shape"
      ],
      "execution_count": 3,
      "outputs": [
        {
          "output_type": "execute_result",
          "data": {
            "text/plain": [
              "(108659, 7)"
            ]
          },
          "metadata": {},
          "execution_count": 3
        }
      ]
    },
    {
      "cell_type": "code",
      "metadata": {
        "id": "D6ptRAUzKFuJ"
      },
      "source": [
        "target_names = np.array('target_names')"
      ],
      "execution_count": 4,
      "outputs": []
    },
    {
      "cell_type": "code",
      "metadata": {
        "colab": {
          "base_uri": "https://localhost:8080/"
        },
        "id": "7VCWUO9EEYoL",
        "outputId": "48e01162-7da5-404c-a465-05d06ff397eb"
      },
      "source": [
        "count_bad=(df['target_names']=='Bad').sum()\n",
        "print(count_bad)"
      ],
      "execution_count": 5,
      "outputs": [
        {
          "output_type": "stream",
          "text": [
            "10220\n"
          ],
          "name": "stdout"
        }
      ]
    },
    {
      "cell_type": "code",
      "metadata": {
        "colab": {
          "base_uri": "https://localhost:8080/"
        },
        "id": "dYozQ1XyGAZq",
        "outputId": "36f59286-3fd5-4b5a-9de7-913aab471550"
      },
      "source": [
        "count_interm=(df['target_names']=='Interm.').sum()\n",
        "print(count_interm)"
      ],
      "execution_count": 6,
      "outputs": [
        {
          "output_type": "stream",
          "text": [
            "13017\n"
          ],
          "name": "stdout"
        }
      ]
    },
    {
      "cell_type": "code",
      "metadata": {
        "colab": {
          "base_uri": "https://localhost:8080/"
        },
        "id": "BWRXwf5XJRWm",
        "outputId": "57f59270-92db-40ed-adb5-f3db19ef0d9e"
      },
      "source": [
        "count_good=(df['target_names']=='Good').sum()\n",
        "print(count_good)"
      ],
      "execution_count": 7,
      "outputs": [
        {
          "output_type": "stream",
          "text": [
            "85422\n"
          ],
          "name": "stdout"
        }
      ]
    },
    {
      "cell_type": "code",
      "metadata": {
        "colab": {
          "base_uri": "https://localhost:8080/"
        },
        "id": "sVHqPAeDKeKj",
        "outputId": "6220634e-fe84-496a-c1c1-962cfeb095f4"
      },
      "source": [
        "df.info()"
      ],
      "execution_count": 8,
      "outputs": [
        {
          "output_type": "stream",
          "text": [
            "<class 'pandas.core.frame.DataFrame'>\n",
            "DatetimeIndex: 108659 entries, 2018-01-11 16:32:22 to 2018-01-13 16:21:20\n",
            "Data columns (total 7 columns):\n",
            " #   Column        Non-Null Count   Dtype  \n",
            "---  ------        --------------   -----  \n",
            " 0   src           108659 non-null  int64  \n",
            " 1   dst           108659 non-null  int64  \n",
            " 2   channel       108659 non-null  int64  \n",
            " 3   mean_rssi     108659 non-null  float64\n",
            " 4   pdr           108659 non-null  float64\n",
            " 5   tx_count      108659 non-null  int64  \n",
            " 6   target_names  108659 non-null  object \n",
            "dtypes: float64(2), int64(4), object(1)\n",
            "memory usage: 6.6+ MB\n"
          ],
          "name": "stdout"
        }
      ]
    },
    {
      "cell_type": "code",
      "metadata": {
        "colab": {
          "base_uri": "https://localhost:8080/",
          "height": 447
        },
        "id": "YshRreBmOB1p",
        "outputId": "d0234cd4-812e-47f4-9225-94842eb700fa"
      },
      "source": [
        "df"
      ],
      "execution_count": 9,
      "outputs": [
        {
          "output_type": "execute_result",
          "data": {
            "text/html": [
              "<div>\n",
              "<style scoped>\n",
              "    .dataframe tbody tr th:only-of-type {\n",
              "        vertical-align: middle;\n",
              "    }\n",
              "\n",
              "    .dataframe tbody tr th {\n",
              "        vertical-align: top;\n",
              "    }\n",
              "\n",
              "    .dataframe thead th {\n",
              "        text-align: right;\n",
              "    }\n",
              "</style>\n",
              "<table border=\"1\" class=\"dataframe\">\n",
              "  <thead>\n",
              "    <tr style=\"text-align: right;\">\n",
              "      <th></th>\n",
              "      <th>src</th>\n",
              "      <th>dst</th>\n",
              "      <th>channel</th>\n",
              "      <th>mean_rssi</th>\n",
              "      <th>pdr</th>\n",
              "      <th>tx_count</th>\n",
              "      <th>target_names</th>\n",
              "    </tr>\n",
              "    <tr>\n",
              "      <th>datetime</th>\n",
              "      <th></th>\n",
              "      <th></th>\n",
              "      <th></th>\n",
              "      <th></th>\n",
              "      <th></th>\n",
              "      <th></th>\n",
              "      <th></th>\n",
              "    </tr>\n",
              "  </thead>\n",
              "  <tbody>\n",
              "    <tr>\n",
              "      <th>2018-01-11 16:32:22</th>\n",
              "      <td>0</td>\n",
              "      <td>18</td>\n",
              "      <td>11</td>\n",
              "      <td>-5.90</td>\n",
              "      <td>1.0</td>\n",
              "      <td>100</td>\n",
              "      <td>Good</td>\n",
              "    </tr>\n",
              "    <tr>\n",
              "      <th>2018-01-11 16:32:22</th>\n",
              "      <td>0</td>\n",
              "      <td>7</td>\n",
              "      <td>11</td>\n",
              "      <td>-70.74</td>\n",
              "      <td>1.0</td>\n",
              "      <td>100</td>\n",
              "      <td>Good</td>\n",
              "    </tr>\n",
              "    <tr>\n",
              "      <th>2018-01-11 16:32:22</th>\n",
              "      <td>0</td>\n",
              "      <td>42</td>\n",
              "      <td>11</td>\n",
              "      <td>-80.06</td>\n",
              "      <td>0.6</td>\n",
              "      <td>100</td>\n",
              "      <td>Interm.</td>\n",
              "    </tr>\n",
              "    <tr>\n",
              "      <th>2018-01-11 16:32:22</th>\n",
              "      <td>0</td>\n",
              "      <td>28</td>\n",
              "      <td>11</td>\n",
              "      <td>-68.46</td>\n",
              "      <td>1.0</td>\n",
              "      <td>100</td>\n",
              "      <td>Good</td>\n",
              "    </tr>\n",
              "    <tr>\n",
              "      <th>2018-01-11 16:32:22</th>\n",
              "      <td>0</td>\n",
              "      <td>12</td>\n",
              "      <td>11</td>\n",
              "      <td>-71.84</td>\n",
              "      <td>0.6</td>\n",
              "      <td>100</td>\n",
              "      <td>Interm.</td>\n",
              "    </tr>\n",
              "    <tr>\n",
              "      <th>...</th>\n",
              "      <td>...</td>\n",
              "      <td>...</td>\n",
              "      <td>...</td>\n",
              "      <td>...</td>\n",
              "      <td>...</td>\n",
              "      <td>...</td>\n",
              "      <td>...</td>\n",
              "    </tr>\n",
              "    <tr>\n",
              "      <th>2018-01-13 16:21:20</th>\n",
              "      <td>49</td>\n",
              "      <td>28</td>\n",
              "      <td>26</td>\n",
              "      <td>-75.13</td>\n",
              "      <td>1.0</td>\n",
              "      <td>100</td>\n",
              "      <td>Good</td>\n",
              "    </tr>\n",
              "    <tr>\n",
              "      <th>2018-01-13 16:21:20</th>\n",
              "      <td>49</td>\n",
              "      <td>37</td>\n",
              "      <td>26</td>\n",
              "      <td>-68.39</td>\n",
              "      <td>1.0</td>\n",
              "      <td>100</td>\n",
              "      <td>Good</td>\n",
              "    </tr>\n",
              "    <tr>\n",
              "      <th>2018-01-13 16:21:20</th>\n",
              "      <td>49</td>\n",
              "      <td>13</td>\n",
              "      <td>26</td>\n",
              "      <td>-74.39</td>\n",
              "      <td>1.0</td>\n",
              "      <td>100</td>\n",
              "      <td>Good</td>\n",
              "    </tr>\n",
              "    <tr>\n",
              "      <th>2018-01-13 16:21:20</th>\n",
              "      <td>49</td>\n",
              "      <td>33</td>\n",
              "      <td>26</td>\n",
              "      <td>-80.38</td>\n",
              "      <td>1.0</td>\n",
              "      <td>100</td>\n",
              "      <td>Good</td>\n",
              "    </tr>\n",
              "    <tr>\n",
              "      <th>2018-01-13 16:21:20</th>\n",
              "      <td>49</td>\n",
              "      <td>43</td>\n",
              "      <td>26</td>\n",
              "      <td>-75.62</td>\n",
              "      <td>1.0</td>\n",
              "      <td>100</td>\n",
              "      <td>Good</td>\n",
              "    </tr>\n",
              "  </tbody>\n",
              "</table>\n",
              "<p>108659 rows × 7 columns</p>\n",
              "</div>"
            ],
            "text/plain": [
              "                     src  dst  channel  mean_rssi  pdr  tx_count target_names\n",
              "datetime                                                                     \n",
              "2018-01-11 16:32:22    0   18       11      -5.90  1.0       100         Good\n",
              "2018-01-11 16:32:22    0    7       11     -70.74  1.0       100         Good\n",
              "2018-01-11 16:32:22    0   42       11     -80.06  0.6       100      Interm.\n",
              "2018-01-11 16:32:22    0   28       11     -68.46  1.0       100         Good\n",
              "2018-01-11 16:32:22    0   12       11     -71.84  0.6       100      Interm.\n",
              "...                  ...  ...      ...        ...  ...       ...          ...\n",
              "2018-01-13 16:21:20   49   28       26     -75.13  1.0       100         Good\n",
              "2018-01-13 16:21:20   49   37       26     -68.39  1.0       100         Good\n",
              "2018-01-13 16:21:20   49   13       26     -74.39  1.0       100         Good\n",
              "2018-01-13 16:21:20   49   33       26     -80.38  1.0       100         Good\n",
              "2018-01-13 16:21:20   49   43       26     -75.62  1.0       100         Good\n",
              "\n",
              "[108659 rows x 7 columns]"
            ]
          },
          "metadata": {},
          "execution_count": 9
        }
      ]
    },
    {
      "cell_type": "code",
      "metadata": {
        "colab": {
          "base_uri": "https://localhost:8080/",
          "height": 295
        },
        "id": "CFQ6lhkNOv5i",
        "outputId": "499dd19e-78b3-476a-e694-9563262e0cc8"
      },
      "source": [
        "df.describe()"
      ],
      "execution_count": 10,
      "outputs": [
        {
          "output_type": "execute_result",
          "data": {
            "text/html": [
              "<div>\n",
              "<style scoped>\n",
              "    .dataframe tbody tr th:only-of-type {\n",
              "        vertical-align: middle;\n",
              "    }\n",
              "\n",
              "    .dataframe tbody tr th {\n",
              "        vertical-align: top;\n",
              "    }\n",
              "\n",
              "    .dataframe thead th {\n",
              "        text-align: right;\n",
              "    }\n",
              "</style>\n",
              "<table border=\"1\" class=\"dataframe\">\n",
              "  <thead>\n",
              "    <tr style=\"text-align: right;\">\n",
              "      <th></th>\n",
              "      <th>src</th>\n",
              "      <th>dst</th>\n",
              "      <th>channel</th>\n",
              "      <th>mean_rssi</th>\n",
              "      <th>pdr</th>\n",
              "      <th>tx_count</th>\n",
              "    </tr>\n",
              "  </thead>\n",
              "  <tbody>\n",
              "    <tr>\n",
              "      <th>count</th>\n",
              "      <td>108659.000000</td>\n",
              "      <td>108659.000000</td>\n",
              "      <td>108659.000000</td>\n",
              "      <td>108659.000000</td>\n",
              "      <td>108659.000000</td>\n",
              "      <td>108659.0</td>\n",
              "    </tr>\n",
              "    <tr>\n",
              "      <th>mean</th>\n",
              "      <td>24.923485</td>\n",
              "      <td>25.047387</td>\n",
              "      <td>18.376895</td>\n",
              "      <td>-74.550728</td>\n",
              "      <td>0.874964</td>\n",
              "      <td>100.0</td>\n",
              "    </tr>\n",
              "    <tr>\n",
              "      <th>std</th>\n",
              "      <td>14.831090</td>\n",
              "      <td>14.836094</td>\n",
              "      <td>4.579974</td>\n",
              "      <td>11.870855</td>\n",
              "      <td>0.248361</td>\n",
              "      <td>0.0</td>\n",
              "    </tr>\n",
              "    <tr>\n",
              "      <th>min</th>\n",
              "      <td>0.000000</td>\n",
              "      <td>0.000000</td>\n",
              "      <td>11.000000</td>\n",
              "      <td>-91.000000</td>\n",
              "      <td>0.010000</td>\n",
              "      <td>100.0</td>\n",
              "    </tr>\n",
              "    <tr>\n",
              "      <th>25%</th>\n",
              "      <td>12.000000</td>\n",
              "      <td>13.000000</td>\n",
              "      <td>14.000000</td>\n",
              "      <td>-85.770000</td>\n",
              "      <td>0.910000</td>\n",
              "      <td>100.0</td>\n",
              "    </tr>\n",
              "    <tr>\n",
              "      <th>50%</th>\n",
              "      <td>25.000000</td>\n",
              "      <td>25.000000</td>\n",
              "      <td>18.000000</td>\n",
              "      <td>-76.570000</td>\n",
              "      <td>1.000000</td>\n",
              "      <td>100.0</td>\n",
              "    </tr>\n",
              "    <tr>\n",
              "      <th>75%</th>\n",
              "      <td>39.000000</td>\n",
              "      <td>40.000000</td>\n",
              "      <td>22.000000</td>\n",
              "      <td>-66.970000</td>\n",
              "      <td>1.000000</td>\n",
              "      <td>100.0</td>\n",
              "    </tr>\n",
              "    <tr>\n",
              "      <th>max</th>\n",
              "      <td>49.000000</td>\n",
              "      <td>49.000000</td>\n",
              "      <td>26.000000</td>\n",
              "      <td>-5.900000</td>\n",
              "      <td>1.000000</td>\n",
              "      <td>100.0</td>\n",
              "    </tr>\n",
              "  </tbody>\n",
              "</table>\n",
              "</div>"
            ],
            "text/plain": [
              "                 src            dst  ...            pdr  tx_count\n",
              "count  108659.000000  108659.000000  ...  108659.000000  108659.0\n",
              "mean       24.923485      25.047387  ...       0.874964     100.0\n",
              "std        14.831090      14.836094  ...       0.248361       0.0\n",
              "min         0.000000       0.000000  ...       0.010000     100.0\n",
              "25%        12.000000      13.000000  ...       0.910000     100.0\n",
              "50%        25.000000      25.000000  ...       1.000000     100.0\n",
              "75%        39.000000      40.000000  ...       1.000000     100.0\n",
              "max        49.000000      49.000000  ...       1.000000     100.0\n",
              "\n",
              "[8 rows x 6 columns]"
            ]
          },
          "metadata": {},
          "execution_count": 10
        }
      ]
    },
    {
      "cell_type": "code",
      "metadata": {
        "id": "Na2VgwoffJ32"
      },
      "source": [
        "features = df[['pdr']]\n",
        "target_names = df[['target_names']]              "
      ],
      "execution_count": 11,
      "outputs": []
    },
    {
      "cell_type": "code",
      "metadata": {
        "colab": {
          "base_uri": "https://localhost:8080/",
          "height": 447
        },
        "id": "upLnlgyZUrPK",
        "outputId": "91788333-3b93-4500-9117-1e54ddfdc9f7"
      },
      "source": [
        "features"
      ],
      "execution_count": 12,
      "outputs": [
        {
          "output_type": "execute_result",
          "data": {
            "text/html": [
              "<div>\n",
              "<style scoped>\n",
              "    .dataframe tbody tr th:only-of-type {\n",
              "        vertical-align: middle;\n",
              "    }\n",
              "\n",
              "    .dataframe tbody tr th {\n",
              "        vertical-align: top;\n",
              "    }\n",
              "\n",
              "    .dataframe thead th {\n",
              "        text-align: right;\n",
              "    }\n",
              "</style>\n",
              "<table border=\"1\" class=\"dataframe\">\n",
              "  <thead>\n",
              "    <tr style=\"text-align: right;\">\n",
              "      <th></th>\n",
              "      <th>pdr</th>\n",
              "    </tr>\n",
              "    <tr>\n",
              "      <th>datetime</th>\n",
              "      <th></th>\n",
              "    </tr>\n",
              "  </thead>\n",
              "  <tbody>\n",
              "    <tr>\n",
              "      <th>2018-01-11 16:32:22</th>\n",
              "      <td>1.0</td>\n",
              "    </tr>\n",
              "    <tr>\n",
              "      <th>2018-01-11 16:32:22</th>\n",
              "      <td>1.0</td>\n",
              "    </tr>\n",
              "    <tr>\n",
              "      <th>2018-01-11 16:32:22</th>\n",
              "      <td>0.6</td>\n",
              "    </tr>\n",
              "    <tr>\n",
              "      <th>2018-01-11 16:32:22</th>\n",
              "      <td>1.0</td>\n",
              "    </tr>\n",
              "    <tr>\n",
              "      <th>2018-01-11 16:32:22</th>\n",
              "      <td>0.6</td>\n",
              "    </tr>\n",
              "    <tr>\n",
              "      <th>...</th>\n",
              "      <td>...</td>\n",
              "    </tr>\n",
              "    <tr>\n",
              "      <th>2018-01-13 16:21:20</th>\n",
              "      <td>1.0</td>\n",
              "    </tr>\n",
              "    <tr>\n",
              "      <th>2018-01-13 16:21:20</th>\n",
              "      <td>1.0</td>\n",
              "    </tr>\n",
              "    <tr>\n",
              "      <th>2018-01-13 16:21:20</th>\n",
              "      <td>1.0</td>\n",
              "    </tr>\n",
              "    <tr>\n",
              "      <th>2018-01-13 16:21:20</th>\n",
              "      <td>1.0</td>\n",
              "    </tr>\n",
              "    <tr>\n",
              "      <th>2018-01-13 16:21:20</th>\n",
              "      <td>1.0</td>\n",
              "    </tr>\n",
              "  </tbody>\n",
              "</table>\n",
              "<p>108659 rows × 1 columns</p>\n",
              "</div>"
            ],
            "text/plain": [
              "                     pdr\n",
              "datetime                \n",
              "2018-01-11 16:32:22  1.0\n",
              "2018-01-11 16:32:22  1.0\n",
              "2018-01-11 16:32:22  0.6\n",
              "2018-01-11 16:32:22  1.0\n",
              "2018-01-11 16:32:22  0.6\n",
              "...                  ...\n",
              "2018-01-13 16:21:20  1.0\n",
              "2018-01-13 16:21:20  1.0\n",
              "2018-01-13 16:21:20  1.0\n",
              "2018-01-13 16:21:20  1.0\n",
              "2018-01-13 16:21:20  1.0\n",
              "\n",
              "[108659 rows x 1 columns]"
            ]
          },
          "metadata": {},
          "execution_count": 12
        }
      ]
    },
    {
      "cell_type": "code",
      "metadata": {
        "colab": {
          "base_uri": "https://localhost:8080/"
        },
        "id": "hhL4rWzUn2rQ",
        "outputId": "69261033-a2bd-4767-aac9-3c3cb71b1984"
      },
      "source": [
        "# Split train and test data\n",
        "train_features = features.loc['2018-01-11 16:32:22':'2018-01-13 06:43:02']\n",
        "train_labels = target_names.loc['2018-01-11 16:32:22':'2018-01-13 06:43:02','target_names']\n",
        "\n",
        "test_features = features.loc['2018-01-13 06:43:02':'2018-01-13 16:21:20']\n",
        "test_labels = target_names.loc['2018-01-13 06:43:02':'2018-01-13 16:21:20','target_names']\n",
        "\n",
        "# I want to use a T-days window of input data for predicting target_class\n",
        "# It means I need to prepend (T-1) last train records to the 1st test window\n",
        "\n",
        "T = 30  # my choice of the timesteps window\n",
        "\n",
        "prepend_features = train_features.iloc[-(T-1):]\n",
        "test_features = pd.concat([prepend_features, test_features], axis=0)\n",
        "\n",
        "train_features.shape, train_labels.shape, test_features.shape, test_labels.shape"
      ],
      "execution_count": 13,
      "outputs": [
        {
          "output_type": "execute_result",
          "data": {
            "text/plain": [
              "((86928, 1), (86928,), (21763, 1), (21734,))"
            ]
          },
          "metadata": {},
          "execution_count": 13
        }
      ]
    },
    {
      "cell_type": "code",
      "metadata": {
        "colab": {
          "base_uri": "https://localhost:8080/"
        },
        "id": "mKZuUJPAl3iK",
        "outputId": "6b45b3f1-354e-40d9-8cc2-11cc86512c25"
      },
      "source": [
        "# Rescale the features\n",
        "from sklearn.preprocessing import StandardScaler  # MinMaxScaler\n",
        "\n",
        "scaler = StandardScaler()  # MinMaxScaler(feature_range=(-1,1))\n",
        "scaled_train_features = pd.DataFrame(scaler.fit_transform(train_features.values),\n",
        "                                     index=train_features.index,\n",
        "                                     columns=train_features.columns)\n",
        "# The Scaler is fit on the training set and then applied to the test set\n",
        "scaled_test_features = pd.DataFrame(scaler.transform(test_features.values),\n",
        "                                    index=test_features.index,\n",
        "                                    columns=test_features.columns)\n",
        "\n",
        "scaled_train_features.shape, scaled_test_features.shape"
      ],
      "execution_count": 14,
      "outputs": [
        {
          "output_type": "execute_result",
          "data": {
            "text/plain": [
              "((86928, 1), (21763, 1))"
            ]
          },
          "metadata": {},
          "execution_count": 14
        }
      ]
    },
    {
      "cell_type": "code",
      "metadata": {
        "colab": {
          "base_uri": "https://localhost:8080/",
          "height": 447
        },
        "id": "PWOHaCKTENOZ",
        "outputId": "7d90255a-d855-446a-834c-57c9c06b43a9"
      },
      "source": [
        "scaled_train_features"
      ],
      "execution_count": 15,
      "outputs": [
        {
          "output_type": "execute_result",
          "data": {
            "text/html": [
              "<div>\n",
              "<style scoped>\n",
              "    .dataframe tbody tr th:only-of-type {\n",
              "        vertical-align: middle;\n",
              "    }\n",
              "\n",
              "    .dataframe tbody tr th {\n",
              "        vertical-align: top;\n",
              "    }\n",
              "\n",
              "    .dataframe thead th {\n",
              "        text-align: right;\n",
              "    }\n",
              "</style>\n",
              "<table border=\"1\" class=\"dataframe\">\n",
              "  <thead>\n",
              "    <tr style=\"text-align: right;\">\n",
              "      <th></th>\n",
              "      <th>pdr</th>\n",
              "    </tr>\n",
              "    <tr>\n",
              "      <th>datetime</th>\n",
              "      <th></th>\n",
              "    </tr>\n",
              "  </thead>\n",
              "  <tbody>\n",
              "    <tr>\n",
              "      <th>2018-01-11 16:32:22</th>\n",
              "      <td>0.506994</td>\n",
              "    </tr>\n",
              "    <tr>\n",
              "      <th>2018-01-11 16:32:22</th>\n",
              "      <td>0.506994</td>\n",
              "    </tr>\n",
              "    <tr>\n",
              "      <th>2018-01-11 16:32:22</th>\n",
              "      <td>-1.095007</td>\n",
              "    </tr>\n",
              "    <tr>\n",
              "      <th>2018-01-11 16:32:22</th>\n",
              "      <td>0.506994</td>\n",
              "    </tr>\n",
              "    <tr>\n",
              "      <th>2018-01-11 16:32:22</th>\n",
              "      <td>-1.095007</td>\n",
              "    </tr>\n",
              "    <tr>\n",
              "      <th>...</th>\n",
              "      <td>...</td>\n",
              "    </tr>\n",
              "    <tr>\n",
              "      <th>2018-01-13 06:42:51</th>\n",
              "      <td>0.506994</td>\n",
              "    </tr>\n",
              "    <tr>\n",
              "      <th>2018-01-13 06:42:51</th>\n",
              "      <td>0.506994</td>\n",
              "    </tr>\n",
              "    <tr>\n",
              "      <th>2018-01-13 06:43:02</th>\n",
              "      <td>0.506994</td>\n",
              "    </tr>\n",
              "    <tr>\n",
              "      <th>2018-01-13 06:43:02</th>\n",
              "      <td>0.506994</td>\n",
              "    </tr>\n",
              "    <tr>\n",
              "      <th>2018-01-13 06:43:02</th>\n",
              "      <td>0.506994</td>\n",
              "    </tr>\n",
              "  </tbody>\n",
              "</table>\n",
              "<p>86928 rows × 1 columns</p>\n",
              "</div>"
            ],
            "text/plain": [
              "                          pdr\n",
              "datetime                     \n",
              "2018-01-11 16:32:22  0.506994\n",
              "2018-01-11 16:32:22  0.506994\n",
              "2018-01-11 16:32:22 -1.095007\n",
              "2018-01-11 16:32:22  0.506994\n",
              "2018-01-11 16:32:22 -1.095007\n",
              "...                       ...\n",
              "2018-01-13 06:42:51  0.506994\n",
              "2018-01-13 06:42:51  0.506994\n",
              "2018-01-13 06:43:02  0.506994\n",
              "2018-01-13 06:43:02  0.506994\n",
              "2018-01-13 06:43:02  0.506994\n",
              "\n",
              "[86928 rows x 1 columns]"
            ]
          },
          "metadata": {},
          "execution_count": 15
        }
      ]
    },
    {
      "cell_type": "code",
      "metadata": {
        "colab": {
          "base_uri": "https://localhost:8080/",
          "height": 447
        },
        "id": "nwqpj1FTEVzL",
        "outputId": "b6dec647-cb8d-4a64-83db-4bc049cd2050"
      },
      "source": [
        "scaled_test_features"
      ],
      "execution_count": 16,
      "outputs": [
        {
          "output_type": "execute_result",
          "data": {
            "text/html": [
              "<div>\n",
              "<style scoped>\n",
              "    .dataframe tbody tr th:only-of-type {\n",
              "        vertical-align: middle;\n",
              "    }\n",
              "\n",
              "    .dataframe tbody tr th {\n",
              "        vertical-align: top;\n",
              "    }\n",
              "\n",
              "    .dataframe thead th {\n",
              "        text-align: right;\n",
              "    }\n",
              "</style>\n",
              "<table border=\"1\" class=\"dataframe\">\n",
              "  <thead>\n",
              "    <tr style=\"text-align: right;\">\n",
              "      <th></th>\n",
              "      <th>pdr</th>\n",
              "    </tr>\n",
              "    <tr>\n",
              "      <th>datetime</th>\n",
              "      <th></th>\n",
              "    </tr>\n",
              "  </thead>\n",
              "  <tbody>\n",
              "    <tr>\n",
              "      <th>2018-01-13 06:42:29</th>\n",
              "      <td>0.506994</td>\n",
              "    </tr>\n",
              "    <tr>\n",
              "      <th>2018-01-13 06:42:29</th>\n",
              "      <td>-2.656958</td>\n",
              "    </tr>\n",
              "    <tr>\n",
              "      <th>2018-01-13 06:42:29</th>\n",
              "      <td>0.506994</td>\n",
              "    </tr>\n",
              "    <tr>\n",
              "      <th>2018-01-13 06:42:29</th>\n",
              "      <td>-1.815908</td>\n",
              "    </tr>\n",
              "    <tr>\n",
              "      <th>2018-01-13 06:42:30</th>\n",
              "      <td>-3.257709</td>\n",
              "    </tr>\n",
              "    <tr>\n",
              "      <th>...</th>\n",
              "      <td>...</td>\n",
              "    </tr>\n",
              "    <tr>\n",
              "      <th>2018-01-13 16:21:20</th>\n",
              "      <td>0.506994</td>\n",
              "    </tr>\n",
              "    <tr>\n",
              "      <th>2018-01-13 16:21:20</th>\n",
              "      <td>0.506994</td>\n",
              "    </tr>\n",
              "    <tr>\n",
              "      <th>2018-01-13 16:21:20</th>\n",
              "      <td>0.506994</td>\n",
              "    </tr>\n",
              "    <tr>\n",
              "      <th>2018-01-13 16:21:20</th>\n",
              "      <td>0.506994</td>\n",
              "    </tr>\n",
              "    <tr>\n",
              "      <th>2018-01-13 16:21:20</th>\n",
              "      <td>0.506994</td>\n",
              "    </tr>\n",
              "  </tbody>\n",
              "</table>\n",
              "<p>21763 rows × 1 columns</p>\n",
              "</div>"
            ],
            "text/plain": [
              "                          pdr\n",
              "datetime                     \n",
              "2018-01-13 06:42:29  0.506994\n",
              "2018-01-13 06:42:29 -2.656958\n",
              "2018-01-13 06:42:29  0.506994\n",
              "2018-01-13 06:42:29 -1.815908\n",
              "2018-01-13 06:42:30 -3.257709\n",
              "...                       ...\n",
              "2018-01-13 16:21:20  0.506994\n",
              "2018-01-13 16:21:20  0.506994\n",
              "2018-01-13 16:21:20  0.506994\n",
              "2018-01-13 16:21:20  0.506994\n",
              "2018-01-13 16:21:20  0.506994\n",
              "\n",
              "[21763 rows x 1 columns]"
            ]
          },
          "metadata": {},
          "execution_count": 16
        }
      ]
    },
    {
      "cell_type": "code",
      "metadata": {
        "colab": {
          "base_uri": "https://localhost:8080/"
        },
        "id": "eh6XHa7igI0S",
        "outputId": "fcb1838e-b647-4851-b9d8-51628800697a"
      },
      "source": [
        "# Create sequences of T timesteps\n",
        "X_train, y_train = [], []\n",
        "for i in range(train_labels.shape[0] - (T-1)):\n",
        "    X_train.append(scaled_train_features.iloc[i:i+T].values)\n",
        "    y_train.append(train_labels.iloc[i + (T-1)])\n",
        "X_train, y_train = np.array(X_train), np.array(y_train).reshape(-1,1)\n",
        "print(f'Train data dimensions: {X_train.shape}, {y_train.shape}')\n",
        "\n",
        "X_test, y_test = [], []\n",
        "for i in range(test_labels.shape[0]):\n",
        "    X_test.append(scaled_test_features.iloc[i:i+T].values)\n",
        "    y_test.append(test_labels.iloc[i])\n",
        "X_test, y_test = np.array(X_test), np.array(y_test).reshape(-1,1)  \n",
        "\n",
        "print(f'Test data dimensions: {X_test.shape}, {y_test.shape}')"
      ],
      "execution_count": 17,
      "outputs": [
        {
          "output_type": "stream",
          "text": [
            "Train data dimensions: (86899, 30, 1), (86899, 1)\n",
            "Test data dimensions: (21734, 30, 1), (21734, 1)\n"
          ],
          "name": "stdout"
        }
      ]
    },
    {
      "cell_type": "code",
      "metadata": {
        "colab": {
          "base_uri": "https://localhost:8080/",
          "height": 417
        },
        "id": "oAbdrXadjTb4",
        "outputId": "d666e0b4-a8c4-4ad1-996b-b53e2a6082e0"
      },
      "source": [
        "y_train = pd.DataFrame(y_train)\n",
        "y_train.head(102)"
      ],
      "execution_count": 18,
      "outputs": [
        {
          "output_type": "execute_result",
          "data": {
            "text/html": [
              "<div>\n",
              "<style scoped>\n",
              "    .dataframe tbody tr th:only-of-type {\n",
              "        vertical-align: middle;\n",
              "    }\n",
              "\n",
              "    .dataframe tbody tr th {\n",
              "        vertical-align: top;\n",
              "    }\n",
              "\n",
              "    .dataframe thead th {\n",
              "        text-align: right;\n",
              "    }\n",
              "</style>\n",
              "<table border=\"1\" class=\"dataframe\">\n",
              "  <thead>\n",
              "    <tr style=\"text-align: right;\">\n",
              "      <th></th>\n",
              "      <th>0</th>\n",
              "    </tr>\n",
              "  </thead>\n",
              "  <tbody>\n",
              "    <tr>\n",
              "      <th>0</th>\n",
              "      <td>Good</td>\n",
              "    </tr>\n",
              "    <tr>\n",
              "      <th>1</th>\n",
              "      <td>Good</td>\n",
              "    </tr>\n",
              "    <tr>\n",
              "      <th>2</th>\n",
              "      <td>Good</td>\n",
              "    </tr>\n",
              "    <tr>\n",
              "      <th>3</th>\n",
              "      <td>Good</td>\n",
              "    </tr>\n",
              "    <tr>\n",
              "      <th>4</th>\n",
              "      <td>Good</td>\n",
              "    </tr>\n",
              "    <tr>\n",
              "      <th>...</th>\n",
              "      <td>...</td>\n",
              "    </tr>\n",
              "    <tr>\n",
              "      <th>97</th>\n",
              "      <td>Good</td>\n",
              "    </tr>\n",
              "    <tr>\n",
              "      <th>98</th>\n",
              "      <td>Interm.</td>\n",
              "    </tr>\n",
              "    <tr>\n",
              "      <th>99</th>\n",
              "      <td>Good</td>\n",
              "    </tr>\n",
              "    <tr>\n",
              "      <th>100</th>\n",
              "      <td>Good</td>\n",
              "    </tr>\n",
              "    <tr>\n",
              "      <th>101</th>\n",
              "      <td>Interm.</td>\n",
              "    </tr>\n",
              "  </tbody>\n",
              "</table>\n",
              "<p>102 rows × 1 columns</p>\n",
              "</div>"
            ],
            "text/plain": [
              "           0\n",
              "0       Good\n",
              "1       Good\n",
              "2       Good\n",
              "3       Good\n",
              "4       Good\n",
              "..       ...\n",
              "97      Good\n",
              "98   Interm.\n",
              "99      Good\n",
              "100     Good\n",
              "101  Interm.\n",
              "\n",
              "[102 rows x 1 columns]"
            ]
          },
          "metadata": {},
          "execution_count": 18
        }
      ]
    },
    {
      "cell_type": "code",
      "metadata": {
        "id": "-uEHlS6ma-yH"
      },
      "source": [
        "y_train = pd.DataFrame(y_train)\n",
        "y_train = pd.get_dummies(y_train)"
      ],
      "execution_count": 19,
      "outputs": []
    },
    {
      "cell_type": "code",
      "metadata": {
        "colab": {
          "base_uri": "https://localhost:8080/",
          "height": 417
        },
        "id": "40WxiQPfCFuN",
        "outputId": "d6ece26a-a7ba-48a1-e694-acdbf9374cd7"
      },
      "source": [
        "y_train"
      ],
      "execution_count": 20,
      "outputs": [
        {
          "output_type": "execute_result",
          "data": {
            "text/html": [
              "<div>\n",
              "<style scoped>\n",
              "    .dataframe tbody tr th:only-of-type {\n",
              "        vertical-align: middle;\n",
              "    }\n",
              "\n",
              "    .dataframe tbody tr th {\n",
              "        vertical-align: top;\n",
              "    }\n",
              "\n",
              "    .dataframe thead th {\n",
              "        text-align: right;\n",
              "    }\n",
              "</style>\n",
              "<table border=\"1\" class=\"dataframe\">\n",
              "  <thead>\n",
              "    <tr style=\"text-align: right;\">\n",
              "      <th></th>\n",
              "      <th>0_Bad</th>\n",
              "      <th>0_Good</th>\n",
              "      <th>0_Interm.</th>\n",
              "    </tr>\n",
              "  </thead>\n",
              "  <tbody>\n",
              "    <tr>\n",
              "      <th>0</th>\n",
              "      <td>0</td>\n",
              "      <td>1</td>\n",
              "      <td>0</td>\n",
              "    </tr>\n",
              "    <tr>\n",
              "      <th>1</th>\n",
              "      <td>0</td>\n",
              "      <td>1</td>\n",
              "      <td>0</td>\n",
              "    </tr>\n",
              "    <tr>\n",
              "      <th>2</th>\n",
              "      <td>0</td>\n",
              "      <td>1</td>\n",
              "      <td>0</td>\n",
              "    </tr>\n",
              "    <tr>\n",
              "      <th>3</th>\n",
              "      <td>0</td>\n",
              "      <td>1</td>\n",
              "      <td>0</td>\n",
              "    </tr>\n",
              "    <tr>\n",
              "      <th>4</th>\n",
              "      <td>0</td>\n",
              "      <td>1</td>\n",
              "      <td>0</td>\n",
              "    </tr>\n",
              "    <tr>\n",
              "      <th>...</th>\n",
              "      <td>...</td>\n",
              "      <td>...</td>\n",
              "      <td>...</td>\n",
              "    </tr>\n",
              "    <tr>\n",
              "      <th>86894</th>\n",
              "      <td>0</td>\n",
              "      <td>1</td>\n",
              "      <td>0</td>\n",
              "    </tr>\n",
              "    <tr>\n",
              "      <th>86895</th>\n",
              "      <td>0</td>\n",
              "      <td>1</td>\n",
              "      <td>0</td>\n",
              "    </tr>\n",
              "    <tr>\n",
              "      <th>86896</th>\n",
              "      <td>0</td>\n",
              "      <td>1</td>\n",
              "      <td>0</td>\n",
              "    </tr>\n",
              "    <tr>\n",
              "      <th>86897</th>\n",
              "      <td>0</td>\n",
              "      <td>1</td>\n",
              "      <td>0</td>\n",
              "    </tr>\n",
              "    <tr>\n",
              "      <th>86898</th>\n",
              "      <td>0</td>\n",
              "      <td>1</td>\n",
              "      <td>0</td>\n",
              "    </tr>\n",
              "  </tbody>\n",
              "</table>\n",
              "<p>86899 rows × 3 columns</p>\n",
              "</div>"
            ],
            "text/plain": [
              "       0_Bad  0_Good  0_Interm.\n",
              "0          0       1          0\n",
              "1          0       1          0\n",
              "2          0       1          0\n",
              "3          0       1          0\n",
              "4          0       1          0\n",
              "...      ...     ...        ...\n",
              "86894      0       1          0\n",
              "86895      0       1          0\n",
              "86896      0       1          0\n",
              "86897      0       1          0\n",
              "86898      0       1          0\n",
              "\n",
              "[86899 rows x 3 columns]"
            ]
          },
          "metadata": {},
          "execution_count": 20
        }
      ]
    },
    {
      "cell_type": "code",
      "metadata": {
        "colab": {
          "base_uri": "https://localhost:8080/"
        },
        "id": "GVv1nCfst7QA",
        "outputId": "e0d806c2-ac26-4a9d-9c00-1e58762fa992"
      },
      "source": [
        "y_train = np.array(y_train)\n",
        "print(y_train.shape)\n",
        "y_train"
      ],
      "execution_count": 21,
      "outputs": [
        {
          "output_type": "stream",
          "text": [
            "(86899, 3)\n"
          ],
          "name": "stdout"
        },
        {
          "output_type": "execute_result",
          "data": {
            "text/plain": [
              "array([[0, 1, 0],\n",
              "       [0, 1, 0],\n",
              "       [0, 1, 0],\n",
              "       ...,\n",
              "       [0, 1, 0],\n",
              "       [0, 1, 0],\n",
              "       [0, 1, 0]], dtype=uint8)"
            ]
          },
          "metadata": {},
          "execution_count": 21
        }
      ]
    },
    {
      "cell_type": "code",
      "metadata": {
        "colab": {
          "base_uri": "https://localhost:8080/",
          "height": 417
        },
        "id": "PZbrOn4BbyNf",
        "outputId": "4c0ae357-0852-40bf-e444-19398709efdd"
      },
      "source": [
        "y_test = pd.DataFrame(y_test)\n",
        "y_test = pd.get_dummies(y_test)\n",
        "y_test "
      ],
      "execution_count": 22,
      "outputs": [
        {
          "output_type": "execute_result",
          "data": {
            "text/html": [
              "<div>\n",
              "<style scoped>\n",
              "    .dataframe tbody tr th:only-of-type {\n",
              "        vertical-align: middle;\n",
              "    }\n",
              "\n",
              "    .dataframe tbody tr th {\n",
              "        vertical-align: top;\n",
              "    }\n",
              "\n",
              "    .dataframe thead th {\n",
              "        text-align: right;\n",
              "    }\n",
              "</style>\n",
              "<table border=\"1\" class=\"dataframe\">\n",
              "  <thead>\n",
              "    <tr style=\"text-align: right;\">\n",
              "      <th></th>\n",
              "      <th>0_Bad</th>\n",
              "      <th>0_Good</th>\n",
              "      <th>0_Interm.</th>\n",
              "    </tr>\n",
              "  </thead>\n",
              "  <tbody>\n",
              "    <tr>\n",
              "      <th>0</th>\n",
              "      <td>0</td>\n",
              "      <td>1</td>\n",
              "      <td>0</td>\n",
              "    </tr>\n",
              "    <tr>\n",
              "      <th>1</th>\n",
              "      <td>0</td>\n",
              "      <td>1</td>\n",
              "      <td>0</td>\n",
              "    </tr>\n",
              "    <tr>\n",
              "      <th>2</th>\n",
              "      <td>0</td>\n",
              "      <td>1</td>\n",
              "      <td>0</td>\n",
              "    </tr>\n",
              "    <tr>\n",
              "      <th>3</th>\n",
              "      <td>0</td>\n",
              "      <td>0</td>\n",
              "      <td>1</td>\n",
              "    </tr>\n",
              "    <tr>\n",
              "      <th>4</th>\n",
              "      <td>1</td>\n",
              "      <td>0</td>\n",
              "      <td>0</td>\n",
              "    </tr>\n",
              "    <tr>\n",
              "      <th>...</th>\n",
              "      <td>...</td>\n",
              "      <td>...</td>\n",
              "      <td>...</td>\n",
              "    </tr>\n",
              "    <tr>\n",
              "      <th>21729</th>\n",
              "      <td>0</td>\n",
              "      <td>1</td>\n",
              "      <td>0</td>\n",
              "    </tr>\n",
              "    <tr>\n",
              "      <th>21730</th>\n",
              "      <td>0</td>\n",
              "      <td>1</td>\n",
              "      <td>0</td>\n",
              "    </tr>\n",
              "    <tr>\n",
              "      <th>21731</th>\n",
              "      <td>0</td>\n",
              "      <td>1</td>\n",
              "      <td>0</td>\n",
              "    </tr>\n",
              "    <tr>\n",
              "      <th>21732</th>\n",
              "      <td>0</td>\n",
              "      <td>1</td>\n",
              "      <td>0</td>\n",
              "    </tr>\n",
              "    <tr>\n",
              "      <th>21733</th>\n",
              "      <td>0</td>\n",
              "      <td>1</td>\n",
              "      <td>0</td>\n",
              "    </tr>\n",
              "  </tbody>\n",
              "</table>\n",
              "<p>21734 rows × 3 columns</p>\n",
              "</div>"
            ],
            "text/plain": [
              "       0_Bad  0_Good  0_Interm.\n",
              "0          0       1          0\n",
              "1          0       1          0\n",
              "2          0       1          0\n",
              "3          0       0          1\n",
              "4          1       0          0\n",
              "...      ...     ...        ...\n",
              "21729      0       1          0\n",
              "21730      0       1          0\n",
              "21731      0       1          0\n",
              "21732      0       1          0\n",
              "21733      0       1          0\n",
              "\n",
              "[21734 rows x 3 columns]"
            ]
          },
          "metadata": {},
          "execution_count": 22
        }
      ]
    },
    {
      "cell_type": "code",
      "metadata": {
        "colab": {
          "base_uri": "https://localhost:8080/"
        },
        "id": "Nx62rfILuV4F",
        "outputId": "c4c266c6-3946-4683-aff9-b83533dfdaff"
      },
      "source": [
        "y_test = np.array(y_test)\n",
        "print(y_test.shape)\n",
        "y_test"
      ],
      "execution_count": 23,
      "outputs": [
        {
          "output_type": "stream",
          "text": [
            "(21734, 3)\n"
          ],
          "name": "stdout"
        },
        {
          "output_type": "execute_result",
          "data": {
            "text/plain": [
              "array([[0, 1, 0],\n",
              "       [0, 1, 0],\n",
              "       [0, 1, 0],\n",
              "       ...,\n",
              "       [0, 1, 0],\n",
              "       [0, 1, 0],\n",
              "       [0, 1, 0]], dtype=uint8)"
            ]
          },
          "metadata": {},
          "execution_count": 23
        }
      ]
    },
    {
      "cell_type": "code",
      "metadata": {
        "colab": {
          "base_uri": "https://localhost:8080/"
        },
        "id": "DrA2JNjEcVcD",
        "outputId": "51c7c534-b485-40f2-e098-361757f743c1"
      },
      "source": [
        "print(X_train.shape)\n",
        "print(X_test.shape)\n",
        "print(y_train.shape)\n",
        "print(y_test.shape)\n"
      ],
      "execution_count": 24,
      "outputs": [
        {
          "output_type": "stream",
          "text": [
            "(86899, 30, 1)\n",
            "(21734, 30, 1)\n",
            "(86899, 3)\n",
            "(21734, 3)\n"
          ],
          "name": "stdout"
        }
      ]
    },
    {
      "cell_type": "code",
      "metadata": {
        "colab": {
          "base_uri": "https://localhost:8080/"
        },
        "id": "DTkMqE--z225",
        "outputId": "d6f4f632-7117-4b7b-9641-65a764245747"
      },
      "source": [
        "T"
      ],
      "execution_count": 25,
      "outputs": [
        {
          "output_type": "execute_result",
          "data": {
            "text/plain": [
              "30"
            ]
          },
          "metadata": {},
          "execution_count": 25
        }
      ]
    },
    {
      "cell_type": "code",
      "metadata": {
        "id": "WAH4Zeb6deSd"
      },
      "source": [
        "from keras.models import Sequential\n",
        "from keras.layers import Dense, LSTM, BatchNormalization,Bidirectional\n",
        "from time import time"
      ],
      "execution_count": 27,
      "outputs": []
    },
    {
      "cell_type": "code",
      "metadata": {
        "colab": {
          "base_uri": "https://localhost:8080/"
        },
        "id": "rttR71VrdZbn",
        "outputId": "84ca63ab-e682-4262-c09b-c489923e7f95"
      },
      "source": [
        "# Let's make a list of CONSTANTS for modelling:\n",
        "LAYERS = [8, 8, 8, 3]                # number of units in hidden and output layers\n",
        "M_TRAIN = X_train.shape[0]           # number of training examples (2D)\n",
        "M_TEST = X_test.shape[0]             # number of test examples (2D),full=X_test.shape[0]\n",
        "N = X_train.shape[2]                 # number of features\n",
        "BATCH = M_TRAIN                      # batch size\n",
        "EPOCH = 15                           # number of epochs\n",
        "DP = 0.0                             # dropout rate\n",
        "RDP = 0.0                            # recurrent dropout rate\n",
        "print(f'layers={LAYERS}, train_examples={M_TRAIN}, test_examples={M_TEST}')\n",
        "print(f'batch = {BATCH}, timesteps = {T}, features = {N}, epochs = {EPOCH}')\n",
        "print(f'dropout = {DP}, recurr_dropout = {RDP}')\n",
        "\n",
        "# Build the Model\n",
        "model = Sequential()\n",
        "model.add(Bidirectional(LSTM(input_shape=(T, N), units=LAYERS[0],\n",
        "               activation='tanh', recurrent_activation='sigmoid',\n",
        "               kernel_regularizer=None, recurrent_regularizer=None,\n",
        "               return_sequences=True, recurrent_dropout=RDP, dropout=DP\n",
        "               )))\n",
        "\n",
        "model.add(BatchNormalization())\n",
        "model.add(Bidirectional(LSTM(units=LAYERS[1],\n",
        "               activation='tanh', recurrent_activation='sigmoid',\n",
        "               kernel_regularizer=None, recurrent_regularizer=None,\n",
        "               return_sequences=True, recurrent_dropout=RDP, dropout=DP\n",
        "               )))\n",
        "\n",
        "model.add(BatchNormalization())\n",
        "model.add(Bidirectional(LSTM(units=LAYERS[2],\n",
        "               activation='tanh', recurrent_activation='sigmoid',\n",
        "               kernel_regularizer=None, recurrent_regularizer=None,\n",
        "               return_sequences=False, recurrent_dropout=RDP, dropout=DP\n",
        "               )))\n",
        "\n",
        "model.add(BatchNormalization())\n",
        "model.add(Dense(units=LAYERS[3], activation='softmax'))\n",
        "\n"
      ],
      "execution_count": 28,
      "outputs": [
        {
          "output_type": "stream",
          "text": [
            "layers=[8, 8, 8, 3], train_examples=86899, test_examples=21734\n",
            "batch = 86899, timesteps = 30, features = 1, epochs = 15\n",
            "dropout = 0.0, recurr_dropout = 0.0\n"
          ],
          "name": "stdout"
        }
      ]
    },
    {
      "cell_type": "code",
      "metadata": {
        "id": "XOQXN77PI-jU"
      },
      "source": [
        "# Compile the model with Adam optimizer\n",
        "model.compile(loss='categorical_crossentropy',\n",
        "              metrics=['accuracy'],\n",
        "              optimizer='adam')"
      ],
      "execution_count": 29,
      "outputs": []
    },
    {
      "cell_type": "code",
      "metadata": {
        "colab": {
          "base_uri": "https://localhost:8080/"
        },
        "id": "bv55kA8nI_Oq",
        "outputId": "424ce220-4b09-462d-91ba-4970d2f38149"
      },
      "source": [
        "# Train the model. \n",
        "# The dataset is small for NN - let's use test_data for validation\n",
        "start = time()\n",
        "History = model.fit(X_train, y_train,\n",
        "                    epochs=EPOCH,\n",
        "                    validation_split=0.0,\n",
        "                    validation_data=(X_test[:M_TEST], y_test[:M_TEST]),\n",
        "                    verbose=2)\n",
        "\n",
        "print('-'*65)\n",
        "print(f'Training was completed in {time() - start:.2f} secs')\n",
        "print('-'*65)\n",
        "# Evaluate the model:\n",
        "train_loss, train_acc = model.evaluate(X_train, y_train,\n",
        "                                       batch_size=M_TRAIN, verbose=1)\n",
        "test_loss, test_acc = model.evaluate(X_test[:M_TEST], y_test[:M_TEST],\n",
        "                                     batch_size=M_TEST, verbose=1)\n",
        "print('-'*65)\n",
        "print(f'train accuracy = {round(train_acc * 100, 4)}%')\n",
        "print(f'test accuracy = {round(test_acc * 100, 4)}%')\n",
        "print(f'test error = {round((1 - test_acc) * M_TEST)} out of {M_TEST} examples')\n"
      ],
      "execution_count": 30,
      "outputs": [
        {
          "output_type": "stream",
          "text": [
            "Epoch 1/15\n",
            "2716/2716 - 159s - loss: 0.1030 - accuracy: 0.9655 - val_loss: 0.0246 - val_accuracy: 0.9905\n",
            "Epoch 2/15\n",
            "2716/2716 - 141s - loss: 0.0359 - accuracy: 0.9865 - val_loss: 0.0198 - val_accuracy: 0.9941\n",
            "Epoch 3/15\n",
            "2716/2716 - 141s - loss: 0.0327 - accuracy: 0.9877 - val_loss: 0.0190 - val_accuracy: 0.9936\n",
            "Epoch 4/15\n",
            "2716/2716 - 142s - loss: 0.0307 - accuracy: 0.9880 - val_loss: 0.0172 - val_accuracy: 0.9936\n",
            "Epoch 5/15\n",
            "2716/2716 - 143s - loss: 0.0284 - accuracy: 0.9887 - val_loss: 0.0168 - val_accuracy: 0.9935\n",
            "Epoch 6/15\n",
            "2716/2716 - 142s - loss: 0.0268 - accuracy: 0.9892 - val_loss: 0.0166 - val_accuracy: 0.9937\n",
            "Epoch 7/15\n",
            "2716/2716 - 142s - loss: 0.0258 - accuracy: 0.9896 - val_loss: 0.0168 - val_accuracy: 0.9943\n",
            "Epoch 8/15\n",
            "2716/2716 - 141s - loss: 0.0264 - accuracy: 0.9892 - val_loss: 0.0154 - val_accuracy: 0.9946\n",
            "Epoch 9/15\n",
            "2716/2716 - 141s - loss: 0.0247 - accuracy: 0.9899 - val_loss: 0.0154 - val_accuracy: 0.9946\n",
            "Epoch 10/15\n",
            "2716/2716 - 139s - loss: 0.0245 - accuracy: 0.9899 - val_loss: 0.0146 - val_accuracy: 0.9951\n",
            "Epoch 11/15\n",
            "2716/2716 - 140s - loss: 0.0239 - accuracy: 0.9900 - val_loss: 0.0147 - val_accuracy: 0.9950\n",
            "Epoch 12/15\n",
            "2716/2716 - 140s - loss: 0.0231 - accuracy: 0.9906 - val_loss: 0.0172 - val_accuracy: 0.9930\n",
            "Epoch 13/15\n",
            "2716/2716 - 139s - loss: 0.0232 - accuracy: 0.9905 - val_loss: 0.0150 - val_accuracy: 0.9947\n",
            "Epoch 14/15\n",
            "2716/2716 - 139s - loss: 0.0233 - accuracy: 0.9904 - val_loss: 0.0145 - val_accuracy: 0.9948\n",
            "Epoch 15/15\n",
            "2716/2716 - 139s - loss: 0.0226 - accuracy: 0.9907 - val_loss: 0.0138 - val_accuracy: 0.9950\n",
            "-----------------------------------------------------------------\n",
            "Training was completed in 2134.43 secs\n",
            "-----------------------------------------------------------------\n",
            "1/1 [==============================] - 3s 3s/step - loss: 0.0191 - accuracy: 0.9918\n",
            "1/1 [==============================] - 3s 3s/step - loss: 0.0138 - accuracy: 0.9950\n",
            "-----------------------------------------------------------------\n",
            "train accuracy = 99.1807%\n",
            "test accuracy = 99.4985%\n",
            "test error = 109 out of 21734 examples\n"
          ],
          "name": "stdout"
        }
      ]
    },
    {
      "cell_type": "code",
      "metadata": {
        "colab": {
          "base_uri": "https://localhost:8080/",
          "height": 390
        },
        "id": "y4xgqhF6i2Gf",
        "outputId": "515c9a5e-22f6-471d-e545-0186584f5475"
      },
      "source": [
        "# Plot the loss and accuracy curves over epochs:\n",
        "fig, axs = plt.subplots(nrows=1, ncols=2, figsize=(18,6))\n",
        "axs[0].plot(History.history['loss'], color='b', label='Training loss')\n",
        "axs[0].plot(History.history['val_loss'], color='r', label='Validation loss')\n",
        "axs[0].set_title(\"Loss curves\")\n",
        "axs[0].legend(loc='best', shadow=True)\n",
        "axs[1].plot(History.history['accuracy'], color='b', label='Training accuracy')\n",
        "axs[1].plot(History.history['val_accuracy'], color='r', label='Validation accuracy')\n",
        "axs[1].set_title(\"Accuracy curves\")\n",
        "axs[1].legend(loc='best', shadow=True)\n",
        "plt.show()"
      ],
      "execution_count": 31,
      "outputs": [
        {
          "output_type": "display_data",
          "data": {
            "image/png": "[encoded data removed]",
            "text/plain": [
              "<Figure size 1296x432 with 2 Axes>"
            ]
          },
          "metadata": {
            "needs_background": "light"
          }
        }
      ]
    },
    {
      "cell_type": "code",
      "metadata": {
        "id": "Itdi510wvPWg"
      },
      "source": [
        "#model.compile(optimizer='adam',loss='categorical_crossentropy',metrics=['accuracy'])"
      ],
      "execution_count": null,
      "outputs": []
    },
    {
      "cell_type": "code",
      "metadata": {
        "id": "YO0uko0CXh_l"
      },
      "source": [
        "#history  = model.fit(X_train,y_train,epochs=2,batch_size=32,validation_data=(X_test,y_test))"
      ],
      "execution_count": null,
      "outputs": []
    },
    {
      "cell_type": "code",
      "metadata": {
        "id": "3KrP9ssxfKBT"
      },
      "source": [
        "#model.evaluate(X_test,y_test)"
      ],
      "execution_count": null,
      "outputs": []
    },
    {
      "cell_type": "code",
      "metadata": {
        "id": "RigLN-rlhdcr"
      },
      "source": [
        "#y_pred = model.predict(X_test)"
      ],
      "execution_count": null,
      "outputs": []
    },
    {
      "cell_type": "code",
      "metadata": {
        "id": "7GiurpHjfVFx"
      },
      "source": [
        "#y_pred"
      ],
      "execution_count": null,
      "outputs": []
    },
    {
      "cell_type": "code",
      "metadata": {
        "id": "YWbo130IiOwI"
      },
      "source": [
        "#predict_class = np.argmax(y_pred, axis=1)\n",
        "#predict_class = predict_class"
      ],
      "execution_count": null,
      "outputs": []
    },
    {
      "cell_type": "code",
      "metadata": {
        "id": "9bhktn1riOzQ"
      },
      "source": [
        "#predict_class"
      ],
      "execution_count": null,
      "outputs": []
    },
    {
      "cell_type": "code",
      "metadata": {
        "id": "lLFxK0fd_17I"
      },
      "source": [
        "#from sklearn.neighbors import KNeighborsClassifier\n",
        "#classifier = KNeighborsClassifier(n_neighbors = 5, metric = 'minkowski', p = 2)\n",
        "#classifier.fit(X_train, y_train)"
      ],
      "execution_count": null,
      "outputs": []
    },
    {
      "cell_type": "code",
      "metadata": {
        "id": "8LDusYD2EpBj"
      },
      "source": [
        "#y_pred = np.array(y_train)\n",
        "#y_test = np.array(y_test)"
      ],
      "execution_count": null,
      "outputs": []
    },
    {
      "cell_type": "code",
      "metadata": {
        "id": "Qu1gFROFEb5O"
      },
      "source": [
        "#y_pred = classifier.predict(X_test)\n",
        "#print(np.concatenate((y_pred.reshape(len(y_pred),1), y_test.reshape(len(y_test),1)),1))"
      ],
      "execution_count": null,
      "outputs": []
    },
    {
      "cell_type": "code",
      "metadata": {
        "id": "kzzM-s1fE3z2"
      },
      "source": [
        "#from sklearn.metrics import accuracy_score,confusion_matrix,classification_report\n",
        "#conf = confusion_matrix(y_pred,y_test)\n",
        "#acc = accuracy_score(y_pred,y_test)\n",
        "#report = classification_report(y_pred,y_test)"
      ],
      "execution_count": null,
      "outputs": []
    },
    {
      "cell_type": "code",
      "metadata": {
        "id": "sMFVF9xUE-r1"
      },
      "source": [
        "#print(report)"
      ],
      "execution_count": null,
      "outputs": []
    },
    {
      "cell_type": "code",
      "metadata": {
        "colab": {
          "base_uri": "https://localhost:8080/"
        },
        "id": "BZ-sXEy9jAfu",
        "outputId": "161ef552-ddea-4a12-b638-6548b610c1af"
      },
      "source": [
        "y_test"
      ],
      "execution_count": 32,
      "outputs": [
        {
          "output_type": "execute_result",
          "data": {
            "text/plain": [
              "array([[0, 1, 0],\n",
              "       [0, 1, 0],\n",
              "       [0, 1, 0],\n",
              "       ...,\n",
              "       [0, 1, 0],\n",
              "       [0, 1, 0],\n",
              "       [0, 1, 0]], dtype=uint8)"
            ]
          },
          "metadata": {},
          "execution_count": 32
        }
      ]
    },
    {
      "cell_type": "code",
      "metadata": {
        "colab": {
          "base_uri": "https://localhost:8080/"
        },
        "id": "CL7PydRRp8ze",
        "outputId": "69371e07-0beb-4b6b-ebae-4d9808f20c3d"
      },
      "source": [
        "y_test = pd.DataFrame(y_test)\n",
        "y_test=np.argmax(y_test.iloc[:,:].values, axis=1)\n",
        "y_test"
      ],
      "execution_count": 33,
      "outputs": [
        {
          "output_type": "execute_result",
          "data": {
            "text/plain": [
              "array([1, 1, 1, ..., 1, 1, 1])"
            ]
          },
          "metadata": {},
          "execution_count": 33
        }
      ]
    },
    {
      "cell_type": "code",
      "metadata": {
        "colab": {
          "base_uri": "https://localhost:8080/",
          "height": 538
        },
        "id": "i2QDYPesE_sg",
        "outputId": "c31fe05e-42d8-4bbb-ce49-9422c20202fa"
      },
      "source": [
        "y_pred = np.argmax(model.predict(X_test, batch_size=M_TEST, verbose=1),axis=-1)\n",
        "score = sum(y_pred == y_test) / len(y_test)\n",
        "print(f'Prediction accuracy = {score*100}%')\n",
        "index = pd.date_range(start='2018-01-13 06:43:02', end='2018-01-13 16:21:20', freq='H')\n",
        "for i in range(y_pred.shape[0]):\n",
        "    print(index[i], y_pred[i], y_test[i])"
      ],
      "execution_count": 34,
      "outputs": [
        {
          "output_type": "stream",
          "text": [
            "1/1 [==============================] - 2s 2s/step\n",
            "Prediction accuracy = 99.49848164166744%\n",
            "2018-01-13 06:43:02 1 1\n",
            "2018-01-13 07:43:02 1 1\n",
            "2018-01-13 08:43:02 1 1\n",
            "2018-01-13 09:43:02 2 2\n",
            "2018-01-13 10:43:02 0 0\n",
            "2018-01-13 11:43:02 2 2\n",
            "2018-01-13 12:43:02 2 2\n",
            "2018-01-13 13:43:02 2 2\n",
            "2018-01-13 14:43:02 1 1\n",
            "2018-01-13 15:43:02 1 1\n"
          ],
          "name": "stdout"
        },
        {
          "output_type": "error",
          "ename": "IndexError",
          "evalue": "ignored",
          "traceback": [
            "\u001b[0;31m---------------------------------------------------------------------------\u001b[0m",
            "\u001b[0;31mIndexError\u001b[0m                                Traceback (most recent call last)",
            "\u001b[0;32m<ipython-input-34-2a11e4030f74>\u001b[0m in \u001b[0;36m<module>\u001b[0;34m()\u001b[0m\n\u001b[1;32m      4\u001b[0m \u001b[0mindex\u001b[0m \u001b[0;34m=\u001b[0m \u001b[0mpd\u001b[0m\u001b[0;34m.\u001b[0m\u001b[0mdate_range\u001b[0m\u001b[0;34m(\u001b[0m\u001b[0mstart\u001b[0m\u001b[0;34m=\u001b[0m\u001b[0;34m'2018-01-13 06:43:02'\u001b[0m\u001b[0;34m,\u001b[0m \u001b[0mend\u001b[0m\u001b[0;34m=\u001b[0m\u001b[0;34m'2018-01-13 16:21:20'\u001b[0m\u001b[0;34m,\u001b[0m \u001b[0mfreq\u001b[0m\u001b[0;34m=\u001b[0m\u001b[0;34m'H'\u001b[0m\u001b[0;34m)\u001b[0m\u001b[0;34m\u001b[0m\u001b[0;34m\u001b[0m\u001b[0m\n\u001b[1;32m      5\u001b[0m \u001b[0;32mfor\u001b[0m \u001b[0mi\u001b[0m \u001b[0;32min\u001b[0m \u001b[0mrange\u001b[0m\u001b[0;34m(\u001b[0m\u001b[0my_pred\u001b[0m\u001b[0;34m.\u001b[0m\u001b[0mshape\u001b[0m\u001b[0;34m[\u001b[0m\u001b[0;36m0\u001b[0m\u001b[0;34m]\u001b[0m\u001b[0;34m)\u001b[0m\u001b[0;34m:\u001b[0m\u001b[0;34m\u001b[0m\u001b[0;34m\u001b[0m\u001b[0m\n\u001b[0;32m----> 6\u001b[0;31m     \u001b[0mprint\u001b[0m\u001b[0;34m(\u001b[0m\u001b[0mindex\u001b[0m\u001b[0;34m[\u001b[0m\u001b[0mi\u001b[0m\u001b[0;34m]\u001b[0m\u001b[0;34m,\u001b[0m \u001b[0my_pred\u001b[0m\u001b[0;34m[\u001b[0m\u001b[0mi\u001b[0m\u001b[0;34m]\u001b[0m\u001b[0;34m,\u001b[0m \u001b[0my_test\u001b[0m\u001b[0;34m[\u001b[0m\u001b[0mi\u001b[0m\u001b[0;34m]\u001b[0m\u001b[0;34m)\u001b[0m\u001b[0;34m\u001b[0m\u001b[0;34m\u001b[0m\u001b[0m\n\u001b[0m",
            "\u001b[0;32m/usr/local/lib/python3.7/dist-packages/pandas/core/indexes/extension.py\u001b[0m in \u001b[0;36m__getitem__\u001b[0;34m(self, key)\u001b[0m\n\u001b[1;32m    213\u001b[0m \u001b[0;34m\u001b[0m\u001b[0m\n\u001b[1;32m    214\u001b[0m     \u001b[0;32mdef\u001b[0m \u001b[0m__getitem__\u001b[0m\u001b[0;34m(\u001b[0m\u001b[0mself\u001b[0m\u001b[0;34m,\u001b[0m \u001b[0mkey\u001b[0m\u001b[0;34m)\u001b[0m\u001b[0;34m:\u001b[0m\u001b[0;34m\u001b[0m\u001b[0;34m\u001b[0m\u001b[0m\n\u001b[0;32m--> 215\u001b[0;31m         \u001b[0mresult\u001b[0m \u001b[0;34m=\u001b[0m \u001b[0mself\u001b[0m\u001b[0;34m.\u001b[0m\u001b[0m_data\u001b[0m\u001b[0;34m[\u001b[0m\u001b[0mkey\u001b[0m\u001b[0;34m]\u001b[0m\u001b[0;34m\u001b[0m\u001b[0;34m\u001b[0m\u001b[0m\n\u001b[0m\u001b[1;32m    216\u001b[0m         \u001b[0;32mif\u001b[0m \u001b[0misinstance\u001b[0m\u001b[0;34m(\u001b[0m\u001b[0mresult\u001b[0m\u001b[0;34m,\u001b[0m \u001b[0mtype\u001b[0m\u001b[0;34m(\u001b[0m\u001b[0mself\u001b[0m\u001b[0;34m.\u001b[0m\u001b[0m_data\u001b[0m\u001b[0;34m)\u001b[0m\u001b[0;34m)\u001b[0m\u001b[0;34m:\u001b[0m\u001b[0;34m\u001b[0m\u001b[0;34m\u001b[0m\u001b[0m\n\u001b[1;32m    217\u001b[0m             \u001b[0;32mif\u001b[0m \u001b[0mresult\u001b[0m\u001b[0;34m.\u001b[0m\u001b[0mndim\u001b[0m \u001b[0;34m==\u001b[0m \u001b[0;36m1\u001b[0m\u001b[0;34m:\u001b[0m\u001b[0;34m\u001b[0m\u001b[0;34m\u001b[0m\u001b[0m\n",
            "\u001b[0;32m/usr/local/lib/python3.7/dist-packages/pandas/core/arrays/datetimelike.py\u001b[0m in \u001b[0;36m__getitem__\u001b[0;34m(self, key)\u001b[0m\n\u001b[1;32m    536\u001b[0m         \u001b[0;32mif\u001b[0m \u001b[0mlib\u001b[0m\u001b[0;34m.\u001b[0m\u001b[0mis_integer\u001b[0m\u001b[0;34m(\u001b[0m\u001b[0mkey\u001b[0m\u001b[0;34m)\u001b[0m\u001b[0;34m:\u001b[0m\u001b[0;34m\u001b[0m\u001b[0;34m\u001b[0m\u001b[0m\n\u001b[1;32m    537\u001b[0m             \u001b[0;31m# fast-path\u001b[0m\u001b[0;34m\u001b[0m\u001b[0;34m\u001b[0m\u001b[0;34m\u001b[0m\u001b[0m\n\u001b[0;32m--> 538\u001b[0;31m             \u001b[0mresult\u001b[0m \u001b[0;34m=\u001b[0m \u001b[0mself\u001b[0m\u001b[0;34m.\u001b[0m\u001b[0m_data\u001b[0m\u001b[0;34m[\u001b[0m\u001b[0mkey\u001b[0m\u001b[0;34m]\u001b[0m\u001b[0;34m\u001b[0m\u001b[0;34m\u001b[0m\u001b[0m\n\u001b[0m\u001b[1;32m    539\u001b[0m             \u001b[0;32mif\u001b[0m \u001b[0mself\u001b[0m\u001b[0;34m.\u001b[0m\u001b[0mndim\u001b[0m \u001b[0;34m==\u001b[0m \u001b[0;36m1\u001b[0m\u001b[0;34m:\u001b[0m\u001b[0;34m\u001b[0m\u001b[0;34m\u001b[0m\u001b[0m\n\u001b[1;32m    540\u001b[0m                 \u001b[0;32mreturn\u001b[0m \u001b[0mself\u001b[0m\u001b[0;34m.\u001b[0m\u001b[0m_box_func\u001b[0m\u001b[0;34m(\u001b[0m\u001b[0mresult\u001b[0m\u001b[0;34m)\u001b[0m\u001b[0;34m\u001b[0m\u001b[0;34m\u001b[0m\u001b[0m\n",
            "\u001b[0;31mIndexError\u001b[0m: index 10 is out of bounds for axis 0 with size 10"
          ]
        }
      ]
    },
    {
      "cell_type": "code",
      "metadata": {
        "colab": {
          "base_uri": "https://localhost:8080/"
        },
        "id": "R1jSNS81ZWLI",
        "outputId": "3237d315-e735-4e4a-8377-19cf0af06256"
      },
      "source": [
        "y_test"
      ],
      "execution_count": 35,
      "outputs": [
        {
          "output_type": "execute_result",
          "data": {
            "text/plain": [
              "array([1, 1, 1, ..., 1, 1, 1])"
            ]
          },
          "metadata": {},
          "execution_count": 35
        }
      ]
    },
    {
      "cell_type": "code",
      "metadata": {
        "colab": {
          "base_uri": "https://localhost:8080/"
        },
        "id": "ZADVcpkgZYsz",
        "outputId": "3efd5aa8-ae6c-4bfe-8256-afc4960901cf"
      },
      "source": [
        "y_pred"
      ],
      "execution_count": 36,
      "outputs": [
        {
          "output_type": "execute_result",
          "data": {
            "text/plain": [
              "array([1, 1, 1, ..., 1, 1, 1])"
            ]
          },
          "metadata": {},
          "execution_count": 36
        }
      ]
    },
    {
      "cell_type": "code",
      "metadata": {
        "id": "o3IBez-TF0Cn"
      },
      "source": [
        "from sklearn.metrics import accuracy_score,confusion_matrix,classification_report\n",
        "conf = confusion_matrix(y_pred,y_test)\n",
        "acc = accuracy_score(y_pred,y_test)*100\n",
        "report = classification_report(y_pred,y_test)"
      ],
      "execution_count": 37,
      "outputs": []
    },
    {
      "cell_type": "code",
      "metadata": {
        "colab": {
          "base_uri": "https://localhost:8080/"
        },
        "id": "soAQkpg4famb",
        "outputId": "7ca8a8bd-1e21-49de-e579-c2d4e0a6d19e"
      },
      "source": [
        "print(conf)"
      ],
      "execution_count": 38,
      "outputs": [
        {
          "output_type": "stream",
          "text": [
            "[[ 1948     0   106]\n",
            " [    0 17275     0]\n",
            " [    3     0  2402]]\n"
          ],
          "name": "stdout"
        }
      ]
    },
    {
      "cell_type": "code",
      "metadata": {
        "colab": {
          "base_uri": "https://localhost:8080/"
        },
        "id": "euxQwS5-fgRX",
        "outputId": "a59f115f-9790-4113-91f0-9c12f01f57f5"
      },
      "source": [
        "print(f'{acc:.2f} %')"
      ],
      "execution_count": 39,
      "outputs": [
        {
          "output_type": "stream",
          "text": [
            "99.50 %\n"
          ],
          "name": "stdout"
        }
      ]
    },
    {
      "cell_type": "code",
      "metadata": {
        "colab": {
          "base_uri": "https://localhost:8080/"
        },
        "id": "MGNPNI5yfii3",
        "outputId": "acc99cfe-ed02-43a2-8b5e-7aa043775967"
      },
      "source": [
        "print(report)"
      ],
      "execution_count": 40,
      "outputs": [
        {
          "output_type": "stream",
          "text": [
            "              precision    recall  f1-score   support\n",
            "\n",
            "           0       1.00      0.95      0.97      2054\n",
            "           1       1.00      1.00      1.00     17275\n",
            "           2       0.96      1.00      0.98      2405\n",
            "\n",
            "    accuracy                           0.99     21734\n",
            "   macro avg       0.99      0.98      0.98     21734\n",
            "weighted avg       1.00      0.99      0.99     21734\n",
            "\n"
          ],
          "name": "stdout"
        }
      ]
    },
    {
      "cell_type": "code",
      "metadata": {
        "id": "OKLKb2xo0tjn"
      },
      "source": [
        "y_pred = y_pred.astype(object)\n",
        "y_pred[y_pred==0] = 'Bad'\n",
        "y_pred[y_pred==1] = 'Good'\n",
        "y_pred[y_pred==2] = 'Interm'"
      ],
      "execution_count": 41,
      "outputs": []
    },
    {
      "cell_type": "code",
      "metadata": {
        "colab": {
          "base_uri": "https://localhost:8080/"
        },
        "id": "_hPi6kqj14QR",
        "outputId": "8fa6c013-25f4-4e51-d596-8cfd999e4af4"
      },
      "source": [
        "y_pred"
      ],
      "execution_count": 42,
      "outputs": [
        {
          "output_type": "execute_result",
          "data": {
            "text/plain": [
              "array(['Good', 'Good', 'Good', ..., 'Good', 'Good', 'Good'], dtype=object)"
            ]
          },
          "metadata": {},
          "execution_count": 42
        }
      ]
    },
    {
      "cell_type": "code",
      "metadata": {
        "id": "zZ3Df54z55xa"
      },
      "source": [
        "y_test= y_test.astype(object)\n",
        "y_test[y_test==0] = 'Bad'\n",
        "y_test[y_test==1] = 'Good'\n",
        "y_test[y_test==2] = 'Interm'"
      ],
      "execution_count": 43,
      "outputs": []
    },
    {
      "cell_type": "code",
      "metadata": {
        "colab": {
          "base_uri": "https://localhost:8080/"
        },
        "id": "fHKxD1eQ6F36",
        "outputId": "31042700-95c9-4e1f-b000-2dede31b015f"
      },
      "source": [
        "y_test"
      ],
      "execution_count": 44,
      "outputs": [
        {
          "output_type": "execute_result",
          "data": {
            "text/plain": [
              "array(['Good', 'Good', 'Good', ..., 'Good', 'Good', 'Good'], dtype=object)"
            ]
          },
          "metadata": {},
          "execution_count": 44
        }
      ]
    },
    {
      "cell_type": "code",
      "metadata": {
        "colab": {
          "base_uri": "https://localhost:8080/"
        },
        "id": "c-CntyiU6dqm",
        "outputId": "28d69324-9742-44de-f3a2-0949074dc015"
      },
      "source": [
        "comparision=np.concatenate((y_test.reshape(len(y_test),1), y_pred.reshape(len(y_pred),1)),1)\n",
        "print(comparision)"
      ],
      "execution_count": 45,
      "outputs": [
        {
          "output_type": "stream",
          "text": [
            "[['Good' 'Good']\n",
            " ['Good' 'Good']\n",
            " ['Good' 'Good']\n",
            " ...\n",
            " ['Good' 'Good']\n",
            " ['Good' 'Good']\n",
            " ['Good' 'Good']]\n"
          ],
          "name": "stdout"
        }
      ]
    },
    {
      "cell_type": "code",
      "metadata": {
        "colab": {
          "base_uri": "https://localhost:8080/",
          "height": 522
        },
        "id": "DUFsqg940hai",
        "outputId": "9e29bafc-cdef-4f16-f4b4-ff4c2a8ff3f4"
      },
      "source": [
        "score = sum(y_pred == y_test) / len(y_test)\n",
        "print(f'Prediction accuracy = {score*100}%')\n",
        "index = pd.date_range(start='2018-01-13 06:43:02', end='2018-01-13 16:21:20', freq='H')\n",
        "for i in range(y_pred.shape[0]):\n",
        "   print(index[i], y_pred[i], y_test[i])"
      ],
      "execution_count": 46,
      "outputs": [
        {
          "output_type": "stream",
          "text": [
            "Prediction accuracy = 99.49848164166744%\n",
            "2018-01-13 06:43:02 Good Good\n",
            "2018-01-13 07:43:02 Good Good\n",
            "2018-01-13 08:43:02 Good Good\n",
            "2018-01-13 09:43:02 Interm Interm\n",
            "2018-01-13 10:43:02 Bad Bad\n",
            "2018-01-13 11:43:02 Interm Interm\n",
            "2018-01-13 12:43:02 Interm Interm\n",
            "2018-01-13 13:43:02 Interm Interm\n",
            "2018-01-13 14:43:02 Good Good\n",
            "2018-01-13 15:43:02 Good Good\n"
          ],
          "name": "stdout"
        },
        {
          "output_type": "error",
          "ename": "IndexError",
          "evalue": "ignored",
          "traceback": [
            "\u001b[0;31m---------------------------------------------------------------------------\u001b[0m",
            "\u001b[0;31mIndexError\u001b[0m                                Traceback (most recent call last)",
            "\u001b[0;32m<ipython-input-46-aecfe923401f>\u001b[0m in \u001b[0;36m<module>\u001b[0;34m()\u001b[0m\n\u001b[1;32m      3\u001b[0m \u001b[0mindex\u001b[0m \u001b[0;34m=\u001b[0m \u001b[0mpd\u001b[0m\u001b[0;34m.\u001b[0m\u001b[0mdate_range\u001b[0m\u001b[0;34m(\u001b[0m\u001b[0mstart\u001b[0m\u001b[0;34m=\u001b[0m\u001b[0;34m'2018-01-13 06:43:02'\u001b[0m\u001b[0;34m,\u001b[0m \u001b[0mend\u001b[0m\u001b[0;34m=\u001b[0m\u001b[0;34m'2018-01-13 16:21:20'\u001b[0m\u001b[0;34m,\u001b[0m \u001b[0mfreq\u001b[0m\u001b[0;34m=\u001b[0m\u001b[0;34m'H'\u001b[0m\u001b[0;34m)\u001b[0m\u001b[0;34m\u001b[0m\u001b[0;34m\u001b[0m\u001b[0m\n\u001b[1;32m      4\u001b[0m \u001b[0;32mfor\u001b[0m \u001b[0mi\u001b[0m \u001b[0;32min\u001b[0m \u001b[0mrange\u001b[0m\u001b[0;34m(\u001b[0m\u001b[0my_pred\u001b[0m\u001b[0;34m.\u001b[0m\u001b[0mshape\u001b[0m\u001b[0;34m[\u001b[0m\u001b[0;36m0\u001b[0m\u001b[0;34m]\u001b[0m\u001b[0;34m)\u001b[0m\u001b[0;34m:\u001b[0m\u001b[0;34m\u001b[0m\u001b[0;34m\u001b[0m\u001b[0m\n\u001b[0;32m----> 5\u001b[0;31m    \u001b[0mprint\u001b[0m\u001b[0;34m(\u001b[0m\u001b[0mindex\u001b[0m\u001b[0;34m[\u001b[0m\u001b[0mi\u001b[0m\u001b[0;34m]\u001b[0m\u001b[0;34m,\u001b[0m \u001b[0my_pred\u001b[0m\u001b[0;34m[\u001b[0m\u001b[0mi\u001b[0m\u001b[0;34m]\u001b[0m\u001b[0;34m,\u001b[0m \u001b[0my_test\u001b[0m\u001b[0;34m[\u001b[0m\u001b[0mi\u001b[0m\u001b[0;34m]\u001b[0m\u001b[0;34m)\u001b[0m\u001b[0;34m\u001b[0m\u001b[0;34m\u001b[0m\u001b[0m\n\u001b[0m",
            "\u001b[0;32m/usr/local/lib/python3.7/dist-packages/pandas/core/indexes/extension.py\u001b[0m in \u001b[0;36m__getitem__\u001b[0;34m(self, key)\u001b[0m\n\u001b[1;32m    213\u001b[0m \u001b[0;34m\u001b[0m\u001b[0m\n\u001b[1;32m    214\u001b[0m     \u001b[0;32mdef\u001b[0m \u001b[0m__getitem__\u001b[0m\u001b[0;34m(\u001b[0m\u001b[0mself\u001b[0m\u001b[0;34m,\u001b[0m \u001b[0mkey\u001b[0m\u001b[0;34m)\u001b[0m\u001b[0;34m:\u001b[0m\u001b[0;34m\u001b[0m\u001b[0;34m\u001b[0m\u001b[0m\n\u001b[0;32m--> 215\u001b[0;31m         \u001b[0mresult\u001b[0m \u001b[0;34m=\u001b[0m \u001b[0mself\u001b[0m\u001b[0;34m.\u001b[0m\u001b[0m_data\u001b[0m\u001b[0;34m[\u001b[0m\u001b[0mkey\u001b[0m\u001b[0;34m]\u001b[0m\u001b[0;34m\u001b[0m\u001b[0;34m\u001b[0m\u001b[0m\n\u001b[0m\u001b[1;32m    216\u001b[0m         \u001b[0;32mif\u001b[0m \u001b[0misinstance\u001b[0m\u001b[0;34m(\u001b[0m\u001b[0mresult\u001b[0m\u001b[0;34m,\u001b[0m \u001b[0mtype\u001b[0m\u001b[0;34m(\u001b[0m\u001b[0mself\u001b[0m\u001b[0;34m.\u001b[0m\u001b[0m_data\u001b[0m\u001b[0;34m)\u001b[0m\u001b[0;34m)\u001b[0m\u001b[0;34m:\u001b[0m\u001b[0;34m\u001b[0m\u001b[0;34m\u001b[0m\u001b[0m\n\u001b[1;32m    217\u001b[0m             \u001b[0;32mif\u001b[0m \u001b[0mresult\u001b[0m\u001b[0;34m.\u001b[0m\u001b[0mndim\u001b[0m \u001b[0;34m==\u001b[0m \u001b[0;36m1\u001b[0m\u001b[0;34m:\u001b[0m\u001b[0;34m\u001b[0m\u001b[0;34m\u001b[0m\u001b[0m\n",
            "\u001b[0;32m/usr/local/lib/python3.7/dist-packages/pandas/core/arrays/datetimelike.py\u001b[0m in \u001b[0;36m__getitem__\u001b[0;34m(self, key)\u001b[0m\n\u001b[1;32m    536\u001b[0m         \u001b[0;32mif\u001b[0m \u001b[0mlib\u001b[0m\u001b[0;34m.\u001b[0m\u001b[0mis_integer\u001b[0m\u001b[0;34m(\u001b[0m\u001b[0mkey\u001b[0m\u001b[0;34m)\u001b[0m\u001b[0;34m:\u001b[0m\u001b[0;34m\u001b[0m\u001b[0;34m\u001b[0m\u001b[0m\n\u001b[1;32m    537\u001b[0m             \u001b[0;31m# fast-path\u001b[0m\u001b[0;34m\u001b[0m\u001b[0;34m\u001b[0m\u001b[0;34m\u001b[0m\u001b[0m\n\u001b[0;32m--> 538\u001b[0;31m             \u001b[0mresult\u001b[0m \u001b[0;34m=\u001b[0m \u001b[0mself\u001b[0m\u001b[0;34m.\u001b[0m\u001b[0m_data\u001b[0m\u001b[0;34m[\u001b[0m\u001b[0mkey\u001b[0m\u001b[0;34m]\u001b[0m\u001b[0;34m\u001b[0m\u001b[0;34m\u001b[0m\u001b[0m\n\u001b[0m\u001b[1;32m    539\u001b[0m             \u001b[0;32mif\u001b[0m \u001b[0mself\u001b[0m\u001b[0;34m.\u001b[0m\u001b[0mndim\u001b[0m \u001b[0;34m==\u001b[0m \u001b[0;36m1\u001b[0m\u001b[0;34m:\u001b[0m\u001b[0;34m\u001b[0m\u001b[0;34m\u001b[0m\u001b[0m\n\u001b[1;32m    540\u001b[0m                 \u001b[0;32mreturn\u001b[0m \u001b[0mself\u001b[0m\u001b[0;34m.\u001b[0m\u001b[0m_box_func\u001b[0m\u001b[0;34m(\u001b[0m\u001b[0mresult\u001b[0m\u001b[0;34m)\u001b[0m\u001b[0;34m\u001b[0m\u001b[0;34m\u001b[0m\u001b[0m\n",
            "\u001b[0;31mIndexError\u001b[0m: index 10 is out of bounds for axis 0 with size 10"
          ]
        }
      ]
    },
    {
      "cell_type": "code",
      "metadata": {
        "colab": {
          "base_uri": "https://localhost:8080/",
          "height": 248
        },
        "id": "I0s1aslwTUZf",
        "outputId": "119ed896-c6ae-48cc-9efe-93e54f0f7643"
      },
      "source": [
        "data = confusion_matrix(y_pred, y_test)\n",
        "df_cm = pd.DataFrame(data, columns=np.unique(y_test), index = np.unique(y_test))\n",
        "df_cm.index.name = 'Predicted'\n",
        "df_cm.columns.name = 'Actual'\n",
        "\n",
        "plt.figure(figsize = (4,3))\n",
        "\n",
        "sns.set(font_scale=1)#for label size\n",
        "sns.heatmap(df_cm/np.sum(df_cm), cmap=\"Blues\",annot=True,annot_kws={\"size\": 14})# font size\n",
        "plt.title(f'Accuracy = {round(acc, 2)}%', fontsize = 15)\n",
        "plt.show()"
      ],
      "execution_count": 47,
      "outputs": [
        {
          "output_type": "display_data",
          "data": {
            "image/png": "[encoded data removed]",
            "text/plain": [
              "<Figure size 288x216 with 2 Axes>"
            ]
          },
          "metadata": {
            "needs_background": "light"
          }
        }
      ]
    },
    {
      "cell_type": "code",
      "metadata": {
        "id": "Bb3I5oeXKANt"
      },
      "source": [
        "y_pred = np.array(y_pred)\n",
        "y_pred = pd.DataFrame(y_pred)\n",
        "y_pred=np.argmax(y_pred.iloc[:,:].values, axis=1)\n",
        "y_pred"
      ],
      "execution_count": null,
      "outputs": []
    },
    {
      "cell_type": "code",
      "metadata": {
        "id": "u8TFPNvUMgwF"
      },
      "source": [
        "y_pred= y_pred.astype(object)\n",
        "y_pred[y_pred==0] = 'Bad'\n",
        "y_pred[y_pred==1] = 'Good'\n",
        "y_pred[y_pred==2] = 'Interm'"
      ],
      "execution_count": null,
      "outputs": []
    },
    {
      "cell_type": "code",
      "metadata": {
        "id": "TbTOQXlmMo7l",
        "colab": {
          "base_uri": "https://localhost:8080/",
          "height": 417
        },
        "outputId": "c47718a9-2e5a-42b5-efea-0cc721ce59d9"
      },
      "source": [
        " y_pred = pd.DataFrame(y_pred)\n",
        " y_pred"
      ],
      "execution_count": 48,
      "outputs": [
        {
          "output_type": "execute_result",
          "data": {
            "text/html": [
              "<div>\n",
              "<style scoped>\n",
              "    .dataframe tbody tr th:only-of-type {\n",
              "        vertical-align: middle;\n",
              "    }\n",
              "\n",
              "    .dataframe tbody tr th {\n",
              "        vertical-align: top;\n",
              "    }\n",
              "\n",
              "    .dataframe thead th {\n",
              "        text-align: right;\n",
              "    }\n",
              "</style>\n",
              "<table border=\"1\" class=\"dataframe\">\n",
              "  <thead>\n",
              "    <tr style=\"text-align: right;\">\n",
              "      <th></th>\n",
              "      <th>0</th>\n",
              "    </tr>\n",
              "  </thead>\n",
              "  <tbody>\n",
              "    <tr>\n",
              "      <th>0</th>\n",
              "      <td>Good</td>\n",
              "    </tr>\n",
              "    <tr>\n",
              "      <th>1</th>\n",
              "      <td>Good</td>\n",
              "    </tr>\n",
              "    <tr>\n",
              "      <th>2</th>\n",
              "      <td>Good</td>\n",
              "    </tr>\n",
              "    <tr>\n",
              "      <th>3</th>\n",
              "      <td>Interm</td>\n",
              "    </tr>\n",
              "    <tr>\n",
              "      <th>4</th>\n",
              "      <td>Bad</td>\n",
              "    </tr>\n",
              "    <tr>\n",
              "      <th>...</th>\n",
              "      <td>...</td>\n",
              "    </tr>\n",
              "    <tr>\n",
              "      <th>21729</th>\n",
              "      <td>Good</td>\n",
              "    </tr>\n",
              "    <tr>\n",
              "      <th>21730</th>\n",
              "      <td>Good</td>\n",
              "    </tr>\n",
              "    <tr>\n",
              "      <th>21731</th>\n",
              "      <td>Good</td>\n",
              "    </tr>\n",
              "    <tr>\n",
              "      <th>21732</th>\n",
              "      <td>Good</td>\n",
              "    </tr>\n",
              "    <tr>\n",
              "      <th>21733</th>\n",
              "      <td>Good</td>\n",
              "    </tr>\n",
              "  </tbody>\n",
              "</table>\n",
              "<p>21734 rows × 1 columns</p>\n",
              "</div>"
            ],
            "text/plain": [
              "            0\n",
              "0        Good\n",
              "1        Good\n",
              "2        Good\n",
              "3      Interm\n",
              "4         Bad\n",
              "...       ...\n",
              "21729    Good\n",
              "21730    Good\n",
              "21731    Good\n",
              "21732    Good\n",
              "21733    Good\n",
              "\n",
              "[21734 rows x 1 columns]"
            ]
          },
          "metadata": {},
          "execution_count": 48
        }
      ]
    },
    {
      "cell_type": "code",
      "metadata": {
        "id": "CIKAjXlHL7xV",
        "colab": {
          "base_uri": "https://localhost:8080/",
          "height": 417
        },
        "outputId": "4d56555e-ad22-4574-ae38-064928c692b5"
      },
      "source": [
        "y_test = pd.DataFrame(y_test)\n",
        "y_test"
      ],
      "execution_count": 49,
      "outputs": [
        {
          "output_type": "execute_result",
          "data": {
            "text/html": [
              "<div>\n",
              "<style scoped>\n",
              "    .dataframe tbody tr th:only-of-type {\n",
              "        vertical-align: middle;\n",
              "    }\n",
              "\n",
              "    .dataframe tbody tr th {\n",
              "        vertical-align: top;\n",
              "    }\n",
              "\n",
              "    .dataframe thead th {\n",
              "        text-align: right;\n",
              "    }\n",
              "</style>\n",
              "<table border=\"1\" class=\"dataframe\">\n",
              "  <thead>\n",
              "    <tr style=\"text-align: right;\">\n",
              "      <th></th>\n",
              "      <th>0</th>\n",
              "    </tr>\n",
              "  </thead>\n",
              "  <tbody>\n",
              "    <tr>\n",
              "      <th>0</th>\n",
              "      <td>Good</td>\n",
              "    </tr>\n",
              "    <tr>\n",
              "      <th>1</th>\n",
              "      <td>Good</td>\n",
              "    </tr>\n",
              "    <tr>\n",
              "      <th>2</th>\n",
              "      <td>Good</td>\n",
              "    </tr>\n",
              "    <tr>\n",
              "      <th>3</th>\n",
              "      <td>Interm</td>\n",
              "    </tr>\n",
              "    <tr>\n",
              "      <th>4</th>\n",
              "      <td>Bad</td>\n",
              "    </tr>\n",
              "    <tr>\n",
              "      <th>...</th>\n",
              "      <td>...</td>\n",
              "    </tr>\n",
              "    <tr>\n",
              "      <th>21729</th>\n",
              "      <td>Good</td>\n",
              "    </tr>\n",
              "    <tr>\n",
              "      <th>21730</th>\n",
              "      <td>Good</td>\n",
              "    </tr>\n",
              "    <tr>\n",
              "      <th>21731</th>\n",
              "      <td>Good</td>\n",
              "    </tr>\n",
              "    <tr>\n",
              "      <th>21732</th>\n",
              "      <td>Good</td>\n",
              "    </tr>\n",
              "    <tr>\n",
              "      <th>21733</th>\n",
              "      <td>Good</td>\n",
              "    </tr>\n",
              "  </tbody>\n",
              "</table>\n",
              "<p>21734 rows × 1 columns</p>\n",
              "</div>"
            ],
            "text/plain": [
              "            0\n",
              "0        Good\n",
              "1        Good\n",
              "2        Good\n",
              "3      Interm\n",
              "4         Bad\n",
              "...       ...\n",
              "21729    Good\n",
              "21730    Good\n",
              "21731    Good\n",
              "21732    Good\n",
              "21733    Good\n",
              "\n",
              "[21734 rows x 1 columns]"
            ]
          },
          "metadata": {},
          "execution_count": 49
        }
      ]
    },
    {
      "cell_type": "code",
      "metadata": {
        "id": "Uac2AHccLokv",
        "colab": {
          "base_uri": "https://localhost:8080/",
          "height": 311
        },
        "outputId": "2d9b329d-fd14-4fde-ae90-3efe828adc74"
      },
      "source": [
        "y_pred[0].value_counts().plot(kind='bar')"
      ],
      "execution_count": 50,
      "outputs": [
        {
          "output_type": "execute_result",
          "data": {
            "text/plain": [
              "<matplotlib.axes._subplots.AxesSubplot at 0x7f219e315d50>"
            ]
          },
          "metadata": {},
          "execution_count": 50
        },
        {
          "output_type": "display_data",
          "data": {
            "image/png": "[encoded data removed]",
            "text/plain": [
              "<Figure size 432x288 with 1 Axes>"
            ]
          },
          "metadata": {}
        }
      ]
    },
    {
      "cell_type": "code",
      "metadata": {
        "id": "-jO0lB3QOJEd"
      },
      "source": [
        "y_test = np.array(y_test)\n",
        "y_pred = np.array(y_pred)"
      ],
      "execution_count": 51,
      "outputs": []
    },
    {
      "cell_type": "code",
      "metadata": {
        "id": "iXm0jSqjOT5a",
        "colab": {
          "base_uri": "https://localhost:8080/"
        },
        "outputId": "10dc2418-4390-4830-f2c9-e6c3ec8f8376"
      },
      "source": [
        "# with the following sentence you can get a mask of the items bad classified\n",
        "mask = np.logical_not(np.equal(y_test, y_pred))\n",
        "# Now you can use the mask to see the elements bad classified:\n",
        "print(f\"Elements wrong classified: {y_test[mask]}\")\n",
        "print(f\"Prediction by the model for each of those elements: {y_pred[mask]}\")\n",
        "print(f\"Actual value for each of those elements: {np.asarray(y_test)[mask]}\")"
      ],
      "execution_count": 52,
      "outputs": [
        {
          "output_type": "stream",
          "text": [
            "Elements wrong classified: ['Interm' 'Interm' 'Interm' 'Bad' 'Interm' 'Interm' 'Interm' 'Interm'\n",
            " 'Interm' 'Interm' 'Interm' 'Interm' 'Interm' 'Interm' 'Interm' 'Interm'\n",
            " 'Interm' 'Interm' 'Interm' 'Interm' 'Interm' 'Interm' 'Interm' 'Interm'\n",
            " 'Interm' 'Interm' 'Interm' 'Bad' 'Interm' 'Interm' 'Bad' 'Interm'\n",
            " 'Interm' 'Interm' 'Interm' 'Interm' 'Interm' 'Interm' 'Interm' 'Interm'\n",
            " 'Interm' 'Interm' 'Interm' 'Interm' 'Interm' 'Interm' 'Interm' 'Interm'\n",
            " 'Interm' 'Interm' 'Interm' 'Interm' 'Interm' 'Interm' 'Interm' 'Interm'\n",
            " 'Interm' 'Interm' 'Interm' 'Interm' 'Interm' 'Interm' 'Interm' 'Interm'\n",
            " 'Interm' 'Interm' 'Interm' 'Interm' 'Interm' 'Interm' 'Interm' 'Interm'\n",
            " 'Interm' 'Interm' 'Interm' 'Interm' 'Interm' 'Interm' 'Interm' 'Interm'\n",
            " 'Interm' 'Interm' 'Interm' 'Interm' 'Interm' 'Interm' 'Interm' 'Interm'\n",
            " 'Interm' 'Interm' 'Interm' 'Interm' 'Interm' 'Interm' 'Interm' 'Interm'\n",
            " 'Interm' 'Interm' 'Interm' 'Interm' 'Interm' 'Interm' 'Interm' 'Interm'\n",
            " 'Interm' 'Interm' 'Interm' 'Interm' 'Interm']\n",
            "Prediction by the model for each of those elements: ['Bad' 'Bad' 'Bad' 'Interm' 'Bad' 'Bad' 'Bad' 'Bad' 'Bad' 'Bad' 'Bad'\n",
            " 'Bad' 'Bad' 'Bad' 'Bad' 'Bad' 'Bad' 'Bad' 'Bad' 'Bad' 'Bad' 'Bad' 'Bad'\n",
            " 'Bad' 'Bad' 'Bad' 'Bad' 'Interm' 'Bad' 'Bad' 'Interm' 'Bad' 'Bad' 'Bad'\n",
            " 'Bad' 'Bad' 'Bad' 'Bad' 'Bad' 'Bad' 'Bad' 'Bad' 'Bad' 'Bad' 'Bad' 'Bad'\n",
            " 'Bad' 'Bad' 'Bad' 'Bad' 'Bad' 'Bad' 'Bad' 'Bad' 'Bad' 'Bad' 'Bad' 'Bad'\n",
            " 'Bad' 'Bad' 'Bad' 'Bad' 'Bad' 'Bad' 'Bad' 'Bad' 'Bad' 'Bad' 'Bad' 'Bad'\n",
            " 'Bad' 'Bad' 'Bad' 'Bad' 'Bad' 'Bad' 'Bad' 'Bad' 'Bad' 'Bad' 'Bad' 'Bad'\n",
            " 'Bad' 'Bad' 'Bad' 'Bad' 'Bad' 'Bad' 'Bad' 'Bad' 'Bad' 'Bad' 'Bad' 'Bad'\n",
            " 'Bad' 'Bad' 'Bad' 'Bad' 'Bad' 'Bad' 'Bad' 'Bad' 'Bad' 'Bad' 'Bad' 'Bad'\n",
            " 'Bad' 'Bad' 'Bad']\n",
            "Actual value for each of those elements: ['Interm' 'Interm' 'Interm' 'Bad' 'Interm' 'Interm' 'Interm' 'Interm'\n",
            " 'Interm' 'Interm' 'Interm' 'Interm' 'Interm' 'Interm' 'Interm' 'Interm'\n",
            " 'Interm' 'Interm' 'Interm' 'Interm' 'Interm' 'Interm' 'Interm' 'Interm'\n",
            " 'Interm' 'Interm' 'Interm' 'Bad' 'Interm' 'Interm' 'Bad' 'Interm'\n",
            " 'Interm' 'Interm' 'Interm' 'Interm' 'Interm' 'Interm' 'Interm' 'Interm'\n",
            " 'Interm' 'Interm' 'Interm' 'Interm' 'Interm' 'Interm' 'Interm' 'Interm'\n",
            " 'Interm' 'Interm' 'Interm' 'Interm' 'Interm' 'Interm' 'Interm' 'Interm'\n",
            " 'Interm' 'Interm' 'Interm' 'Interm' 'Interm' 'Interm' 'Interm' 'Interm'\n",
            " 'Interm' 'Interm' 'Interm' 'Interm' 'Interm' 'Interm' 'Interm' 'Interm'\n",
            " 'Interm' 'Interm' 'Interm' 'Interm' 'Interm' 'Interm' 'Interm' 'Interm'\n",
            " 'Interm' 'Interm' 'Interm' 'Interm' 'Interm' 'Interm' 'Interm' 'Interm'\n",
            " 'Interm' 'Interm' 'Interm' 'Interm' 'Interm' 'Interm' 'Interm' 'Interm'\n",
            " 'Interm' 'Interm' 'Interm' 'Interm' 'Interm' 'Interm' 'Interm' 'Interm'\n",
            " 'Interm' 'Interm' 'Interm' 'Interm' 'Interm']\n"
          ],
          "name": "stdout"
        }
      ]
    },
    {
      "cell_type": "code",
      "metadata": {
        "id": "kBeQ8dobO-JF",
        "colab": {
          "base_uri": "https://localhost:8080/"
        },
        "outputId": "8ae088f2-0291-496e-ae8f-e2a6d6983269"
      },
      "source": [
        "Prediction=y_pred[mask]\n",
        "Prediction\n"
      ],
      "execution_count": 53,
      "outputs": [
        {
          "output_type": "execute_result",
          "data": {
            "text/plain": [
              "array(['Bad', 'Bad', 'Bad', 'Interm', 'Bad', 'Bad', 'Bad', 'Bad', 'Bad',\n",
              "       'Bad', 'Bad', 'Bad', 'Bad', 'Bad', 'Bad', 'Bad', 'Bad', 'Bad',\n",
              "       'Bad', 'Bad', 'Bad', 'Bad', 'Bad', 'Bad', 'Bad', 'Bad', 'Bad',\n",
              "       'Interm', 'Bad', 'Bad', 'Interm', 'Bad', 'Bad', 'Bad', 'Bad',\n",
              "       'Bad', 'Bad', 'Bad', 'Bad', 'Bad', 'Bad', 'Bad', 'Bad', 'Bad',\n",
              "       'Bad', 'Bad', 'Bad', 'Bad', 'Bad', 'Bad', 'Bad', 'Bad', 'Bad',\n",
              "       'Bad', 'Bad', 'Bad', 'Bad', 'Bad', 'Bad', 'Bad', 'Bad', 'Bad',\n",
              "       'Bad', 'Bad', 'Bad', 'Bad', 'Bad', 'Bad', 'Bad', 'Bad', 'Bad',\n",
              "       'Bad', 'Bad', 'Bad', 'Bad', 'Bad', 'Bad', 'Bad', 'Bad', 'Bad',\n",
              "       'Bad', 'Bad', 'Bad', 'Bad', 'Bad', 'Bad', 'Bad', 'Bad', 'Bad',\n",
              "       'Bad', 'Bad', 'Bad', 'Bad', 'Bad', 'Bad', 'Bad', 'Bad', 'Bad',\n",
              "       'Bad', 'Bad', 'Bad', 'Bad', 'Bad', 'Bad', 'Bad', 'Bad', 'Bad',\n",
              "       'Bad', 'Bad'], dtype=object)"
            ]
          },
          "metadata": {},
          "execution_count": 53
        }
      ]
    },
    {
      "cell_type": "code",
      "metadata": {
        "id": "FksvYP1CPhde",
        "colab": {
          "base_uri": "https://localhost:8080/"
        },
        "outputId": "782a6613-81c4-451b-a9ef-ba62c2423dd5"
      },
      "source": [
        "Actual=y_test[mask]\n",
        "Actual"
      ],
      "execution_count": 54,
      "outputs": [
        {
          "output_type": "execute_result",
          "data": {
            "text/plain": [
              "array(['Interm', 'Interm', 'Interm', 'Bad', 'Interm', 'Interm', 'Interm',\n",
              "       'Interm', 'Interm', 'Interm', 'Interm', 'Interm', 'Interm',\n",
              "       'Interm', 'Interm', 'Interm', 'Interm', 'Interm', 'Interm',\n",
              "       'Interm', 'Interm', 'Interm', 'Interm', 'Interm', 'Interm',\n",
              "       'Interm', 'Interm', 'Bad', 'Interm', 'Interm', 'Bad', 'Interm',\n",
              "       'Interm', 'Interm', 'Interm', 'Interm', 'Interm', 'Interm',\n",
              "       'Interm', 'Interm', 'Interm', 'Interm', 'Interm', 'Interm',\n",
              "       'Interm', 'Interm', 'Interm', 'Interm', 'Interm', 'Interm',\n",
              "       'Interm', 'Interm', 'Interm', 'Interm', 'Interm', 'Interm',\n",
              "       'Interm', 'Interm', 'Interm', 'Interm', 'Interm', 'Interm',\n",
              "       'Interm', 'Interm', 'Interm', 'Interm', 'Interm', 'Interm',\n",
              "       'Interm', 'Interm', 'Interm', 'Interm', 'Interm', 'Interm',\n",
              "       'Interm', 'Interm', 'Interm', 'Interm', 'Interm', 'Interm',\n",
              "       'Interm', 'Interm', 'Interm', 'Interm', 'Interm', 'Interm',\n",
              "       'Interm', 'Interm', 'Interm', 'Interm', 'Interm', 'Interm',\n",
              "       'Interm', 'Interm', 'Interm', 'Interm', 'Interm', 'Interm',\n",
              "       'Interm', 'Interm', 'Interm', 'Interm', 'Interm', 'Interm',\n",
              "       'Interm', 'Interm', 'Interm', 'Interm', 'Interm'], dtype=object)"
            ]
          },
          "metadata": {},
          "execution_count": 54
        }
      ]
    },
    {
      "cell_type": "code",
      "metadata": {
        "id": "gYAL5P5hP2mD",
        "colab": {
          "base_uri": "https://localhost:8080/",
          "height": 417
        },
        "outputId": "4bddf096-e0d7-4353-e0b3-f60d19a1ccf7"
      },
      "source": [
        "comp=np.concatenate((Actual.reshape(len(Actual),1), Prediction.reshape(len(Prediction),1)),1)\n",
        "comp = pd.DataFrame(comp)\n",
        "comp.columns=['Actual','Predicted']\n",
        "comp"
      ],
      "execution_count": 55,
      "outputs": [
        {
          "output_type": "execute_result",
          "data": {
            "text/html": [
              "<div>\n",
              "<style scoped>\n",
              "    .dataframe tbody tr th:only-of-type {\n",
              "        vertical-align: middle;\n",
              "    }\n",
              "\n",
              "    .dataframe tbody tr th {\n",
              "        vertical-align: top;\n",
              "    }\n",
              "\n",
              "    .dataframe thead th {\n",
              "        text-align: right;\n",
              "    }\n",
              "</style>\n",
              "<table border=\"1\" class=\"dataframe\">\n",
              "  <thead>\n",
              "    <tr style=\"text-align: right;\">\n",
              "      <th></th>\n",
              "      <th>Actual</th>\n",
              "      <th>Predicted</th>\n",
              "    </tr>\n",
              "  </thead>\n",
              "  <tbody>\n",
              "    <tr>\n",
              "      <th>0</th>\n",
              "      <td>Interm</td>\n",
              "      <td>Bad</td>\n",
              "    </tr>\n",
              "    <tr>\n",
              "      <th>1</th>\n",
              "      <td>Interm</td>\n",
              "      <td>Bad</td>\n",
              "    </tr>\n",
              "    <tr>\n",
              "      <th>2</th>\n",
              "      <td>Interm</td>\n",
              "      <td>Bad</td>\n",
              "    </tr>\n",
              "    <tr>\n",
              "      <th>3</th>\n",
              "      <td>Bad</td>\n",
              "      <td>Interm</td>\n",
              "    </tr>\n",
              "    <tr>\n",
              "      <th>4</th>\n",
              "      <td>Interm</td>\n",
              "      <td>Bad</td>\n",
              "    </tr>\n",
              "    <tr>\n",
              "      <th>...</th>\n",
              "      <td>...</td>\n",
              "      <td>...</td>\n",
              "    </tr>\n",
              "    <tr>\n",
              "      <th>104</th>\n",
              "      <td>Interm</td>\n",
              "      <td>Bad</td>\n",
              "    </tr>\n",
              "    <tr>\n",
              "      <th>105</th>\n",
              "      <td>Interm</td>\n",
              "      <td>Bad</td>\n",
              "    </tr>\n",
              "    <tr>\n",
              "      <th>106</th>\n",
              "      <td>Interm</td>\n",
              "      <td>Bad</td>\n",
              "    </tr>\n",
              "    <tr>\n",
              "      <th>107</th>\n",
              "      <td>Interm</td>\n",
              "      <td>Bad</td>\n",
              "    </tr>\n",
              "    <tr>\n",
              "      <th>108</th>\n",
              "      <td>Interm</td>\n",
              "      <td>Bad</td>\n",
              "    </tr>\n",
              "  </tbody>\n",
              "</table>\n",
              "<p>109 rows × 2 columns</p>\n",
              "</div>"
            ],
            "text/plain": [
              "     Actual Predicted\n",
              "0    Interm       Bad\n",
              "1    Interm       Bad\n",
              "2    Interm       Bad\n",
              "3       Bad    Interm\n",
              "4    Interm       Bad\n",
              "..      ...       ...\n",
              "104  Interm       Bad\n",
              "105  Interm       Bad\n",
              "106  Interm       Bad\n",
              "107  Interm       Bad\n",
              "108  Interm       Bad\n",
              "\n",
              "[109 rows x 2 columns]"
            ]
          },
          "metadata": {},
          "execution_count": 55
        }
      ]
    },
    {
      "cell_type": "code",
      "metadata": {
        "id": "KFHxnxvLSMS7",
        "colab": {
          "base_uri": "https://localhost:8080/",
          "height": 311
        },
        "outputId": "d062deef-07d1-4413-d0b5-d5533e4d5aa5"
      },
      "source": [
        "comp['Actual'].value_counts().plot(kind='bar')"
      ],
      "execution_count": 57,
      "outputs": [
        {
          "output_type": "execute_result",
          "data": {
            "text/plain": [
              "<matplotlib.axes._subplots.AxesSubplot at 0x7f219e167350>"
            ]
          },
          "metadata": {},
          "execution_count": 57
        },
        {
          "output_type": "display_data",
          "data": {
            "image/png": "[encoded data removed]",
            "text/plain": [
              "<Figure size 432x288 with 1 Axes>"
            ]
          },
          "metadata": {}
        }
      ]
    },
    {
      "cell_type": "code",
      "metadata": {
        "id": "mWuVlGL2QPYu",
        "colab": {
          "base_uri": "https://localhost:8080/",
          "height": 311
        },
        "outputId": "9f2a41a5-ce2f-436a-e2ad-9ada800c2180"
      },
      "source": [
        "comp['Predicted'].value_counts().plot(kind='bar')"
      ],
      "execution_count": 58,
      "outputs": [
        {
          "output_type": "execute_result",
          "data": {
            "text/plain": [
              "<matplotlib.axes._subplots.AxesSubplot at 0x7f219e131850>"
            ]
          },
          "metadata": {},
          "execution_count": 58
        },
        {
          "output_type": "display_data",
          "data": {
            "image/png": "[encoded data removed]",
            "text/plain": [
              "<Figure size 432x288 with 1 Axes>"
            ]
          },
          "metadata": {}
        }
      ]
    },
    {
      "cell_type": "code",
      "metadata": {
        "id": "xPt3cKPHSSjU"
      },
      "source": [
        "y_pred= y_pred.astype(object)\n",
        "y_pred[y_pred==0] = 'Bad'\n",
        "y_pred[y_pred==1] = 'Good'\n",
        "y_pred[y_pred==2] = 'Interm'"
      ],
      "execution_count": null,
      "outputs": []
    },
    {
      "cell_type": "code",
      "metadata": {
        "id": "4U2aCurvTuso"
      },
      "source": [
        "mask1 = np.equal(y_test,y_pred)\n",
        "Predicted1 = y_pred[mask1]"
      ],
      "execution_count": null,
      "outputs": []
    },
    {
      "cell_type": "code",
      "metadata": {
        "id": "FW_4D1GnX-Wh"
      },
      "source": [
        "Predicted1 =pd.DataFrame(Predicted1)\n",
        "Predicted1"
      ],
      "execution_count": null,
      "outputs": []
    },
    {
      "cell_type": "code",
      "metadata": {
        "id": "jYnnU7qPYKlm"
      },
      "source": [
        "Predicted1[0].value_counts().plot(kind='bar')\n",
        "plt.show()\n"
      ],
      "execution_count": null,
      "outputs": []
    },
    {
      "cell_type": "code",
      "metadata": {
        "id": "d-GScciZY-cC"
      },
      "source": [
        "model.summary()"
      ],
      "execution_count": null,
      "outputs": []
    },
    {
      "cell_type": "code",
      "metadata": {
        "id": "_ETVYBqXgUz3"
      },
      "source": [
        ""
      ],
      "execution_count": null,
      "outputs": []
    }
  ]
}