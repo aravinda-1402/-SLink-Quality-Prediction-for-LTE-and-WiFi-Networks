{
  "nbformat": 4,
  "nbformat_minor": 0,
  "metadata": {
    "accelerator": "GPU",
    "colab": {
      "name": "LQ_prediction_using_Bidirectional_LSTM_on_RSSI.ipynb",
      "provenance": [],
      "collapsed_sections": []
    },
    "kernelspec": {
      "display_name": "Python 3",
      "language": "python",
      "name": "python3"
    },
    "language_info": {
      "codemirror_mode": {
        "name": "ipython",
        "version": 3
      },
      "file_extension": ".py",
      "mimetype": "text/x-python",
      "name": "python",
      "nbconvert_exporter": "python",
      "pygments_lexer": "ipython3",
      "version": "3.8.8"
    }
  },
  "cells": [
    {
      "cell_type": "code",
      "metadata": {
        "id": "X9CkDS6WAttw",
        "colab": {
          "base_uri": "https://localhost:8080/"
        },
        "outputId": "2095df2d-c09a-4747-9bdd-4e0120d8ffa4"
      },
      "source": [
        #author: Aravinda Raman J (aravindaraman04@gmail.com)
        "import numpy as np\n",
        "import pandas as pd\n",
        "import matplotlib.pyplot as plt\n",
        "import random\n",
        "import sys\n",
        "import time\n",
        "from imblearn.under_sampling import RandomUnderSampler\n",
        "from imblearn.over_sampling import RandomOverSampler\n",
        "import seaborn as sns\n",
        "import tensorflow as tf\n",
        "import keras\n",
        "%matplotlib inline"
      ],
      "execution_count": 1,
      "outputs": [
        {
          "output_type": "stream",
          "text": [
            "/usr/local/lib/python3.7/dist-packages/sklearn/externals/six.py:31: FutureWarning: The module is deprecated in version 0.21 and will be removed in version 0.23 since we've dropped support for Python 2.7. Please rely on the official version of six (https://pypi.org/project/six/).\n",
            "  \"(https://pypi.org/project/six/).\", FutureWarning)\n",
            "/usr/local/lib/python3.7/dist-packages/sklearn/utils/deprecation.py:144: FutureWarning: The sklearn.neighbors.base module is  deprecated in version 0.22 and will be removed in version 0.24. The corresponding classes / functions should instead be imported from sklearn.neighbors. Anything that cannot be imported from sklearn.neighbors is now part of the private API.\n",
            "  warnings.warn(message, FutureWarning)\n"
          ],
          "name": "stderr"
        }
      ]
    },
    {
      "cell_type": "code",
      "metadata": {
        "id": "1lCe3bQnBNPc"
      },
      "source": [
        "df = pd.read_csv('grenoble_mean_rssi.csv',\n",
        "                 parse_dates=['datetime'],\n",
        "                 infer_datetime_format=True,\n",
        "                 index_col='datetime')              "
      ],
      "execution_count": 2,
      "outputs": []
    },
    {
      "cell_type": "code",
      "metadata": {
        "colab": {
          "base_uri": "https://localhost:8080/"
        },
        "id": "7loGGWSHBSSF",
        "outputId": "4d7917e7-f7db-4b4f-9483-0cdad5fe51d7"
      },
      "source": [
        "df.shape"
      ],
      "execution_count": 3,
      "outputs": [
        {
          "output_type": "execute_result",
          "data": {
            "text/plain": [
              "(108659, 6)"
            ]
          },
          "metadata": {},
          "execution_count": 3
        }
      ]
    },
    {
      "cell_type": "code",
      "metadata": {
        "id": "D6ptRAUzKFuJ"
      },
      "source": [
        "target_names = np.array('target_names')"
      ],
      "execution_count": 4,
      "outputs": []
    },
    {
      "cell_type": "code",
      "metadata": {
        "colab": {
          "base_uri": "https://localhost:8080/"
        },
        "id": "7VCWUO9EEYoL",
        "outputId": "e2ceeb5b-ffcf-44a2-b9cb-514342b18591"
      },
      "source": [
        "count_bad=(df['target_names']=='Bad').sum()\n",
        "print(count_bad)"
      ],
      "execution_count": 5,
      "outputs": [
        {
          "output_type": "stream",
          "text": [
            "10047\n"
          ],
          "name": "stdout"
        }
      ]
    },
    {
      "cell_type": "code",
      "metadata": {
        "colab": {
          "base_uri": "https://localhost:8080/"
        },
        "id": "dYozQ1XyGAZq",
        "outputId": "e74c9ac3-404f-42d0-88f9-c8839cf3bf61"
      },
      "source": [
        "count_interm=(df['target_names']=='Interm.').sum()\n",
        "print(count_interm)"
      ],
      "execution_count": 6,
      "outputs": [
        {
          "output_type": "stream",
          "text": [
            "20170\n"
          ],
          "name": "stdout"
        }
      ]
    },
    {
      "cell_type": "code",
      "metadata": {
        "colab": {
          "base_uri": "https://localhost:8080/"
        },
        "id": "BWRXwf5XJRWm",
        "outputId": "457e1ad7-e377-4e01-a98d-a80bd5c48c88"
      },
      "source": [
        "count_good=(df['target_names']=='Good').sum()\n",
        "print(count_good)"
      ],
      "execution_count": 7,
      "outputs": [
        {
          "output_type": "stream",
          "text": [
            "78442\n"
          ],
          "name": "stdout"
        }
      ]
    },
    {
      "cell_type": "code",
      "metadata": {
        "colab": {
          "base_uri": "https://localhost:8080/"
        },
        "id": "sVHqPAeDKeKj",
        "outputId": "b8097ac8-1dce-410c-fadd-d89f7dd8cab3"
      },
      "source": [
        "df.info()"
      ],
      "execution_count": 8,
      "outputs": [
        {
          "output_type": "stream",
          "text": [
            "<class 'pandas.core.frame.DataFrame'>\n",
            "DatetimeIndex: 108659 entries, 2018-01-11 16:32:22 to 2018-01-13 16:21:20\n",
            "Data columns (total 6 columns):\n",
            " #   Column        Non-Null Count   Dtype  \n",
            "---  ------        --------------   -----  \n",
            " 0   src           108659 non-null  int64  \n",
            " 1   dst           108659 non-null  int64  \n",
            " 2   channel       108659 non-null  int64  \n",
            " 3   mean_rssi     108659 non-null  float64\n",
            " 4   tx_count      108659 non-null  int64  \n",
            " 5   target_names  108659 non-null  object \n",
            "dtypes: float64(1), int64(4), object(1)\n",
            "memory usage: 5.8+ MB\n"
          ],
          "name": "stdout"
        }
      ]
    },
    {
      "cell_type": "code",
      "metadata": {
        "colab": {
          "base_uri": "https://localhost:8080/",
          "height": 447
        },
        "id": "YshRreBmOB1p",
        "outputId": "bc769ef5-0fdc-460d-d2a8-029a61590945"
      },
      "source": [
        "df"
      ],
      "execution_count": 9,
      "outputs": [
        {
          "output_type": "execute_result",
          "data": {
            "text/html": [
              "<div>\n",
              "<style scoped>\n",
              "    .dataframe tbody tr th:only-of-type {\n",
              "        vertical-align: middle;\n",
              "    }\n",
              "\n",
              "    .dataframe tbody tr th {\n",
              "        vertical-align: top;\n",
              "    }\n",
              "\n",
              "    .dataframe thead th {\n",
              "        text-align: right;\n",
              "    }\n",
              "</style>\n",
              "<table border=\"1\" class=\"dataframe\">\n",
              "  <thead>\n",
              "    <tr style=\"text-align: right;\">\n",
              "      <th></th>\n",
              "      <th>src</th>\n",
              "      <th>dst</th>\n",
              "      <th>channel</th>\n",
              "      <th>mean_rssi</th>\n",
              "      <th>tx_count</th>\n",
              "      <th>target_names</th>\n",
              "    </tr>\n",
              "    <tr>\n",
              "      <th>datetime</th>\n",
              "      <th></th>\n",
              "      <th></th>\n",
              "      <th></th>\n",
              "      <th></th>\n",
              "      <th></th>\n",
              "      <th></th>\n",
              "    </tr>\n",
              "  </thead>\n",
              "  <tbody>\n",
              "    <tr>\n",
              "      <th>2018-01-11 16:32:22</th>\n",
              "      <td>0</td>\n",
              "      <td>18</td>\n",
              "      <td>11</td>\n",
              "      <td>-5.90</td>\n",
              "      <td>100</td>\n",
              "      <td>Good</td>\n",
              "    </tr>\n",
              "    <tr>\n",
              "      <th>2018-01-11 16:32:22</th>\n",
              "      <td>0</td>\n",
              "      <td>7</td>\n",
              "      <td>11</td>\n",
              "      <td>-70.74</td>\n",
              "      <td>100</td>\n",
              "      <td>Good</td>\n",
              "    </tr>\n",
              "    <tr>\n",
              "      <th>2018-01-11 16:32:22</th>\n",
              "      <td>0</td>\n",
              "      <td>42</td>\n",
              "      <td>11</td>\n",
              "      <td>-80.06</td>\n",
              "      <td>100</td>\n",
              "      <td>Good</td>\n",
              "    </tr>\n",
              "    <tr>\n",
              "      <th>2018-01-11 16:32:22</th>\n",
              "      <td>0</td>\n",
              "      <td>28</td>\n",
              "      <td>11</td>\n",
              "      <td>-68.46</td>\n",
              "      <td>100</td>\n",
              "      <td>Good</td>\n",
              "    </tr>\n",
              "    <tr>\n",
              "      <th>2018-01-11 16:32:22</th>\n",
              "      <td>0</td>\n",
              "      <td>12</td>\n",
              "      <td>11</td>\n",
              "      <td>-71.84</td>\n",
              "      <td>100</td>\n",
              "      <td>Good</td>\n",
              "    </tr>\n",
              "    <tr>\n",
              "      <th>...</th>\n",
              "      <td>...</td>\n",
              "      <td>...</td>\n",
              "      <td>...</td>\n",
              "      <td>...</td>\n",
              "      <td>...</td>\n",
              "      <td>...</td>\n",
              "    </tr>\n",
              "    <tr>\n",
              "      <th>2018-01-13 16:21:20</th>\n",
              "      <td>49</td>\n",
              "      <td>28</td>\n",
              "      <td>26</td>\n",
              "      <td>-75.13</td>\n",
              "      <td>100</td>\n",
              "      <td>Good</td>\n",
              "    </tr>\n",
              "    <tr>\n",
              "      <th>2018-01-13 16:21:20</th>\n",
              "      <td>49</td>\n",
              "      <td>37</td>\n",
              "      <td>26</td>\n",
              "      <td>-68.39</td>\n",
              "      <td>100</td>\n",
              "      <td>Good</td>\n",
              "    </tr>\n",
              "    <tr>\n",
              "      <th>2018-01-13 16:21:20</th>\n",
              "      <td>49</td>\n",
              "      <td>13</td>\n",
              "      <td>26</td>\n",
              "      <td>-74.39</td>\n",
              "      <td>100</td>\n",
              "      <td>Good</td>\n",
              "    </tr>\n",
              "    <tr>\n",
              "      <th>2018-01-13 16:21:20</th>\n",
              "      <td>49</td>\n",
              "      <td>33</td>\n",
              "      <td>26</td>\n",
              "      <td>-80.38</td>\n",
              "      <td>100</td>\n",
              "      <td>Good</td>\n",
              "    </tr>\n",
              "    <tr>\n",
              "      <th>2018-01-13 16:21:20</th>\n",
              "      <td>49</td>\n",
              "      <td>43</td>\n",
              "      <td>26</td>\n",
              "      <td>-75.62</td>\n",
              "      <td>100</td>\n",
              "      <td>Good</td>\n",
              "    </tr>\n",
              "  </tbody>\n",
              "</table>\n",
              "<p>108659 rows × 6 columns</p>\n",
              "</div>"
            ],
            "text/plain": [
              "                     src  dst  channel  mean_rssi  tx_count target_names\n",
              "datetime                                                                \n",
              "2018-01-11 16:32:22    0   18       11      -5.90       100         Good\n",
              "2018-01-11 16:32:22    0    7       11     -70.74       100         Good\n",
              "2018-01-11 16:32:22    0   42       11     -80.06       100         Good\n",
              "2018-01-11 16:32:22    0   28       11     -68.46       100         Good\n",
              "2018-01-11 16:32:22    0   12       11     -71.84       100         Good\n",
              "...                  ...  ...      ...        ...       ...          ...\n",
              "2018-01-13 16:21:20   49   28       26     -75.13       100         Good\n",
              "2018-01-13 16:21:20   49   37       26     -68.39       100         Good\n",
              "2018-01-13 16:21:20   49   13       26     -74.39       100         Good\n",
              "2018-01-13 16:21:20   49   33       26     -80.38       100         Good\n",
              "2018-01-13 16:21:20   49   43       26     -75.62       100         Good\n",
              "\n",
              "[108659 rows x 6 columns]"
            ]
          },
          "metadata": {},
          "execution_count": 9
        }
      ]
    },
    {
      "cell_type": "code",
      "metadata": {
        "colab": {
          "base_uri": "https://localhost:8080/",
          "height": 295
        },
        "id": "CFQ6lhkNOv5i",
        "outputId": "2a2e2b7b-7456-47d7-fc4d-3a00e00b586c"
      },
      "source": [
        "df.describe()"
      ],
      "execution_count": 10,
      "outputs": [
        {
          "output_type": "execute_result",
          "data": {
            "text/html": [
              "<div>\n",
              "<style scoped>\n",
              "    .dataframe tbody tr th:only-of-type {\n",
              "        vertical-align: middle;\n",
              "    }\n",
              "\n",
              "    .dataframe tbody tr th {\n",
              "        vertical-align: top;\n",
              "    }\n",
              "\n",
              "    .dataframe thead th {\n",
              "        text-align: right;\n",
              "    }\n",
              "</style>\n",
              "<table border=\"1\" class=\"dataframe\">\n",
              "  <thead>\n",
              "    <tr style=\"text-align: right;\">\n",
              "      <th></th>\n",
              "      <th>src</th>\n",
              "      <th>dst</th>\n",
              "      <th>channel</th>\n",
              "      <th>mean_rssi</th>\n",
              "      <th>tx_count</th>\n",
              "    </tr>\n",
              "  </thead>\n",
              "  <tbody>\n",
              "    <tr>\n",
              "      <th>count</th>\n",
              "      <td>108659.000000</td>\n",
              "      <td>108659.000000</td>\n",
              "      <td>108659.000000</td>\n",
              "      <td>108659.000000</td>\n",
              "      <td>108659.0</td>\n",
              "    </tr>\n",
              "    <tr>\n",
              "      <th>mean</th>\n",
              "      <td>24.923485</td>\n",
              "      <td>25.047387</td>\n",
              "      <td>18.376895</td>\n",
              "      <td>-74.550728</td>\n",
              "      <td>100.0</td>\n",
              "    </tr>\n",
              "    <tr>\n",
              "      <th>std</th>\n",
              "      <td>14.831090</td>\n",
              "      <td>14.836094</td>\n",
              "      <td>4.579974</td>\n",
              "      <td>11.870855</td>\n",
              "      <td>0.0</td>\n",
              "    </tr>\n",
              "    <tr>\n",
              "      <th>min</th>\n",
              "      <td>0.000000</td>\n",
              "      <td>0.000000</td>\n",
              "      <td>11.000000</td>\n",
              "      <td>-91.000000</td>\n",
              "      <td>100.0</td>\n",
              "    </tr>\n",
              "    <tr>\n",
              "      <th>25%</th>\n",
              "      <td>12.000000</td>\n",
              "      <td>13.000000</td>\n",
              "      <td>14.000000</td>\n",
              "      <td>-85.770000</td>\n",
              "      <td>100.0</td>\n",
              "    </tr>\n",
              "    <tr>\n",
              "      <th>50%</th>\n",
              "      <td>25.000000</td>\n",
              "      <td>25.000000</td>\n",
              "      <td>18.000000</td>\n",
              "      <td>-76.570000</td>\n",
              "      <td>100.0</td>\n",
              "    </tr>\n",
              "    <tr>\n",
              "      <th>75%</th>\n",
              "      <td>39.000000</td>\n",
              "      <td>40.000000</td>\n",
              "      <td>22.000000</td>\n",
              "      <td>-66.970000</td>\n",
              "      <td>100.0</td>\n",
              "    </tr>\n",
              "    <tr>\n",
              "      <th>max</th>\n",
              "      <td>49.000000</td>\n",
              "      <td>49.000000</td>\n",
              "      <td>26.000000</td>\n",
              "      <td>-5.900000</td>\n",
              "      <td>100.0</td>\n",
              "    </tr>\n",
              "  </tbody>\n",
              "</table>\n",
              "</div>"
            ],
            "text/plain": [
              "                 src            dst        channel      mean_rssi  tx_count\n",
              "count  108659.000000  108659.000000  108659.000000  108659.000000  108659.0\n",
              "mean       24.923485      25.047387      18.376895     -74.550728     100.0\n",
              "std        14.831090      14.836094       4.579974      11.870855       0.0\n",
              "min         0.000000       0.000000      11.000000     -91.000000     100.0\n",
              "25%        12.000000      13.000000      14.000000     -85.770000     100.0\n",
              "50%        25.000000      25.000000      18.000000     -76.570000     100.0\n",
              "75%        39.000000      40.000000      22.000000     -66.970000     100.0\n",
              "max        49.000000      49.000000      26.000000      -5.900000     100.0"
            ]
          },
          "metadata": {},
          "execution_count": 10
        }
      ]
    },
    {
      "cell_type": "code",
      "metadata": {
        "id": "Na2VgwoffJ32"
      },
      "source": [
        "features = df[['mean_rssi']]\n",
        "target_names = df[['target_names']]              "
      ],
      "execution_count": 11,
      "outputs": []
    },
    {
      "cell_type": "code",
      "metadata": {
        "colab": {
          "base_uri": "https://localhost:8080/",
          "height": 447
        },
        "id": "upLnlgyZUrPK",
        "outputId": "edf3411f-979d-4c77-95d1-de5978ccb118"
      },
      "source": [
        "features"
      ],
      "execution_count": 12,
      "outputs": [
        {
          "output_type": "execute_result",
          "data": {
            "text/html": [
              "<div>\n",
              "<style scoped>\n",
              "    .dataframe tbody tr th:only-of-type {\n",
              "        vertical-align: middle;\n",
              "    }\n",
              "\n",
              "    .dataframe tbody tr th {\n",
              "        vertical-align: top;\n",
              "    }\n",
              "\n",
              "    .dataframe thead th {\n",
              "        text-align: right;\n",
              "    }\n",
              "</style>\n",
              "<table border=\"1\" class=\"dataframe\">\n",
              "  <thead>\n",
              "    <tr style=\"text-align: right;\">\n",
              "      <th></th>\n",
              "      <th>mean_rssi</th>\n",
              "    </tr>\n",
              "    <tr>\n",
              "      <th>datetime</th>\n",
              "      <th></th>\n",
              "    </tr>\n",
              "  </thead>\n",
              "  <tbody>\n",
              "    <tr>\n",
              "      <th>2018-01-11 16:32:22</th>\n",
              "      <td>-5.90</td>\n",
              "    </tr>\n",
              "    <tr>\n",
              "      <th>2018-01-11 16:32:22</th>\n",
              "      <td>-70.74</td>\n",
              "    </tr>\n",
              "    <tr>\n",
              "      <th>2018-01-11 16:32:22</th>\n",
              "      <td>-80.06</td>\n",
              "    </tr>\n",
              "    <tr>\n",
              "      <th>2018-01-11 16:32:22</th>\n",
              "      <td>-68.46</td>\n",
              "    </tr>\n",
              "    <tr>\n",
              "      <th>2018-01-11 16:32:22</th>\n",
              "      <td>-71.84</td>\n",
              "    </tr>\n",
              "    <tr>\n",
              "      <th>...</th>\n",
              "      <td>...</td>\n",
              "    </tr>\n",
              "    <tr>\n",
              "      <th>2018-01-13 16:21:20</th>\n",
              "      <td>-75.13</td>\n",
              "    </tr>\n",
              "    <tr>\n",
              "      <th>2018-01-13 16:21:20</th>\n",
              "      <td>-68.39</td>\n",
              "    </tr>\n",
              "    <tr>\n",
              "      <th>2018-01-13 16:21:20</th>\n",
              "      <td>-74.39</td>\n",
              "    </tr>\n",
              "    <tr>\n",
              "      <th>2018-01-13 16:21:20</th>\n",
              "      <td>-80.38</td>\n",
              "    </tr>\n",
              "    <tr>\n",
              "      <th>2018-01-13 16:21:20</th>\n",
              "      <td>-75.62</td>\n",
              "    </tr>\n",
              "  </tbody>\n",
              "</table>\n",
              "<p>108659 rows × 1 columns</p>\n",
              "</div>"
            ],
            "text/plain": [
              "                     mean_rssi\n",
              "datetime                      \n",
              "2018-01-11 16:32:22      -5.90\n",
              "2018-01-11 16:32:22     -70.74\n",
              "2018-01-11 16:32:22     -80.06\n",
              "2018-01-11 16:32:22     -68.46\n",
              "2018-01-11 16:32:22     -71.84\n",
              "...                        ...\n",
              "2018-01-13 16:21:20     -75.13\n",
              "2018-01-13 16:21:20     -68.39\n",
              "2018-01-13 16:21:20     -74.39\n",
              "2018-01-13 16:21:20     -80.38\n",
              "2018-01-13 16:21:20     -75.62\n",
              "\n",
              "[108659 rows x 1 columns]"
            ]
          },
          "metadata": {},
          "execution_count": 12
        }
      ]
    },
    {
      "cell_type": "code",
      "metadata": {
        "colab": {
          "base_uri": "https://localhost:8080/"
        },
        "id": "hhL4rWzUn2rQ",
        "outputId": "625041c2-69fd-4506-a004-7c7d4b1bf7d7"
      },
      "source": [
        "# Split train and test data\n",
        "train_features = features.loc['2018-01-11 16:32:22':'2018-01-13 06:43:02']\n",
        "train_labels = target_names.loc['2018-01-11 16:32:22':'2018-01-13 06:43:02','target_names']\n",
        "\n",
        "test_features = features.loc['2018-01-13 06:43:02':'2018-01-13 16:21:20']\n",
        "test_labels = target_names.loc['2018-01-13 06:43:02':'2018-01-13 16:21:20','target_names']\n",
        "\n",
        "# I want to use a T-days window of input data for predicting target_class\n",
        "# It means I need to prepend (T-1) last train records to the 1st test window\n",
        "\n",
        "T = 30  # my choice of the timesteps window\n",
        "\n",
        "prepend_features = train_features.iloc[-(T-1):]\n",
        "test_features = pd.concat([prepend_features, test_features], axis=0)\n",
        "\n",
        "train_features.shape, train_labels.shape, test_features.shape, test_labels.shape"
      ],
      "execution_count": 13,
      "outputs": [
        {
          "output_type": "execute_result",
          "data": {
            "text/plain": [
              "((86928, 1), (86928,), (21763, 1), (21734,))"
            ]
          },
          "metadata": {},
          "execution_count": 13
        }
      ]
    },
    {
      "cell_type": "code",
      "metadata": {
        "colab": {
          "base_uri": "https://localhost:8080/"
        },
        "id": "mKZuUJPAl3iK",
        "outputId": "d94b5b50-f075-4be2-9a9c-c5857b7ddb14"
      },
      "source": [
        "# Rescale the features\n",
        "from sklearn.preprocessing import StandardScaler  # MinMaxScaler\n",
        "\n",
        "scaler = StandardScaler()  # MinMaxScaler(feature_range=(-1,1))\n",
        "scaled_train_features = pd.DataFrame(scaler.fit_transform(train_features.values),\n",
        "                                     index=train_features.index,\n",
        "                                     columns=train_features.columns)\n",
        "# The Scaler is fit on the training set and then applied to the test set\n",
        "scaled_test_features = pd.DataFrame(scaler.transform(test_features.values),\n",
        "                                    index=test_features.index,\n",
        "                                    columns=test_features.columns)\n",
        "\n",
        "scaled_train_features.shape, scaled_test_features.shape"
      ],
      "execution_count": 14,
      "outputs": [
        {
          "output_type": "execute_result",
          "data": {
            "text/plain": [
              "((86928, 1), (21763, 1))"
            ]
          },
          "metadata": {},
          "execution_count": 14
        }
      ]
    },
    {
      "cell_type": "code",
      "metadata": {
        "colab": {
          "base_uri": "https://localhost:8080/",
          "height": 447
        },
        "id": "PWOHaCKTENOZ",
        "outputId": "596d8419-8218-4d44-eca6-84f95bb15de3"
      },
      "source": [
        "scaled_train_features"
      ],
      "execution_count": 15,
      "outputs": [
        {
          "output_type": "execute_result",
          "data": {
            "text/html": [
              "<div>\n",
              "<style scoped>\n",
              "    .dataframe tbody tr th:only-of-type {\n",
              "        vertical-align: middle;\n",
              "    }\n",
              "\n",
              "    .dataframe tbody tr th {\n",
              "        vertical-align: top;\n",
              "    }\n",
              "\n",
              "    .dataframe thead th {\n",
              "        text-align: right;\n",
              "    }\n",
              "</style>\n",
              "<table border=\"1\" class=\"dataframe\">\n",
              "  <thead>\n",
              "    <tr style=\"text-align: right;\">\n",
              "      <th></th>\n",
              "      <th>mean_rssi</th>\n",
              "    </tr>\n",
              "    <tr>\n",
              "      <th>datetime</th>\n",
              "      <th></th>\n",
              "    </tr>\n",
              "  </thead>\n",
              "  <tbody>\n",
              "    <tr>\n",
              "      <th>2018-01-11 16:32:22</th>\n",
              "      <td>5.784865</td>\n",
              "    </tr>\n",
              "    <tr>\n",
              "      <th>2018-01-11 16:32:22</th>\n",
              "      <td>0.321264</td>\n",
              "    </tr>\n",
              "    <tr>\n",
              "      <th>2018-01-11 16:32:22</th>\n",
              "      <td>-0.464066</td>\n",
              "    </tr>\n",
              "    <tr>\n",
              "      <th>2018-01-11 16:32:22</th>\n",
              "      <td>0.513383</td>\n",
              "    </tr>\n",
              "    <tr>\n",
              "      <th>2018-01-11 16:32:22</th>\n",
              "      <td>0.228575</td>\n",
              "    </tr>\n",
              "    <tr>\n",
              "      <th>...</th>\n",
              "      <td>...</td>\n",
              "    </tr>\n",
              "    <tr>\n",
              "      <th>2018-01-13 06:42:51</th>\n",
              "      <td>0.975143</td>\n",
              "    </tr>\n",
              "    <tr>\n",
              "      <th>2018-01-13 06:42:51</th>\n",
              "      <td>-0.857573</td>\n",
              "    </tr>\n",
              "    <tr>\n",
              "      <th>2018-01-13 06:43:02</th>\n",
              "      <td>0.939753</td>\n",
              "    </tr>\n",
              "    <tr>\n",
              "      <th>2018-01-13 06:43:02</th>\n",
              "      <td>0.792293</td>\n",
              "    </tr>\n",
              "    <tr>\n",
              "      <th>2018-01-13 06:43:02</th>\n",
              "      <td>1.024858</td>\n",
              "    </tr>\n",
              "  </tbody>\n",
              "</table>\n",
              "<p>86928 rows × 1 columns</p>\n",
              "</div>"
            ],
            "text/plain": [
              "                     mean_rssi\n",
              "datetime                      \n",
              "2018-01-11 16:32:22   5.784865\n",
              "2018-01-11 16:32:22   0.321264\n",
              "2018-01-11 16:32:22  -0.464066\n",
              "2018-01-11 16:32:22   0.513383\n",
              "2018-01-11 16:32:22   0.228575\n",
              "...                        ...\n",
              "2018-01-13 06:42:51   0.975143\n",
              "2018-01-13 06:42:51  -0.857573\n",
              "2018-01-13 06:43:02   0.939753\n",
              "2018-01-13 06:43:02   0.792293\n",
              "2018-01-13 06:43:02   1.024858\n",
              "\n",
              "[86928 rows x 1 columns]"
            ]
          },
          "metadata": {},
          "execution_count": 15
        }
      ]
    },
    {
      "cell_type": "code",
      "metadata": {
        "colab": {
          "base_uri": "https://localhost:8080/",
          "height": 447
        },
        "id": "nwqpj1FTEVzL",
        "outputId": "d0396b26-f378-4a70-9b01-c87bf1792ae0"
      },
      "source": [
        "scaled_test_features"
      ],
      "execution_count": 16,
      "outputs": [
        {
          "output_type": "execute_result",
          "data": {
            "text/html": [
              "<div>\n",
              "<style scoped>\n",
              "    .dataframe tbody tr th:only-of-type {\n",
              "        vertical-align: middle;\n",
              "    }\n",
              "\n",
              "    .dataframe tbody tr th {\n",
              "        vertical-align: top;\n",
              "    }\n",
              "\n",
              "    .dataframe thead th {\n",
              "        text-align: right;\n",
              "    }\n",
              "</style>\n",
              "<table border=\"1\" class=\"dataframe\">\n",
              "  <thead>\n",
              "    <tr style=\"text-align: right;\">\n",
              "      <th></th>\n",
              "      <th>mean_rssi</th>\n",
              "    </tr>\n",
              "    <tr>\n",
              "      <th>datetime</th>\n",
              "      <th></th>\n",
              "    </tr>\n",
              "  </thead>\n",
              "  <tbody>\n",
              "    <tr>\n",
              "      <th>2018-01-13 06:42:29</th>\n",
              "      <td>0.519281</td>\n",
              "    </tr>\n",
              "    <tr>\n",
              "      <th>2018-01-13 06:42:29</th>\n",
              "      <td>-1.129742</td>\n",
              "    </tr>\n",
              "    <tr>\n",
              "      <th>2018-01-13 06:42:29</th>\n",
              "      <td>0.387831</td>\n",
              "    </tr>\n",
              "    <tr>\n",
              "      <th>2018-01-13 06:42:29</th>\n",
              "      <td>-1.070758</td>\n",
              "    </tr>\n",
              "    <tr>\n",
              "      <th>2018-01-13 06:42:30</th>\n",
              "      <td>-1.235070</td>\n",
              "    </tr>\n",
              "    <tr>\n",
              "      <th>...</th>\n",
              "      <td>...</td>\n",
              "    </tr>\n",
              "    <tr>\n",
              "      <th>2018-01-13 16:21:20</th>\n",
              "      <td>-0.048650</td>\n",
              "    </tr>\n",
              "    <tr>\n",
              "      <th>2018-01-13 16:21:20</th>\n",
              "      <td>0.519281</td>\n",
              "    </tr>\n",
              "    <tr>\n",
              "      <th>2018-01-13 16:21:20</th>\n",
              "      <td>0.013705</td>\n",
              "    </tr>\n",
              "    <tr>\n",
              "      <th>2018-01-13 16:21:20</th>\n",
              "      <td>-0.491030</td>\n",
              "    </tr>\n",
              "    <tr>\n",
              "      <th>2018-01-13 16:21:20</th>\n",
              "      <td>-0.089939</td>\n",
              "    </tr>\n",
              "  </tbody>\n",
              "</table>\n",
              "<p>21763 rows × 1 columns</p>\n",
              "</div>"
            ],
            "text/plain": [
              "                     mean_rssi\n",
              "datetime                      \n",
              "2018-01-13 06:42:29   0.519281\n",
              "2018-01-13 06:42:29  -1.129742\n",
              "2018-01-13 06:42:29   0.387831\n",
              "2018-01-13 06:42:29  -1.070758\n",
              "2018-01-13 06:42:30  -1.235070\n",
              "...                        ...\n",
              "2018-01-13 16:21:20  -0.048650\n",
              "2018-01-13 16:21:20   0.519281\n",
              "2018-01-13 16:21:20   0.013705\n",
              "2018-01-13 16:21:20  -0.491030\n",
              "2018-01-13 16:21:20  -0.089939\n",
              "\n",
              "[21763 rows x 1 columns]"
            ]
          },
          "metadata": {},
          "execution_count": 16
        }
      ]
    },
    {
      "cell_type": "code",
      "metadata": {
        "colab": {
          "base_uri": "https://localhost:8080/"
        },
        "id": "eh6XHa7igI0S",
        "outputId": "a74f27a3-78a8-421f-a469-826e4feeab7f"
      },
      "source": [
        "# Create sequences of T timesteps\n",
        "X_train, y_train = [], []\n",
        "for i in range(train_labels.shape[0] - (T-1)):\n",
        "    X_train.append(scaled_train_features.iloc[i:i+T].values)\n",
        "    y_train.append(train_labels.iloc[i + (T-1)])\n",
        "X_train, y_train = np.array(X_train), np.array(y_train).reshape(-1,1)\n",
        "print(f'Train data dimensions: {X_train.shape}, {y_train.shape}')\n",
        "\n",
        "X_test, y_test = [], []\n",
        "for i in range(test_labels.shape[0]):\n",
        "    X_test.append(scaled_test_features.iloc[i:i+T].values)\n",
        "    y_test.append(test_labels.iloc[i])\n",
        "X_test, y_test = np.array(X_test), np.array(y_test).reshape(-1,1)  \n",
        "\n",
        "print(f'Test data dimensions: {X_test.shape}, {y_test.shape}')"
      ],
      "execution_count": 17,
      "outputs": [
        {
          "output_type": "stream",
          "text": [
            "Train data dimensions: (86899, 30, 1), (86899, 1)\n",
            "Test data dimensions: (21734, 30, 1), (21734, 1)\n"
          ],
          "name": "stdout"
        }
      ]
    },
    {
      "cell_type": "code",
      "metadata": {
        "colab": {
          "base_uri": "https://localhost:8080/",
          "height": 417
        },
        "id": "oAbdrXadjTb4",
        "outputId": "787b3a3a-8b2c-418c-a078-99c679e1a02c"
      },
      "source": [
        "y_train = pd.DataFrame(y_train)\n",
        "y_train.head(102)"
      ],
      "execution_count": 18,
      "outputs": [
        {
          "output_type": "execute_result",
          "data": {
            "text/html": [
              "<div>\n",
              "<style scoped>\n",
              "    .dataframe tbody tr th:only-of-type {\n",
              "        vertical-align: middle;\n",
              "    }\n",
              "\n",
              "    .dataframe tbody tr th {\n",
              "        vertical-align: top;\n",
              "    }\n",
              "\n",
              "    .dataframe thead th {\n",
              "        text-align: right;\n",
              "    }\n",
              "</style>\n",
              "<table border=\"1\" class=\"dataframe\">\n",
              "  <thead>\n",
              "    <tr style=\"text-align: right;\">\n",
              "      <th></th>\n",
              "      <th>0</th>\n",
              "    </tr>\n",
              "  </thead>\n",
              "  <tbody>\n",
              "    <tr>\n",
              "      <th>0</th>\n",
              "      <td>Good</td>\n",
              "    </tr>\n",
              "    <tr>\n",
              "      <th>1</th>\n",
              "      <td>Good</td>\n",
              "    </tr>\n",
              "    <tr>\n",
              "      <th>2</th>\n",
              "      <td>Good</td>\n",
              "    </tr>\n",
              "    <tr>\n",
              "      <th>3</th>\n",
              "      <td>Good</td>\n",
              "    </tr>\n",
              "    <tr>\n",
              "      <th>4</th>\n",
              "      <td>Good</td>\n",
              "    </tr>\n",
              "    <tr>\n",
              "      <th>...</th>\n",
              "      <td>...</td>\n",
              "    </tr>\n",
              "    <tr>\n",
              "      <th>97</th>\n",
              "      <td>Good</td>\n",
              "    </tr>\n",
              "    <tr>\n",
              "      <th>98</th>\n",
              "      <td>Good</td>\n",
              "    </tr>\n",
              "    <tr>\n",
              "      <th>99</th>\n",
              "      <td>Good</td>\n",
              "    </tr>\n",
              "    <tr>\n",
              "      <th>100</th>\n",
              "      <td>Good</td>\n",
              "    </tr>\n",
              "    <tr>\n",
              "      <th>101</th>\n",
              "      <td>Interm.</td>\n",
              "    </tr>\n",
              "  </tbody>\n",
              "</table>\n",
              "<p>102 rows × 1 columns</p>\n",
              "</div>"
            ],
            "text/plain": [
              "           0\n",
              "0       Good\n",
              "1       Good\n",
              "2       Good\n",
              "3       Good\n",
              "4       Good\n",
              "..       ...\n",
              "97      Good\n",
              "98      Good\n",
              "99      Good\n",
              "100     Good\n",
              "101  Interm.\n",
              "\n",
              "[102 rows x 1 columns]"
            ]
          },
          "metadata": {},
          "execution_count": 18
        }
      ]
    },
    {
      "cell_type": "code",
      "metadata": {
        "id": "-uEHlS6ma-yH"
      },
      "source": [
        "y_train = pd.DataFrame(y_train)\n",
        "y_train = pd.get_dummies(y_train)"
      ],
      "execution_count": 19,
      "outputs": []
    },
    {
      "cell_type": "code",
      "metadata": {
        "colab": {
          "base_uri": "https://localhost:8080/",
          "height": 417
        },
        "id": "40WxiQPfCFuN",
        "outputId": "f49346c7-d9b7-4805-c4e5-fe5501eeecaf"
      },
      "source": [
        "y_train"
      ],
      "execution_count": 20,
      "outputs": [
        {
          "output_type": "execute_result",
          "data": {
            "text/html": [
              "<div>\n",
              "<style scoped>\n",
              "    .dataframe tbody tr th:only-of-type {\n",
              "        vertical-align: middle;\n",
              "    }\n",
              "\n",
              "    .dataframe tbody tr th {\n",
              "        vertical-align: top;\n",
              "    }\n",
              "\n",
              "    .dataframe thead th {\n",
              "        text-align: right;\n",
              "    }\n",
              "</style>\n",
              "<table border=\"1\" class=\"dataframe\">\n",
              "  <thead>\n",
              "    <tr style=\"text-align: right;\">\n",
              "      <th></th>\n",
              "      <th>0_Bad</th>\n",
              "      <th>0_Good</th>\n",
              "      <th>0_Interm.</th>\n",
              "    </tr>\n",
              "  </thead>\n",
              "  <tbody>\n",
              "    <tr>\n",
              "      <th>0</th>\n",
              "      <td>0</td>\n",
              "      <td>1</td>\n",
              "      <td>0</td>\n",
              "    </tr>\n",
              "    <tr>\n",
              "      <th>1</th>\n",
              "      <td>0</td>\n",
              "      <td>1</td>\n",
              "      <td>0</td>\n",
              "    </tr>\n",
              "    <tr>\n",
              "      <th>2</th>\n",
              "      <td>0</td>\n",
              "      <td>1</td>\n",
              "      <td>0</td>\n",
              "    </tr>\n",
              "    <tr>\n",
              "      <th>3</th>\n",
              "      <td>0</td>\n",
              "      <td>1</td>\n",
              "      <td>0</td>\n",
              "    </tr>\n",
              "    <tr>\n",
              "      <th>4</th>\n",
              "      <td>0</td>\n",
              "      <td>1</td>\n",
              "      <td>0</td>\n",
              "    </tr>\n",
              "    <tr>\n",
              "      <th>...</th>\n",
              "      <td>...</td>\n",
              "      <td>...</td>\n",
              "      <td>...</td>\n",
              "    </tr>\n",
              "    <tr>\n",
              "      <th>86894</th>\n",
              "      <td>0</td>\n",
              "      <td>1</td>\n",
              "      <td>0</td>\n",
              "    </tr>\n",
              "    <tr>\n",
              "      <th>86895</th>\n",
              "      <td>0</td>\n",
              "      <td>1</td>\n",
              "      <td>0</td>\n",
              "    </tr>\n",
              "    <tr>\n",
              "      <th>86896</th>\n",
              "      <td>0</td>\n",
              "      <td>1</td>\n",
              "      <td>0</td>\n",
              "    </tr>\n",
              "    <tr>\n",
              "      <th>86897</th>\n",
              "      <td>0</td>\n",
              "      <td>1</td>\n",
              "      <td>0</td>\n",
              "    </tr>\n",
              "    <tr>\n",
              "      <th>86898</th>\n",
              "      <td>0</td>\n",
              "      <td>1</td>\n",
              "      <td>0</td>\n",
              "    </tr>\n",
              "  </tbody>\n",
              "</table>\n",
              "<p>86899 rows × 3 columns</p>\n",
              "</div>"
            ],
            "text/plain": [
              "       0_Bad  0_Good  0_Interm.\n",
              "0          0       1          0\n",
              "1          0       1          0\n",
              "2          0       1          0\n",
              "3          0       1          0\n",
              "4          0       1          0\n",
              "...      ...     ...        ...\n",
              "86894      0       1          0\n",
              "86895      0       1          0\n",
              "86896      0       1          0\n",
              "86897      0       1          0\n",
              "86898      0       1          0\n",
              "\n",
              "[86899 rows x 3 columns]"
            ]
          },
          "metadata": {},
          "execution_count": 20
        }
      ]
    },
    {
      "cell_type": "code",
      "metadata": {
        "colab": {
          "base_uri": "https://localhost:8080/"
        },
        "id": "GVv1nCfst7QA",
        "outputId": "6df498f6-61ee-4752-f331-d7bae622844a"
      },
      "source": [
        "y_train = np.array(y_train)\n",
        "print(y_train.shape)\n",
        "y_train"
      ],
      "execution_count": 21,
      "outputs": [
        {
          "output_type": "stream",
          "text": [
            "(86899, 3)\n"
          ],
          "name": "stdout"
        },
        {
          "output_type": "execute_result",
          "data": {
            "text/plain": [
              "array([[0, 1, 0],\n",
              "       [0, 1, 0],\n",
              "       [0, 1, 0],\n",
              "       ...,\n",
              "       [0, 1, 0],\n",
              "       [0, 1, 0],\n",
              "       [0, 1, 0]], dtype=uint8)"
            ]
          },
          "metadata": {},
          "execution_count": 21
        }
      ]
    },
    {
      "cell_type": "code",
      "metadata": {
        "colab": {
          "base_uri": "https://localhost:8080/",
          "height": 417
        },
        "id": "PZbrOn4BbyNf",
        "outputId": "f6d1ca54-65b1-4999-f185-1099f692c73c"
      },
      "source": [
        "y_test = pd.DataFrame(y_test)\n",
        "y_test = pd.get_dummies(y_test)\n",
        "y_test "
      ],
      "execution_count": 22,
      "outputs": [
        {
          "output_type": "execute_result",
          "data": {
            "text/html": [
              "<div>\n",
              "<style scoped>\n",
              "    .dataframe tbody tr th:only-of-type {\n",
              "        vertical-align: middle;\n",
              "    }\n",
              "\n",
              "    .dataframe tbody tr th {\n",
              "        vertical-align: top;\n",
              "    }\n",
              "\n",
              "    .dataframe thead th {\n",
              "        text-align: right;\n",
              "    }\n",
              "</style>\n",
              "<table border=\"1\" class=\"dataframe\">\n",
              "  <thead>\n",
              "    <tr style=\"text-align: right;\">\n",
              "      <th></th>\n",
              "      <th>0_Bad</th>\n",
              "      <th>0_Good</th>\n",
              "      <th>0_Interm.</th>\n",
              "    </tr>\n",
              "  </thead>\n",
              "  <tbody>\n",
              "    <tr>\n",
              "      <th>0</th>\n",
              "      <td>0</td>\n",
              "      <td>1</td>\n",
              "      <td>0</td>\n",
              "    </tr>\n",
              "    <tr>\n",
              "      <th>1</th>\n",
              "      <td>0</td>\n",
              "      <td>1</td>\n",
              "      <td>0</td>\n",
              "    </tr>\n",
              "    <tr>\n",
              "      <th>2</th>\n",
              "      <td>0</td>\n",
              "      <td>1</td>\n",
              "      <td>0</td>\n",
              "    </tr>\n",
              "    <tr>\n",
              "      <th>3</th>\n",
              "      <td>0</td>\n",
              "      <td>0</td>\n",
              "      <td>1</td>\n",
              "    </tr>\n",
              "    <tr>\n",
              "      <th>4</th>\n",
              "      <td>1</td>\n",
              "      <td>0</td>\n",
              "      <td>0</td>\n",
              "    </tr>\n",
              "    <tr>\n",
              "      <th>...</th>\n",
              "      <td>...</td>\n",
              "      <td>...</td>\n",
              "      <td>...</td>\n",
              "    </tr>\n",
              "    <tr>\n",
              "      <th>21729</th>\n",
              "      <td>0</td>\n",
              "      <td>1</td>\n",
              "      <td>0</td>\n",
              "    </tr>\n",
              "    <tr>\n",
              "      <th>21730</th>\n",
              "      <td>0</td>\n",
              "      <td>1</td>\n",
              "      <td>0</td>\n",
              "    </tr>\n",
              "    <tr>\n",
              "      <th>21731</th>\n",
              "      <td>0</td>\n",
              "      <td>1</td>\n",
              "      <td>0</td>\n",
              "    </tr>\n",
              "    <tr>\n",
              "      <th>21732</th>\n",
              "      <td>0</td>\n",
              "      <td>1</td>\n",
              "      <td>0</td>\n",
              "    </tr>\n",
              "    <tr>\n",
              "      <th>21733</th>\n",
              "      <td>0</td>\n",
              "      <td>1</td>\n",
              "      <td>0</td>\n",
              "    </tr>\n",
              "  </tbody>\n",
              "</table>\n",
              "<p>21734 rows × 3 columns</p>\n",
              "</div>"
            ],
            "text/plain": [
              "       0_Bad  0_Good  0_Interm.\n",
              "0          0       1          0\n",
              "1          0       1          0\n",
              "2          0       1          0\n",
              "3          0       0          1\n",
              "4          1       0          0\n",
              "...      ...     ...        ...\n",
              "21729      0       1          0\n",
              "21730      0       1          0\n",
              "21731      0       1          0\n",
              "21732      0       1          0\n",
              "21733      0       1          0\n",
              "\n",
              "[21734 rows x 3 columns]"
            ]
          },
          "metadata": {},
          "execution_count": 22
        }
      ]
    },
    {
      "cell_type": "code",
      "metadata": {
        "colab": {
          "base_uri": "https://localhost:8080/"
        },
        "id": "Nx62rfILuV4F",
        "outputId": "0657e640-4e0a-4dd7-91aa-d975b2eecc3d"
      },
      "source": [
        "y_test = np.array(y_test)\n",
        "print(y_test.shape)\n",
        "y_test"
      ],
      "execution_count": 23,
      "outputs": [
        {
          "output_type": "stream",
          "text": [
            "(21734, 3)\n"
          ],
          "name": "stdout"
        },
        {
          "output_type": "execute_result",
          "data": {
            "text/plain": [
              "array([[0, 1, 0],\n",
              "       [0, 1, 0],\n",
              "       [0, 1, 0],\n",
              "       ...,\n",
              "       [0, 1, 0],\n",
              "       [0, 1, 0],\n",
              "       [0, 1, 0]], dtype=uint8)"
            ]
          },
          "metadata": {},
          "execution_count": 23
        }
      ]
    },
    {
      "cell_type": "code",
      "metadata": {
        "colab": {
          "base_uri": "https://localhost:8080/"
        },
        "id": "DrA2JNjEcVcD",
        "outputId": "e9a3b471-65c0-47da-c861-c911aa9c0fb6"
      },
      "source": [
        "print(X_train.shape)\n",
        "print(X_test.shape)\n",
        "print(y_train.shape)\n",
        "print(y_test.shape)\n"
      ],
      "execution_count": 24,
      "outputs": [
        {
          "output_type": "stream",
          "text": [
            "(86899, 30, 1)\n",
            "(21734, 30, 1)\n",
            "(86899, 3)\n",
            "(21734, 3)\n"
          ],
          "name": "stdout"
        }
      ]
    },
    {
      "cell_type": "code",
      "metadata": {
        "colab": {
          "base_uri": "https://localhost:8080/"
        },
        "id": "DTkMqE--z225",
        "outputId": "1b1e3354-6bac-44ac-c186-435003edb7f8"
      },
      "source": [
        "T"
      ],
      "execution_count": 25,
      "outputs": [
        {
          "output_type": "execute_result",
          "data": {
            "text/plain": [
              "30"
            ]
          },
          "metadata": {},
          "execution_count": 25
        }
      ]
    },
    {
      "cell_type": "code",
      "metadata": {
        "id": "WAH4Zeb6deSd"
      },
      "source": [
        "from keras.models import Sequential\n",
        "from keras.layers import Dense, LSTM, BatchNormalization,Bidirectional\n",
        "from time import time"
      ],
      "execution_count": 26,
      "outputs": []
    },
    {
      "cell_type": "code",
      "metadata": {
        "colab": {
          "base_uri": "https://localhost:8080/"
        },
        "id": "rttR71VrdZbn",
        "outputId": "e23d0868-aa5d-4a9f-8144-4881924187fc"
      },
      "source": [
        "# Let's make a list of CONSTANTS for modelling:\n",
        "LAYERS = [8, 8, 8, 3]                # number of units in hidden and output layers\n",
        "M_TRAIN = X_train.shape[0]           # number of training examples (2D)\n",
        "M_TEST = X_test.shape[0]             # number of test examples (2D),full=X_test.shape[0]\n",
        "N = X_train.shape[2]                 # number of features\n",
        "BATCH = M_TRAIN                          # batch size\n",
        "EPOCH =  15                        # number of epochs\n",
        "DP = 0.0                             # dropout rate\n",
        "RDP = 0.0                            # recurrent dropout rate\n",
        "print(f'layers={LAYERS}, train_examples={M_TRAIN}, test_examples={M_TEST}')\n",
        "print(f'batch = {BATCH}, timesteps = {T}, features = {N}, epochs = {EPOCH}')\n",
        "print(f'dropout = {DP}, recurr_dropout = {RDP}')\n",
        "\n",
        "# Build the Model\n",
        "model = Sequential()\n",
        "model.add(Bidirectional(LSTM(input_shape=(T, N), units=LAYERS[0],\n",
        "               activation='tanh', recurrent_activation='sigmoid',\n",
        "               kernel_regularizer=None, recurrent_regularizer=None,\n",
        "               return_sequences=True, recurrent_dropout=RDP, dropout=DP\n",
        "               )))\n",
        "\n",
        "model.add(BatchNormalization())\n",
        "model.add(Bidirectional(LSTM(units=LAYERS[1],\n",
        "               activation='tanh', recurrent_activation='sigmoid',\n",
        "               kernel_regularizer=None, recurrent_regularizer=None,\n",
        "               return_sequences=True, recurrent_dropout=RDP, dropout=DP\n",
        "               )))\n",
        "\n",
        "model.add(BatchNormalization())\n",
        "model.add(Bidirectional(LSTM(units=LAYERS[2],\n",
        "               activation='tanh', recurrent_activation='sigmoid',\n",
        "               kernel_regularizer=None, recurrent_regularizer=None,\n",
        "               return_sequences=False, recurrent_dropout=RDP, dropout=DP\n",
        "               )))\n",
        "\n",
        "model.add(BatchNormalization())\n",
        "model.add(Dense(units=LAYERS[3], activation='softmax'))\n",
        "\n"
      ],
      "execution_count": 27,
      "outputs": [
        {
          "output_type": "stream",
          "text": [
            "layers=[8, 8, 8, 3], train_examples=86899, test_examples=21734\n",
            "batch = 86899, timesteps = 30, features = 1, epochs = 15\n",
            "dropout = 0.0, recurr_dropout = 0.0\n"
          ],
          "name": "stdout"
        }
      ]
    },
    {
      "cell_type": "code",
      "metadata": {
        "id": "XOQXN77PI-jU"
      },
      "source": [
        "# Compile the model with Adam optimizer\n",
        "model.compile(loss='categorical_crossentropy',\n",
        "              metrics=['accuracy'],\n",
        "              optimizer='adam')"
      ],
      "execution_count": 28,
      "outputs": []
    },
    {
      "cell_type": "code",
      "metadata": {
        "colab": {
          "base_uri": "https://localhost:8080/"
        },
        "id": "bv55kA8nI_Oq",
        "outputId": "33c55b00-cf43-4c28-f9c0-5cb3ee174d66"
      },
      "source": [
        "# Train the model. \n",
        "# The dataset is small for NN - let's use test_data for validation\n",
        "start = time()\n",
        "History = model.fit(X_train, y_train,\n",
        "                    epochs=EPOCH,\n",
        "                    validation_split=0.0,\n",
        "                    validation_data=(X_test[:M_TEST], y_test[:M_TEST]),\n",
        "                    verbose=2)\n",
        "\n",
        "print('-'*65)\n",
        "print(f'Training was completed in {time() - start:.2f} secs')\n",
        "print('-'*65)\n",
        "# Evaluate the model:\n",
        "train_loss, train_acc = model.evaluate(X_train, y_train,\n",
        "                                       batch_size=M_TRAIN, verbose=1)\n",
        "test_loss, test_acc = model.evaluate(X_test[:M_TEST], y_test[:M_TEST],\n",
        "                                     batch_size=M_TEST, verbose=1)\n",
        "print('-'*65)\n",
        "print(f'train accuracy = {round(train_acc * 100, 4)}%')\n",
        "print(f'test accuracy = {round(test_acc * 100, 4)}%')\n",
        "print(f'test error = {round((1 - test_acc) * M_TEST)} out of {M_TEST} examples')\n"
      ],
      "execution_count": 29,
      "outputs": [
        {
          "output_type": "stream",
          "text": [
            "Epoch 1/15\n",
            "2716/2716 - 157s - loss: 0.1578 - accuracy: 0.9383 - val_loss: 0.0691 - val_accuracy: 0.9666\n",
            "Epoch 2/15\n",
            "2716/2716 - 140s - loss: 0.0499 - accuracy: 0.9800 - val_loss: 0.0180 - val_accuracy: 0.9938\n",
            "Epoch 3/15\n",
            "2716/2716 - 140s - loss: 0.0414 - accuracy: 0.9837 - val_loss: 0.0194 - val_accuracy: 0.9941\n",
            "Epoch 4/15\n",
            "2716/2716 - 139s - loss: 0.0357 - accuracy: 0.9865 - val_loss: 0.0174 - val_accuracy: 0.9922\n",
            "Epoch 5/15\n",
            "2716/2716 - 139s - loss: 0.0351 - accuracy: 0.9854 - val_loss: 0.0270 - val_accuracy: 0.9870\n",
            "Epoch 6/15\n",
            "2716/2716 - 140s - loss: 0.0307 - accuracy: 0.9877 - val_loss: 0.0454 - val_accuracy: 0.9815\n",
            "Epoch 7/15\n",
            "2716/2716 - 140s - loss: 0.0290 - accuracy: 0.9884 - val_loss: 0.0112 - val_accuracy: 0.9965\n",
            "Epoch 8/15\n",
            "2716/2716 - 140s - loss: 0.0269 - accuracy: 0.9893 - val_loss: 0.0119 - val_accuracy: 0.9949\n",
            "Epoch 9/15\n",
            "2716/2716 - 141s - loss: 0.0254 - accuracy: 0.9895 - val_loss: 0.0133 - val_accuracy: 0.9939\n",
            "Epoch 10/15\n",
            "2716/2716 - 140s - loss: 0.0251 - accuracy: 0.9898 - val_loss: 0.0112 - val_accuracy: 0.9960\n",
            "Epoch 11/15\n",
            "2716/2716 - 142s - loss: 0.0256 - accuracy: 0.9902 - val_loss: 0.0329 - val_accuracy: 0.9844\n",
            "Epoch 12/15\n",
            "2716/2716 - 143s - loss: 0.0213 - accuracy: 0.9914 - val_loss: 0.0088 - val_accuracy: 0.9967\n",
            "Epoch 13/15\n",
            "2716/2716 - 142s - loss: 0.0221 - accuracy: 0.9910 - val_loss: 0.0096 - val_accuracy: 0.9970\n",
            "Epoch 14/15\n",
            "2716/2716 - 140s - loss: 0.0224 - accuracy: 0.9907 - val_loss: 0.0096 - val_accuracy: 0.9969\n",
            "Epoch 15/15\n",
            "2716/2716 - 141s - loss: 0.0199 - accuracy: 0.9918 - val_loss: 0.0093 - val_accuracy: 0.9972\n",
            "-----------------------------------------------------------------\n",
            "Training was completed in 2135.34 secs\n",
            "-----------------------------------------------------------------\n",
            "1/1 [==============================] - 3s 3s/step - loss: 0.0097 - accuracy: 0.9978\n",
            "1/1 [==============================] - 2s 2s/step - loss: 0.0093 - accuracy: 0.9972\n",
            "-----------------------------------------------------------------\n",
            "train accuracy = 99.7848%\n",
            "test accuracy = 99.7239%\n",
            "test error = 60 out of 21734 examples\n"
          ],
          "name": "stdout"
        }
      ]
    },
    {
      "cell_type": "code",
      "metadata": {
        "colab": {
          "base_uri": "https://localhost:8080/",
          "height": 390
        },
        "id": "y4xgqhF6i2Gf",
        "outputId": "aa1f6853-c948-46d9-c93d-3e2a5b8416e5"
      },
      "source": [
        "# Plot the loss and accuracy curves over epochs:\n",
        "fig, axs = plt.subplots(nrows=1, ncols=2, figsize=(18,6))\n",
        "axs[0].plot(History.history['loss'], color='b', label='Training loss')\n",
        "axs[0].plot(History.history['val_loss'], color='r', label='Validation loss')\n",
        "axs[0].set_title(\"Loss curves\")\n",
        "axs[0].legend(loc='best', shadow=True)\n",
        "axs[1].plot(History.history['accuracy'], color='b', label='Training accuracy')\n",
        "axs[1].plot(History.history['val_accuracy'], color='r', label='Validation accuracy')\n",
        "axs[1].set_title(\"Accuracy curves\")\n",
        "axs[1].legend(loc='best', shadow=True)\n",
        "plt.show()"
      ],
      "execution_count": 30,
      "outputs": [
        {
          "output_type": "display_data",
          "data": {
            "image/png": "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\n",
            "text/plain": [
              "<Figure size 1296x432 with 2 Axes>"
            ]
          },
          "metadata": {
            "needs_background": "light"
          }
        }
      ]
    },
    {
      "cell_type": "code",
      "metadata": {
        "id": "Itdi510wvPWg"
      },
      "source": [
        "#model.compile(optimizer='adam',loss='categorical_crossentropy',metrics=['accuracy'])"
      ],
      "execution_count": 31,
      "outputs": []
    },
    {
      "cell_type": "code",
      "metadata": {
        "id": "YO0uko0CXh_l"
      },
      "source": [
        "#history  = model.fit(X_train,y_train,epochs=2,batch_size=32,validation_data=(X_test,y_test))"
      ],
      "execution_count": 32,
      "outputs": []
    },
    {
      "cell_type": "code",
      "metadata": {
        "id": "3KrP9ssxfKBT"
      },
      "source": [
        "#model.evaluate(X_test,y_test)"
      ],
      "execution_count": 33,
      "outputs": []
    },
    {
      "cell_type": "code",
      "metadata": {
        "id": "RigLN-rlhdcr"
      },
      "source": [
        "#y_pred = model.predict(X_test)"
      ],
      "execution_count": 34,
      "outputs": []
    },
    {
      "cell_type": "code",
      "metadata": {
        "id": "7GiurpHjfVFx"
      },
      "source": [
        "#y_pred"
      ],
      "execution_count": 35,
      "outputs": []
    },
    {
      "cell_type": "code",
      "metadata": {
        "id": "YWbo130IiOwI"
      },
      "source": [
        "#predict_class = np.argmax(y_pred, axis=1)\n",
        "#predict_class = predict_class"
      ],
      "execution_count": 36,
      "outputs": []
    },
    {
      "cell_type": "code",
      "metadata": {
        "id": "9bhktn1riOzQ"
      },
      "source": [
        "#predict_class"
      ],
      "execution_count": 37,
      "outputs": []
    },
    {
      "cell_type": "code",
      "metadata": {
        "id": "lLFxK0fd_17I"
      },
      "source": [
        "#from sklearn.neighbors import KNeighborsClassifier\n",
        "#classifier = KNeighborsClassifier(n_neighbors = 5, metric = 'minkowski', p = 2)\n",
        "#classifier.fit(X_train, y_train)"
      ],
      "execution_count": 38,
      "outputs": []
    },
    {
      "cell_type": "code",
      "metadata": {
        "id": "8LDusYD2EpBj"
      },
      "source": [
        "#y_pred = np.array(y_train)\n",
        "#y_test = np.array(y_test)"
      ],
      "execution_count": 39,
      "outputs": []
    },
    {
      "cell_type": "code",
      "metadata": {
        "id": "Qu1gFROFEb5O"
      },
      "source": [
        "#y_pred = classifier.predict(X_test)\n",
        "#print(np.concatenate((y_pred.reshape(len(y_pred),1), y_test.reshape(len(y_test),1)),1))"
      ],
      "execution_count": 40,
      "outputs": []
    },
    {
      "cell_type": "code",
      "metadata": {
        "id": "kzzM-s1fE3z2"
      },
      "source": [
        "#from sklearn.metrics import accuracy_score,confusion_matrix,classification_report\n",
        "#conf = confusion_matrix(y_pred,y_test)\n",
        "#acc = accuracy_score(y_pred,y_test)\n",
        "#report = classification_report(y_pred,y_test)"
      ],
      "execution_count": 41,
      "outputs": []
    },
    {
      "cell_type": "code",
      "metadata": {
        "id": "sMFVF9xUE-r1"
      },
      "source": [
        "#print(report)"
      ],
      "execution_count": 42,
      "outputs": []
    },
    {
      "cell_type": "code",
      "metadata": {
        "colab": {
          "base_uri": "https://localhost:8080/"
        },
        "id": "BZ-sXEy9jAfu",
        "outputId": "a5ff376a-b718-4eea-82a7-e78c6ccf327d"
      },
      "source": [
        "y_test"
      ],
      "execution_count": 46,
      "outputs": [
        {
          "output_type": "execute_result",
          "data": {
            "text/plain": [
              "array([1, 1, 1, ..., 1, 1, 1])"
            ]
          },
          "metadata": {},
          "execution_count": 46
        }
      ]
    },
    {
      "cell_type": "code",
      "metadata": {
        "colab": {
          "base_uri": "https://localhost:8080/"
        },
        "id": "CL7PydRRp8ze",
        "outputId": "e049bed4-17b2-4d77-b0aa-ba7c92b8bf5f"
      },
      "source": [
        "y_test = pd.DataFrame(y_test)\n",
        "y_test=np.argmax(y_test.iloc[:,:].values, axis=1)\n",
        "y_test"
      ],
      "execution_count": 44,
      "outputs": [
        {
          "output_type": "execute_result",
          "data": {
            "text/plain": [
              "array([1, 1, 1, ..., 1, 1, 1])"
            ]
          },
          "metadata": {},
          "execution_count": 44
        }
      ]
    },
    {
      "cell_type": "code",
      "metadata": {
        "colab": {
          "base_uri": "https://localhost:8080/",
          "height": 572
        },
        "id": "i2QDYPesE_sg",
        "outputId": "6177a083-38a5-4352-d090-5f16e2de0ddf"
      },
      "source": [
        "y_pred = np.argmax(model.predict(X_test, batch_size=M_TEST, verbose=1),axis=-1)\n",
        "score = sum(y_pred == y_test) / len(y_test)\n",
        "print(f'Prediction accuracy = {score*100}%')\n",
        "index = pd.date_range(start='2018-01-13 06:43:02', end='2018-01-13 16:21:20', freq='H')\n",
        "for i in range(y_pred.shape[0]):\n",
        "    print(index[i], y_pred[i], y_test[i])"
      ],
      "execution_count": 47,
      "outputs": [
        {
          "output_type": "stream",
          "text": [
            "1/1 [==============================] - 0s 24ms/step\n",
            "Prediction accuracy = 99.72393484862427%\n",
            "2018-01-13 06:43:02 1 1\n",
            "2018-01-13 07:43:02 1 1\n",
            "2018-01-13 08:43:02 1 1\n",
            "2018-01-13 09:43:02 2 2\n",
            "2018-01-13 10:43:02 0 0\n",
            "2018-01-13 11:43:02 2 2\n",
            "2018-01-13 12:43:02 2 2\n",
            "2018-01-13 13:43:02 2 2\n",
            "2018-01-13 14:43:02 1 1\n",
            "2018-01-13 15:43:02 1 1\n"
          ],
          "name": "stdout"
        },
        {
          "output_type": "error",
          "ename": "IndexError",
          "evalue": "ignored",
          "traceback": [
            "\u001b[0;31m---------------------------------------------------------------------------\u001b[0m",
            "\u001b[0;31mIndexError\u001b[0m                                Traceback (most recent call last)",
            "\u001b[0;32m<ipython-input-47-2a11e4030f74>\u001b[0m in \u001b[0;36m<module>\u001b[0;34m()\u001b[0m\n\u001b[1;32m      4\u001b[0m \u001b[0mindex\u001b[0m \u001b[0;34m=\u001b[0m \u001b[0mpd\u001b[0m\u001b[0;34m.\u001b[0m\u001b[0mdate_range\u001b[0m\u001b[0;34m(\u001b[0m\u001b[0mstart\u001b[0m\u001b[0;34m=\u001b[0m\u001b[0;34m'2018-01-13 06:43:02'\u001b[0m\u001b[0;34m,\u001b[0m \u001b[0mend\u001b[0m\u001b[0;34m=\u001b[0m\u001b[0;34m'2018-01-13 16:21:20'\u001b[0m\u001b[0;34m,\u001b[0m \u001b[0mfreq\u001b[0m\u001b[0;34m=\u001b[0m\u001b[0;34m'H'\u001b[0m\u001b[0;34m)\u001b[0m\u001b[0;34m\u001b[0m\u001b[0;34m\u001b[0m\u001b[0m\n\u001b[1;32m      5\u001b[0m \u001b[0;32mfor\u001b[0m \u001b[0mi\u001b[0m \u001b[0;32min\u001b[0m \u001b[0mrange\u001b[0m\u001b[0;34m(\u001b[0m\u001b[0my_pred\u001b[0m\u001b[0;34m.\u001b[0m\u001b[0mshape\u001b[0m\u001b[0;34m[\u001b[0m\u001b[0;36m0\u001b[0m\u001b[0;34m]\u001b[0m\u001b[0;34m)\u001b[0m\u001b[0;34m:\u001b[0m\u001b[0;34m\u001b[0m\u001b[0;34m\u001b[0m\u001b[0m\n\u001b[0;32m----> 6\u001b[0;31m     \u001b[0mprint\u001b[0m\u001b[0;34m(\u001b[0m\u001b[0mindex\u001b[0m\u001b[0;34m[\u001b[0m\u001b[0mi\u001b[0m\u001b[0;34m]\u001b[0m\u001b[0;34m,\u001b[0m \u001b[0my_pred\u001b[0m\u001b[0;34m[\u001b[0m\u001b[0mi\u001b[0m\u001b[0;34m]\u001b[0m\u001b[0;34m,\u001b[0m \u001b[0my_test\u001b[0m\u001b[0;34m[\u001b[0m\u001b[0mi\u001b[0m\u001b[0;34m]\u001b[0m\u001b[0;34m)\u001b[0m\u001b[0;34m\u001b[0m\u001b[0;34m\u001b[0m\u001b[0m\n\u001b[0m",
            "\u001b[0;32m/usr/local/lib/python3.7/dist-packages/pandas/core/indexes/extension.py\u001b[0m in \u001b[0;36m__getitem__\u001b[0;34m(self, key)\u001b[0m\n\u001b[1;32m    213\u001b[0m \u001b[0;34m\u001b[0m\u001b[0m\n\u001b[1;32m    214\u001b[0m     \u001b[0;32mdef\u001b[0m \u001b[0m__getitem__\u001b[0m\u001b[0;34m(\u001b[0m\u001b[0mself\u001b[0m\u001b[0;34m,\u001b[0m \u001b[0mkey\u001b[0m\u001b[0;34m)\u001b[0m\u001b[0;34m:\u001b[0m\u001b[0;34m\u001b[0m\u001b[0;34m\u001b[0m\u001b[0m\n\u001b[0;32m--> 215\u001b[0;31m         \u001b[0mresult\u001b[0m \u001b[0;34m=\u001b[0m \u001b[0mself\u001b[0m\u001b[0;34m.\u001b[0m\u001b[0m_data\u001b[0m\u001b[0;34m[\u001b[0m\u001b[0mkey\u001b[0m\u001b[0;34m]\u001b[0m\u001b[0;34m\u001b[0m\u001b[0;34m\u001b[0m\u001b[0m\n\u001b[0m\u001b[1;32m    216\u001b[0m         \u001b[0;32mif\u001b[0m \u001b[0misinstance\u001b[0m\u001b[0;34m(\u001b[0m\u001b[0mresult\u001b[0m\u001b[0;34m,\u001b[0m \u001b[0mtype\u001b[0m\u001b[0;34m(\u001b[0m\u001b[0mself\u001b[0m\u001b[0;34m.\u001b[0m\u001b[0m_data\u001b[0m\u001b[0;34m)\u001b[0m\u001b[0;34m)\u001b[0m\u001b[0;34m:\u001b[0m\u001b[0;34m\u001b[0m\u001b[0;34m\u001b[0m\u001b[0m\n\u001b[1;32m    217\u001b[0m             \u001b[0;32mif\u001b[0m \u001b[0mresult\u001b[0m\u001b[0;34m.\u001b[0m\u001b[0mndim\u001b[0m \u001b[0;34m==\u001b[0m \u001b[0;36m1\u001b[0m\u001b[0;34m:\u001b[0m\u001b[0;34m\u001b[0m\u001b[0;34m\u001b[0m\u001b[0m\n",
            "\u001b[0;32m/usr/local/lib/python3.7/dist-packages/pandas/core/arrays/datetimelike.py\u001b[0m in \u001b[0;36m__getitem__\u001b[0;34m(self, key)\u001b[0m\n\u001b[1;32m    536\u001b[0m         \u001b[0;32mif\u001b[0m \u001b[0mlib\u001b[0m\u001b[0;34m.\u001b[0m\u001b[0mis_integer\u001b[0m\u001b[0;34m(\u001b[0m\u001b[0mkey\u001b[0m\u001b[0;34m)\u001b[0m\u001b[0;34m:\u001b[0m\u001b[0;34m\u001b[0m\u001b[0;34m\u001b[0m\u001b[0m\n\u001b[1;32m    537\u001b[0m             \u001b[0;31m# fast-path\u001b[0m\u001b[0;34m\u001b[0m\u001b[0;34m\u001b[0m\u001b[0;34m\u001b[0m\u001b[0m\n\u001b[0;32m--> 538\u001b[0;31m             \u001b[0mresult\u001b[0m \u001b[0;34m=\u001b[0m \u001b[0mself\u001b[0m\u001b[0;34m.\u001b[0m\u001b[0m_data\u001b[0m\u001b[0;34m[\u001b[0m\u001b[0mkey\u001b[0m\u001b[0;34m]\u001b[0m\u001b[0;34m\u001b[0m\u001b[0;34m\u001b[0m\u001b[0m\n\u001b[0m\u001b[1;32m    539\u001b[0m             \u001b[0;32mif\u001b[0m \u001b[0mself\u001b[0m\u001b[0;34m.\u001b[0m\u001b[0mndim\u001b[0m \u001b[0;34m==\u001b[0m \u001b[0;36m1\u001b[0m\u001b[0;34m:\u001b[0m\u001b[0;34m\u001b[0m\u001b[0;34m\u001b[0m\u001b[0m\n\u001b[1;32m    540\u001b[0m                 \u001b[0;32mreturn\u001b[0m \u001b[0mself\u001b[0m\u001b[0;34m.\u001b[0m\u001b[0m_box_func\u001b[0m\u001b[0;34m(\u001b[0m\u001b[0mresult\u001b[0m\u001b[0;34m)\u001b[0m\u001b[0;34m\u001b[0m\u001b[0;34m\u001b[0m\u001b[0m\n",
            "\u001b[0;31mIndexError\u001b[0m: index 10 is out of bounds for axis 0 with size 10"
          ]
        }
      ]
    },
    {
      "cell_type": "code",
      "metadata": {
        "colab": {
          "base_uri": "https://localhost:8080/"
        },
        "id": "R1jSNS81ZWLI",
        "outputId": "cee80d6d-2bd1-4df6-852c-a2cbb742ed1e"
      },
      "source": [
        "y_test"
      ],
      "execution_count": 48,
      "outputs": [
        {
          "output_type": "execute_result",
          "data": {
            "text/plain": [
              "array([1, 1, 1, ..., 1, 1, 1])"
            ]
          },
          "metadata": {},
          "execution_count": 48
        }
      ]
    },
    {
      "cell_type": "code",
      "metadata": {
        "colab": {
          "base_uri": "https://localhost:8080/"
        },
        "id": "ZADVcpkgZYsz",
        "outputId": "7c8228fb-5758-4dfb-b432-43ae85421c62"
      },
      "source": [
        "y_pred"
      ],
      "execution_count": 49,
      "outputs": [
        {
          "output_type": "execute_result",
          "data": {
            "text/plain": [
              "array([1, 1, 1, ..., 1, 1, 1])"
            ]
          },
          "metadata": {},
          "execution_count": 49
        }
      ]
    },
    {
      "cell_type": "code",
      "metadata": {
        "id": "o3IBez-TF0Cn"
      },
      "source": [
        "from sklearn.metrics import accuracy_score,confusion_matrix,classification_report\n",
        "conf = confusion_matrix(y_pred,y_test)\n",
        "acc = accuracy_score(y_pred,y_test)*100\n",
        "report = classification_report(y_pred,y_test)"
      ],
      "execution_count": 50,
      "outputs": []
    },
    {
      "cell_type": "code",
      "metadata": {
        "colab": {
          "base_uri": "https://localhost:8080/"
        },
        "id": "soAQkpg4famb",
        "outputId": "510930b1-38ac-4d72-bd12-821fd725e0a5"
      },
      "source": [
        "print(conf)"
      ],
      "execution_count": 51,
      "outputs": [
        {
          "output_type": "stream",
          "text": [
            "[[ 1904     0    24]\n",
            " [    0 15694     3]\n",
            " [   15    18  4076]]\n"
          ],
          "name": "stdout"
        }
      ]
    },
    {
      "cell_type": "code",
      "metadata": {
        "colab": {
          "base_uri": "https://localhost:8080/"
        },
        "id": "euxQwS5-fgRX",
        "outputId": "04e4136e-bb63-4dbf-c037-1f503df315cf"
      },
      "source": [
        "print(f'{acc:.2f} %')"
      ],
      "execution_count": 52,
      "outputs": [
        {
          "output_type": "stream",
          "text": [
            "99.72 %\n"
          ],
          "name": "stdout"
        }
      ]
    },
    {
      "cell_type": "code",
      "metadata": {
        "id": "MGNPNI5yfii3",
        "colab": {
          "base_uri": "https://localhost:8080/"
        },
        "outputId": "d33b135b-1b89-468c-8beb-829307ff0d32"
      },
      "source": [
        "print(report)"
      ],
      "execution_count": 53,
      "outputs": [
        {
          "output_type": "stream",
          "text": [
            "              precision    recall  f1-score   support\n",
            "\n",
            "           0       0.99      0.99      0.99      1928\n",
            "           1       1.00      1.00      1.00     15697\n",
            "           2       0.99      0.99      0.99      4109\n",
            "\n",
            "    accuracy                           1.00     21734\n",
            "   macro avg       0.99      0.99      0.99     21734\n",
            "weighted avg       1.00      1.00      1.00     21734\n",
            "\n"
          ],
          "name": "stdout"
        }
      ]
    },
    {
      "cell_type": "code",
      "metadata": {
        "id": "OKLKb2xo0tjn"
      },
      "source": [
        "y_pred = y_pred.astype(object)\n",
        "y_pred[y_pred==0] = 'Bad'\n",
        "y_pred[y_pred==1] = 'Good'\n",
        "y_pred[y_pred==2] = 'Interm'"
      ],
      "execution_count": 54,
      "outputs": []
    },
    {
      "cell_type": "code",
      "metadata": {
        "colab": {
          "base_uri": "https://localhost:8080/"
        },
        "id": "_hPi6kqj14QR",
        "outputId": "1c6a47d3-a74c-453f-be59-5247143b41b8"
      },
      "source": [
        "y_pred"
      ],
      "execution_count": 55,
      "outputs": [
        {
          "output_type": "execute_result",
          "data": {
            "text/plain": [
              "array(['Good', 'Good', 'Good', ..., 'Good', 'Good', 'Good'], dtype=object)"
            ]
          },
          "metadata": {},
          "execution_count": 55
        }
      ]
    },
    {
      "cell_type": "code",
      "metadata": {
        "id": "zZ3Df54z55xa"
      },
      "source": [
        "y_test= y_test.astype(object)\n",
        "y_test[y_test==0] = 'Bad'\n",
        "y_test[y_test==1] = 'Good'\n",
        "y_test[y_test==2] = 'Interm'"
      ],
      "execution_count": 56,
      "outputs": []
    },
    {
      "cell_type": "code",
      "metadata": {
        "colab": {
          "base_uri": "https://localhost:8080/"
        },
        "id": "fHKxD1eQ6F36",
        "outputId": "70879151-2339-4fea-b7f5-79fcd840a7b2"
      },
      "source": [
        "y_test"
      ],
      "execution_count": 57,
      "outputs": [
        {
          "output_type": "execute_result",
          "data": {
            "text/plain": [
              "array(['Good', 'Good', 'Good', ..., 'Good', 'Good', 'Good'], dtype=object)"
            ]
          },
          "metadata": {},
          "execution_count": 57
        }
      ]
    },
    {
      "cell_type": "code",
      "metadata": {
        "colab": {
          "base_uri": "https://localhost:8080/"
        },
        "id": "c-CntyiU6dqm",
        "outputId": "2390fdb5-9c8e-40c9-d207-713a4c27d712"
      },
      "source": [
        "comparision=np.concatenate((y_test.reshape(len(y_test),1), y_pred.reshape(len(y_pred),1)),1)\n",
        "print(comparision)"
      ],
      "execution_count": 58,
      "outputs": [
        {
          "output_type": "stream",
          "text": [
            "[['Good' 'Good']\n",
            " ['Good' 'Good']\n",
            " ['Good' 'Good']\n",
            " ...\n",
            " ['Good' 'Good']\n",
            " ['Good' 'Good']\n",
            " ['Good' 'Good']]\n"
          ],
          "name": "stdout"
        }
      ]
    },
    {
      "cell_type": "code",
      "metadata": {
        "colab": {
          "base_uri": "https://localhost:8080/",
          "height": 555
        },
        "id": "DUFsqg940hai",
        "outputId": "8ecbdfeb-b5f4-4d08-ff1b-ed5b4b4cc5e6"
      },
      "source": [
        "score = sum(y_pred == y_test) / len(y_test)\n",
        "print(f'Prediction accuracy = {score*100}%')\n",
        "index = pd.date_range(start='2018-01-13 06:43:02', end='2018-01-13 16:21:20', freq='H')\n",
        "for i in range(y_pred.shape[0]):\n",
        "   print(index[i], y_pred[i], y_test[i])"
      ],
      "execution_count": 59,
      "outputs": [
        {
          "output_type": "stream",
          "text": [
            "Prediction accuracy = 99.72393484862427%\n",
            "2018-01-13 06:43:02 Good Good\n",
            "2018-01-13 07:43:02 Good Good\n",
            "2018-01-13 08:43:02 Good Good\n",
            "2018-01-13 09:43:02 Interm Interm\n",
            "2018-01-13 10:43:02 Bad Bad\n",
            "2018-01-13 11:43:02 Interm Interm\n",
            "2018-01-13 12:43:02 Interm Interm\n",
            "2018-01-13 13:43:02 Interm Interm\n",
            "2018-01-13 14:43:02 Good Good\n",
            "2018-01-13 15:43:02 Good Good\n"
          ],
          "name": "stdout"
        },
        {
          "output_type": "error",
          "ename": "IndexError",
          "evalue": "ignored",
          "traceback": [
            "\u001b[0;31m---------------------------------------------------------------------------\u001b[0m",
            "\u001b[0;31mIndexError\u001b[0m                                Traceback (most recent call last)",
            "\u001b[0;32m<ipython-input-59-aecfe923401f>\u001b[0m in \u001b[0;36m<module>\u001b[0;34m()\u001b[0m\n\u001b[1;32m      3\u001b[0m \u001b[0mindex\u001b[0m \u001b[0;34m=\u001b[0m \u001b[0mpd\u001b[0m\u001b[0;34m.\u001b[0m\u001b[0mdate_range\u001b[0m\u001b[0;34m(\u001b[0m\u001b[0mstart\u001b[0m\u001b[0;34m=\u001b[0m\u001b[0;34m'2018-01-13 06:43:02'\u001b[0m\u001b[0;34m,\u001b[0m \u001b[0mend\u001b[0m\u001b[0;34m=\u001b[0m\u001b[0;34m'2018-01-13 16:21:20'\u001b[0m\u001b[0;34m,\u001b[0m \u001b[0mfreq\u001b[0m\u001b[0;34m=\u001b[0m\u001b[0;34m'H'\u001b[0m\u001b[0;34m)\u001b[0m\u001b[0;34m\u001b[0m\u001b[0;34m\u001b[0m\u001b[0m\n\u001b[1;32m      4\u001b[0m \u001b[0;32mfor\u001b[0m \u001b[0mi\u001b[0m \u001b[0;32min\u001b[0m \u001b[0mrange\u001b[0m\u001b[0;34m(\u001b[0m\u001b[0my_pred\u001b[0m\u001b[0;34m.\u001b[0m\u001b[0mshape\u001b[0m\u001b[0;34m[\u001b[0m\u001b[0;36m0\u001b[0m\u001b[0;34m]\u001b[0m\u001b[0;34m)\u001b[0m\u001b[0;34m:\u001b[0m\u001b[0;34m\u001b[0m\u001b[0;34m\u001b[0m\u001b[0m\n\u001b[0;32m----> 5\u001b[0;31m    \u001b[0mprint\u001b[0m\u001b[0;34m(\u001b[0m\u001b[0mindex\u001b[0m\u001b[0;34m[\u001b[0m\u001b[0mi\u001b[0m\u001b[0;34m]\u001b[0m\u001b[0;34m,\u001b[0m \u001b[0my_pred\u001b[0m\u001b[0;34m[\u001b[0m\u001b[0mi\u001b[0m\u001b[0;34m]\u001b[0m\u001b[0;34m,\u001b[0m \u001b[0my_test\u001b[0m\u001b[0;34m[\u001b[0m\u001b[0mi\u001b[0m\u001b[0;34m]\u001b[0m\u001b[0;34m)\u001b[0m\u001b[0;34m\u001b[0m\u001b[0;34m\u001b[0m\u001b[0m\n\u001b[0m",
            "\u001b[0;32m/usr/local/lib/python3.7/dist-packages/pandas/core/indexes/extension.py\u001b[0m in \u001b[0;36m__getitem__\u001b[0;34m(self, key)\u001b[0m\n\u001b[1;32m    213\u001b[0m \u001b[0;34m\u001b[0m\u001b[0m\n\u001b[1;32m    214\u001b[0m     \u001b[0;32mdef\u001b[0m \u001b[0m__getitem__\u001b[0m\u001b[0;34m(\u001b[0m\u001b[0mself\u001b[0m\u001b[0;34m,\u001b[0m \u001b[0mkey\u001b[0m\u001b[0;34m)\u001b[0m\u001b[0;34m:\u001b[0m\u001b[0;34m\u001b[0m\u001b[0;34m\u001b[0m\u001b[0m\n\u001b[0;32m--> 215\u001b[0;31m         \u001b[0mresult\u001b[0m \u001b[0;34m=\u001b[0m \u001b[0mself\u001b[0m\u001b[0;34m.\u001b[0m\u001b[0m_data\u001b[0m\u001b[0;34m[\u001b[0m\u001b[0mkey\u001b[0m\u001b[0;34m]\u001b[0m\u001b[0;34m\u001b[0m\u001b[0;34m\u001b[0m\u001b[0m\n\u001b[0m\u001b[1;32m    216\u001b[0m         \u001b[0;32mif\u001b[0m \u001b[0misinstance\u001b[0m\u001b[0;34m(\u001b[0m\u001b[0mresult\u001b[0m\u001b[0;34m,\u001b[0m \u001b[0mtype\u001b[0m\u001b[0;34m(\u001b[0m\u001b[0mself\u001b[0m\u001b[0;34m.\u001b[0m\u001b[0m_data\u001b[0m\u001b[0;34m)\u001b[0m\u001b[0;34m)\u001b[0m\u001b[0;34m:\u001b[0m\u001b[0;34m\u001b[0m\u001b[0;34m\u001b[0m\u001b[0m\n\u001b[1;32m    217\u001b[0m             \u001b[0;32mif\u001b[0m \u001b[0mresult\u001b[0m\u001b[0;34m.\u001b[0m\u001b[0mndim\u001b[0m \u001b[0;34m==\u001b[0m \u001b[0;36m1\u001b[0m\u001b[0;34m:\u001b[0m\u001b[0;34m\u001b[0m\u001b[0;34m\u001b[0m\u001b[0m\n",
            "\u001b[0;32m/usr/local/lib/python3.7/dist-packages/pandas/core/arrays/datetimelike.py\u001b[0m in \u001b[0;36m__getitem__\u001b[0;34m(self, key)\u001b[0m\n\u001b[1;32m    536\u001b[0m         \u001b[0;32mif\u001b[0m \u001b[0mlib\u001b[0m\u001b[0;34m.\u001b[0m\u001b[0mis_integer\u001b[0m\u001b[0;34m(\u001b[0m\u001b[0mkey\u001b[0m\u001b[0;34m)\u001b[0m\u001b[0;34m:\u001b[0m\u001b[0;34m\u001b[0m\u001b[0;34m\u001b[0m\u001b[0m\n\u001b[1;32m    537\u001b[0m             \u001b[0;31m# fast-path\u001b[0m\u001b[0;34m\u001b[0m\u001b[0;34m\u001b[0m\u001b[0;34m\u001b[0m\u001b[0m\n\u001b[0;32m--> 538\u001b[0;31m             \u001b[0mresult\u001b[0m \u001b[0;34m=\u001b[0m \u001b[0mself\u001b[0m\u001b[0;34m.\u001b[0m\u001b[0m_data\u001b[0m\u001b[0;34m[\u001b[0m\u001b[0mkey\u001b[0m\u001b[0;34m]\u001b[0m\u001b[0;34m\u001b[0m\u001b[0;34m\u001b[0m\u001b[0m\n\u001b[0m\u001b[1;32m    539\u001b[0m             \u001b[0;32mif\u001b[0m \u001b[0mself\u001b[0m\u001b[0;34m.\u001b[0m\u001b[0mndim\u001b[0m \u001b[0;34m==\u001b[0m \u001b[0;36m1\u001b[0m\u001b[0;34m:\u001b[0m\u001b[0;34m\u001b[0m\u001b[0;34m\u001b[0m\u001b[0m\n\u001b[1;32m    540\u001b[0m                 \u001b[0;32mreturn\u001b[0m \u001b[0mself\u001b[0m\u001b[0;34m.\u001b[0m\u001b[0m_box_func\u001b[0m\u001b[0;34m(\u001b[0m\u001b[0mresult\u001b[0m\u001b[0;34m)\u001b[0m\u001b[0;34m\u001b[0m\u001b[0;34m\u001b[0m\u001b[0m\n",
            "\u001b[0;31mIndexError\u001b[0m: index 10 is out of bounds for axis 0 with size 10"
          ]
        }
      ]
    },
    {
      "cell_type": "code",
      "metadata": {
        "colab": {
          "base_uri": "https://localhost:8080/",
          "height": 248
        },
        "id": "I0s1aslwTUZf",
        "outputId": "9227d6a7-6fbe-438d-dfe1-8c65b6f4c1ef"
      },
      "source": [
        "data = confusion_matrix(y_pred, y_test)\n",
        "df_cm = pd.DataFrame(data, columns=np.unique(y_test), index = np.unique(y_test))\n",
        "df_cm.index.name = 'Predicted'\n",
        "df_cm.columns.name = 'Actual'\n",
        "\n",
        "plt.figure(figsize = (4,3))\n",
        "\n",
        "sns.set(font_scale=1)#for label size\n",
        "sns.heatmap(df_cm/np.sum(df_cm), cmap=\"Blues\",annot=True,annot_kws={\"size\": 14})# font size\n",
        "plt.title(f'Accuracy = {round(acc, 2)}%', fontsize = 15)\n",
        "plt.show()"
      ],
      "execution_count": 60,
      "outputs": [
        {
          "output_type": "display_data",
          "data": {
            "image/png": "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\n",
            "text/plain": [
              "<Figure size 288x216 with 2 Axes>"
            ]
          },
          "metadata": {
            "needs_background": "light"
          }
        }
      ]
    },
    {
      "cell_type": "code",
      "metadata": {
        "id": "Bb3I5oeXKANt"
      },
      "source": [
        "y_pred = np.array(y_pred)\n",
        "y_pred = pd.DataFrame(y_pred)\n",
        "y_pred=np.argmax(y_pred.iloc[:,:].values, axis=1)\n",
        "y_pred"
      ],
      "execution_count": null,
      "outputs": []
    },
    {
      "cell_type": "code",
      "metadata": {
        "id": "u8TFPNvUMgwF"
      },
      "source": [
        "y_pred= y_pred.astype(object)\n",
        "y_pred[y_pred==0] = 'Bad'\n",
        "y_pred[y_pred==1] = 'Good'\n",
        "y_pred[y_pred==2] = 'Interm'"
      ],
      "execution_count": null,
      "outputs": []
    },
    {
      "cell_type": "code",
      "metadata": {
        "id": "TbTOQXlmMo7l"
      },
      "source": [
        " y_pred = pd.DataFrame(y_pred)\n",
        " y_pred"
      ],
      "execution_count": null,
      "outputs": []
    },
    {
      "cell_type": "code",
      "metadata": {
        "id": "CIKAjXlHL7xV"
      },
      "source": [
        "y_test = pd.DataFrame(y_test)\n",
        "y_test"
      ],
      "execution_count": null,
      "outputs": []
    },
    {
      "cell_type": "code",
      "metadata": {
        "id": "Uac2AHccLokv"
      },
      "source": [
        "y_pred[0].value_counts().plot(kind='bar')"
      ],
      "execution_count": null,
      "outputs": []
    },
    {
      "cell_type": "code",
      "metadata": {
        "id": "-jO0lB3QOJEd"
      },
      "source": [
        "y_test = np.array(y_test)\n",
        "y_pred = np.array(y_pred)"
      ],
      "execution_count": null,
      "outputs": []
    },
    {
      "cell_type": "code",
      "metadata": {
        "id": "iXm0jSqjOT5a"
      },
      "source": [
        "# with the following sentence you can get a mask of the items bad classified\n",
        "mask = np.logical_not(np.equal(y_test, y_pred))\n",
        "# Now you can use the mask to see the elements bad classified:\n",
        "print(f\"Elements wrong classified: {y_test[mask]}\")\n",
        "print(f\"Prediction by the model for each of those elements: {y_pred[mask]}\")\n",
        "print(f\"Actual value for each of those elements: {np.asarray(y_test)[mask]}\")"
      ],
      "execution_count": null,
      "outputs": []
    },
    {
      "cell_type": "code",
      "metadata": {
        "id": "kBeQ8dobO-JF"
      },
      "source": [
        "Prediction=y_pred[mask]\n",
        "Prediction\n"
      ],
      "execution_count": null,
      "outputs": []
    },
    {
      "cell_type": "code",
      "metadata": {
        "id": "FksvYP1CPhde"
      },
      "source": [
        "Actual=y_test[mask]\n",
        "Actual"
      ],
      "execution_count": null,
      "outputs": []
    },
    {
      "cell_type": "code",
      "metadata": {
        "id": "gYAL5P5hP2mD"
      },
      "source": [
        "comp=np.concatenate((Actual.reshape(len(Actual),1), Prediction.reshape(len(Prediction),1)),1)\n",
        "comp = pd.DataFrame(comp)\n",
        "comp.columns=['Actual','Predicted']\n",
        "comp"
      ],
      "execution_count": null,
      "outputs": []
    },
    {
      "cell_type": "code",
      "metadata": {
        "id": "KFHxnxvLSMS7"
      },
      "source": [
        "comp[0].value_counts().plot(kind='bar')"
      ],
      "execution_count": null,
      "outputs": []
    },
    {
      "cell_type": "code",
      "metadata": {
        "id": "mWuVlGL2QPYu"
      },
      "source": [
        "comp[1].value_counts().plot(kind='bar')"
      ],
      "execution_count": null,
      "outputs": []
    },
    {
      "cell_type": "code",
      "metadata": {
        "id": "xPt3cKPHSSjU"
      },
      "source": [
        "y_pred= y_pred.astype(object)\n",
        "y_pred[y_pred==0] = 'Bad'\n",
        "y_pred[y_pred==1] = 'Good'\n",
        "y_pred[y_pred==2] = 'Interm'"
      ],
      "execution_count": null,
      "outputs": []
    },
    {
      "cell_type": "code",
      "metadata": {
        "id": "4U2aCurvTuso"
      },
      "source": [
        "mask1 = np.equal(y_test,y_pred)\n",
        "Predicted1 = y_pred[mask1]"
      ],
      "execution_count": null,
      "outputs": []
    },
    {
      "cell_type": "code",
      "metadata": {
        "id": "FW_4D1GnX-Wh"
      },
      "source": [
        "Predicted1 =pd.DataFrame(Predicted1)\n",
        "Predicted1"
      ],
      "execution_count": null,
      "outputs": []
    },
    {
      "cell_type": "code",
      "metadata": {
        "id": "jYnnU7qPYKlm"
      },
      "source": [
        "Predicted1[0].value_counts().plot(kind='bar')\n",
        "plt.show()\n"
      ],
      "execution_count": null,
      "outputs": []
    },
    {
      "cell_type": "code",
      "metadata": {
        "id": "d-GScciZY-cC"
      },
      "source": [
        "model.summary()"
      ],
      "execution_count": null,
      "outputs": []
    },
    {
      "cell_type": "code",
      "metadata": {
        "id": "_ETVYBqXgUz3"
      },
      "source": [
        ""
      ],
      "execution_count": null,
      "outputs": []
    }
  ]
}
