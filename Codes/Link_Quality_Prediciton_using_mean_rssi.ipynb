{
 "cells": [
  {
   "cell_type": "code",
   "execution_count": null,
   "metadata": {
    "colab": {
     "base_uri": "https://localhost:8080/"
    },
    "id": "X9CkDS6WAttw",
    "outputId": "4981863c-902d-40ee-ad78-d51058e70d3a"
   },
   "outputs": [
    {
     "name": "stderr",
     "output_type": "stream",
     "text": [
      "/usr/local/lib/python3.7/dist-packages/sklearn/externals/six.py:31: FutureWarning: The module is deprecated in version 0.21 and will be removed in version 0.23 since we've dropped support for Python 2.7. Please rely on the official version of six (https://pypi.org/project/six/).\n",
      "  \"(https://pypi.org/project/six/).\", FutureWarning)\n",
      "/usr/local/lib/python3.7/dist-packages/sklearn/utils/deprecation.py:144: FutureWarning: The sklearn.neighbors.base module is  deprecated in version 0.22 and will be removed in version 0.24. The corresponding classes / functions should instead be imported from sklearn.neighbors. Anything that cannot be imported from sklearn.neighbors is now part of the private API.\n",
      "  warnings.warn(message, FutureWarning)\n"
     ]
    }
   ],
   "source": [
    "import numpy as np\n",
    "import pandas as pd\n",
    "import matplotlib.pyplot as plt\n",
    "import random\n",
    "import sys\n",
    "from threading import Thread, RLock\n",
    "import time\n",
    "from imblearn.under_sampling import RandomUnderSampler\n",
    "from imblearn.over_sampling import RandomOverSampler\n",
    "import seaborn as sns\n",
    "import tensorflow as tf\n",
    "import keras\n",
    "%matplotlib inline"
   ]
  },
  {
   "cell_type": "code",
   "execution_count": null,
   "metadata": {
    "id": "1lCe3bQnBNPc"
   },
   "outputs": [],
   "source": [
    "df = pd.read_csv('grenoble_7.k7.csv',\n",
    "                 parse_dates=['datetime'],\n",
    "                 infer_datetime_format=True,\n",
    "                 index_col='datetime')              "
   ]
  },
  {
   "cell_type": "code",
   "execution_count": null,
   "metadata": {
    "colab": {
     "base_uri": "https://localhost:8080/",
     "height": 447
    },
    "id": "7loGGWSHBSSF",
    "outputId": "e6667243-8b8f-4525-e37a-df956db60584"
   },
   "outputs": [
    {
     "data": {
      "text/html": [
       "<div>\n",
       "<style scoped>\n",
       "    .dataframe tbody tr th:only-of-type {\n",
       "        vertical-align: middle;\n",
       "    }\n",
       "\n",
       "    .dataframe tbody tr th {\n",
       "        vertical-align: top;\n",
       "    }\n",
       "\n",
       "    .dataframe thead th {\n",
       "        text-align: right;\n",
       "    }\n",
       "</style>\n",
       "<table border=\"1\" class=\"dataframe\">\n",
       "  <thead>\n",
       "    <tr style=\"text-align: right;\">\n",
       "      <th></th>\n",
       "      <th>src</th>\n",
       "      <th>dst</th>\n",
       "      <th>channel</th>\n",
       "      <th>mean_rssi</th>\n",
       "      <th>pdr</th>\n",
       "      <th>tx_count</th>\n",
       "    </tr>\n",
       "    <tr>\n",
       "      <th>datetime</th>\n",
       "      <th></th>\n",
       "      <th></th>\n",
       "      <th></th>\n",
       "      <th></th>\n",
       "      <th></th>\n",
       "      <th></th>\n",
       "    </tr>\n",
       "  </thead>\n",
       "  <tbody>\n",
       "    <tr>\n",
       "      <th>2018-01-11 16:32:22</th>\n",
       "      <td>0</td>\n",
       "      <td>18</td>\n",
       "      <td>11</td>\n",
       "      <td>-5.90</td>\n",
       "      <td>1.0</td>\n",
       "      <td>100</td>\n",
       "    </tr>\n",
       "    <tr>\n",
       "      <th>2018-01-11 16:32:22</th>\n",
       "      <td>0</td>\n",
       "      <td>7</td>\n",
       "      <td>11</td>\n",
       "      <td>-70.74</td>\n",
       "      <td>1.0</td>\n",
       "      <td>100</td>\n",
       "    </tr>\n",
       "    <tr>\n",
       "      <th>2018-01-11 16:32:22</th>\n",
       "      <td>0</td>\n",
       "      <td>42</td>\n",
       "      <td>11</td>\n",
       "      <td>-80.06</td>\n",
       "      <td>0.6</td>\n",
       "      <td>100</td>\n",
       "    </tr>\n",
       "    <tr>\n",
       "      <th>2018-01-11 16:32:22</th>\n",
       "      <td>0</td>\n",
       "      <td>28</td>\n",
       "      <td>11</td>\n",
       "      <td>-68.46</td>\n",
       "      <td>1.0</td>\n",
       "      <td>100</td>\n",
       "    </tr>\n",
       "    <tr>\n",
       "      <th>2018-01-11 16:32:22</th>\n",
       "      <td>0</td>\n",
       "      <td>12</td>\n",
       "      <td>11</td>\n",
       "      <td>-71.84</td>\n",
       "      <td>0.6</td>\n",
       "      <td>100</td>\n",
       "    </tr>\n",
       "    <tr>\n",
       "      <th>...</th>\n",
       "      <td>...</td>\n",
       "      <td>...</td>\n",
       "      <td>...</td>\n",
       "      <td>...</td>\n",
       "      <td>...</td>\n",
       "      <td>...</td>\n",
       "    </tr>\n",
       "    <tr>\n",
       "      <th>2018-01-13 16:21:20</th>\n",
       "      <td>49</td>\n",
       "      <td>28</td>\n",
       "      <td>26</td>\n",
       "      <td>-75.13</td>\n",
       "      <td>1.0</td>\n",
       "      <td>100</td>\n",
       "    </tr>\n",
       "    <tr>\n",
       "      <th>2018-01-13 16:21:20</th>\n",
       "      <td>49</td>\n",
       "      <td>37</td>\n",
       "      <td>26</td>\n",
       "      <td>-68.39</td>\n",
       "      <td>1.0</td>\n",
       "      <td>100</td>\n",
       "    </tr>\n",
       "    <tr>\n",
       "      <th>2018-01-13 16:21:20</th>\n",
       "      <td>49</td>\n",
       "      <td>13</td>\n",
       "      <td>26</td>\n",
       "      <td>-74.39</td>\n",
       "      <td>1.0</td>\n",
       "      <td>100</td>\n",
       "    </tr>\n",
       "    <tr>\n",
       "      <th>2018-01-13 16:21:20</th>\n",
       "      <td>49</td>\n",
       "      <td>33</td>\n",
       "      <td>26</td>\n",
       "      <td>-80.38</td>\n",
       "      <td>1.0</td>\n",
       "      <td>100</td>\n",
       "    </tr>\n",
       "    <tr>\n",
       "      <th>2018-01-13 16:21:20</th>\n",
       "      <td>49</td>\n",
       "      <td>43</td>\n",
       "      <td>26</td>\n",
       "      <td>-75.62</td>\n",
       "      <td>1.0</td>\n",
       "      <td>100</td>\n",
       "    </tr>\n",
       "  </tbody>\n",
       "</table>\n",
       "<p>108659 rows × 6 columns</p>\n",
       "</div>"
      ],
      "text/plain": [
       "                     src  dst  channel  mean_rssi  pdr  tx_count\n",
       "datetime                                                        \n",
       "2018-01-11 16:32:22    0   18       11      -5.90  1.0       100\n",
       "2018-01-11 16:32:22    0    7       11     -70.74  1.0       100\n",
       "2018-01-11 16:32:22    0   42       11     -80.06  0.6       100\n",
       "2018-01-11 16:32:22    0   28       11     -68.46  1.0       100\n",
       "2018-01-11 16:32:22    0   12       11     -71.84  0.6       100\n",
       "...                  ...  ...      ...        ...  ...       ...\n",
       "2018-01-13 16:21:20   49   28       26     -75.13  1.0       100\n",
       "2018-01-13 16:21:20   49   37       26     -68.39  1.0       100\n",
       "2018-01-13 16:21:20   49   13       26     -74.39  1.0       100\n",
       "2018-01-13 16:21:20   49   33       26     -80.38  1.0       100\n",
       "2018-01-13 16:21:20   49   43       26     -75.62  1.0       100\n",
       "\n",
       "[108659 rows x 6 columns]"
      ]
     },
     "execution_count": 3,
     "metadata": {
      "tags": []
     },
     "output_type": "execute_result"
    }
   ],
   "source": [
    "df"
   ]
  },
  {
   "cell_type": "code",
   "execution_count": null,
   "metadata": {
    "id": "qwJBoCcQBUB1"
   },
   "outputs": [],
   "source": [
    "ros = RandomOverSampler(random_state=0)\n",
    "rus = RandomUnderSampler(random_state=0)\n",
    "target_names=[]\n",
    "\n",
    "                                          # for mean_rssi\n",
    "for i in range(len(df)):\n",
    "    if df['mean_rssi'][i] <= -87 :\n",
    "        target_names.append('Bad')\n",
    "    elif df['mean_rssi'][i]>=-85 :\n",
    "        target_names.append('Good')\n",
    "    else:\n",
    "        target_names.append('Interm.')\n",
    "coloumn=['mean_rssi']    \n",
    "df['target_names']=target_names\n",
    "coloumn=['target_names']"
   ]
  },
  {
   "cell_type": "code",
   "execution_count": null,
   "metadata": {
    "colab": {
     "base_uri": "https://localhost:8080/",
     "height": 696
    },
    "id": "zTVKnvl2Kyak",
    "outputId": "721a8d4f-b33e-4d49-f563-66ee2f2b9b11"
   },
   "outputs": [
    {
     "data": {
      "text/html": [
       "<div>\n",
       "<style scoped>\n",
       "    .dataframe tbody tr th:only-of-type {\n",
       "        vertical-align: middle;\n",
       "    }\n",
       "\n",
       "    .dataframe tbody tr th {\n",
       "        vertical-align: top;\n",
       "    }\n",
       "\n",
       "    .dataframe thead th {\n",
       "        text-align: right;\n",
       "    }\n",
       "</style>\n",
       "<table border=\"1\" class=\"dataframe\">\n",
       "  <thead>\n",
       "    <tr style=\"text-align: right;\">\n",
       "      <th></th>\n",
       "      <th>src</th>\n",
       "      <th>dst</th>\n",
       "      <th>channel</th>\n",
       "      <th>mean_rssi</th>\n",
       "      <th>pdr</th>\n",
       "      <th>tx_count</th>\n",
       "      <th>target_names</th>\n",
       "    </tr>\n",
       "    <tr>\n",
       "      <th>datetime</th>\n",
       "      <th></th>\n",
       "      <th></th>\n",
       "      <th></th>\n",
       "      <th></th>\n",
       "      <th></th>\n",
       "      <th></th>\n",
       "      <th></th>\n",
       "    </tr>\n",
       "  </thead>\n",
       "  <tbody>\n",
       "    <tr>\n",
       "      <th>2018-01-11 16:32:22</th>\n",
       "      <td>0</td>\n",
       "      <td>18</td>\n",
       "      <td>11</td>\n",
       "      <td>-5.90</td>\n",
       "      <td>1.00</td>\n",
       "      <td>100</td>\n",
       "      <td>Good</td>\n",
       "    </tr>\n",
       "    <tr>\n",
       "      <th>2018-01-11 16:32:22</th>\n",
       "      <td>0</td>\n",
       "      <td>7</td>\n",
       "      <td>11</td>\n",
       "      <td>-70.74</td>\n",
       "      <td>1.00</td>\n",
       "      <td>100</td>\n",
       "      <td>Good</td>\n",
       "    </tr>\n",
       "    <tr>\n",
       "      <th>2018-01-11 16:32:22</th>\n",
       "      <td>0</td>\n",
       "      <td>42</td>\n",
       "      <td>11</td>\n",
       "      <td>-80.06</td>\n",
       "      <td>0.60</td>\n",
       "      <td>100</td>\n",
       "      <td>Good</td>\n",
       "    </tr>\n",
       "    <tr>\n",
       "      <th>2018-01-11 16:32:22</th>\n",
       "      <td>0</td>\n",
       "      <td>28</td>\n",
       "      <td>11</td>\n",
       "      <td>-68.46</td>\n",
       "      <td>1.00</td>\n",
       "      <td>100</td>\n",
       "      <td>Good</td>\n",
       "    </tr>\n",
       "    <tr>\n",
       "      <th>2018-01-11 16:32:22</th>\n",
       "      <td>0</td>\n",
       "      <td>12</td>\n",
       "      <td>11</td>\n",
       "      <td>-71.84</td>\n",
       "      <td>0.60</td>\n",
       "      <td>100</td>\n",
       "      <td>Good</td>\n",
       "    </tr>\n",
       "    <tr>\n",
       "      <th>2018-01-11 16:32:22</th>\n",
       "      <td>0</td>\n",
       "      <td>48</td>\n",
       "      <td>11</td>\n",
       "      <td>-70.13</td>\n",
       "      <td>1.00</td>\n",
       "      <td>100</td>\n",
       "      <td>Good</td>\n",
       "    </tr>\n",
       "    <tr>\n",
       "      <th>2018-01-11 16:32:22</th>\n",
       "      <td>0</td>\n",
       "      <td>35</td>\n",
       "      <td>11</td>\n",
       "      <td>-62.39</td>\n",
       "      <td>1.00</td>\n",
       "      <td>100</td>\n",
       "      <td>Good</td>\n",
       "    </tr>\n",
       "    <tr>\n",
       "      <th>2018-01-11 16:32:33</th>\n",
       "      <td>1</td>\n",
       "      <td>46</td>\n",
       "      <td>11</td>\n",
       "      <td>-80.43</td>\n",
       "      <td>1.00</td>\n",
       "      <td>100</td>\n",
       "      <td>Good</td>\n",
       "    </tr>\n",
       "    <tr>\n",
       "      <th>2018-01-11 16:32:33</th>\n",
       "      <td>1</td>\n",
       "      <td>47</td>\n",
       "      <td>11</td>\n",
       "      <td>-75.17</td>\n",
       "      <td>0.99</td>\n",
       "      <td>100</td>\n",
       "      <td>Good</td>\n",
       "    </tr>\n",
       "    <tr>\n",
       "      <th>2018-01-11 16:32:33</th>\n",
       "      <td>1</td>\n",
       "      <td>5</td>\n",
       "      <td>11</td>\n",
       "      <td>-79.96</td>\n",
       "      <td>1.00</td>\n",
       "      <td>100</td>\n",
       "      <td>Good</td>\n",
       "    </tr>\n",
       "    <tr>\n",
       "      <th>2018-01-11 16:32:33</th>\n",
       "      <td>1</td>\n",
       "      <td>30</td>\n",
       "      <td>11</td>\n",
       "      <td>-64.75</td>\n",
       "      <td>1.00</td>\n",
       "      <td>100</td>\n",
       "      <td>Good</td>\n",
       "    </tr>\n",
       "    <tr>\n",
       "      <th>2018-01-11 16:32:33</th>\n",
       "      <td>1</td>\n",
       "      <td>26</td>\n",
       "      <td>11</td>\n",
       "      <td>-53.39</td>\n",
       "      <td>1.00</td>\n",
       "      <td>100</td>\n",
       "      <td>Good</td>\n",
       "    </tr>\n",
       "    <tr>\n",
       "      <th>2018-01-11 16:32:33</th>\n",
       "      <td>1</td>\n",
       "      <td>22</td>\n",
       "      <td>11</td>\n",
       "      <td>-81.71</td>\n",
       "      <td>0.99</td>\n",
       "      <td>100</td>\n",
       "      <td>Good</td>\n",
       "    </tr>\n",
       "    <tr>\n",
       "      <th>2018-01-11 16:32:33</th>\n",
       "      <td>1</td>\n",
       "      <td>6</td>\n",
       "      <td>11</td>\n",
       "      <td>-86.24</td>\n",
       "      <td>0.43</td>\n",
       "      <td>100</td>\n",
       "      <td>Interm.</td>\n",
       "    </tr>\n",
       "    <tr>\n",
       "      <th>2018-01-11 16:32:34</th>\n",
       "      <td>1</td>\n",
       "      <td>14</td>\n",
       "      <td>11</td>\n",
       "      <td>-88.14</td>\n",
       "      <td>0.14</td>\n",
       "      <td>100</td>\n",
       "      <td>Bad</td>\n",
       "    </tr>\n",
       "    <tr>\n",
       "      <th>2018-01-11 16:32:34</th>\n",
       "      <td>1</td>\n",
       "      <td>19</td>\n",
       "      <td>11</td>\n",
       "      <td>-90.31</td>\n",
       "      <td>0.02</td>\n",
       "      <td>100</td>\n",
       "      <td>Bad</td>\n",
       "    </tr>\n",
       "    <tr>\n",
       "      <th>2018-01-11 16:32:41</th>\n",
       "      <td>1</td>\n",
       "      <td>21</td>\n",
       "      <td>11</td>\n",
       "      <td>-91.00</td>\n",
       "      <td>0.01</td>\n",
       "      <td>100</td>\n",
       "      <td>Bad</td>\n",
       "    </tr>\n",
       "    <tr>\n",
       "      <th>2018-01-11 16:32:44</th>\n",
       "      <td>2</td>\n",
       "      <td>27</td>\n",
       "      <td>11</td>\n",
       "      <td>-44.39</td>\n",
       "      <td>1.00</td>\n",
       "      <td>100</td>\n",
       "      <td>Good</td>\n",
       "    </tr>\n",
       "    <tr>\n",
       "      <th>2018-01-11 16:32:44</th>\n",
       "      <td>2</td>\n",
       "      <td>47</td>\n",
       "      <td>11</td>\n",
       "      <td>-78.89</td>\n",
       "      <td>0.93</td>\n",
       "      <td>100</td>\n",
       "      <td>Good</td>\n",
       "    </tr>\n",
       "    <tr>\n",
       "      <th>2018-01-11 16:32:44</th>\n",
       "      <td>2</td>\n",
       "      <td>15</td>\n",
       "      <td>11</td>\n",
       "      <td>-59.39</td>\n",
       "      <td>1.00</td>\n",
       "      <td>100</td>\n",
       "      <td>Good</td>\n",
       "    </tr>\n",
       "  </tbody>\n",
       "</table>\n",
       "</div>"
      ],
      "text/plain": [
       "                     src  dst  channel  mean_rssi   pdr  tx_count target_names\n",
       "datetime                                                                      \n",
       "2018-01-11 16:32:22    0   18       11      -5.90  1.00       100         Good\n",
       "2018-01-11 16:32:22    0    7       11     -70.74  1.00       100         Good\n",
       "2018-01-11 16:32:22    0   42       11     -80.06  0.60       100         Good\n",
       "2018-01-11 16:32:22    0   28       11     -68.46  1.00       100         Good\n",
       "2018-01-11 16:32:22    0   12       11     -71.84  0.60       100         Good\n",
       "2018-01-11 16:32:22    0   48       11     -70.13  1.00       100         Good\n",
       "2018-01-11 16:32:22    0   35       11     -62.39  1.00       100         Good\n",
       "2018-01-11 16:32:33    1   46       11     -80.43  1.00       100         Good\n",
       "2018-01-11 16:32:33    1   47       11     -75.17  0.99       100         Good\n",
       "2018-01-11 16:32:33    1    5       11     -79.96  1.00       100         Good\n",
       "2018-01-11 16:32:33    1   30       11     -64.75  1.00       100         Good\n",
       "2018-01-11 16:32:33    1   26       11     -53.39  1.00       100         Good\n",
       "2018-01-11 16:32:33    1   22       11     -81.71  0.99       100         Good\n",
       "2018-01-11 16:32:33    1    6       11     -86.24  0.43       100      Interm.\n",
       "2018-01-11 16:32:34    1   14       11     -88.14  0.14       100          Bad\n",
       "2018-01-11 16:32:34    1   19       11     -90.31  0.02       100          Bad\n",
       "2018-01-11 16:32:41    1   21       11     -91.00  0.01       100          Bad\n",
       "2018-01-11 16:32:44    2   27       11     -44.39  1.00       100         Good\n",
       "2018-01-11 16:32:44    2   47       11     -78.89  0.93       100         Good\n",
       "2018-01-11 16:32:44    2   15       11     -59.39  1.00       100         Good"
      ]
     },
     "execution_count": 6,
     "metadata": {
      "tags": []
     },
     "output_type": "execute_result"
    }
   ],
   "source": [
    "df.head(20)"
   ]
  },
  {
   "cell_type": "code",
   "execution_count": null,
   "metadata": {
    "id": "D6ptRAUzKFuJ"
   },
   "outputs": [],
   "source": [
    "target_names = np.array('target_names')"
   ]
  },
  {
   "cell_type": "code",
   "execution_count": null,
   "metadata": {
    "colab": {
     "base_uri": "https://localhost:8080/"
    },
    "id": "7VCWUO9EEYoL",
    "outputId": "ec436106-0c60-48ec-daa4-bd3863adfefa"
   },
   "outputs": [
    {
     "name": "stdout",
     "output_type": "stream",
     "text": [
      "10047\n"
     ]
    }
   ],
   "source": [
    "count_bad=(df['target_names']=='Bad').sum()\n",
    "print(count_bad)"
   ]
  },
  {
   "cell_type": "code",
   "execution_count": null,
   "metadata": {
    "colab": {
     "base_uri": "https://localhost:8080/"
    },
    "id": "dYozQ1XyGAZq",
    "outputId": "05c0e0a2-c890-4144-a3b8-de6ded1516bb"
   },
   "outputs": [
    {
     "name": "stdout",
     "output_type": "stream",
     "text": [
      "20170\n"
     ]
    }
   ],
   "source": [
    "count_interm=(df['target_names']=='Interm.').sum()\n",
    "print(count_interm)"
   ]
  },
  {
   "cell_type": "code",
   "execution_count": null,
   "metadata": {
    "colab": {
     "base_uri": "https://localhost:8080/"
    },
    "id": "BWRXwf5XJRWm",
    "outputId": "87d85602-5369-41d9-e842-49667bcff58e"
   },
   "outputs": [
    {
     "name": "stdout",
     "output_type": "stream",
     "text": [
      "78442\n"
     ]
    }
   ],
   "source": [
    "count_good=(df['target_names']=='Good').sum()\n",
    "print(count_good)"
   ]
  },
  {
   "cell_type": "code",
   "execution_count": null,
   "metadata": {
    "colab": {
     "base_uri": "https://localhost:8080/"
    },
    "id": "sVHqPAeDKeKj",
    "outputId": "abb454a4-c371-4f3c-cbc1-94a28b231be7"
   },
   "outputs": [
    {
     "name": "stdout",
     "output_type": "stream",
     "text": [
      "<class 'pandas.core.frame.DataFrame'>\n",
      "DatetimeIndex: 108659 entries, 2018-01-11 16:32:22 to 2018-01-13 16:21:20\n",
      "Data columns (total 7 columns):\n",
      " #   Column        Non-Null Count   Dtype  \n",
      "---  ------        --------------   -----  \n",
      " 0   src           108659 non-null  int64  \n",
      " 1   dst           108659 non-null  int64  \n",
      " 2   channel       108659 non-null  int64  \n",
      " 3   mean_rssi     108659 non-null  float64\n",
      " 4   pdr           108659 non-null  float64\n",
      " 5   tx_count      108659 non-null  int64  \n",
      " 6   target_names  108659 non-null  object \n",
      "dtypes: float64(2), int64(4), object(1)\n",
      "memory usage: 6.6+ MB\n"
     ]
    }
   ],
   "source": [
    "df.info()"
   ]
  },
  {
   "cell_type": "code",
   "execution_count": null,
   "metadata": {
    "colab": {
     "base_uri": "https://localhost:8080/"
    },
    "id": "YshRreBmOB1p",
    "outputId": "ec8cae33-1666-44b5-b129-62fd149e12fe"
   },
   "outputs": [
    {
     "data": {
      "text/plain": [
       "(108659, 7)"
      ]
     },
     "execution_count": 12,
     "metadata": {
      "tags": []
     },
     "output_type": "execute_result"
    }
   ],
   "source": [
    "df.shape"
   ]
  },
  {
   "cell_type": "code",
   "execution_count": null,
   "metadata": {
    "colab": {
     "base_uri": "https://localhost:8080/",
     "height": 295
    },
    "id": "CFQ6lhkNOv5i",
    "outputId": "0738dfc8-7d0b-4350-9766-2c27bfd8d304"
   },
   "outputs": [
    {
     "data": {
      "text/html": [
       "<div>\n",
       "<style scoped>\n",
       "    .dataframe tbody tr th:only-of-type {\n",
       "        vertical-align: middle;\n",
       "    }\n",
       "\n",
       "    .dataframe tbody tr th {\n",
       "        vertical-align: top;\n",
       "    }\n",
       "\n",
       "    .dataframe thead th {\n",
       "        text-align: right;\n",
       "    }\n",
       "</style>\n",
       "<table border=\"1\" class=\"dataframe\">\n",
       "  <thead>\n",
       "    <tr style=\"text-align: right;\">\n",
       "      <th></th>\n",
       "      <th>src</th>\n",
       "      <th>dst</th>\n",
       "      <th>channel</th>\n",
       "      <th>mean_rssi</th>\n",
       "      <th>pdr</th>\n",
       "      <th>tx_count</th>\n",
       "    </tr>\n",
       "  </thead>\n",
       "  <tbody>\n",
       "    <tr>\n",
       "      <th>count</th>\n",
       "      <td>108659.000000</td>\n",
       "      <td>108659.000000</td>\n",
       "      <td>108659.000000</td>\n",
       "      <td>108659.000000</td>\n",
       "      <td>108659.000000</td>\n",
       "      <td>108659.0</td>\n",
       "    </tr>\n",
       "    <tr>\n",
       "      <th>mean</th>\n",
       "      <td>24.923485</td>\n",
       "      <td>25.047387</td>\n",
       "      <td>18.376895</td>\n",
       "      <td>-74.550728</td>\n",
       "      <td>0.874964</td>\n",
       "      <td>100.0</td>\n",
       "    </tr>\n",
       "    <tr>\n",
       "      <th>std</th>\n",
       "      <td>14.831090</td>\n",
       "      <td>14.836094</td>\n",
       "      <td>4.579974</td>\n",
       "      <td>11.870855</td>\n",
       "      <td>0.248361</td>\n",
       "      <td>0.0</td>\n",
       "    </tr>\n",
       "    <tr>\n",
       "      <th>min</th>\n",
       "      <td>0.000000</td>\n",
       "      <td>0.000000</td>\n",
       "      <td>11.000000</td>\n",
       "      <td>-91.000000</td>\n",
       "      <td>0.010000</td>\n",
       "      <td>100.0</td>\n",
       "    </tr>\n",
       "    <tr>\n",
       "      <th>25%</th>\n",
       "      <td>12.000000</td>\n",
       "      <td>13.000000</td>\n",
       "      <td>14.000000</td>\n",
       "      <td>-85.770000</td>\n",
       "      <td>0.910000</td>\n",
       "      <td>100.0</td>\n",
       "    </tr>\n",
       "    <tr>\n",
       "      <th>50%</th>\n",
       "      <td>25.000000</td>\n",
       "      <td>25.000000</td>\n",
       "      <td>18.000000</td>\n",
       "      <td>-76.570000</td>\n",
       "      <td>1.000000</td>\n",
       "      <td>100.0</td>\n",
       "    </tr>\n",
       "    <tr>\n",
       "      <th>75%</th>\n",
       "      <td>39.000000</td>\n",
       "      <td>40.000000</td>\n",
       "      <td>22.000000</td>\n",
       "      <td>-66.970000</td>\n",
       "      <td>1.000000</td>\n",
       "      <td>100.0</td>\n",
       "    </tr>\n",
       "    <tr>\n",
       "      <th>max</th>\n",
       "      <td>49.000000</td>\n",
       "      <td>49.000000</td>\n",
       "      <td>26.000000</td>\n",
       "      <td>-5.900000</td>\n",
       "      <td>1.000000</td>\n",
       "      <td>100.0</td>\n",
       "    </tr>\n",
       "  </tbody>\n",
       "</table>\n",
       "</div>"
      ],
      "text/plain": [
       "                 src            dst  ...            pdr  tx_count\n",
       "count  108659.000000  108659.000000  ...  108659.000000  108659.0\n",
       "mean       24.923485      25.047387  ...       0.874964     100.0\n",
       "std        14.831090      14.836094  ...       0.248361       0.0\n",
       "min         0.000000       0.000000  ...       0.010000     100.0\n",
       "25%        12.000000      13.000000  ...       0.910000     100.0\n",
       "50%        25.000000      25.000000  ...       1.000000     100.0\n",
       "75%        39.000000      40.000000  ...       1.000000     100.0\n",
       "max        49.000000      49.000000  ...       1.000000     100.0\n",
       "\n",
       "[8 rows x 6 columns]"
      ]
     },
     "execution_count": 13,
     "metadata": {
      "tags": []
     },
     "output_type": "execute_result"
    }
   ],
   "source": [
    "df.describe()"
   ]
  },
  {
   "cell_type": "code",
   "execution_count": null,
   "metadata": {
    "id": "Na2VgwoffJ32"
   },
   "outputs": [],
   "source": [
    "features = df[['mean_rssi']]\n",
    "target_names = df[['target_names']]              "
   ]
  },
  {
   "cell_type": "code",
   "execution_count": null,
   "metadata": {
    "colab": {
     "base_uri": "https://localhost:8080/",
     "height": 447
    },
    "id": "upLnlgyZUrPK",
    "outputId": "d46935c7-38a1-48e6-d920-c4d47cdf3c75"
   },
   "outputs": [
    {
     "data": {
      "text/html": [
       "<div>\n",
       "<style scoped>\n",
       "    .dataframe tbody tr th:only-of-type {\n",
       "        vertical-align: middle;\n",
       "    }\n",
       "\n",
       "    .dataframe tbody tr th {\n",
       "        vertical-align: top;\n",
       "    }\n",
       "\n",
       "    .dataframe thead th {\n",
       "        text-align: right;\n",
       "    }\n",
       "</style>\n",
       "<table border=\"1\" class=\"dataframe\">\n",
       "  <thead>\n",
       "    <tr style=\"text-align: right;\">\n",
       "      <th></th>\n",
       "      <th>mean_rssi</th>\n",
       "    </tr>\n",
       "    <tr>\n",
       "      <th>datetime</th>\n",
       "      <th></th>\n",
       "    </tr>\n",
       "  </thead>\n",
       "  <tbody>\n",
       "    <tr>\n",
       "      <th>2018-01-11 16:32:22</th>\n",
       "      <td>-5.90</td>\n",
       "    </tr>\n",
       "    <tr>\n",
       "      <th>2018-01-11 16:32:22</th>\n",
       "      <td>-70.74</td>\n",
       "    </tr>\n",
       "    <tr>\n",
       "      <th>2018-01-11 16:32:22</th>\n",
       "      <td>-80.06</td>\n",
       "    </tr>\n",
       "    <tr>\n",
       "      <th>2018-01-11 16:32:22</th>\n",
       "      <td>-68.46</td>\n",
       "    </tr>\n",
       "    <tr>\n",
       "      <th>2018-01-11 16:32:22</th>\n",
       "      <td>-71.84</td>\n",
       "    </tr>\n",
       "    <tr>\n",
       "      <th>...</th>\n",
       "      <td>...</td>\n",
       "    </tr>\n",
       "    <tr>\n",
       "      <th>2018-01-13 16:21:20</th>\n",
       "      <td>-75.13</td>\n",
       "    </tr>\n",
       "    <tr>\n",
       "      <th>2018-01-13 16:21:20</th>\n",
       "      <td>-68.39</td>\n",
       "    </tr>\n",
       "    <tr>\n",
       "      <th>2018-01-13 16:21:20</th>\n",
       "      <td>-74.39</td>\n",
       "    </tr>\n",
       "    <tr>\n",
       "      <th>2018-01-13 16:21:20</th>\n",
       "      <td>-80.38</td>\n",
       "    </tr>\n",
       "    <tr>\n",
       "      <th>2018-01-13 16:21:20</th>\n",
       "      <td>-75.62</td>\n",
       "    </tr>\n",
       "  </tbody>\n",
       "</table>\n",
       "<p>108659 rows × 1 columns</p>\n",
       "</div>"
      ],
      "text/plain": [
       "                     mean_rssi\n",
       "datetime                      \n",
       "2018-01-11 16:32:22      -5.90\n",
       "2018-01-11 16:32:22     -70.74\n",
       "2018-01-11 16:32:22     -80.06\n",
       "2018-01-11 16:32:22     -68.46\n",
       "2018-01-11 16:32:22     -71.84\n",
       "...                        ...\n",
       "2018-01-13 16:21:20     -75.13\n",
       "2018-01-13 16:21:20     -68.39\n",
       "2018-01-13 16:21:20     -74.39\n",
       "2018-01-13 16:21:20     -80.38\n",
       "2018-01-13 16:21:20     -75.62\n",
       "\n",
       "[108659 rows x 1 columns]"
      ]
     },
     "execution_count": 15,
     "metadata": {
      "tags": []
     },
     "output_type": "execute_result"
    }
   ],
   "source": [
    "features"
   ]
  },
  {
   "cell_type": "code",
   "execution_count": null,
   "metadata": {
    "id": "dKhxc5e8U-WQ"
   },
   "outputs": [],
   "source": [
    "#from sklearn.model_selection import train_test_split\n",
    "#train_features,test_features,train_labels,test_labels = train_test_split(features,target_names,test_size=0.3,shuffle=False)"
   ]
  },
  {
   "cell_type": "code",
   "execution_count": null,
   "metadata": {
    "id": "x04kMzF4V4dF"
   },
   "outputs": [],
   "source": [
    "#train_labels"
   ]
  },
  {
   "cell_type": "code",
   "execution_count": null,
   "metadata": {
    "id": "7anwtDdzWJtM"
   },
   "outputs": [],
   "source": [
    "#test_labels"
   ]
  },
  {
   "cell_type": "code",
   "execution_count": null,
   "metadata": {
    "colab": {
     "base_uri": "https://localhost:8080/"
    },
    "id": "hhL4rWzUn2rQ",
    "outputId": "de2e6275-959a-458e-a98c-4fd0ba605722"
   },
   "outputs": [
    {
     "data": {
      "text/plain": [
       "((86928, 1), (86928,), (21763, 1), (21734,))"
      ]
     },
     "execution_count": 19,
     "metadata": {
      "tags": []
     },
     "output_type": "execute_result"
    }
   ],
   "source": [
    "# Split train and test data\n",
    "train_features = features.loc['2018-01-11 16:32:22':'2018-01-13 06:43:02']\n",
    "train_labels = target_names.loc['2018-01-11 16:32:22':'2018-01-13 06:43:02','target_names']\n",
    "\n",
    "test_features = features.loc['2018-01-13 06:43:02':'2018-01-13 16:21:20']\n",
    "test_labels = target_names.loc['2018-01-13 06:43:02':'2018-01-13 16:21:20','target_names']\n",
    "\n",
    "# I want to use a T-days window of input data for predicting target_class\n",
    "# It means I need to prepend (T-1) last train records to the 1st test window\n",
    "\n",
    "T = 30  # my choice of the timesteps window\n",
    "\n",
    "prepend_features = train_features.iloc[-(T-1):]\n",
    "test_features = pd.concat([prepend_features, test_features], axis=0)\n",
    "\n",
    "train_features.shape, train_labels.shape, test_features.shape, test_labels.shape"
   ]
  },
  {
   "cell_type": "code",
   "execution_count": null,
   "metadata": {
    "colab": {
     "base_uri": "https://localhost:8080/"
    },
    "id": "mKZuUJPAl3iK",
    "outputId": "10d08e31-3e82-4b3e-8ebc-3e2aa9462222"
   },
   "outputs": [
    {
     "data": {
      "text/plain": [
       "((86928, 1), (21763, 1))"
      ]
     },
     "execution_count": 20,
     "metadata": {
      "tags": []
     },
     "output_type": "execute_result"
    }
   ],
   "source": [
    "# Rescale the features\n",
    "from sklearn.preprocessing import StandardScaler  # MinMaxScaler\n",
    "\n",
    "scaler = StandardScaler()  # MinMaxScaler(feature_range=(-1,1))\n",
    "scaled_train_features = pd.DataFrame(scaler.fit_transform(train_features.values),\n",
    "                                     index=train_features.index,\n",
    "                                     columns=train_features.columns)\n",
    "# The Scaler is fit on the training set and then applied to the test set\n",
    "scaled_test_features = pd.DataFrame(scaler.transform(test_features.values),\n",
    "                                    index=test_features.index,\n",
    "                                    columns=test_features.columns)\n",
    "\n",
    "scaled_train_features.shape, scaled_test_features.shape"
   ]
  },
  {
   "cell_type": "code",
   "execution_count": null,
   "metadata": {
    "colab": {
     "base_uri": "https://localhost:8080/",
     "height": 447
    },
    "id": "PWOHaCKTENOZ",
    "outputId": "0fac015a-48a7-488a-f683-93b17e548c4a"
   },
   "outputs": [
    {
     "data": {
      "text/html": [
       "<div>\n",
       "<style scoped>\n",
       "    .dataframe tbody tr th:only-of-type {\n",
       "        vertical-align: middle;\n",
       "    }\n",
       "\n",
       "    .dataframe tbody tr th {\n",
       "        vertical-align: top;\n",
       "    }\n",
       "\n",
       "    .dataframe thead th {\n",
       "        text-align: right;\n",
       "    }\n",
       "</style>\n",
       "<table border=\"1\" class=\"dataframe\">\n",
       "  <thead>\n",
       "    <tr style=\"text-align: right;\">\n",
       "      <th></th>\n",
       "      <th>mean_rssi</th>\n",
       "    </tr>\n",
       "    <tr>\n",
       "      <th>datetime</th>\n",
       "      <th></th>\n",
       "    </tr>\n",
       "  </thead>\n",
       "  <tbody>\n",
       "    <tr>\n",
       "      <th>2018-01-11 16:32:22</th>\n",
       "      <td>5.784865</td>\n",
       "    </tr>\n",
       "    <tr>\n",
       "      <th>2018-01-11 16:32:22</th>\n",
       "      <td>0.321264</td>\n",
       "    </tr>\n",
       "    <tr>\n",
       "      <th>2018-01-11 16:32:22</th>\n",
       "      <td>-0.464066</td>\n",
       "    </tr>\n",
       "    <tr>\n",
       "      <th>2018-01-11 16:32:22</th>\n",
       "      <td>0.513383</td>\n",
       "    </tr>\n",
       "    <tr>\n",
       "      <th>2018-01-11 16:32:22</th>\n",
       "      <td>0.228575</td>\n",
       "    </tr>\n",
       "    <tr>\n",
       "      <th>...</th>\n",
       "      <td>...</td>\n",
       "    </tr>\n",
       "    <tr>\n",
       "      <th>2018-01-13 06:42:51</th>\n",
       "      <td>0.975143</td>\n",
       "    </tr>\n",
       "    <tr>\n",
       "      <th>2018-01-13 06:42:51</th>\n",
       "      <td>-0.857573</td>\n",
       "    </tr>\n",
       "    <tr>\n",
       "      <th>2018-01-13 06:43:02</th>\n",
       "      <td>0.939753</td>\n",
       "    </tr>\n",
       "    <tr>\n",
       "      <th>2018-01-13 06:43:02</th>\n",
       "      <td>0.792293</td>\n",
       "    </tr>\n",
       "    <tr>\n",
       "      <th>2018-01-13 06:43:02</th>\n",
       "      <td>1.024858</td>\n",
       "    </tr>\n",
       "  </tbody>\n",
       "</table>\n",
       "<p>86928 rows × 1 columns</p>\n",
       "</div>"
      ],
      "text/plain": [
       "                     mean_rssi\n",
       "datetime                      \n",
       "2018-01-11 16:32:22   5.784865\n",
       "2018-01-11 16:32:22   0.321264\n",
       "2018-01-11 16:32:22  -0.464066\n",
       "2018-01-11 16:32:22   0.513383\n",
       "2018-01-11 16:32:22   0.228575\n",
       "...                        ...\n",
       "2018-01-13 06:42:51   0.975143\n",
       "2018-01-13 06:42:51  -0.857573\n",
       "2018-01-13 06:43:02   0.939753\n",
       "2018-01-13 06:43:02   0.792293\n",
       "2018-01-13 06:43:02   1.024858\n",
       "\n",
       "[86928 rows x 1 columns]"
      ]
     },
     "execution_count": 21,
     "metadata": {
      "tags": []
     },
     "output_type": "execute_result"
    }
   ],
   "source": [
    "scaled_train_features"
   ]
  },
  {
   "cell_type": "code",
   "execution_count": null,
   "metadata": {
    "colab": {
     "base_uri": "https://localhost:8080/",
     "height": 447
    },
    "id": "nwqpj1FTEVzL",
    "outputId": "25e5b23e-5c8a-488b-d4af-07de7cdc3c19"
   },
   "outputs": [
    {
     "data": {
      "text/html": [
       "<div>\n",
       "<style scoped>\n",
       "    .dataframe tbody tr th:only-of-type {\n",
       "        vertical-align: middle;\n",
       "    }\n",
       "\n",
       "    .dataframe tbody tr th {\n",
       "        vertical-align: top;\n",
       "    }\n",
       "\n",
       "    .dataframe thead th {\n",
       "        text-align: right;\n",
       "    }\n",
       "</style>\n",
       "<table border=\"1\" class=\"dataframe\">\n",
       "  <thead>\n",
       "    <tr style=\"text-align: right;\">\n",
       "      <th></th>\n",
       "      <th>mean_rssi</th>\n",
       "    </tr>\n",
       "    <tr>\n",
       "      <th>datetime</th>\n",
       "      <th></th>\n",
       "    </tr>\n",
       "  </thead>\n",
       "  <tbody>\n",
       "    <tr>\n",
       "      <th>2018-01-13 06:42:29</th>\n",
       "      <td>0.519281</td>\n",
       "    </tr>\n",
       "    <tr>\n",
       "      <th>2018-01-13 06:42:29</th>\n",
       "      <td>-1.129742</td>\n",
       "    </tr>\n",
       "    <tr>\n",
       "      <th>2018-01-13 06:42:29</th>\n",
       "      <td>0.387831</td>\n",
       "    </tr>\n",
       "    <tr>\n",
       "      <th>2018-01-13 06:42:29</th>\n",
       "      <td>-1.070758</td>\n",
       "    </tr>\n",
       "    <tr>\n",
       "      <th>2018-01-13 06:42:30</th>\n",
       "      <td>-1.235070</td>\n",
       "    </tr>\n",
       "    <tr>\n",
       "      <th>...</th>\n",
       "      <td>...</td>\n",
       "    </tr>\n",
       "    <tr>\n",
       "      <th>2018-01-13 16:21:20</th>\n",
       "      <td>-0.048650</td>\n",
       "    </tr>\n",
       "    <tr>\n",
       "      <th>2018-01-13 16:21:20</th>\n",
       "      <td>0.519281</td>\n",
       "    </tr>\n",
       "    <tr>\n",
       "      <th>2018-01-13 16:21:20</th>\n",
       "      <td>0.013705</td>\n",
       "    </tr>\n",
       "    <tr>\n",
       "      <th>2018-01-13 16:21:20</th>\n",
       "      <td>-0.491030</td>\n",
       "    </tr>\n",
       "    <tr>\n",
       "      <th>2018-01-13 16:21:20</th>\n",
       "      <td>-0.089939</td>\n",
       "    </tr>\n",
       "  </tbody>\n",
       "</table>\n",
       "<p>21763 rows × 1 columns</p>\n",
       "</div>"
      ],
      "text/plain": [
       "                     mean_rssi\n",
       "datetime                      \n",
       "2018-01-13 06:42:29   0.519281\n",
       "2018-01-13 06:42:29  -1.129742\n",
       "2018-01-13 06:42:29   0.387831\n",
       "2018-01-13 06:42:29  -1.070758\n",
       "2018-01-13 06:42:30  -1.235070\n",
       "...                        ...\n",
       "2018-01-13 16:21:20  -0.048650\n",
       "2018-01-13 16:21:20   0.519281\n",
       "2018-01-13 16:21:20   0.013705\n",
       "2018-01-13 16:21:20  -0.491030\n",
       "2018-01-13 16:21:20  -0.089939\n",
       "\n",
       "[21763 rows x 1 columns]"
      ]
     },
     "execution_count": 22,
     "metadata": {
      "tags": []
     },
     "output_type": "execute_result"
    }
   ],
   "source": [
    "scaled_test_features"
   ]
  },
  {
   "cell_type": "code",
   "execution_count": null,
   "metadata": {
    "colab": {
     "base_uri": "https://localhost:8080/"
    },
    "id": "eh6XHa7igI0S",
    "outputId": "8751b75c-08fb-40ce-ee8c-80feb887d960"
   },
   "outputs": [
    {
     "name": "stdout",
     "output_type": "stream",
     "text": [
      "Train data dimensions: (86899, 30, 1), (86899, 1)\n",
      "Test data dimensions: (21734, 30, 1), (21734, 1)\n"
     ]
    }
   ],
   "source": [
    "# Create sequences of T timesteps\n",
    "X_train, y_train = [], []\n",
    "for i in range(train_labels.shape[0] - (T-1)):\n",
    "    X_train.append(scaled_train_features.iloc[i:i+T].values)\n",
    "    y_train.append(train_labels.iloc[i + (T-1)])\n",
    "X_train, y_train = np.array(X_train), np.array(y_train).reshape(-1,1)\n",
    "print(f'Train data dimensions: {X_train.shape}, {y_train.shape}')\n",
    "\n",
    "X_test, y_test = [], []\n",
    "for i in range(test_labels.shape[0]):\n",
    "    X_test.append(scaled_test_features.iloc[i:i+T].values)\n",
    "    y_test.append(test_labels.iloc[i])\n",
    "X_test, y_test = np.array(X_test), np.array(y_test).reshape(-1,1)  \n",
    "\n",
    "print(f'Test data dimensions: {X_test.shape}, {y_test.shape}')"
   ]
  },
  {
   "cell_type": "code",
   "execution_count": null,
   "metadata": {
    "colab": {
     "base_uri": "https://localhost:8080/",
     "height": 417
    },
    "id": "oAbdrXadjTb4",
    "outputId": "ca5a0fd6-f211-41e6-fa1c-f6be37460844"
   },
   "outputs": [
    {
     "data": {
      "text/html": [
       "<div>\n",
       "<style scoped>\n",
       "    .dataframe tbody tr th:only-of-type {\n",
       "        vertical-align: middle;\n",
       "    }\n",
       "\n",
       "    .dataframe tbody tr th {\n",
       "        vertical-align: top;\n",
       "    }\n",
       "\n",
       "    .dataframe thead th {\n",
       "        text-align: right;\n",
       "    }\n",
       "</style>\n",
       "<table border=\"1\" class=\"dataframe\">\n",
       "  <thead>\n",
       "    <tr style=\"text-align: right;\">\n",
       "      <th></th>\n",
       "      <th>0</th>\n",
       "    </tr>\n",
       "  </thead>\n",
       "  <tbody>\n",
       "    <tr>\n",
       "      <th>0</th>\n",
       "      <td>Good</td>\n",
       "    </tr>\n",
       "    <tr>\n",
       "      <th>1</th>\n",
       "      <td>Good</td>\n",
       "    </tr>\n",
       "    <tr>\n",
       "      <th>2</th>\n",
       "      <td>Good</td>\n",
       "    </tr>\n",
       "    <tr>\n",
       "      <th>3</th>\n",
       "      <td>Good</td>\n",
       "    </tr>\n",
       "    <tr>\n",
       "      <th>4</th>\n",
       "      <td>Good</td>\n",
       "    </tr>\n",
       "    <tr>\n",
       "      <th>...</th>\n",
       "      <td>...</td>\n",
       "    </tr>\n",
       "    <tr>\n",
       "      <th>97</th>\n",
       "      <td>Good</td>\n",
       "    </tr>\n",
       "    <tr>\n",
       "      <th>98</th>\n",
       "      <td>Good</td>\n",
       "    </tr>\n",
       "    <tr>\n",
       "      <th>99</th>\n",
       "      <td>Good</td>\n",
       "    </tr>\n",
       "    <tr>\n",
       "      <th>100</th>\n",
       "      <td>Good</td>\n",
       "    </tr>\n",
       "    <tr>\n",
       "      <th>101</th>\n",
       "      <td>Interm.</td>\n",
       "    </tr>\n",
       "  </tbody>\n",
       "</table>\n",
       "<p>102 rows × 1 columns</p>\n",
       "</div>"
      ],
      "text/plain": [
       "           0\n",
       "0       Good\n",
       "1       Good\n",
       "2       Good\n",
       "3       Good\n",
       "4       Good\n",
       "..       ...\n",
       "97      Good\n",
       "98      Good\n",
       "99      Good\n",
       "100     Good\n",
       "101  Interm.\n",
       "\n",
       "[102 rows x 1 columns]"
      ]
     },
     "execution_count": 24,
     "metadata": {
      "tags": []
     },
     "output_type": "execute_result"
    }
   ],
   "source": [
    "y_train = pd.DataFrame(y_train)\n",
    "y_train.head(102)"
   ]
  },
  {
   "cell_type": "code",
   "execution_count": null,
   "metadata": {
    "id": "-uEHlS6ma-yH"
   },
   "outputs": [],
   "source": [
    "y_train = pd.DataFrame(y_train)\n",
    "y_train = pd.get_dummies(y_train)"
   ]
  },
  {
   "cell_type": "code",
   "execution_count": null,
   "metadata": {
    "colab": {
     "base_uri": "https://localhost:8080/",
     "height": 417
    },
    "id": "40WxiQPfCFuN",
    "outputId": "7f13adce-140b-4680-d00b-acfbbf7b740f"
   },
   "outputs": [
    {
     "data": {
      "text/html": [
       "<div>\n",
       "<style scoped>\n",
       "    .dataframe tbody tr th:only-of-type {\n",
       "        vertical-align: middle;\n",
       "    }\n",
       "\n",
       "    .dataframe tbody tr th {\n",
       "        vertical-align: top;\n",
       "    }\n",
       "\n",
       "    .dataframe thead th {\n",
       "        text-align: right;\n",
       "    }\n",
       "</style>\n",
       "<table border=\"1\" class=\"dataframe\">\n",
       "  <thead>\n",
       "    <tr style=\"text-align: right;\">\n",
       "      <th></th>\n",
       "      <th>0_Bad</th>\n",
       "      <th>0_Good</th>\n",
       "      <th>0_Interm.</th>\n",
       "    </tr>\n",
       "  </thead>\n",
       "  <tbody>\n",
       "    <tr>\n",
       "      <th>0</th>\n",
       "      <td>0</td>\n",
       "      <td>1</td>\n",
       "      <td>0</td>\n",
       "    </tr>\n",
       "    <tr>\n",
       "      <th>1</th>\n",
       "      <td>0</td>\n",
       "      <td>1</td>\n",
       "      <td>0</td>\n",
       "    </tr>\n",
       "    <tr>\n",
       "      <th>2</th>\n",
       "      <td>0</td>\n",
       "      <td>1</td>\n",
       "      <td>0</td>\n",
       "    </tr>\n",
       "    <tr>\n",
       "      <th>3</th>\n",
       "      <td>0</td>\n",
       "      <td>1</td>\n",
       "      <td>0</td>\n",
       "    </tr>\n",
       "    <tr>\n",
       "      <th>4</th>\n",
       "      <td>0</td>\n",
       "      <td>1</td>\n",
       "      <td>0</td>\n",
       "    </tr>\n",
       "    <tr>\n",
       "      <th>...</th>\n",
       "      <td>...</td>\n",
       "      <td>...</td>\n",
       "      <td>...</td>\n",
       "    </tr>\n",
       "    <tr>\n",
       "      <th>86894</th>\n",
       "      <td>0</td>\n",
       "      <td>1</td>\n",
       "      <td>0</td>\n",
       "    </tr>\n",
       "    <tr>\n",
       "      <th>86895</th>\n",
       "      <td>0</td>\n",
       "      <td>1</td>\n",
       "      <td>0</td>\n",
       "    </tr>\n",
       "    <tr>\n",
       "      <th>86896</th>\n",
       "      <td>0</td>\n",
       "      <td>1</td>\n",
       "      <td>0</td>\n",
       "    </tr>\n",
       "    <tr>\n",
       "      <th>86897</th>\n",
       "      <td>0</td>\n",
       "      <td>1</td>\n",
       "      <td>0</td>\n",
       "    </tr>\n",
       "    <tr>\n",
       "      <th>86898</th>\n",
       "      <td>0</td>\n",
       "      <td>1</td>\n",
       "      <td>0</td>\n",
       "    </tr>\n",
       "  </tbody>\n",
       "</table>\n",
       "<p>86899 rows × 3 columns</p>\n",
       "</div>"
      ],
      "text/plain": [
       "       0_Bad  0_Good  0_Interm.\n",
       "0          0       1          0\n",
       "1          0       1          0\n",
       "2          0       1          0\n",
       "3          0       1          0\n",
       "4          0       1          0\n",
       "...      ...     ...        ...\n",
       "86894      0       1          0\n",
       "86895      0       1          0\n",
       "86896      0       1          0\n",
       "86897      0       1          0\n",
       "86898      0       1          0\n",
       "\n",
       "[86899 rows x 3 columns]"
      ]
     },
     "execution_count": 26,
     "metadata": {
      "tags": []
     },
     "output_type": "execute_result"
    }
   ],
   "source": [
    "y_train"
   ]
  },
  {
   "cell_type": "code",
   "execution_count": null,
   "metadata": {
    "colab": {
     "base_uri": "https://localhost:8080/"
    },
    "id": "GVv1nCfst7QA",
    "outputId": "41119eb3-9865-4232-a47d-3f7ef4d04579"
   },
   "outputs": [
    {
     "name": "stdout",
     "output_type": "stream",
     "text": [
      "(86899, 3)\n"
     ]
    },
    {
     "data": {
      "text/plain": [
       "array([[0, 1, 0],\n",
       "       [0, 1, 0],\n",
       "       [0, 1, 0],\n",
       "       ...,\n",
       "       [0, 1, 0],\n",
       "       [0, 1, 0],\n",
       "       [0, 1, 0]], dtype=uint8)"
      ]
     },
     "execution_count": 27,
     "metadata": {
      "tags": []
     },
     "output_type": "execute_result"
    }
   ],
   "source": [
    "y_train = np.array(y_train)\n",
    "print(y_train.shape)\n",
    "y_train"
   ]
  },
  {
   "cell_type": "code",
   "execution_count": null,
   "metadata": {
    "colab": {
     "base_uri": "https://localhost:8080/",
     "height": 417
    },
    "id": "PZbrOn4BbyNf",
    "outputId": "cbef1d6a-c16a-4e1f-e4bf-b0fb3823eddd"
   },
   "outputs": [
    {
     "data": {
      "text/html": [
       "<div>\n",
       "<style scoped>\n",
       "    .dataframe tbody tr th:only-of-type {\n",
       "        vertical-align: middle;\n",
       "    }\n",
       "\n",
       "    .dataframe tbody tr th {\n",
       "        vertical-align: top;\n",
       "    }\n",
       "\n",
       "    .dataframe thead th {\n",
       "        text-align: right;\n",
       "    }\n",
       "</style>\n",
       "<table border=\"1\" class=\"dataframe\">\n",
       "  <thead>\n",
       "    <tr style=\"text-align: right;\">\n",
       "      <th></th>\n",
       "      <th>0_Bad</th>\n",
       "      <th>0_Good</th>\n",
       "      <th>0_Interm.</th>\n",
       "    </tr>\n",
       "  </thead>\n",
       "  <tbody>\n",
       "    <tr>\n",
       "      <th>0</th>\n",
       "      <td>0</td>\n",
       "      <td>1</td>\n",
       "      <td>0</td>\n",
       "    </tr>\n",
       "    <tr>\n",
       "      <th>1</th>\n",
       "      <td>0</td>\n",
       "      <td>1</td>\n",
       "      <td>0</td>\n",
       "    </tr>\n",
       "    <tr>\n",
       "      <th>2</th>\n",
       "      <td>0</td>\n",
       "      <td>1</td>\n",
       "      <td>0</td>\n",
       "    </tr>\n",
       "    <tr>\n",
       "      <th>3</th>\n",
       "      <td>0</td>\n",
       "      <td>0</td>\n",
       "      <td>1</td>\n",
       "    </tr>\n",
       "    <tr>\n",
       "      <th>4</th>\n",
       "      <td>1</td>\n",
       "      <td>0</td>\n",
       "      <td>0</td>\n",
       "    </tr>\n",
       "    <tr>\n",
       "      <th>...</th>\n",
       "      <td>...</td>\n",
       "      <td>...</td>\n",
       "      <td>...</td>\n",
       "    </tr>\n",
       "    <tr>\n",
       "      <th>21729</th>\n",
       "      <td>0</td>\n",
       "      <td>1</td>\n",
       "      <td>0</td>\n",
       "    </tr>\n",
       "    <tr>\n",
       "      <th>21730</th>\n",
       "      <td>0</td>\n",
       "      <td>1</td>\n",
       "      <td>0</td>\n",
       "    </tr>\n",
       "    <tr>\n",
       "      <th>21731</th>\n",
       "      <td>0</td>\n",
       "      <td>1</td>\n",
       "      <td>0</td>\n",
       "    </tr>\n",
       "    <tr>\n",
       "      <th>21732</th>\n",
       "      <td>0</td>\n",
       "      <td>1</td>\n",
       "      <td>0</td>\n",
       "    </tr>\n",
       "    <tr>\n",
       "      <th>21733</th>\n",
       "      <td>0</td>\n",
       "      <td>1</td>\n",
       "      <td>0</td>\n",
       "    </tr>\n",
       "  </tbody>\n",
       "</table>\n",
       "<p>21734 rows × 3 columns</p>\n",
       "</div>"
      ],
      "text/plain": [
       "       0_Bad  0_Good  0_Interm.\n",
       "0          0       1          0\n",
       "1          0       1          0\n",
       "2          0       1          0\n",
       "3          0       0          1\n",
       "4          1       0          0\n",
       "...      ...     ...        ...\n",
       "21729      0       1          0\n",
       "21730      0       1          0\n",
       "21731      0       1          0\n",
       "21732      0       1          0\n",
       "21733      0       1          0\n",
       "\n",
       "[21734 rows x 3 columns]"
      ]
     },
     "execution_count": 28,
     "metadata": {
      "tags": []
     },
     "output_type": "execute_result"
    }
   ],
   "source": [
    "y_test = pd.DataFrame(y_test)\n",
    "y_test = pd.get_dummies(y_test)\n",
    "y_test "
   ]
  },
  {
   "cell_type": "code",
   "execution_count": null,
   "metadata": {
    "colab": {
     "base_uri": "https://localhost:8080/"
    },
    "id": "Nx62rfILuV4F",
    "outputId": "d68355c2-5f7f-48dc-d8eb-577d7b0028e9"
   },
   "outputs": [
    {
     "name": "stdout",
     "output_type": "stream",
     "text": [
      "(21734, 3)\n"
     ]
    },
    {
     "data": {
      "text/plain": [
       "array([[0, 1, 0],\n",
       "       [0, 1, 0],\n",
       "       [0, 1, 0],\n",
       "       ...,\n",
       "       [0, 1, 0],\n",
       "       [0, 1, 0],\n",
       "       [0, 1, 0]], dtype=uint8)"
      ]
     },
     "execution_count": 29,
     "metadata": {
      "tags": []
     },
     "output_type": "execute_result"
    }
   ],
   "source": [
    "y_test = np.array(y_test)\n",
    "print(y_test.shape)\n",
    "y_test"
   ]
  },
  {
   "cell_type": "code",
   "execution_count": null,
   "metadata": {
    "id": "94YIMuOKX3ub"
   },
   "outputs": [],
   "source": [
    "#X_train = X_train.reshape(-1, 1, 1)\n",
    "#X_test  = X_test.reshape(-1, 30, 3)\n",
    "#y_train = y_train.reshape(-1, , 3)\n",
    "#y_test = y_test.reshape(-1, 30, 3)"
   ]
  },
  {
   "cell_type": "code",
   "execution_count": null,
   "metadata": {
    "colab": {
     "base_uri": "https://localhost:8080/"
    },
    "id": "DrA2JNjEcVcD",
    "outputId": "8414a8fd-7f88-4092-e110-7ef591af21b0"
   },
   "outputs": [
    {
     "name": "stdout",
     "output_type": "stream",
     "text": [
      "(86899, 30, 1)\n",
      "(21734, 30, 1)\n",
      "(86899, 3)\n",
      "(21734, 3)\n"
     ]
    }
   ],
   "source": [
    "print(X_train.shape)\n",
    "print(X_test.shape)\n",
    "print(y_train.shape)\n",
    "print(y_test.shape)\n"
   ]
  },
  {
   "cell_type": "code",
   "execution_count": null,
   "metadata": {
    "colab": {
     "base_uri": "https://localhost:8080/"
    },
    "id": "DTkMqE--z225",
    "outputId": "d23dedf8-05f0-4851-8e8f-9d4753c5b7b9"
   },
   "outputs": [
    {
     "data": {
      "text/plain": [
       "30"
      ]
     },
     "execution_count": 32,
     "metadata": {
      "tags": []
     },
     "output_type": "execute_result"
    }
   ],
   "source": [
    "T"
   ]
  },
  {
   "cell_type": "code",
   "execution_count": null,
   "metadata": {
    "id": "6EjfG0yavWh5"
   },
   "outputs": [],
   "source": [
    "#from keras.layers.recurrent import LSTM\n",
    "#N = X_train.shape[2]\n",
    "\n",
    "#model = keras.models.Sequential()\n",
    "#model.add(LSTM(1, input_shape=(T,N),return_sequences=True))\n",
    "#model.add(keras.layers.Dense(3, activation='softmax'))"
   ]
  },
  {
   "cell_type": "code",
   "execution_count": null,
   "metadata": {
    "id": "WAH4Zeb6deSd"
   },
   "outputs": [],
   "source": [
    "from keras.models import Sequential\n",
    "from keras.layers import Dense, LSTM, BatchNormalization\n",
    "from keras.optimizers import Adam\n",
    "from keras.callbacks import ReduceLROnPlateau, EarlyStopping\n",
    "from keras.regularizers import l2\n",
    "from time import time"
   ]
  },
  {
   "cell_type": "code",
   "execution_count": null,
   "metadata": {
    "colab": {
     "base_uri": "https://localhost:8080/"
    },
    "id": "rttR71VrdZbn",
    "outputId": "187ba80d-9b77-4535-b3ad-c63674a7f5e2"
   },
   "outputs": [
    {
     "name": "stdout",
     "output_type": "stream",
     "text": [
      "layers=[8, 8, 8, 3], train_examples=86899, test_examples=21734\n",
      "batch = 86899, timesteps = 30, features = 1, epochs = 10\n",
      "dropout = 0.0, recurr_dropout = 0.0\n",
      "Model: \"sequential\"\n",
      "_________________________________________________________________\n",
      "Layer (type)                 Output Shape              Param #   \n",
      "=================================================================\n",
      "lstm (LSTM)                  (None, 30, 8)             320       \n",
      "_________________________________________________________________\n",
      "batch_normalization (BatchNo (None, 30, 8)             32        \n",
      "_________________________________________________________________\n",
      "lstm_1 (LSTM)                (None, 30, 8)             544       \n",
      "_________________________________________________________________\n",
      "batch_normalization_1 (Batch (None, 30, 8)             32        \n",
      "_________________________________________________________________\n",
      "lstm_2 (LSTM)                (None, 8)                 544       \n",
      "_________________________________________________________________\n",
      "batch_normalization_2 (Batch (None, 8)                 32        \n",
      "_________________________________________________________________\n",
      "dense (Dense)                (None, 3)                 27        \n",
      "=================================================================\n",
      "Total params: 1,531\n",
      "Trainable params: 1,483\n",
      "Non-trainable params: 48\n",
      "_________________________________________________________________\n",
      "None\n"
     ]
    }
   ],
   "source": [
    "# Let's make a list of CONSTANTS for modelling:\n",
    "LAYERS = [8, 8, 8, 3]                # number of units in hidden and output layers\n",
    "M_TRAIN = X_train.shape[0]           # number of training examples (2D)\n",
    "M_TEST = X_test.shape[0]             # number of test examples (2D),full=X_test.shape[0]\n",
    "N = X_train.shape[2]                 # number of features\n",
    "BATCH = M_TRAIN                          # batch size\n",
    "EPOCH =  10                         # number of epochs\n",
    "DP = 0.0                             # dropout rate\n",
    "RDP = 0.0                            # recurrent dropout rate\n",
    "print(f'layers={LAYERS}, train_examples={M_TRAIN}, test_examples={M_TEST}')\n",
    "print(f'batch = {BATCH}, timesteps = {T}, features = {N}, epochs = {EPOCH}')\n",
    "print(f'dropout = {DP}, recurr_dropout = {RDP}')\n",
    "\n",
    "# Build the Model\n",
    "model = Sequential()\n",
    "model.add(LSTM(input_shape=(T, N), units=LAYERS[0],\n",
    "               activation='tanh', recurrent_activation='sigmoid',\n",
    "               kernel_regularizer=None, recurrent_regularizer=None,\n",
    "               return_sequences=True, recurrent_dropout=RDP, dropout=DP\n",
    "               ))\n",
    "\n",
    "model.add(BatchNormalization())\n",
    "model.add(LSTM(units=LAYERS[1],\n",
    "               activation='tanh', recurrent_activation='sigmoid',\n",
    "               kernel_regularizer=None, recurrent_regularizer=None,\n",
    "               return_sequences=True, recurrent_dropout=RDP, dropout=DP\n",
    "               ))\n",
    "\n",
    "model.add(BatchNormalization())\n",
    "model.add(LSTM(units=LAYERS[2],\n",
    "               activation='tanh', recurrent_activation='sigmoid',\n",
    "               kernel_regularizer=None, recurrent_regularizer=None,\n",
    "               return_sequences=False, recurrent_dropout=RDP, dropout=DP\n",
    "               ))\n",
    "\n",
    "model.add(BatchNormalization())\n",
    "model.add(Dense(units=LAYERS[3], activation='softmax'))\n",
    "\n",
    "print(model.summary())"
   ]
  },
  {
   "cell_type": "code",
   "execution_count": null,
   "metadata": {
    "id": "XOQXN77PI-jU"
   },
   "outputs": [],
   "source": [
    "# Compile the model with Adam optimizer\n",
    "model.compile(loss='categorical_crossentropy',\n",
    "              metrics=['accuracy'],\n",
    "              optimizer='adam')"
   ]
  },
  {
   "cell_type": "code",
   "execution_count": null,
   "metadata": {
    "colab": {
     "base_uri": "https://localhost:8080/"
    },
    "id": "bv55kA8nI_Oq",
    "outputId": "9ccf1ce8-6c09-472d-9f51-c929cf3e8397"
   },
   "outputs": [
    {
     "name": "stdout",
     "output_type": "stream",
     "text": [
      "Epoch 1/10\n",
      "2716/2716 - 101s - loss: 0.2141 - accuracy: 0.9143 - val_loss: 0.0987 - val_accuracy: 0.9566\n",
      "Epoch 2/10\n",
      "2716/2716 - 71s - loss: 0.0576 - accuracy: 0.9768 - val_loss: 0.0473 - val_accuracy: 0.9774\n",
      "Epoch 3/10\n",
      "2716/2716 - 71s - loss: 0.0488 - accuracy: 0.9804 - val_loss: 0.0963 - val_accuracy: 0.9521\n",
      "Epoch 4/10\n",
      "2716/2716 - 71s - loss: 0.0430 - accuracy: 0.9826 - val_loss: 0.0352 - val_accuracy: 0.9830\n",
      "Epoch 5/10\n",
      "2716/2716 - 71s - loss: 0.0401 - accuracy: 0.9840 - val_loss: 0.0945 - val_accuracy: 0.9643\n",
      "Epoch 6/10\n",
      "2716/2716 - 71s - loss: 0.0362 - accuracy: 0.9854 - val_loss: 0.0187 - val_accuracy: 0.9939\n",
      "Epoch 7/10\n",
      "2716/2716 - 70s - loss: 0.0340 - accuracy: 0.9859 - val_loss: 0.0420 - val_accuracy: 0.9824\n",
      "Epoch 8/10\n",
      "2716/2716 - 70s - loss: 0.0336 - accuracy: 0.9862 - val_loss: 0.2002 - val_accuracy: 0.9353\n",
      "Epoch 9/10\n",
      "2716/2716 - 71s - loss: 0.0319 - accuracy: 0.9867 - val_loss: 0.0134 - val_accuracy: 0.9950\n",
      "Epoch 10/10\n",
      "2716/2716 - 71s - loss: 0.0301 - accuracy: 0.9880 - val_loss: 0.0246 - val_accuracy: 0.9890\n",
      "-----------------------------------------------------------------\n",
      "Training was completed in 737.62 secs\n",
      "-----------------------------------------------------------------\n",
      "1/1 [==============================] - 2s 2s/step - loss: 0.0260 - accuracy: 0.9878\n",
      "1/1 [==============================] - 2s 2s/step - loss: 0.0246 - accuracy: 0.9890\n",
      "-----------------------------------------------------------------\n",
      "train accuracy = 98.779%\n",
      "test accuracy = 98.8957%\n",
      "test error = 240 out of 21734 examples\n"
     ]
    }
   ],
   "source": [
    "# Train the model. \n",
    "# The dataset is small for NN - let's use test_data for validation\n",
    "start = time()\n",
    "History = model.fit(X_train, y_train,\n",
    "                    epochs=EPOCH,\n",
    "                    validation_split=0.0,\n",
    "                    validation_data=(X_test[:M_TEST], y_test[:M_TEST]),\n",
    "                    verbose=2)\n",
    "\n",
    "print('-'*65)\n",
    "print(f'Training was completed in {time() - start:.2f} secs')\n",
    "print('-'*65)\n",
    "# Evaluate the model:\n",
    "train_loss, train_acc = model.evaluate(X_train, y_train,\n",
    "                                       batch_size=M_TRAIN, verbose=1)\n",
    "test_loss, test_acc = model.evaluate(X_test[:M_TEST], y_test[:M_TEST],\n",
    "                                     batch_size=M_TEST, verbose=1)\n",
    "print('-'*65)\n",
    "print(f'train accuracy = {round(train_acc * 100, 4)}%')\n",
    "print(f'test accuracy = {round(test_acc * 100, 4)}%')\n",
    "print(f'test error = {round((1 - test_acc) * M_TEST)} out of {M_TEST} examples')\n"
   ]
  },
  {
   "cell_type": "code",
   "execution_count": null,
   "metadata": {
    "colab": {
     "base_uri": "https://localhost:8080/",
     "height": 390
    },
    "id": "y4xgqhF6i2Gf",
    "outputId": "b9124ad6-d3c9-4d65-f8b7-11f07f9ff15b"
   },
   "outputs": [
    {
     "data": {
      "image/png": "[encoded data removed]",
      "text/plain": [
       "<Figure size 1296x432 with 2 Axes>"
      ]
     },
     "metadata": {
      "needs_background": "light",
      "tags": []
     },
     "output_type": "display_data"
    }
   ],
   "source": [
    "# Plot the loss and accuracy curves over epochs:\n",
    "fig, axs = plt.subplots(nrows=1, ncols=2, figsize=(18,6))\n",
    "axs[0].plot(History.history['loss'], color='b', label='Training loss')\n",
    "axs[0].plot(History.history['val_loss'], color='r', label='Validation loss')\n",
    "axs[0].set_title(\"Loss curves\")\n",
    "axs[0].legend(loc='best', shadow=True)\n",
    "axs[1].plot(History.history['accuracy'], color='b', label='Training accuracy')\n",
    "axs[1].plot(History.history['val_accuracy'], color='r', label='Validation accuracy')\n",
    "axs[1].set_title(\"Accuracy curves\")\n",
    "axs[1].legend(loc='best', shadow=True)\n",
    "plt.show()"
   ]
  },
  {
   "cell_type": "code",
   "execution_count": null,
   "metadata": {
    "id": "Itdi510wvPWg"
   },
   "outputs": [],
   "source": [
    "#model.compile(optimizer='adam',loss='categorical_crossentropy',metrics=['accuracy'])"
   ]
  },
  {
   "cell_type": "code",
   "execution_count": null,
   "metadata": {
    "id": "YO0uko0CXh_l"
   },
   "outputs": [],
   "source": [
    "#history  = model.fit(X_train,y_train,epochs=2,batch_size=32,validation_data=(X_test,y_test))"
   ]
  },
  {
   "cell_type": "code",
   "execution_count": null,
   "metadata": {
    "id": "3KrP9ssxfKBT"
   },
   "outputs": [],
   "source": [
    "#model.evaluate(X_test,y_test)"
   ]
  },
  {
   "cell_type": "code",
   "execution_count": null,
   "metadata": {
    "id": "RigLN-rlhdcr"
   },
   "outputs": [],
   "source": [
    "#y_pred = model.predict(X_test)"
   ]
  },
  {
   "cell_type": "code",
   "execution_count": null,
   "metadata": {
    "id": "7GiurpHjfVFx"
   },
   "outputs": [],
   "source": [
    "#y_pred"
   ]
  },
  {
   "cell_type": "code",
   "execution_count": null,
   "metadata": {
    "id": "YWbo130IiOwI"
   },
   "outputs": [],
   "source": [
    "#predict_class = np.argmax(y_pred, axis=1)\n",
    "#predict_class = predict_class"
   ]
  },
  {
   "cell_type": "code",
   "execution_count": null,
   "metadata": {
    "id": "9bhktn1riOzQ"
   },
   "outputs": [],
   "source": [
    "#predict_class"
   ]
  },
  {
   "cell_type": "code",
   "execution_count": null,
   "metadata": {
    "id": "lLFxK0fd_17I"
   },
   "outputs": [],
   "source": [
    "#from sklearn.neighbors import KNeighborsClassifier\n",
    "#classifier = KNeighborsClassifier(n_neighbors = 5, metric = 'minkowski', p = 2)\n",
    "#classifier.fit(X_train, y_train)"
   ]
  },
  {
   "cell_type": "code",
   "execution_count": null,
   "metadata": {
    "id": "8LDusYD2EpBj"
   },
   "outputs": [],
   "source": [
    "#y_pred = np.array(y_train)\n",
    "#y_test = np.array(y_test)"
   ]
  },
  {
   "cell_type": "code",
   "execution_count": null,
   "metadata": {
    "id": "Qu1gFROFEb5O"
   },
   "outputs": [],
   "source": [
    "#y_pred = classifier.predict(X_test)\n",
    "#print(np.concatenate((y_pred.reshape(len(y_pred),1), y_test.reshape(len(y_test),1)),1))"
   ]
  },
  {
   "cell_type": "code",
   "execution_count": null,
   "metadata": {
    "id": "kzzM-s1fE3z2"
   },
   "outputs": [],
   "source": [
    "#from sklearn.metrics import accuracy_score,confusion_matrix,classification_report\n",
    "#conf = confusion_matrix(y_pred,y_test)\n",
    "#acc = accuracy_score(y_pred,y_test)\n",
    "#report = classification_report(y_pred,y_test)"
   ]
  },
  {
   "cell_type": "code",
   "execution_count": null,
   "metadata": {
    "id": "sMFVF9xUE-r1"
   },
   "outputs": [],
   "source": [
    "#print(report)"
   ]
  },
  {
   "cell_type": "code",
   "execution_count": null,
   "metadata": {
    "colab": {
     "base_uri": "https://localhost:8080/"
    },
    "id": "BZ-sXEy9jAfu",
    "outputId": "b308a850-96e4-442a-c023-dfa2e78f5d35"
   },
   "outputs": [
    {
     "data": {
      "text/plain": [
       "array([[0, 1, 0],\n",
       "       [0, 1, 0],\n",
       "       [0, 1, 0],\n",
       "       ...,\n",
       "       [0, 1, 0],\n",
       "       [0, 1, 0],\n",
       "       [0, 1, 0]], dtype=uint8)"
      ]
     },
     "execution_count": 51,
     "metadata": {
      "tags": []
     },
     "output_type": "execute_result"
    }
   ],
   "source": [
    "y_test"
   ]
  },
  {
   "cell_type": "code",
   "execution_count": null,
   "metadata": {
    "colab": {
     "base_uri": "https://localhost:8080/"
    },
    "id": "CL7PydRRp8ze",
    "outputId": "86a1c4ed-5271-4d4c-b32e-094094fee688"
   },
   "outputs": [
    {
     "data": {
      "text/plain": [
       "array([1, 1, 1, ..., 1, 1, 1])"
      ]
     },
     "execution_count": 52,
     "metadata": {
      "tags": []
     },
     "output_type": "execute_result"
    }
   ],
   "source": [
    "y_test = pd.DataFrame(y_test)\n",
    "y_test=np.argmax(y_test.iloc[:,:].values, axis=1)\n",
    "y_test"
   ]
  },
  {
   "cell_type": "code",
   "execution_count": null,
   "metadata": {
    "colab": {
     "base_uri": "https://localhost:8080/",
     "height": 538
    },
    "id": "i2QDYPesE_sg",
    "outputId": "63797584-f0c3-4b15-9964-f40910c5bab6"
   },
   "outputs": [
    {
     "name": "stdout",
     "output_type": "stream",
     "text": [
      "1/1 [==============================] - 0s 51ms/step\n",
      "2019-01-13 06:43:02 1 1\n",
      "2019-01-13 07:43:02 1 1\n",
      "2019-01-13 08:43:02 1 1\n",
      "2019-01-13 09:43:02 0 2\n",
      "2019-01-13 10:43:02 0 0\n",
      "2019-01-13 11:43:02 0 2\n",
      "2019-01-13 12:43:02 2 2\n",
      "2019-01-13 13:43:02 2 2\n",
      "2019-01-13 14:43:02 1 1\n",
      "2019-01-13 15:43:02 1 1\n",
      "2019-01-13 16:43:02 1 1\n"
     ]
    },
    {
     "ename": "IndexError",
     "evalue": "ignored",
     "output_type": "error",
     "traceback": [
      "\u001b[0;31m---------------------------------------------------------------------------\u001b[0m",
      "\u001b[0;31mIndexError\u001b[0m                                Traceback (most recent call last)",
      "\u001b[0;32m<ipython-input-59-e5bb155b75a1>\u001b[0m in \u001b[0;36m<module>\u001b[0;34m()\u001b[0m\n\u001b[1;32m      4\u001b[0m \u001b[0mindex\u001b[0m \u001b[0;34m=\u001b[0m \u001b[0mpd\u001b[0m\u001b[0;34m.\u001b[0m\u001b[0mdate_range\u001b[0m\u001b[0;34m(\u001b[0m\u001b[0mstart\u001b[0m\u001b[0;34m=\u001b[0m\u001b[0;34m'2019-01-13 06:43:02'\u001b[0m\u001b[0;34m,\u001b[0m \u001b[0mend\u001b[0m\u001b[0;34m=\u001b[0m\u001b[0;34m'2019-01-13 16:43:02'\u001b[0m\u001b[0;34m,\u001b[0m \u001b[0mfreq\u001b[0m\u001b[0;34m=\u001b[0m\u001b[0;34m'H'\u001b[0m\u001b[0;34m)\u001b[0m\u001b[0;34m\u001b[0m\u001b[0;34m\u001b[0m\u001b[0m\n\u001b[1;32m      5\u001b[0m \u001b[0;32mfor\u001b[0m \u001b[0mi\u001b[0m \u001b[0;32min\u001b[0m \u001b[0mrange\u001b[0m\u001b[0;34m(\u001b[0m\u001b[0my_pred\u001b[0m\u001b[0;34m.\u001b[0m\u001b[0mshape\u001b[0m\u001b[0;34m[\u001b[0m\u001b[0;36m0\u001b[0m\u001b[0;34m]\u001b[0m\u001b[0;34m)\u001b[0m\u001b[0;34m:\u001b[0m\u001b[0;34m\u001b[0m\u001b[0;34m\u001b[0m\u001b[0m\n\u001b[0;32m----> 6\u001b[0;31m     \u001b[0mprint\u001b[0m\u001b[0;34m(\u001b[0m\u001b[0mindex\u001b[0m\u001b[0;34m[\u001b[0m\u001b[0mi\u001b[0m\u001b[0;34m]\u001b[0m\u001b[0;34m,\u001b[0m \u001b[0my_pred\u001b[0m\u001b[0;34m[\u001b[0m\u001b[0mi\u001b[0m\u001b[0;34m]\u001b[0m\u001b[0;34m,\u001b[0m \u001b[0my_test\u001b[0m\u001b[0;34m[\u001b[0m\u001b[0mi\u001b[0m\u001b[0;34m]\u001b[0m\u001b[0;34m)\u001b[0m\u001b[0;34m\u001b[0m\u001b[0;34m\u001b[0m\u001b[0m\n\u001b[0m",
      "\u001b[0;32m/usr/local/lib/python3.7/dist-packages/pandas/core/indexes/extension.py\u001b[0m in \u001b[0;36m__getitem__\u001b[0;34m(self, key)\u001b[0m\n\u001b[1;32m    213\u001b[0m \u001b[0;34m\u001b[0m\u001b[0m\n\u001b[1;32m    214\u001b[0m     \u001b[0;32mdef\u001b[0m \u001b[0m__getitem__\u001b[0m\u001b[0;34m(\u001b[0m\u001b[0mself\u001b[0m\u001b[0;34m,\u001b[0m \u001b[0mkey\u001b[0m\u001b[0;34m)\u001b[0m\u001b[0;34m:\u001b[0m\u001b[0;34m\u001b[0m\u001b[0;34m\u001b[0m\u001b[0m\n\u001b[0;32m--> 215\u001b[0;31m         \u001b[0mresult\u001b[0m \u001b[0;34m=\u001b[0m \u001b[0mself\u001b[0m\u001b[0;34m.\u001b[0m\u001b[0m_data\u001b[0m\u001b[0;34m[\u001b[0m\u001b[0mkey\u001b[0m\u001b[0;34m]\u001b[0m\u001b[0;34m\u001b[0m\u001b[0;34m\u001b[0m\u001b[0m\n\u001b[0m\u001b[1;32m    216\u001b[0m         \u001b[0;32mif\u001b[0m \u001b[0misinstance\u001b[0m\u001b[0;34m(\u001b[0m\u001b[0mresult\u001b[0m\u001b[0;34m,\u001b[0m \u001b[0mtype\u001b[0m\u001b[0;34m(\u001b[0m\u001b[0mself\u001b[0m\u001b[0;34m.\u001b[0m\u001b[0m_data\u001b[0m\u001b[0;34m)\u001b[0m\u001b[0;34m)\u001b[0m\u001b[0;34m:\u001b[0m\u001b[0;34m\u001b[0m\u001b[0;34m\u001b[0m\u001b[0m\n\u001b[1;32m    217\u001b[0m             \u001b[0;32mif\u001b[0m \u001b[0mresult\u001b[0m\u001b[0;34m.\u001b[0m\u001b[0mndim\u001b[0m \u001b[0;34m==\u001b[0m \u001b[0;36m1\u001b[0m\u001b[0;34m:\u001b[0m\u001b[0;34m\u001b[0m\u001b[0;34m\u001b[0m\u001b[0m\n",
      "\u001b[0;32m/usr/local/lib/python3.7/dist-packages/pandas/core/arrays/datetimelike.py\u001b[0m in \u001b[0;36m__getitem__\u001b[0;34m(self, key)\u001b[0m\n\u001b[1;32m    536\u001b[0m         \u001b[0;32mif\u001b[0m \u001b[0mlib\u001b[0m\u001b[0;34m.\u001b[0m\u001b[0mis_integer\u001b[0m\u001b[0;34m(\u001b[0m\u001b[0mkey\u001b[0m\u001b[0;34m)\u001b[0m\u001b[0;34m:\u001b[0m\u001b[0;34m\u001b[0m\u001b[0;34m\u001b[0m\u001b[0m\n\u001b[1;32m    537\u001b[0m             \u001b[0;31m# fast-path\u001b[0m\u001b[0;34m\u001b[0m\u001b[0;34m\u001b[0m\u001b[0;34m\u001b[0m\u001b[0m\n\u001b[0;32m--> 538\u001b[0;31m             \u001b[0mresult\u001b[0m \u001b[0;34m=\u001b[0m \u001b[0mself\u001b[0m\u001b[0;34m.\u001b[0m\u001b[0m_data\u001b[0m\u001b[0;34m[\u001b[0m\u001b[0mkey\u001b[0m\u001b[0;34m]\u001b[0m\u001b[0;34m\u001b[0m\u001b[0;34m\u001b[0m\u001b[0m\n\u001b[0m\u001b[1;32m    539\u001b[0m             \u001b[0;32mif\u001b[0m \u001b[0mself\u001b[0m\u001b[0;34m.\u001b[0m\u001b[0mndim\u001b[0m \u001b[0;34m==\u001b[0m \u001b[0;36m1\u001b[0m\u001b[0;34m:\u001b[0m\u001b[0;34m\u001b[0m\u001b[0;34m\u001b[0m\u001b[0m\n\u001b[1;32m    540\u001b[0m                 \u001b[0;32mreturn\u001b[0m \u001b[0mself\u001b[0m\u001b[0;34m.\u001b[0m\u001b[0m_box_func\u001b[0m\u001b[0;34m(\u001b[0m\u001b[0mresult\u001b[0m\u001b[0;34m)\u001b[0m\u001b[0;34m\u001b[0m\u001b[0;34m\u001b[0m\u001b[0m\n",
      "\u001b[0;31mIndexError\u001b[0m: index 11 is out of bounds for axis 0 with size 11"
     ]
    }
   ],
   "source": [
    "y_pred = np.argmax(model.predict(X_test, batch_size=M_TEST, verbose=1),axis=-1)\n",
    "#score = sum(y_pred == y_test) / len(y_test)\n",
    "#print(f'Prediction accuracy = {score*100}%')\n",
    "index = pd.date_range(start='2019-01-13 06:43:02', end='2019-01-13 16:43:02', freq='H')\n",
    "for i in range(y_pred.shape[0]):\n",
    "    print(index[i], y_pred[i], y_test[i])"
   ]
  },
  {
   "cell_type": "code",
   "execution_count": null,
   "metadata": {
    "colab": {
     "base_uri": "https://localhost:8080/"
    },
    "id": "R1jSNS81ZWLI",
    "outputId": "874a68bd-a80d-44b5-a872-c92117894031"
   },
   "outputs": [
    {
     "data": {
      "text/plain": [
       "array([1, 1, 1, ..., 1, 1, 1])"
      ]
     },
     "execution_count": 60,
     "metadata": {
      "tags": []
     },
     "output_type": "execute_result"
    }
   ],
   "source": [
    "y_test"
   ]
  },
  {
   "cell_type": "code",
   "execution_count": null,
   "metadata": {
    "colab": {
     "base_uri": "https://localhost:8080/"
    },
    "id": "ZADVcpkgZYsz",
    "outputId": "01d84804-3b75-4248-c857-c0bda4bf962b"
   },
   "outputs": [
    {
     "data": {
      "text/plain": [
       "array([1, 1, 1, ..., 1, 1, 1])"
      ]
     },
     "execution_count": 61,
     "metadata": {
      "tags": []
     },
     "output_type": "execute_result"
    }
   ],
   "source": [
    "y_pred"
   ]
  },
  {
   "cell_type": "code",
   "execution_count": null,
   "metadata": {
    "id": "o3IBez-TF0Cn"
   },
   "outputs": [],
   "source": [
    "from sklearn.metrics import accuracy_score,confusion_matrix,classification_report\n",
    "conf = confusion_matrix(y_pred,y_test)\n",
    "acc = accuracy_score(y_pred,y_test)*100\n",
    "report = classification_report(y_pred,y_test)"
   ]
  },
  {
   "cell_type": "code",
   "execution_count": null,
   "metadata": {
    "colab": {
     "base_uri": "https://localhost:8080/"
    },
    "id": "soAQkpg4famb",
    "outputId": "5170856f-b405-465d-a524-6a06cbaa3005"
   },
   "outputs": [
    {
     "name": "stdout",
     "output_type": "stream",
     "text": [
      "[[ 1919     0   215]\n",
      " [    0 15691     4]\n",
      " [    0    21  3884]]\n"
     ]
    }
   ],
   "source": [
    "print(conf)"
   ]
  },
  {
   "cell_type": "code",
   "execution_count": null,
   "metadata": {
    "colab": {
     "base_uri": "https://localhost:8080/"
    },
    "id": "euxQwS5-fgRX",
    "outputId": "52e507cc-174c-4e03-b66e-4a22bb63b6bd"
   },
   "outputs": [
    {
     "name": "stdout",
     "output_type": "stream",
     "text": [
      "98.90 %\n"
     ]
    }
   ],
   "source": [
    "print(f'{acc:.2f} %')"
   ]
  },
  {
   "cell_type": "code",
   "execution_count": null,
   "metadata": {
    "colab": {
     "base_uri": "https://localhost:8080/"
    },
    "id": "MGNPNI5yfii3",
    "outputId": "025e5f34-823e-41c8-ffe0-a3558c7094fa"
   },
   "outputs": [
    {
     "name": "stdout",
     "output_type": "stream",
     "text": [
      "              precision    recall  f1-score   support\n",
      "\n",
      "           0       1.00      0.90      0.95      2134\n",
      "           1       1.00      1.00      1.00     15695\n",
      "           2       0.95      0.99      0.97      3905\n",
      "\n",
      "    accuracy                           0.99     21734\n",
      "   macro avg       0.98      0.96      0.97     21734\n",
      "weighted avg       0.99      0.99      0.99     21734\n",
      "\n"
     ]
    }
   ],
   "source": [
    "print(report)"
   ]
  },
  {
   "cell_type": "code",
   "execution_count": null,
   "metadata": {
    "id": "OKLKb2xo0tjn"
   },
   "outputs": [],
   "source": [
    "y_pred = y_pred.astype(object)\n",
    "y_pred[y_pred==0] = 'Bad'\n",
    "y_pred[y_pred==1] = 'Good'\n",
    "y_pred[y_pred==2] = 'Interm'"
   ]
  },
  {
   "cell_type": "code",
   "execution_count": null,
   "metadata": {
    "colab": {
     "base_uri": "https://localhost:8080/"
    },
    "id": "_hPi6kqj14QR",
    "outputId": "0c6ddd1f-c9ef-4fd0-a3ec-1da8b8fa7372"
   },
   "outputs": [
    {
     "data": {
      "text/plain": [
       "array(['Good', 'Good', 'Good', ..., 'Good', 'Good', 'Good'], dtype=object)"
      ]
     },
     "execution_count": 67,
     "metadata": {
      "tags": []
     },
     "output_type": "execute_result"
    }
   ],
   "source": [
    "y_pred"
   ]
  },
  {
   "cell_type": "code",
   "execution_count": null,
   "metadata": {
    "id": "zZ3Df54z55xa"
   },
   "outputs": [],
   "source": [
    "y_test= y_test.astype(object)\n",
    "y_test[y_test==0] = 'Bad'\n",
    "y_test[y_test==1] = 'Good'\n",
    "y_test[y_test==2] = 'Interm'"
   ]
  },
  {
   "cell_type": "code",
   "execution_count": null,
   "metadata": {
    "colab": {
     "base_uri": "https://localhost:8080/"
    },
    "id": "fHKxD1eQ6F36",
    "outputId": "81a5c195-ca63-45e5-f085-f0ba64943706"
   },
   "outputs": [
    {
     "data": {
      "text/plain": [
       "array(['Good', 'Good', 'Good', ..., 'Good', 'Good', 'Good'], dtype=object)"
      ]
     },
     "execution_count": 69,
     "metadata": {
      "tags": []
     },
     "output_type": "execute_result"
    }
   ],
   "source": [
    "y_test"
   ]
  },
  {
   "cell_type": "code",
   "execution_count": null,
   "metadata": {
    "colab": {
     "base_uri": "https://localhost:8080/"
    },
    "id": "c-CntyiU6dqm",
    "outputId": "1bb50643-3524-45a0-9bbc-6111cbd1b1a9"
   },
   "outputs": [
    {
     "name": "stdout",
     "output_type": "stream",
     "text": [
      "[['Good' 'Good']\n",
      " ['Good' 'Good']\n",
      " ['Good' 'Good']\n",
      " ...\n",
      " ['Good' 'Good']\n",
      " ['Good' 'Good']\n",
      " ['Good' 'Good']]\n"
     ]
    }
   ],
   "source": [
    "comparision=np.concatenate((y_test.reshape(len(y_test),1), y_pred.reshape(len(y_pred),1)),1)\n",
    "print(comparision)"
   ]
  },
  {
   "cell_type": "code",
   "execution_count": null,
   "metadata": {
    "colab": {
     "base_uri": "https://localhost:8080/",
     "height": 538
    },
    "id": "DUFsqg940hai",
    "outputId": "ed0262fd-deab-41f3-867b-95a862e232ae"
   },
   "outputs": [
    {
     "name": "stdout",
     "output_type": "stream",
     "text": [
      "Prediction accuracy = 98.89573939449711%\n",
      "2019-01-13 06:43:02 Good\n",
      "2019-01-13 07:43:02 Good\n",
      "2019-01-13 08:43:02 Good\n",
      "2019-01-13 09:43:02 Bad\n",
      "2019-01-13 10:43:02 Bad\n",
      "2019-01-13 11:43:02 Bad\n",
      "2019-01-13 12:43:02 Interm\n",
      "2019-01-13 13:43:02 Interm\n",
      "2019-01-13 14:43:02 Good\n",
      "2019-01-13 15:43:02 Good\n",
      "2019-01-13 16:43:02 Good\n"
     ]
    },
    {
     "ename": "IndexError",
     "evalue": "ignored",
     "output_type": "error",
     "traceback": [
      "\u001b[0;31m---------------------------------------------------------------------------\u001b[0m",
      "\u001b[0;31mIndexError\u001b[0m                                Traceback (most recent call last)",
      "\u001b[0;32m<ipython-input-78-2fad43204203>\u001b[0m in \u001b[0;36m<module>\u001b[0;34m()\u001b[0m\n\u001b[1;32m      3\u001b[0m \u001b[0mindex\u001b[0m \u001b[0;34m=\u001b[0m \u001b[0mpd\u001b[0m\u001b[0;34m.\u001b[0m\u001b[0mdate_range\u001b[0m\u001b[0;34m(\u001b[0m\u001b[0mstart\u001b[0m\u001b[0;34m=\u001b[0m\u001b[0;34m'2019-01-13 06:43:02'\u001b[0m\u001b[0;34m,\u001b[0m \u001b[0mend\u001b[0m\u001b[0;34m=\u001b[0m\u001b[0;34m'2019-01-13 16:43:02'\u001b[0m\u001b[0;34m,\u001b[0m \u001b[0mfreq\u001b[0m\u001b[0;34m=\u001b[0m\u001b[0;34m'H'\u001b[0m\u001b[0;34m)\u001b[0m\u001b[0;34m\u001b[0m\u001b[0;34m\u001b[0m\u001b[0m\n\u001b[1;32m      4\u001b[0m \u001b[0;32mfor\u001b[0m \u001b[0mi\u001b[0m \u001b[0;32min\u001b[0m \u001b[0mrange\u001b[0m\u001b[0;34m(\u001b[0m\u001b[0my_pred\u001b[0m\u001b[0;34m.\u001b[0m\u001b[0mshape\u001b[0m\u001b[0;34m[\u001b[0m\u001b[0;36m0\u001b[0m\u001b[0;34m]\u001b[0m\u001b[0;34m)\u001b[0m\u001b[0;34m:\u001b[0m\u001b[0;34m\u001b[0m\u001b[0;34m\u001b[0m\u001b[0m\n\u001b[0;32m----> 5\u001b[0;31m     \u001b[0mprint\u001b[0m\u001b[0;34m(\u001b[0m\u001b[0mindex\u001b[0m\u001b[0;34m[\u001b[0m\u001b[0mi\u001b[0m\u001b[0;34m]\u001b[0m\u001b[0;34m,\u001b[0m \u001b[0my_pred\u001b[0m\u001b[0;34m[\u001b[0m\u001b[0mi\u001b[0m\u001b[0;34m]\u001b[0m\u001b[0;34m)\u001b[0m\u001b[0;34m\u001b[0m\u001b[0;34m\u001b[0m\u001b[0m\n\u001b[0m",
      "\u001b[0;32m/usr/local/lib/python3.7/dist-packages/pandas/core/indexes/extension.py\u001b[0m in \u001b[0;36m__getitem__\u001b[0;34m(self, key)\u001b[0m\n\u001b[1;32m    213\u001b[0m \u001b[0;34m\u001b[0m\u001b[0m\n\u001b[1;32m    214\u001b[0m     \u001b[0;32mdef\u001b[0m \u001b[0m__getitem__\u001b[0m\u001b[0;34m(\u001b[0m\u001b[0mself\u001b[0m\u001b[0;34m,\u001b[0m \u001b[0mkey\u001b[0m\u001b[0;34m)\u001b[0m\u001b[0;34m:\u001b[0m\u001b[0;34m\u001b[0m\u001b[0;34m\u001b[0m\u001b[0m\n\u001b[0;32m--> 215\u001b[0;31m         \u001b[0mresult\u001b[0m \u001b[0;34m=\u001b[0m \u001b[0mself\u001b[0m\u001b[0;34m.\u001b[0m\u001b[0m_data\u001b[0m\u001b[0;34m[\u001b[0m\u001b[0mkey\u001b[0m\u001b[0;34m]\u001b[0m\u001b[0;34m\u001b[0m\u001b[0;34m\u001b[0m\u001b[0m\n\u001b[0m\u001b[1;32m    216\u001b[0m         \u001b[0;32mif\u001b[0m \u001b[0misinstance\u001b[0m\u001b[0;34m(\u001b[0m\u001b[0mresult\u001b[0m\u001b[0;34m,\u001b[0m \u001b[0mtype\u001b[0m\u001b[0;34m(\u001b[0m\u001b[0mself\u001b[0m\u001b[0;34m.\u001b[0m\u001b[0m_data\u001b[0m\u001b[0;34m)\u001b[0m\u001b[0;34m)\u001b[0m\u001b[0;34m:\u001b[0m\u001b[0;34m\u001b[0m\u001b[0;34m\u001b[0m\u001b[0m\n\u001b[1;32m    217\u001b[0m             \u001b[0;32mif\u001b[0m \u001b[0mresult\u001b[0m\u001b[0;34m.\u001b[0m\u001b[0mndim\u001b[0m \u001b[0;34m==\u001b[0m \u001b[0;36m1\u001b[0m\u001b[0;34m:\u001b[0m\u001b[0;34m\u001b[0m\u001b[0;34m\u001b[0m\u001b[0m\n",
      "\u001b[0;32m/usr/local/lib/python3.7/dist-packages/pandas/core/arrays/datetimelike.py\u001b[0m in \u001b[0;36m__getitem__\u001b[0;34m(self, key)\u001b[0m\n\u001b[1;32m    536\u001b[0m         \u001b[0;32mif\u001b[0m \u001b[0mlib\u001b[0m\u001b[0;34m.\u001b[0m\u001b[0mis_integer\u001b[0m\u001b[0;34m(\u001b[0m\u001b[0mkey\u001b[0m\u001b[0;34m)\u001b[0m\u001b[0;34m:\u001b[0m\u001b[0;34m\u001b[0m\u001b[0;34m\u001b[0m\u001b[0m\n\u001b[1;32m    537\u001b[0m             \u001b[0;31m# fast-path\u001b[0m\u001b[0;34m\u001b[0m\u001b[0;34m\u001b[0m\u001b[0;34m\u001b[0m\u001b[0m\n\u001b[0;32m--> 538\u001b[0;31m             \u001b[0mresult\u001b[0m \u001b[0;34m=\u001b[0m \u001b[0mself\u001b[0m\u001b[0;34m.\u001b[0m\u001b[0m_data\u001b[0m\u001b[0;34m[\u001b[0m\u001b[0mkey\u001b[0m\u001b[0;34m]\u001b[0m\u001b[0;34m\u001b[0m\u001b[0;34m\u001b[0m\u001b[0m\n\u001b[0m\u001b[1;32m    539\u001b[0m             \u001b[0;32mif\u001b[0m \u001b[0mself\u001b[0m\u001b[0;34m.\u001b[0m\u001b[0mndim\u001b[0m \u001b[0;34m==\u001b[0m \u001b[0;36m1\u001b[0m\u001b[0;34m:\u001b[0m\u001b[0;34m\u001b[0m\u001b[0;34m\u001b[0m\u001b[0m\n\u001b[1;32m    540\u001b[0m                 \u001b[0;32mreturn\u001b[0m \u001b[0mself\u001b[0m\u001b[0;34m.\u001b[0m\u001b[0m_box_func\u001b[0m\u001b[0;34m(\u001b[0m\u001b[0mresult\u001b[0m\u001b[0;34m)\u001b[0m\u001b[0;34m\u001b[0m\u001b[0;34m\u001b[0m\u001b[0m\n",
      "\u001b[0;31mIndexError\u001b[0m: index 11 is out of bounds for axis 0 with size 11"
     ]
    }
   ],
   "source": [
    "score = sum(y_pred == y_test) / len(y_test)\n",
    "print(f'Prediction accuracy = {score*100}%')\n",
    "index = pd.date_range(start='2019-01-13 06:43:02', end='2019-01-13 16:43:02', freq='H')\n",
    "for i in range(y_pred.shape[0]):\n",
    "    print(index[i], y_pred[i])"
   ]
  }
 ],
 "metadata": {
  "accelerator": "GPU",
  "colab": {
   "collapsed_sections": [],
   "name": "Link_Quality_Prediciton_using_mean_rssi.ipynb",
   "provenance": []
  },
  "kernelspec": {
   "display_name": "Python 3",
   "language": "python",
   "name": "python3"
  },
  "language_info": {
   "codemirror_mode": {
    "name": "ipython",
    "version": 3
   },
   "file_extension": ".py",
   "mimetype": "text/x-python",
   "name": "python",
   "nbconvert_exporter": "python",
   "pygments_lexer": "ipython3",
   "version": "3.8.8"
  }
 },
 "nbformat": 4,
 "nbformat_minor": 1
}
