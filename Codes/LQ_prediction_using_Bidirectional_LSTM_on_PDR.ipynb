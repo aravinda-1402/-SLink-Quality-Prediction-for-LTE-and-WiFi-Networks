{
  "nbformat": 4,
  "nbformat_minor": 0,
  "metadata": {
    "accelerator": "GPU",
    "colab": {
      "name": " LQ_prediction_using_Bidirectional_LSTM on RSSI.ipynb",
      "provenance": [],
      "collapsed_sections": []
    },
    "kernelspec": {
      "display_name": "Python 3",
      "language": "python",
      "name": "python3"
    },
    "language_info": {
      "codemirror_mode": {
        "name": "ipython",
        "version": 3
      },
      "file_extension": ".py",
      "mimetype": "text/x-python",
      "name": "python",
      "nbconvert_exporter": "python",
      "pygments_lexer": "ipython3",
      "version": "3.8.8"
    }
  },
  "cells": [
    {
      "cell_type": "code",
      "metadata": {
        "id": "X9CkDS6WAttw",
        "colab": {
          "base_uri": "https://localhost:8080/"
        },
        "outputId": "d5a7291d-f991-4f39-98f1-0f7867c31c97"
      },
      "source": [
        "import numpy as np\n",
        "import pandas as pd\n",
        "import matplotlib.pyplot as plt\n",
        "import random\n",
        "import sys\n",
        "import time\n",
        "from imblearn.under_sampling import RandomUnderSampler\n",
        "from imblearn.over_sampling import RandomOverSampler\n",
        "import seaborn as sns\n",
        "import tensorflow as tf\n",
        "import keras\n",
        "%matplotlib inline"
      ],
      "execution_count": 1,
      "outputs": [
        {
          "output_type": "stream",
          "text": [
            "/usr/local/lib/python3.7/dist-packages/sklearn/externals/six.py:31: FutureWarning: The module is deprecated in version 0.21 and will be removed in version 0.23 since we've dropped support for Python 2.7. Please rely on the official version of six (https://pypi.org/project/six/).\n",
            "  \"(https://pypi.org/project/six/).\", FutureWarning)\n",
            "/usr/local/lib/python3.7/dist-packages/sklearn/utils/deprecation.py:144: FutureWarning: The sklearn.neighbors.base module is  deprecated in version 0.22 and will be removed in version 0.24. The corresponding classes / functions should instead be imported from sklearn.neighbors. Anything that cannot be imported from sklearn.neighbors is now part of the private API.\n",
            "  warnings.warn(message, FutureWarning)\n"
          ],
          "name": "stderr"
        }
      ]
    },
    {
      "cell_type": "code",
      "metadata": {
        "id": "1lCe3bQnBNPc"
      },
      "source": [
        "df = pd.read_csv('grenoble_pdr.csv',\n",
        "                 parse_dates=['datetime'],\n",
        "                 infer_datetime_format=True,\n",
        "                 index_col='datetime')              "
      ],
      "execution_count": 2,
      "outputs": []
    },
    {
      "cell_type": "code",
      "metadata": {
        "colab": {
          "base_uri": "https://localhost:8080/"
        },
        "id": "7loGGWSHBSSF",
        "outputId": "c95d3b95-5544-48e3-f72c-bf6c6ca4148a"
      },
      "source": [
        "df.shape"
      ],
      "execution_count": 3,
      "outputs": [
        {
          "output_type": "execute_result",
          "data": {
            "text/plain": [
              "(108659, 7)"
            ]
          },
          "metadata": {},
          "execution_count": 3
        }
      ]
    },
    {
      "cell_type": "code",
      "metadata": {
        "id": "D6ptRAUzKFuJ"
      },
      "source": [
        "target_names = np.array('target_names')"
      ],
      "execution_count": 4,
      "outputs": []
    },
    {
      "cell_type": "code",
      "metadata": {
        "colab": {
          "base_uri": "https://localhost:8080/"
        },
        "id": "7VCWUO9EEYoL",
        "outputId": "7d765e53-4117-4f37-faee-95e6dd84db03"
      },
      "source": [
        "count_bad=(df['target_names']=='Bad').sum()\n",
        "print(count_bad)"
      ],
      "execution_count": 5,
      "outputs": [
        {
          "output_type": "stream",
          "text": [
            "10220\n"
          ],
          "name": "stdout"
        }
      ]
    },
    {
      "cell_type": "code",
      "metadata": {
        "colab": {
          "base_uri": "https://localhost:8080/"
        },
        "id": "dYozQ1XyGAZq",
        "outputId": "d8b83c24-6846-4374-f8a3-66920ea658ff"
      },
      "source": [
        "count_interm=(df['target_names']=='Interm.').sum()\n",
        "print(count_interm)"
      ],
      "execution_count": 6,
      "outputs": [
        {
          "output_type": "stream",
          "text": [
            "13017\n"
          ],
          "name": "stdout"
        }
      ]
    },
    {
      "cell_type": "code",
      "metadata": {
        "colab": {
          "base_uri": "https://localhost:8080/"
        },
        "id": "BWRXwf5XJRWm",
        "outputId": "51bc289f-2b7a-4d75-a4d0-4233058d4bd0"
      },
      "source": [
        "count_good=(df['target_names']=='Good').sum()\n",
        "print(count_good)"
      ],
      "execution_count": 7,
      "outputs": [
        {
          "output_type": "stream",
          "text": [
            "85422\n"
          ],
          "name": "stdout"
        }
      ]
    },
    {
      "cell_type": "code",
      "metadata": {
        "colab": {
          "base_uri": "https://localhost:8080/"
        },
        "id": "sVHqPAeDKeKj",
        "outputId": "d0c01758-12af-4516-e1c2-dc65c0c02b97"
      },
      "source": [
        "df.info()"
      ],
      "execution_count": 8,
      "outputs": [
        {
          "output_type": "stream",
          "text": [
            "<class 'pandas.core.frame.DataFrame'>\n",
            "DatetimeIndex: 108659 entries, 2018-01-11 16:32:22 to 2018-01-13 16:21:20\n",
            "Data columns (total 7 columns):\n",
            " #   Column        Non-Null Count   Dtype  \n",
            "---  ------        --------------   -----  \n",
            " 0   src           108659 non-null  int64  \n",
            " 1   dst           108659 non-null  int64  \n",
            " 2   channel       108659 non-null  int64  \n",
            " 3   mean_rssi     108659 non-null  float64\n",
            " 4   pdr           108659 non-null  float64\n",
            " 5   tx_count      108659 non-null  int64  \n",
            " 6   target_names  108659 non-null  object \n",
            "dtypes: float64(2), int64(4), object(1)\n",
            "memory usage: 6.6+ MB\n"
          ],
          "name": "stdout"
        }
      ]
    },
    {
      "cell_type": "code",
      "metadata": {
        "colab": {
          "base_uri": "https://localhost:8080/",
          "height": 447
        },
        "id": "YshRreBmOB1p",
        "outputId": "0b866902-4b8c-4084-cf04-771d7e715759"
      },
      "source": [
        "df"
      ],
      "execution_count": 9,
      "outputs": [
        {
          "output_type": "execute_result",
          "data": {
            "text/html": [
              "<div>\n",
              "<style scoped>\n",
              "    .dataframe tbody tr th:only-of-type {\n",
              "        vertical-align: middle;\n",
              "    }\n",
              "\n",
              "    .dataframe tbody tr th {\n",
              "        vertical-align: top;\n",
              "    }\n",
              "\n",
              "    .dataframe thead th {\n",
              "        text-align: right;\n",
              "    }\n",
              "</style>\n",
              "<table border=\"1\" class=\"dataframe\">\n",
              "  <thead>\n",
              "    <tr style=\"text-align: right;\">\n",
              "      <th></th>\n",
              "      <th>src</th>\n",
              "      <th>dst</th>\n",
              "      <th>channel</th>\n",
              "      <th>mean_rssi</th>\n",
              "      <th>pdr</th>\n",
              "      <th>tx_count</th>\n",
              "      <th>target_names</th>\n",
              "    </tr>\n",
              "    <tr>\n",
              "      <th>datetime</th>\n",
              "      <th></th>\n",
              "      <th></th>\n",
              "      <th></th>\n",
              "      <th></th>\n",
              "      <th></th>\n",
              "      <th></th>\n",
              "      <th></th>\n",
              "    </tr>\n",
              "  </thead>\n",
              "  <tbody>\n",
              "    <tr>\n",
              "      <th>2018-01-11 16:32:22</th>\n",
              "      <td>0</td>\n",
              "      <td>18</td>\n",
              "      <td>11</td>\n",
              "      <td>-5.90</td>\n",
              "      <td>1.0</td>\n",
              "      <td>100</td>\n",
              "      <td>Good</td>\n",
              "    </tr>\n",
              "    <tr>\n",
              "      <th>2018-01-11 16:32:22</th>\n",
              "      <td>0</td>\n",
              "      <td>7</td>\n",
              "      <td>11</td>\n",
              "      <td>-70.74</td>\n",
              "      <td>1.0</td>\n",
              "      <td>100</td>\n",
              "      <td>Good</td>\n",
              "    </tr>\n",
              "    <tr>\n",
              "      <th>2018-01-11 16:32:22</th>\n",
              "      <td>0</td>\n",
              "      <td>42</td>\n",
              "      <td>11</td>\n",
              "      <td>-80.06</td>\n",
              "      <td>0.6</td>\n",
              "      <td>100</td>\n",
              "      <td>Interm.</td>\n",
              "    </tr>\n",
              "    <tr>\n",
              "      <th>2018-01-11 16:32:22</th>\n",
              "      <td>0</td>\n",
              "      <td>28</td>\n",
              "      <td>11</td>\n",
              "      <td>-68.46</td>\n",
              "      <td>1.0</td>\n",
              "      <td>100</td>\n",
              "      <td>Good</td>\n",
              "    </tr>\n",
              "    <tr>\n",
              "      <th>2018-01-11 16:32:22</th>\n",
              "      <td>0</td>\n",
              "      <td>12</td>\n",
              "      <td>11</td>\n",
              "      <td>-71.84</td>\n",
              "      <td>0.6</td>\n",
              "      <td>100</td>\n",
              "      <td>Interm.</td>\n",
              "    </tr>\n",
              "    <tr>\n",
              "      <th>...</th>\n",
              "      <td>...</td>\n",
              "      <td>...</td>\n",
              "      <td>...</td>\n",
              "      <td>...</td>\n",
              "      <td>...</td>\n",
              "      <td>...</td>\n",
              "      <td>...</td>\n",
              "    </tr>\n",
              "    <tr>\n",
              "      <th>2018-01-13 16:21:20</th>\n",
              "      <td>49</td>\n",
              "      <td>28</td>\n",
              "      <td>26</td>\n",
              "      <td>-75.13</td>\n",
              "      <td>1.0</td>\n",
              "      <td>100</td>\n",
              "      <td>Good</td>\n",
              "    </tr>\n",
              "    <tr>\n",
              "      <th>2018-01-13 16:21:20</th>\n",
              "      <td>49</td>\n",
              "      <td>37</td>\n",
              "      <td>26</td>\n",
              "      <td>-68.39</td>\n",
              "      <td>1.0</td>\n",
              "      <td>100</td>\n",
              "      <td>Good</td>\n",
              "    </tr>\n",
              "    <tr>\n",
              "      <th>2018-01-13 16:21:20</th>\n",
              "      <td>49</td>\n",
              "      <td>13</td>\n",
              "      <td>26</td>\n",
              "      <td>-74.39</td>\n",
              "      <td>1.0</td>\n",
              "      <td>100</td>\n",
              "      <td>Good</td>\n",
              "    </tr>\n",
              "    <tr>\n",
              "      <th>2018-01-13 16:21:20</th>\n",
              "      <td>49</td>\n",
              "      <td>33</td>\n",
              "      <td>26</td>\n",
              "      <td>-80.38</td>\n",
              "      <td>1.0</td>\n",
              "      <td>100</td>\n",
              "      <td>Good</td>\n",
              "    </tr>\n",
              "    <tr>\n",
              "      <th>2018-01-13 16:21:20</th>\n",
              "      <td>49</td>\n",
              "      <td>43</td>\n",
              "      <td>26</td>\n",
              "      <td>-75.62</td>\n",
              "      <td>1.0</td>\n",
              "      <td>100</td>\n",
              "      <td>Good</td>\n",
              "    </tr>\n",
              "  </tbody>\n",
              "</table>\n",
              "<p>108659 rows × 7 columns</p>\n",
              "</div>"
            ],
            "text/plain": [
              "                     src  dst  channel  mean_rssi  pdr  tx_count target_names\n",
              "datetime                                                                     \n",
              "2018-01-11 16:32:22    0   18       11      -5.90  1.0       100         Good\n",
              "2018-01-11 16:32:22    0    7       11     -70.74  1.0       100         Good\n",
              "2018-01-11 16:32:22    0   42       11     -80.06  0.6       100      Interm.\n",
              "2018-01-11 16:32:22    0   28       11     -68.46  1.0       100         Good\n",
              "2018-01-11 16:32:22    0   12       11     -71.84  0.6       100      Interm.\n",
              "...                  ...  ...      ...        ...  ...       ...          ...\n",
              "2018-01-13 16:21:20   49   28       26     -75.13  1.0       100         Good\n",
              "2018-01-13 16:21:20   49   37       26     -68.39  1.0       100         Good\n",
              "2018-01-13 16:21:20   49   13       26     -74.39  1.0       100         Good\n",
              "2018-01-13 16:21:20   49   33       26     -80.38  1.0       100         Good\n",
              "2018-01-13 16:21:20   49   43       26     -75.62  1.0       100         Good\n",
              "\n",
              "[108659 rows x 7 columns]"
            ]
          },
          "metadata": {},
          "execution_count": 9
        }
      ]
    },
    {
      "cell_type": "code",
      "metadata": {
        "colab": {
          "base_uri": "https://localhost:8080/",
          "height": 295
        },
        "id": "CFQ6lhkNOv5i",
        "outputId": "288c2336-b87c-42dc-deec-1b959d1055f9"
      },
      "source": [
        "df.describe()"
      ],
      "execution_count": 10,
      "outputs": [
        {
          "output_type": "execute_result",
          "data": {
            "text/html": [
              "<div>\n",
              "<style scoped>\n",
              "    .dataframe tbody tr th:only-of-type {\n",
              "        vertical-align: middle;\n",
              "    }\n",
              "\n",
              "    .dataframe tbody tr th {\n",
              "        vertical-align: top;\n",
              "    }\n",
              "\n",
              "    .dataframe thead th {\n",
              "        text-align: right;\n",
              "    }\n",
              "</style>\n",
              "<table border=\"1\" class=\"dataframe\">\n",
              "  <thead>\n",
              "    <tr style=\"text-align: right;\">\n",
              "      <th></th>\n",
              "      <th>src</th>\n",
              "      <th>dst</th>\n",
              "      <th>channel</th>\n",
              "      <th>mean_rssi</th>\n",
              "      <th>pdr</th>\n",
              "      <th>tx_count</th>\n",
              "    </tr>\n",
              "  </thead>\n",
              "  <tbody>\n",
              "    <tr>\n",
              "      <th>count</th>\n",
              "      <td>108659.000000</td>\n",
              "      <td>108659.000000</td>\n",
              "      <td>108659.000000</td>\n",
              "      <td>108659.000000</td>\n",
              "      <td>108659.000000</td>\n",
              "      <td>108659.0</td>\n",
              "    </tr>\n",
              "    <tr>\n",
              "      <th>mean</th>\n",
              "      <td>24.923485</td>\n",
              "      <td>25.047387</td>\n",
              "      <td>18.376895</td>\n",
              "      <td>-74.550728</td>\n",
              "      <td>0.874964</td>\n",
              "      <td>100.0</td>\n",
              "    </tr>\n",
              "    <tr>\n",
              "      <th>std</th>\n",
              "      <td>14.831090</td>\n",
              "      <td>14.836094</td>\n",
              "      <td>4.579974</td>\n",
              "      <td>11.870855</td>\n",
              "      <td>0.248361</td>\n",
              "      <td>0.0</td>\n",
              "    </tr>\n",
              "    <tr>\n",
              "      <th>min</th>\n",
              "      <td>0.000000</td>\n",
              "      <td>0.000000</td>\n",
              "      <td>11.000000</td>\n",
              "      <td>-91.000000</td>\n",
              "      <td>0.010000</td>\n",
              "      <td>100.0</td>\n",
              "    </tr>\n",
              "    <tr>\n",
              "      <th>25%</th>\n",
              "      <td>12.000000</td>\n",
              "      <td>13.000000</td>\n",
              "      <td>14.000000</td>\n",
              "      <td>-85.770000</td>\n",
              "      <td>0.910000</td>\n",
              "      <td>100.0</td>\n",
              "    </tr>\n",
              "    <tr>\n",
              "      <th>50%</th>\n",
              "      <td>25.000000</td>\n",
              "      <td>25.000000</td>\n",
              "      <td>18.000000</td>\n",
              "      <td>-76.570000</td>\n",
              "      <td>1.000000</td>\n",
              "      <td>100.0</td>\n",
              "    </tr>\n",
              "    <tr>\n",
              "      <th>75%</th>\n",
              "      <td>39.000000</td>\n",
              "      <td>40.000000</td>\n",
              "      <td>22.000000</td>\n",
              "      <td>-66.970000</td>\n",
              "      <td>1.000000</td>\n",
              "      <td>100.0</td>\n",
              "    </tr>\n",
              "    <tr>\n",
              "      <th>max</th>\n",
              "      <td>49.000000</td>\n",
              "      <td>49.000000</td>\n",
              "      <td>26.000000</td>\n",
              "      <td>-5.900000</td>\n",
              "      <td>1.000000</td>\n",
              "      <td>100.0</td>\n",
              "    </tr>\n",
              "  </tbody>\n",
              "</table>\n",
              "</div>"
            ],
            "text/plain": [
              "                 src            dst  ...            pdr  tx_count\n",
              "count  108659.000000  108659.000000  ...  108659.000000  108659.0\n",
              "mean       24.923485      25.047387  ...       0.874964     100.0\n",
              "std        14.831090      14.836094  ...       0.248361       0.0\n",
              "min         0.000000       0.000000  ...       0.010000     100.0\n",
              "25%        12.000000      13.000000  ...       0.910000     100.0\n",
              "50%        25.000000      25.000000  ...       1.000000     100.0\n",
              "75%        39.000000      40.000000  ...       1.000000     100.0\n",
              "max        49.000000      49.000000  ...       1.000000     100.0\n",
              "\n",
              "[8 rows x 6 columns]"
            ]
          },
          "metadata": {},
          "execution_count": 10
        }
      ]
    },
    {
      "cell_type": "code",
      "metadata": {
        "id": "Na2VgwoffJ32"
      },
      "source": [
        "features = df[['pdr']]\n",
        "target_names = df[['target_names']]              "
      ],
      "execution_count": 11,
      "outputs": []
    },
    {
      "cell_type": "code",
      "metadata": {
        "colab": {
          "base_uri": "https://localhost:8080/",
          "height": 447
        },
        "id": "upLnlgyZUrPK",
        "outputId": "183b2f44-930d-4893-9c76-d277e700ab7b"
      },
      "source": [
        "features"
      ],
      "execution_count": 12,
      "outputs": [
        {
          "output_type": "execute_result",
          "data": {
            "text/html": [
              "<div>\n",
              "<style scoped>\n",
              "    .dataframe tbody tr th:only-of-type {\n",
              "        vertical-align: middle;\n",
              "    }\n",
              "\n",
              "    .dataframe tbody tr th {\n",
              "        vertical-align: top;\n",
              "    }\n",
              "\n",
              "    .dataframe thead th {\n",
              "        text-align: right;\n",
              "    }\n",
              "</style>\n",
              "<table border=\"1\" class=\"dataframe\">\n",
              "  <thead>\n",
              "    <tr style=\"text-align: right;\">\n",
              "      <th></th>\n",
              "      <th>pdr</th>\n",
              "    </tr>\n",
              "    <tr>\n",
              "      <th>datetime</th>\n",
              "      <th></th>\n",
              "    </tr>\n",
              "  </thead>\n",
              "  <tbody>\n",
              "    <tr>\n",
              "      <th>2018-01-11 16:32:22</th>\n",
              "      <td>1.0</td>\n",
              "    </tr>\n",
              "    <tr>\n",
              "      <th>2018-01-11 16:32:22</th>\n",
              "      <td>1.0</td>\n",
              "    </tr>\n",
              "    <tr>\n",
              "      <th>2018-01-11 16:32:22</th>\n",
              "      <td>0.6</td>\n",
              "    </tr>\n",
              "    <tr>\n",
              "      <th>2018-01-11 16:32:22</th>\n",
              "      <td>1.0</td>\n",
              "    </tr>\n",
              "    <tr>\n",
              "      <th>2018-01-11 16:32:22</th>\n",
              "      <td>0.6</td>\n",
              "    </tr>\n",
              "    <tr>\n",
              "      <th>...</th>\n",
              "      <td>...</td>\n",
              "    </tr>\n",
              "    <tr>\n",
              "      <th>2018-01-13 16:21:20</th>\n",
              "      <td>1.0</td>\n",
              "    </tr>\n",
              "    <tr>\n",
              "      <th>2018-01-13 16:21:20</th>\n",
              "      <td>1.0</td>\n",
              "    </tr>\n",
              "    <tr>\n",
              "      <th>2018-01-13 16:21:20</th>\n",
              "      <td>1.0</td>\n",
              "    </tr>\n",
              "    <tr>\n",
              "      <th>2018-01-13 16:21:20</th>\n",
              "      <td>1.0</td>\n",
              "    </tr>\n",
              "    <tr>\n",
              "      <th>2018-01-13 16:21:20</th>\n",
              "      <td>1.0</td>\n",
              "    </tr>\n",
              "  </tbody>\n",
              "</table>\n",
              "<p>108659 rows × 1 columns</p>\n",
              "</div>"
            ],
            "text/plain": [
              "                     pdr\n",
              "datetime                \n",
              "2018-01-11 16:32:22  1.0\n",
              "2018-01-11 16:32:22  1.0\n",
              "2018-01-11 16:32:22  0.6\n",
              "2018-01-11 16:32:22  1.0\n",
              "2018-01-11 16:32:22  0.6\n",
              "...                  ...\n",
              "2018-01-13 16:21:20  1.0\n",
              "2018-01-13 16:21:20  1.0\n",
              "2018-01-13 16:21:20  1.0\n",
              "2018-01-13 16:21:20  1.0\n",
              "2018-01-13 16:21:20  1.0\n",
              "\n",
              "[108659 rows x 1 columns]"
            ]
          },
          "metadata": {},
          "execution_count": 12
        }
      ]
    },
    {
      "cell_type": "code",
      "metadata": {
        "colab": {
          "base_uri": "https://localhost:8080/"
        },
        "id": "hhL4rWzUn2rQ",
        "outputId": "93c27dae-7f16-4e84-88e0-89745c37f369"
      },
      "source": [
        "# Split train and test data\n",
        "train_features = features.loc['2018-01-11 16:32:22':'2018-01-13 06:43:02']\n",
        "train_labels = target_names.loc['2018-01-11 16:32:22':'2018-01-13 06:43:02','target_names']\n",
        "\n",
        "test_features = features.loc['2018-01-13 06:43:02':'2018-01-13 16:21:20']\n",
        "test_labels = target_names.loc['2018-01-13 06:43:02':'2018-01-13 16:21:20','target_names']\n",
        "\n",
        "# I want to use a T-days window of input data for predicting target_class\n",
        "# It means I need to prepend (T-1) last train records to the 1st test window\n",
        "\n",
        "T = 30  # my choice of the timesteps window\n",
        "\n",
        "prepend_features = train_features.iloc[-(T-1):]\n",
        "test_features = pd.concat([prepend_features, test_features], axis=0)\n",
        "\n",
        "train_features.shape, train_labels.shape, test_features.shape, test_labels.shape"
      ],
      "execution_count": 53,
      "outputs": [
        {
          "output_type": "execute_result",
          "data": {
            "text/plain": [
              "((86928, 1), (86928,), (21763, 1), (21734,))"
            ]
          },
          "metadata": {},
          "execution_count": 53
        }
      ]
    },
    {
      "cell_type": "code",
      "metadata": {
        "colab": {
          "base_uri": "https://localhost:8080/"
        },
        "id": "mKZuUJPAl3iK",
        "outputId": "816f28c0-5fed-4e3e-f533-d76e05d5e2cd"
      },
      "source": [
        "# Rescale the features\n",
        "from sklearn.preprocessing import StandardScaler  # MinMaxScaler\n",
        "\n",
        "scaler = StandardScaler()  # MinMaxScaler(feature_range=(-1,1))\n",
        "scaled_train_features = pd.DataFrame(scaler.fit_transform(train_features.values),\n",
        "                                     index=train_features.index,\n",
        "                                     columns=train_features.columns)\n",
        "# The Scaler is fit on the training set and then applied to the test set\n",
        "scaled_test_features = pd.DataFrame(scaler.transform(test_features.values),\n",
        "                                    index=test_features.index,\n",
        "                                    columns=test_features.columns)\n",
        "\n",
        "scaled_train_features.shape, scaled_test_features.shape"
      ],
      "execution_count": 54,
      "outputs": [
        {
          "output_type": "execute_result",
          "data": {
            "text/plain": [
              "((86928, 1), (21763, 1))"
            ]
          },
          "metadata": {},
          "execution_count": 54
        }
      ]
    },
    {
      "cell_type": "code",
      "metadata": {
        "colab": {
          "base_uri": "https://localhost:8080/",
          "height": 447
        },
        "id": "PWOHaCKTENOZ",
        "outputId": "510afdb2-71e8-458d-fe87-65b7d7bb67fb"
      },
      "source": [
        "scaled_train_features"
      ],
      "execution_count": 55,
      "outputs": [
        {
          "output_type": "execute_result",
          "data": {
            "text/html": [
              "<div>\n",
              "<style scoped>\n",
              "    .dataframe tbody tr th:only-of-type {\n",
              "        vertical-align: middle;\n",
              "    }\n",
              "\n",
              "    .dataframe tbody tr th {\n",
              "        vertical-align: top;\n",
              "    }\n",
              "\n",
              "    .dataframe thead th {\n",
              "        text-align: right;\n",
              "    }\n",
              "</style>\n",
              "<table border=\"1\" class=\"dataframe\">\n",
              "  <thead>\n",
              "    <tr style=\"text-align: right;\">\n",
              "      <th></th>\n",
              "      <th>pdr</th>\n",
              "    </tr>\n",
              "    <tr>\n",
              "      <th>datetime</th>\n",
              "      <th></th>\n",
              "    </tr>\n",
              "  </thead>\n",
              "  <tbody>\n",
              "    <tr>\n",
              "      <th>2018-01-11 16:32:22</th>\n",
              "      <td>0.506994</td>\n",
              "    </tr>\n",
              "    <tr>\n",
              "      <th>2018-01-11 16:32:22</th>\n",
              "      <td>0.506994</td>\n",
              "    </tr>\n",
              "    <tr>\n",
              "      <th>2018-01-11 16:32:22</th>\n",
              "      <td>-1.095007</td>\n",
              "    </tr>\n",
              "    <tr>\n",
              "      <th>2018-01-11 16:32:22</th>\n",
              "      <td>0.506994</td>\n",
              "    </tr>\n",
              "    <tr>\n",
              "      <th>2018-01-11 16:32:22</th>\n",
              "      <td>-1.095007</td>\n",
              "    </tr>\n",
              "    <tr>\n",
              "      <th>...</th>\n",
              "      <td>...</td>\n",
              "    </tr>\n",
              "    <tr>\n",
              "      <th>2018-01-13 06:42:51</th>\n",
              "      <td>0.506994</td>\n",
              "    </tr>\n",
              "    <tr>\n",
              "      <th>2018-01-13 06:42:51</th>\n",
              "      <td>0.506994</td>\n",
              "    </tr>\n",
              "    <tr>\n",
              "      <th>2018-01-13 06:43:02</th>\n",
              "      <td>0.506994</td>\n",
              "    </tr>\n",
              "    <tr>\n",
              "      <th>2018-01-13 06:43:02</th>\n",
              "      <td>0.506994</td>\n",
              "    </tr>\n",
              "    <tr>\n",
              "      <th>2018-01-13 06:43:02</th>\n",
              "      <td>0.506994</td>\n",
              "    </tr>\n",
              "  </tbody>\n",
              "</table>\n",
              "<p>86928 rows × 1 columns</p>\n",
              "</div>"
            ],
            "text/plain": [
              "                          pdr\n",
              "datetime                     \n",
              "2018-01-11 16:32:22  0.506994\n",
              "2018-01-11 16:32:22  0.506994\n",
              "2018-01-11 16:32:22 -1.095007\n",
              "2018-01-11 16:32:22  0.506994\n",
              "2018-01-11 16:32:22 -1.095007\n",
              "...                       ...\n",
              "2018-01-13 06:42:51  0.506994\n",
              "2018-01-13 06:42:51  0.506994\n",
              "2018-01-13 06:43:02  0.506994\n",
              "2018-01-13 06:43:02  0.506994\n",
              "2018-01-13 06:43:02  0.506994\n",
              "\n",
              "[86928 rows x 1 columns]"
            ]
          },
          "metadata": {},
          "execution_count": 55
        }
      ]
    },
    {
      "cell_type": "code",
      "metadata": {
        "colab": {
          "base_uri": "https://localhost:8080/",
          "height": 447
        },
        "id": "nwqpj1FTEVzL",
        "outputId": "813908c0-f165-42ca-9c29-ed53d5283834"
      },
      "source": [
        "scaled_test_features"
      ],
      "execution_count": 56,
      "outputs": [
        {
          "output_type": "execute_result",
          "data": {
            "text/html": [
              "<div>\n",
              "<style scoped>\n",
              "    .dataframe tbody tr th:only-of-type {\n",
              "        vertical-align: middle;\n",
              "    }\n",
              "\n",
              "    .dataframe tbody tr th {\n",
              "        vertical-align: top;\n",
              "    }\n",
              "\n",
              "    .dataframe thead th {\n",
              "        text-align: right;\n",
              "    }\n",
              "</style>\n",
              "<table border=\"1\" class=\"dataframe\">\n",
              "  <thead>\n",
              "    <tr style=\"text-align: right;\">\n",
              "      <th></th>\n",
              "      <th>pdr</th>\n",
              "    </tr>\n",
              "    <tr>\n",
              "      <th>datetime</th>\n",
              "      <th></th>\n",
              "    </tr>\n",
              "  </thead>\n",
              "  <tbody>\n",
              "    <tr>\n",
              "      <th>2018-01-13 06:42:29</th>\n",
              "      <td>0.506994</td>\n",
              "    </tr>\n",
              "    <tr>\n",
              "      <th>2018-01-13 06:42:29</th>\n",
              "      <td>-2.656958</td>\n",
              "    </tr>\n",
              "    <tr>\n",
              "      <th>2018-01-13 06:42:29</th>\n",
              "      <td>0.506994</td>\n",
              "    </tr>\n",
              "    <tr>\n",
              "      <th>2018-01-13 06:42:29</th>\n",
              "      <td>-1.815908</td>\n",
              "    </tr>\n",
              "    <tr>\n",
              "      <th>2018-01-13 06:42:30</th>\n",
              "      <td>-3.257709</td>\n",
              "    </tr>\n",
              "    <tr>\n",
              "      <th>...</th>\n",
              "      <td>...</td>\n",
              "    </tr>\n",
              "    <tr>\n",
              "      <th>2018-01-13 16:21:20</th>\n",
              "      <td>0.506994</td>\n",
              "    </tr>\n",
              "    <tr>\n",
              "      <th>2018-01-13 16:21:20</th>\n",
              "      <td>0.506994</td>\n",
              "    </tr>\n",
              "    <tr>\n",
              "      <th>2018-01-13 16:21:20</th>\n",
              "      <td>0.506994</td>\n",
              "    </tr>\n",
              "    <tr>\n",
              "      <th>2018-01-13 16:21:20</th>\n",
              "      <td>0.506994</td>\n",
              "    </tr>\n",
              "    <tr>\n",
              "      <th>2018-01-13 16:21:20</th>\n",
              "      <td>0.506994</td>\n",
              "    </tr>\n",
              "  </tbody>\n",
              "</table>\n",
              "<p>21763 rows × 1 columns</p>\n",
              "</div>"
            ],
            "text/plain": [
              "                          pdr\n",
              "datetime                     \n",
              "2018-01-13 06:42:29  0.506994\n",
              "2018-01-13 06:42:29 -2.656958\n",
              "2018-01-13 06:42:29  0.506994\n",
              "2018-01-13 06:42:29 -1.815908\n",
              "2018-01-13 06:42:30 -3.257709\n",
              "...                       ...\n",
              "2018-01-13 16:21:20  0.506994\n",
              "2018-01-13 16:21:20  0.506994\n",
              "2018-01-13 16:21:20  0.506994\n",
              "2018-01-13 16:21:20  0.506994\n",
              "2018-01-13 16:21:20  0.506994\n",
              "\n",
              "[21763 rows x 1 columns]"
            ]
          },
          "metadata": {},
          "execution_count": 56
        }
      ]
    },
    {
      "cell_type": "code",
      "metadata": {
        "colab": {
          "base_uri": "https://localhost:8080/"
        },
        "id": "eh6XHa7igI0S",
        "outputId": "e7f930c2-a97a-41c6-bf86-e304d84fee1c"
      },
      "source": [
        "# Create sequences of T timesteps\n",
        "X_train, y_train = [], []\n",
        "for i in range(train_labels.shape[0] - (T-1)):\n",
        "    X_train.append(scaled_train_features.iloc[i:i+T].values)\n",
        "    y_train.append(train_labels.iloc[i + (T-1)])\n",
        "X_train, y_train = np.array(X_train), np.array(y_train).reshape(-1,1)\n",
        "print(f'Train data dimensions: {X_train.shape}, {y_train.shape}')\n",
        "\n",
        "X_test, y_test = [], []\n",
        "for i in range(test_labels.shape[0]):\n",
        "    X_test.append(scaled_test_features.iloc[i:i+T].values)\n",
        "    y_test.append(test_labels.iloc[i])\n",
        "X_test, y_test = np.array(X_test), np.array(y_test).reshape(-1,1)  \n",
        "\n",
        "print(f'Test data dimensions: {X_test.shape}, {y_test.shape}')"
      ],
      "execution_count": 66,
      "outputs": [
        {
          "output_type": "stream",
          "text": [
            "Train data dimensions: (86899, 30, 1), (86899, 1)\n",
            "Test data dimensions: (21734, 30, 1), (21734, 1)\n"
          ],
          "name": "stdout"
        }
      ]
    },
    {
      "cell_type": "code",
      "metadata": {
        "colab": {
          "base_uri": "https://localhost:8080/",
          "height": 417
        },
        "id": "oAbdrXadjTb4",
        "outputId": "1afad9c6-2769-4d72-834f-e05f5adb083b"
      },
      "source": [
        "y_train = pd.DataFrame(y_train)\n",
        "y_train.head(102)"
      ],
      "execution_count": 67,
      "outputs": [
        {
          "output_type": "execute_result",
          "data": {
            "text/html": [
              "<div>\n",
              "<style scoped>\n",
              "    .dataframe tbody tr th:only-of-type {\n",
              "        vertical-align: middle;\n",
              "    }\n",
              "\n",
              "    .dataframe tbody tr th {\n",
              "        vertical-align: top;\n",
              "    }\n",
              "\n",
              "    .dataframe thead th {\n",
              "        text-align: right;\n",
              "    }\n",
              "</style>\n",
              "<table border=\"1\" class=\"dataframe\">\n",
              "  <thead>\n",
              "    <tr style=\"text-align: right;\">\n",
              "      <th></th>\n",
              "      <th>0</th>\n",
              "    </tr>\n",
              "  </thead>\n",
              "  <tbody>\n",
              "    <tr>\n",
              "      <th>0</th>\n",
              "      <td>Good</td>\n",
              "    </tr>\n",
              "    <tr>\n",
              "      <th>1</th>\n",
              "      <td>Good</td>\n",
              "    </tr>\n",
              "    <tr>\n",
              "      <th>2</th>\n",
              "      <td>Good</td>\n",
              "    </tr>\n",
              "    <tr>\n",
              "      <th>3</th>\n",
              "      <td>Good</td>\n",
              "    </tr>\n",
              "    <tr>\n",
              "      <th>4</th>\n",
              "      <td>Good</td>\n",
              "    </tr>\n",
              "    <tr>\n",
              "      <th>...</th>\n",
              "      <td>...</td>\n",
              "    </tr>\n",
              "    <tr>\n",
              "      <th>97</th>\n",
              "      <td>Good</td>\n",
              "    </tr>\n",
              "    <tr>\n",
              "      <th>98</th>\n",
              "      <td>Interm.</td>\n",
              "    </tr>\n",
              "    <tr>\n",
              "      <th>99</th>\n",
              "      <td>Good</td>\n",
              "    </tr>\n",
              "    <tr>\n",
              "      <th>100</th>\n",
              "      <td>Good</td>\n",
              "    </tr>\n",
              "    <tr>\n",
              "      <th>101</th>\n",
              "      <td>Interm.</td>\n",
              "    </tr>\n",
              "  </tbody>\n",
              "</table>\n",
              "<p>102 rows × 1 columns</p>\n",
              "</div>"
            ],
            "text/plain": [
              "           0\n",
              "0       Good\n",
              "1       Good\n",
              "2       Good\n",
              "3       Good\n",
              "4       Good\n",
              "..       ...\n",
              "97      Good\n",
              "98   Interm.\n",
              "99      Good\n",
              "100     Good\n",
              "101  Interm.\n",
              "\n",
              "[102 rows x 1 columns]"
            ]
          },
          "metadata": {},
          "execution_count": 67
        }
      ]
    },
    {
      "cell_type": "code",
      "metadata": {
        "id": "-uEHlS6ma-yH"
      },
      "source": [
        "y_train = pd.DataFrame(y_train)\n",
        "y_train = pd.get_dummies(y_train)"
      ],
      "execution_count": 68,
      "outputs": []
    },
    {
      "cell_type": "code",
      "metadata": {
        "colab": {
          "base_uri": "https://localhost:8080/",
          "height": 417
        },
        "id": "40WxiQPfCFuN",
        "outputId": "614fdd95-c977-4234-d7a6-967410f375f7"
      },
      "source": [
        "y_train"
      ],
      "execution_count": 69,
      "outputs": [
        {
          "output_type": "execute_result",
          "data": {
            "text/html": [
              "<div>\n",
              "<style scoped>\n",
              "    .dataframe tbody tr th:only-of-type {\n",
              "        vertical-align: middle;\n",
              "    }\n",
              "\n",
              "    .dataframe tbody tr th {\n",
              "        vertical-align: top;\n",
              "    }\n",
              "\n",
              "    .dataframe thead th {\n",
              "        text-align: right;\n",
              "    }\n",
              "</style>\n",
              "<table border=\"1\" class=\"dataframe\">\n",
              "  <thead>\n",
              "    <tr style=\"text-align: right;\">\n",
              "      <th></th>\n",
              "      <th>0_Bad</th>\n",
              "      <th>0_Good</th>\n",
              "      <th>0_Interm.</th>\n",
              "    </tr>\n",
              "  </thead>\n",
              "  <tbody>\n",
              "    <tr>\n",
              "      <th>0</th>\n",
              "      <td>0</td>\n",
              "      <td>1</td>\n",
              "      <td>0</td>\n",
              "    </tr>\n",
              "    <tr>\n",
              "      <th>1</th>\n",
              "      <td>0</td>\n",
              "      <td>1</td>\n",
              "      <td>0</td>\n",
              "    </tr>\n",
              "    <tr>\n",
              "      <th>2</th>\n",
              "      <td>0</td>\n",
              "      <td>1</td>\n",
              "      <td>0</td>\n",
              "    </tr>\n",
              "    <tr>\n",
              "      <th>3</th>\n",
              "      <td>0</td>\n",
              "      <td>1</td>\n",
              "      <td>0</td>\n",
              "    </tr>\n",
              "    <tr>\n",
              "      <th>4</th>\n",
              "      <td>0</td>\n",
              "      <td>1</td>\n",
              "      <td>0</td>\n",
              "    </tr>\n",
              "    <tr>\n",
              "      <th>...</th>\n",
              "      <td>...</td>\n",
              "      <td>...</td>\n",
              "      <td>...</td>\n",
              "    </tr>\n",
              "    <tr>\n",
              "      <th>86894</th>\n",
              "      <td>0</td>\n",
              "      <td>1</td>\n",
              "      <td>0</td>\n",
              "    </tr>\n",
              "    <tr>\n",
              "      <th>86895</th>\n",
              "      <td>0</td>\n",
              "      <td>1</td>\n",
              "      <td>0</td>\n",
              "    </tr>\n",
              "    <tr>\n",
              "      <th>86896</th>\n",
              "      <td>0</td>\n",
              "      <td>1</td>\n",
              "      <td>0</td>\n",
              "    </tr>\n",
              "    <tr>\n",
              "      <th>86897</th>\n",
              "      <td>0</td>\n",
              "      <td>1</td>\n",
              "      <td>0</td>\n",
              "    </tr>\n",
              "    <tr>\n",
              "      <th>86898</th>\n",
              "      <td>0</td>\n",
              "      <td>1</td>\n",
              "      <td>0</td>\n",
              "    </tr>\n",
              "  </tbody>\n",
              "</table>\n",
              "<p>86899 rows × 3 columns</p>\n",
              "</div>"
            ],
            "text/plain": [
              "       0_Bad  0_Good  0_Interm.\n",
              "0          0       1          0\n",
              "1          0       1          0\n",
              "2          0       1          0\n",
              "3          0       1          0\n",
              "4          0       1          0\n",
              "...      ...     ...        ...\n",
              "86894      0       1          0\n",
              "86895      0       1          0\n",
              "86896      0       1          0\n",
              "86897      0       1          0\n",
              "86898      0       1          0\n",
              "\n",
              "[86899 rows x 3 columns]"
            ]
          },
          "metadata": {},
          "execution_count": 69
        }
      ]
    },
    {
      "cell_type": "code",
      "metadata": {
        "colab": {
          "base_uri": "https://localhost:8080/"
        },
        "id": "GVv1nCfst7QA",
        "outputId": "07298c45-f71c-4a04-e2ba-d957fbaad0dd"
      },
      "source": [
        "y_train = np.array(y_train)\n",
        "print(y_train.shape)\n",
        "y_train"
      ],
      "execution_count": 70,
      "outputs": [
        {
          "output_type": "stream",
          "text": [
            "(86899, 3)\n"
          ],
          "name": "stdout"
        },
        {
          "output_type": "execute_result",
          "data": {
            "text/plain": [
              "array([[0, 1, 0],\n",
              "       [0, 1, 0],\n",
              "       [0, 1, 0],\n",
              "       ...,\n",
              "       [0, 1, 0],\n",
              "       [0, 1, 0],\n",
              "       [0, 1, 0]], dtype=uint8)"
            ]
          },
          "metadata": {},
          "execution_count": 70
        }
      ]
    },
    {
      "cell_type": "code",
      "metadata": {
        "colab": {
          "base_uri": "https://localhost:8080/",
          "height": 417
        },
        "id": "PZbrOn4BbyNf",
        "outputId": "b71866ee-9032-4fca-cb23-a7fc3fa3fc51"
      },
      "source": [
        "y_test = pd.DataFrame(y_test)\n",
        "y_test = pd.get_dummies(y_test)\n",
        "y_test "
      ],
      "execution_count": 71,
      "outputs": [
        {
          "output_type": "execute_result",
          "data": {
            "text/html": [
              "<div>\n",
              "<style scoped>\n",
              "    .dataframe tbody tr th:only-of-type {\n",
              "        vertical-align: middle;\n",
              "    }\n",
              "\n",
              "    .dataframe tbody tr th {\n",
              "        vertical-align: top;\n",
              "    }\n",
              "\n",
              "    .dataframe thead th {\n",
              "        text-align: right;\n",
              "    }\n",
              "</style>\n",
              "<table border=\"1\" class=\"dataframe\">\n",
              "  <thead>\n",
              "    <tr style=\"text-align: right;\">\n",
              "      <th></th>\n",
              "      <th>0_Bad</th>\n",
              "      <th>0_Good</th>\n",
              "      <th>0_Interm.</th>\n",
              "    </tr>\n",
              "  </thead>\n",
              "  <tbody>\n",
              "    <tr>\n",
              "      <th>0</th>\n",
              "      <td>0</td>\n",
              "      <td>1</td>\n",
              "      <td>0</td>\n",
              "    </tr>\n",
              "    <tr>\n",
              "      <th>1</th>\n",
              "      <td>0</td>\n",
              "      <td>1</td>\n",
              "      <td>0</td>\n",
              "    </tr>\n",
              "    <tr>\n",
              "      <th>2</th>\n",
              "      <td>0</td>\n",
              "      <td>1</td>\n",
              "      <td>0</td>\n",
              "    </tr>\n",
              "    <tr>\n",
              "      <th>3</th>\n",
              "      <td>0</td>\n",
              "      <td>0</td>\n",
              "      <td>1</td>\n",
              "    </tr>\n",
              "    <tr>\n",
              "      <th>4</th>\n",
              "      <td>1</td>\n",
              "      <td>0</td>\n",
              "      <td>0</td>\n",
              "    </tr>\n",
              "    <tr>\n",
              "      <th>...</th>\n",
              "      <td>...</td>\n",
              "      <td>...</td>\n",
              "      <td>...</td>\n",
              "    </tr>\n",
              "    <tr>\n",
              "      <th>21729</th>\n",
              "      <td>0</td>\n",
              "      <td>1</td>\n",
              "      <td>0</td>\n",
              "    </tr>\n",
              "    <tr>\n",
              "      <th>21730</th>\n",
              "      <td>0</td>\n",
              "      <td>1</td>\n",
              "      <td>0</td>\n",
              "    </tr>\n",
              "    <tr>\n",
              "      <th>21731</th>\n",
              "      <td>0</td>\n",
              "      <td>1</td>\n",
              "      <td>0</td>\n",
              "    </tr>\n",
              "    <tr>\n",
              "      <th>21732</th>\n",
              "      <td>0</td>\n",
              "      <td>1</td>\n",
              "      <td>0</td>\n",
              "    </tr>\n",
              "    <tr>\n",
              "      <th>21733</th>\n",
              "      <td>0</td>\n",
              "      <td>1</td>\n",
              "      <td>0</td>\n",
              "    </tr>\n",
              "  </tbody>\n",
              "</table>\n",
              "<p>21734 rows × 3 columns</p>\n",
              "</div>"
            ],
            "text/plain": [
              "       0_Bad  0_Good  0_Interm.\n",
              "0          0       1          0\n",
              "1          0       1          0\n",
              "2          0       1          0\n",
              "3          0       0          1\n",
              "4          1       0          0\n",
              "...      ...     ...        ...\n",
              "21729      0       1          0\n",
              "21730      0       1          0\n",
              "21731      0       1          0\n",
              "21732      0       1          0\n",
              "21733      0       1          0\n",
              "\n",
              "[21734 rows x 3 columns]"
            ]
          },
          "metadata": {},
          "execution_count": 71
        }
      ]
    },
    {
      "cell_type": "code",
      "metadata": {
        "colab": {
          "base_uri": "https://localhost:8080/"
        },
        "id": "Nx62rfILuV4F",
        "outputId": "0b22dc18-de8c-4dfc-9633-f354b3fff2cf"
      },
      "source": [
        "y_test = np.array(y_test)\n",
        "print(y_test.shape)\n",
        "y_test"
      ],
      "execution_count": 72,
      "outputs": [
        {
          "output_type": "stream",
          "text": [
            "(21734, 3)\n"
          ],
          "name": "stdout"
        },
        {
          "output_type": "execute_result",
          "data": {
            "text/plain": [
              "array([[0, 1, 0],\n",
              "       [0, 1, 0],\n",
              "       [0, 1, 0],\n",
              "       ...,\n",
              "       [0, 1, 0],\n",
              "       [0, 1, 0],\n",
              "       [0, 1, 0]], dtype=uint8)"
            ]
          },
          "metadata": {},
          "execution_count": 72
        }
      ]
    },
    {
      "cell_type": "code",
      "metadata": {
        "colab": {
          "base_uri": "https://localhost:8080/"
        },
        "id": "DrA2JNjEcVcD",
        "outputId": "df6e15f0-76a9-4320-9795-2c0caadff65c"
      },
      "source": [
        "print(X_train.shape)\n",
        "print(X_test.shape)\n",
        "print(y_train.shape)\n",
        "print(y_test.shape)\n"
      ],
      "execution_count": 73,
      "outputs": [
        {
          "output_type": "stream",
          "text": [
            "(86899, 30, 1)\n",
            "(21734, 30, 1)\n",
            "(86899, 3)\n",
            "(21734, 3)\n"
          ],
          "name": "stdout"
        }
      ]
    },
    {
      "cell_type": "code",
      "metadata": {
        "colab": {
          "base_uri": "https://localhost:8080/"
        },
        "id": "DTkMqE--z225",
        "outputId": "ce704af6-b6c1-480e-8c22-7111ff833068"
      },
      "source": [
        "T"
      ],
      "execution_count": 25,
      "outputs": [
        {
          "output_type": "execute_result",
          "data": {
            "text/plain": [
              "30"
            ]
          },
          "metadata": {},
          "execution_count": 25
        }
      ]
    },
    {
      "cell_type": "code",
      "metadata": {
        "id": "WAH4Zeb6deSd"
      },
      "source": [
        "from keras.models import Sequential\n",
        "from keras.layers import Dense, LSTM, BatchNormalization,Bidirectional\n",
        "from time import time"
      ],
      "execution_count": 26,
      "outputs": []
    },
    {
      "cell_type": "code",
      "metadata": {
        "id": "gsQvIVmiqsVI"
      },
      "source": [
        "tf.random.set_seed(42)"
      ],
      "execution_count": 27,
      "outputs": []
    },
    {
      "cell_type": "code",
      "metadata": {
        "colab": {
          "base_uri": "https://localhost:8080/"
        },
        "id": "rttR71VrdZbn",
        "outputId": "4eae2765-d612-4509-a116-d6778cda2387"
      },
      "source": [
        "# Let's make a list of CONSTANTS for modelling:\n",
        "LAYERS = [8, 8, 8, 3]                # number of units in hidden and output layers\n",
        "M_TRAIN = X_train.shape[0]           # number of training examples (2D)\n",
        "M_TEST = X_test.shape[0]             # number of test examples (2D),full=X_test.shape[0]\n",
        "N = X_train.shape[2]                 # number of features\n",
        "BATCH = M_TRAIN                          # batch size\n",
        "EPOCH =  15                        # number of epochs\n",
        "DP = 0.0                             # dropout rate\n",
        "RDP = 0.0                            # recurrent dropout rate\n",
        "print(f'layers={LAYERS}, train_examples={M_TRAIN}, test_examples={M_TEST}')\n",
        "print(f'batch = {BATCH}, timesteps = {T}, features = {N}, epochs = {EPOCH}')\n",
        "print(f'dropout = {DP}, recurr_dropout = {RDP}')\n",
        "\n",
        "# Build the Model\n",
        "model = Sequential()\n",
        "model.add(Bidirectional(LSTM(input_shape=(T, N), units=LAYERS[0],\n",
        "               activation='tanh', recurrent_activation='sigmoid',\n",
        "               kernel_regularizer=None, recurrent_regularizer=None,\n",
        "               return_sequences=True, recurrent_dropout=RDP, dropout=DP\n",
        "               )))\n",
        "\n",
        "model.add(BatchNormalization())\n",
        "model.add(Bidirectional(LSTM(units=LAYERS[1],\n",
        "               activation='tanh', recurrent_activation='sigmoid',\n",
        "               kernel_regularizer=None, recurrent_regularizer=None,\n",
        "               return_sequences=True, recurrent_dropout=RDP, dropout=DP\n",
        "               )))\n",
        "\n",
        "model.add(BatchNormalization())\n",
        "model.add(Bidirectional(LSTM(units=LAYERS[2],\n",
        "               activation='tanh', recurrent_activation='sigmoid',\n",
        "               kernel_regularizer=None, recurrent_regularizer=None,\n",
        "               return_sequences=False, recurrent_dropout=RDP, dropout=DP\n",
        "               )))\n",
        "\n",
        "model.add(BatchNormalization())\n",
        "model.add(Dense(units=LAYERS[3], activation='softmax'))\n",
        "\n"
      ],
      "execution_count": 28,
      "outputs": [
        {
          "output_type": "stream",
          "text": [
            "layers=[8, 8, 8, 3], train_examples=86899, test_examples=21734\n",
            "batch = 86899, timesteps = 30, features = 1, epochs = 15\n",
            "dropout = 0.0, recurr_dropout = 0.0\n"
          ],
          "name": "stdout"
        }
      ]
    },
    {
      "cell_type": "code",
      "metadata": {
        "id": "XOQXN77PI-jU"
      },
      "source": [
        "# Compile the model with Adam optimizer\n",
        "model.compile(loss='categorical_crossentropy',\n",
        "              metrics=['accuracy'],\n",
        "              optimizer='adam')"
      ],
      "execution_count": 29,
      "outputs": []
    },
    {
      "cell_type": "code",
      "metadata": {
        "colab": {
          "base_uri": "https://localhost:8080/"
        },
        "id": "bv55kA8nI_Oq",
        "outputId": "5f682b0b-0f71-4a4b-db9a-5fe8d4d2547b"
      },
      "source": [
        "# Train the model. \n",
        "# The dataset is small for NN - let's use test_data for validation\n",
        "start = time()\n",
        "History = model.fit(X_train, y_train,\n",
        "                    epochs=EPOCH,\n",
        "                    validation_split=0.0,\n",
        "                    validation_data=(X_test[:M_TEST], y_test[:M_TEST]),\n",
        "                    verbose=2)\n",
        "\n",
        "print('-'*65)\n",
        "print(f'Training was completed in {time() - start:.2f} secs')\n",
        "print('-'*65)\n",
        "# Evaluate the model:\n",
        "train_loss, train_acc = model.evaluate(X_train, y_train,\n",
        "                                       batch_size=M_TRAIN, verbose=1)\n",
        "test_loss, test_acc = model.evaluate(X_test[:M_TEST], y_test[:M_TEST],\n",
        "                                     batch_size=M_TEST, verbose=1)\n",
        "print('-'*65)\n",
        "print(f'train accuracy = {round(train_acc * 100, 4)}%')\n",
        "print(f'test accuracy = {round(test_acc * 100, 4)}%')\n",
        "print(f'test error = {round((1 - test_acc) * M_TEST)} out of {M_TEST} examples')\n"
      ],
      "execution_count": 30,
      "outputs": [
        {
          "output_type": "stream",
          "text": [
            "Epoch 1/15\n",
            "2716/2716 - 154s - loss: 0.0830 - accuracy: 0.9736 - val_loss: 0.0204 - val_accuracy: 0.9930\n",
            "Epoch 2/15\n",
            "2716/2716 - 139s - loss: 0.0334 - accuracy: 0.9875 - val_loss: 0.0173 - val_accuracy: 0.9939\n",
            "Epoch 3/15\n",
            "2716/2716 - 140s - loss: 0.0303 - accuracy: 0.9883 - val_loss: 0.0172 - val_accuracy: 0.9943\n",
            "Epoch 4/15\n",
            "2716/2716 - 140s - loss: 0.0279 - accuracy: 0.9887 - val_loss: 0.0161 - val_accuracy: 0.9945\n",
            "Epoch 5/15\n",
            "2716/2716 - 139s - loss: 0.0274 - accuracy: 0.9892 - val_loss: 0.0160 - val_accuracy: 0.9942\n",
            "Epoch 6/15\n",
            "2716/2716 - 139s - loss: 0.0268 - accuracy: 0.9894 - val_loss: 0.0161 - val_accuracy: 0.9943\n",
            "Epoch 7/15\n",
            "2716/2716 - 140s - loss: 0.0266 - accuracy: 0.9895 - val_loss: 0.0210 - val_accuracy: 0.9912\n",
            "Epoch 8/15\n",
            "2716/2716 - 140s - loss: 0.0260 - accuracy: 0.9895 - val_loss: 0.0177 - val_accuracy: 0.9932\n",
            "Epoch 9/15\n",
            "2716/2716 - 138s - loss: 0.0240 - accuracy: 0.9902 - val_loss: 0.0180 - val_accuracy: 0.9928\n",
            "Epoch 10/15\n",
            "2716/2716 - 139s - loss: 0.0239 - accuracy: 0.9903 - val_loss: 0.0184 - val_accuracy: 0.9934\n",
            "Epoch 11/15\n",
            "2716/2716 - 140s - loss: 0.0240 - accuracy: 0.9903 - val_loss: 0.0174 - val_accuracy: 0.9933\n",
            "Epoch 12/15\n",
            "2716/2716 - 141s - loss: 0.0229 - accuracy: 0.9905 - val_loss: 0.0148 - val_accuracy: 0.9943\n",
            "Epoch 13/15\n",
            "2716/2716 - 140s - loss: 0.0235 - accuracy: 0.9904 - val_loss: 0.0189 - val_accuracy: 0.9920\n",
            "Epoch 14/15\n",
            "2716/2716 - 140s - loss: 0.0227 - accuracy: 0.9905 - val_loss: 0.0153 - val_accuracy: 0.9942\n",
            "Epoch 15/15\n",
            "2716/2716 - 140s - loss: 0.0231 - accuracy: 0.9904 - val_loss: 0.0148 - val_accuracy: 0.9945\n",
            "-----------------------------------------------------------------\n",
            "Training was completed in 2108.99 secs\n",
            "-----------------------------------------------------------------\n",
            "1/1 [==============================] - 3s 3s/step - loss: 0.0187 - accuracy: 0.9918\n",
            "1/1 [==============================] - 2s 2s/step - loss: 0.0148 - accuracy: 0.9945\n",
            "-----------------------------------------------------------------\n",
            "train accuracy = 99.1818%\n",
            "test accuracy = 99.4525%\n",
            "test error = 119 out of 21734 examples\n"
          ],
          "name": "stdout"
        }
      ]
    },
    {
      "cell_type": "code",
      "metadata": {
        "colab": {
          "base_uri": "https://localhost:8080/",
          "height": 390
        },
        "id": "y4xgqhF6i2Gf",
        "outputId": "6d675f91-8bcb-499f-d99f-0a4324a3d3c4"
      },
      "source": [
        "# Plot the loss and accuracy curves over epochs:\n",
        "fig, axs = plt.subplots(nrows=1, ncols=2, figsize=(18,6))\n",
        "axs[0].plot(History.history['loss'], color='b', label='Training loss')\n",
        "axs[0].plot(History.history['val_loss'], color='r', label='Validation loss')\n",
        "axs[0].set_title(\"Loss curves\")\n",
        "axs[0].legend(loc='best', shadow=True)\n",
        "axs[1].plot(History.history['accuracy'], color='b', label='Training accuracy')\n",
        "axs[1].plot(History.history['val_accuracy'], color='r', label='Validation accuracy')\n",
        "axs[1].set_title(\"Accuracy curves\")\n",
        "axs[1].legend(loc='best', shadow=True)\n",
        "plt.show()"
      ],
      "execution_count": 61,
      "outputs": [
        {
          "output_type": "display_data",
          "data": {
            "image/png": "[encoded data removed]",
            "text/plain": [
              "<Figure size 1296x432 with 2 Axes>"
            ]
          },
          "metadata": {
            "needs_background": "light"
          }
        }
      ]
    },
    {
      "cell_type": "code",
      "metadata": {
        "id": "Itdi510wvPWg"
      },
      "source": [
        "#model.compile(optimizer='adam',loss='categorical_crossentropy',metrics=['accuracy'])"
      ],
      "execution_count": 32,
      "outputs": []
    },
    {
      "cell_type": "code",
      "metadata": {
        "id": "YO0uko0CXh_l"
      },
      "source": [
        "#history  = model.fit(X_train,y_train,epochs=2,batch_size=32,validation_data=(X_test,y_test))"
      ],
      "execution_count": 33,
      "outputs": []
    },
    {
      "cell_type": "code",
      "metadata": {
        "id": "3KrP9ssxfKBT"
      },
      "source": [
        "#model.evaluate(X_test,y_test)"
      ],
      "execution_count": 34,
      "outputs": []
    },
    {
      "cell_type": "code",
      "metadata": {
        "id": "RigLN-rlhdcr"
      },
      "source": [
        "#y_pred = model.predict(X_test)"
      ],
      "execution_count": 35,
      "outputs": []
    },
    {
      "cell_type": "code",
      "metadata": {
        "id": "7GiurpHjfVFx"
      },
      "source": [
        "#y_pred"
      ],
      "execution_count": 36,
      "outputs": []
    },
    {
      "cell_type": "code",
      "metadata": {
        "id": "YWbo130IiOwI"
      },
      "source": [
        "#predict_class = np.argmax(y_pred, axis=1)\n",
        "#predict_class = predict_class"
      ],
      "execution_count": 37,
      "outputs": []
    },
    {
      "cell_type": "code",
      "metadata": {
        "id": "9bhktn1riOzQ"
      },
      "source": [
        "#predict_class"
      ],
      "execution_count": 38,
      "outputs": []
    },
    {
      "cell_type": "code",
      "metadata": {
        "id": "lLFxK0fd_17I"
      },
      "source": [
        "#from sklearn.neighbors import KNeighborsClassifier\n",
        "#classifier = KNeighborsClassifier(n_neighbors = 5, metric = 'minkowski', p = 2)\n",
        "#classifier.fit(X_train, y_train)"
      ],
      "execution_count": 39,
      "outputs": []
    },
    {
      "cell_type": "code",
      "metadata": {
        "id": "8LDusYD2EpBj"
      },
      "source": [
        "#y_pred = np.array(y_train)\n",
        "#y_test = np.array(y_test)"
      ],
      "execution_count": 40,
      "outputs": []
    },
    {
      "cell_type": "code",
      "metadata": {
        "id": "Qu1gFROFEb5O"
      },
      "source": [
        "#y_pred = classifier.predict(X_test)\n",
        "#print(np.concatenate((y_pred.reshape(len(y_pred),1), y_test.reshape(len(y_test),1)),1))"
      ],
      "execution_count": 41,
      "outputs": []
    },
    {
      "cell_type": "code",
      "metadata": {
        "id": "kzzM-s1fE3z2"
      },
      "source": [
        "#from sklearn.metrics import accuracy_score,confusion_matrix,classification_report\n",
        "#conf = confusion_matrix(y_pred,y_test)\n",
        "#acc = accuracy_score(y_pred,y_test)\n",
        "#report = classification_report(y_pred,y_test)"
      ],
      "execution_count": 42,
      "outputs": []
    },
    {
      "cell_type": "code",
      "metadata": {
        "id": "sMFVF9xUE-r1"
      },
      "source": [
        "#print(report)"
      ],
      "execution_count": 43,
      "outputs": []
    },
    {
      "cell_type": "code",
      "metadata": {
        "colab": {
          "base_uri": "https://localhost:8080/"
        },
        "id": "BZ-sXEy9jAfu",
        "outputId": "e8de1472-7b0c-41dd-a299-9acccc414974"
      },
      "source": [
        "y_test"
      ],
      "execution_count": 74,
      "outputs": [
        {
          "output_type": "execute_result",
          "data": {
            "text/plain": [
              "array([[0, 1, 0],\n",
              "       [0, 1, 0],\n",
              "       [0, 1, 0],\n",
              "       ...,\n",
              "       [0, 1, 0],\n",
              "       [0, 1, 0],\n",
              "       [0, 1, 0]], dtype=uint8)"
            ]
          },
          "metadata": {},
          "execution_count": 74
        }
      ]
    },
    {
      "cell_type": "code",
      "metadata": {
        "colab": {
          "base_uri": "https://localhost:8080/"
        },
        "id": "CL7PydRRp8ze",
        "outputId": "17296d31-5eeb-4771-b424-c871cd340473"
      },
      "source": [
        "y_test = pd.DataFrame(y_test)\n",
        "y_test=np.argmax(y_test.iloc[:,:].values, axis=1)\n",
        "y_test"
      ],
      "execution_count": 75,
      "outputs": [
        {
          "output_type": "execute_result",
          "data": {
            "text/plain": [
              "array([1, 1, 1, ..., 1, 1, 1])"
            ]
          },
          "metadata": {},
          "execution_count": 75
        }
      ]
    },
    {
      "cell_type": "code",
      "metadata": {
        "colab": {
          "base_uri": "https://localhost:8080/",
          "height": 538
        },
        "id": "i2QDYPesE_sg",
        "outputId": "d514e64d-ad25-47de-9ff2-a353a1a4d813"
      },
      "source": [
        "y_pred = np.argmax(model.predict(X_test, batch_size=M_TEST, verbose=1),axis=-1)\n",
        "score = sum(y_pred == y_test) / len(y_test)\n",
        "print(f'Prediction accuracy = {score*100}%')\n",
        "index = pd.date_range(start='2018-01-13 06:43:02', end='2018-01-13 16:21:20', freq='H')\n",
        "for i in range(y_pred.shape[0]):\n",
        "    print(index[i], y_pred[i], y_test[i])"
      ],
      "execution_count": 76,
      "outputs": [
        {
          "output_type": "stream",
          "text": [
            "1/1 [==============================] - 0s 25ms/step\n",
            "Prediction accuracy = 99.45247078310481%\n",
            "2018-01-13 06:43:02 1 1\n",
            "2018-01-13 07:43:02 1 1\n",
            "2018-01-13 08:43:02 1 1\n",
            "2018-01-13 09:43:02 2 2\n",
            "2018-01-13 10:43:02 0 0\n",
            "2018-01-13 11:43:02 2 2\n",
            "2018-01-13 12:43:02 2 2\n",
            "2018-01-13 13:43:02 2 2\n",
            "2018-01-13 14:43:02 1 1\n",
            "2018-01-13 15:43:02 1 1\n"
          ],
          "name": "stdout"
        },
        {
          "output_type": "error",
          "ename": "IndexError",
          "evalue": "ignored",
          "traceback": [
            "\u001b[0;31m---------------------------------------------------------------------------\u001b[0m",
            "\u001b[0;31mIndexError\u001b[0m                                Traceback (most recent call last)",
            "\u001b[0;32m<ipython-input-76-2a11e4030f74>\u001b[0m in \u001b[0;36m<module>\u001b[0;34m()\u001b[0m\n\u001b[1;32m      4\u001b[0m \u001b[0mindex\u001b[0m \u001b[0;34m=\u001b[0m \u001b[0mpd\u001b[0m\u001b[0;34m.\u001b[0m\u001b[0mdate_range\u001b[0m\u001b[0;34m(\u001b[0m\u001b[0mstart\u001b[0m\u001b[0;34m=\u001b[0m\u001b[0;34m'2018-01-13 06:43:02'\u001b[0m\u001b[0;34m,\u001b[0m \u001b[0mend\u001b[0m\u001b[0;34m=\u001b[0m\u001b[0;34m'2018-01-13 16:21:20'\u001b[0m\u001b[0;34m,\u001b[0m \u001b[0mfreq\u001b[0m\u001b[0;34m=\u001b[0m\u001b[0;34m'H'\u001b[0m\u001b[0;34m)\u001b[0m\u001b[0;34m\u001b[0m\u001b[0;34m\u001b[0m\u001b[0m\n\u001b[1;32m      5\u001b[0m \u001b[0;32mfor\u001b[0m \u001b[0mi\u001b[0m \u001b[0;32min\u001b[0m \u001b[0mrange\u001b[0m\u001b[0;34m(\u001b[0m\u001b[0my_pred\u001b[0m\u001b[0;34m.\u001b[0m\u001b[0mshape\u001b[0m\u001b[0;34m[\u001b[0m\u001b[0;36m0\u001b[0m\u001b[0;34m]\u001b[0m\u001b[0;34m)\u001b[0m\u001b[0;34m:\u001b[0m\u001b[0;34m\u001b[0m\u001b[0;34m\u001b[0m\u001b[0m\n\u001b[0;32m----> 6\u001b[0;31m     \u001b[0mprint\u001b[0m\u001b[0;34m(\u001b[0m\u001b[0mindex\u001b[0m\u001b[0;34m[\u001b[0m\u001b[0mi\u001b[0m\u001b[0;34m]\u001b[0m\u001b[0;34m,\u001b[0m \u001b[0my_pred\u001b[0m\u001b[0;34m[\u001b[0m\u001b[0mi\u001b[0m\u001b[0;34m]\u001b[0m\u001b[0;34m,\u001b[0m \u001b[0my_test\u001b[0m\u001b[0;34m[\u001b[0m\u001b[0mi\u001b[0m\u001b[0;34m]\u001b[0m\u001b[0;34m)\u001b[0m\u001b[0;34m\u001b[0m\u001b[0;34m\u001b[0m\u001b[0m\n\u001b[0m",
            "\u001b[0;32m/usr/local/lib/python3.7/dist-packages/pandas/core/indexes/extension.py\u001b[0m in \u001b[0;36m__getitem__\u001b[0;34m(self, key)\u001b[0m\n\u001b[1;32m    213\u001b[0m \u001b[0;34m\u001b[0m\u001b[0m\n\u001b[1;32m    214\u001b[0m     \u001b[0;32mdef\u001b[0m \u001b[0m__getitem__\u001b[0m\u001b[0;34m(\u001b[0m\u001b[0mself\u001b[0m\u001b[0;34m,\u001b[0m \u001b[0mkey\u001b[0m\u001b[0;34m)\u001b[0m\u001b[0;34m:\u001b[0m\u001b[0;34m\u001b[0m\u001b[0;34m\u001b[0m\u001b[0m\n\u001b[0;32m--> 215\u001b[0;31m         \u001b[0mresult\u001b[0m \u001b[0;34m=\u001b[0m \u001b[0mself\u001b[0m\u001b[0;34m.\u001b[0m\u001b[0m_data\u001b[0m\u001b[0;34m[\u001b[0m\u001b[0mkey\u001b[0m\u001b[0;34m]\u001b[0m\u001b[0;34m\u001b[0m\u001b[0;34m\u001b[0m\u001b[0m\n\u001b[0m\u001b[1;32m    216\u001b[0m         \u001b[0;32mif\u001b[0m \u001b[0misinstance\u001b[0m\u001b[0;34m(\u001b[0m\u001b[0mresult\u001b[0m\u001b[0;34m,\u001b[0m \u001b[0mtype\u001b[0m\u001b[0;34m(\u001b[0m\u001b[0mself\u001b[0m\u001b[0;34m.\u001b[0m\u001b[0m_data\u001b[0m\u001b[0;34m)\u001b[0m\u001b[0;34m)\u001b[0m\u001b[0;34m:\u001b[0m\u001b[0;34m\u001b[0m\u001b[0;34m\u001b[0m\u001b[0m\n\u001b[1;32m    217\u001b[0m             \u001b[0;32mif\u001b[0m \u001b[0mresult\u001b[0m\u001b[0;34m.\u001b[0m\u001b[0mndim\u001b[0m \u001b[0;34m==\u001b[0m \u001b[0;36m1\u001b[0m\u001b[0;34m:\u001b[0m\u001b[0;34m\u001b[0m\u001b[0;34m\u001b[0m\u001b[0m\n",
            "\u001b[0;32m/usr/local/lib/python3.7/dist-packages/pandas/core/arrays/datetimelike.py\u001b[0m in \u001b[0;36m__getitem__\u001b[0;34m(self, key)\u001b[0m\n\u001b[1;32m    536\u001b[0m         \u001b[0;32mif\u001b[0m \u001b[0mlib\u001b[0m\u001b[0;34m.\u001b[0m\u001b[0mis_integer\u001b[0m\u001b[0;34m(\u001b[0m\u001b[0mkey\u001b[0m\u001b[0;34m)\u001b[0m\u001b[0;34m:\u001b[0m\u001b[0;34m\u001b[0m\u001b[0;34m\u001b[0m\u001b[0m\n\u001b[1;32m    537\u001b[0m             \u001b[0;31m# fast-path\u001b[0m\u001b[0;34m\u001b[0m\u001b[0;34m\u001b[0m\u001b[0;34m\u001b[0m\u001b[0m\n\u001b[0;32m--> 538\u001b[0;31m             \u001b[0mresult\u001b[0m \u001b[0;34m=\u001b[0m \u001b[0mself\u001b[0m\u001b[0;34m.\u001b[0m\u001b[0m_data\u001b[0m\u001b[0;34m[\u001b[0m\u001b[0mkey\u001b[0m\u001b[0;34m]\u001b[0m\u001b[0;34m\u001b[0m\u001b[0;34m\u001b[0m\u001b[0m\n\u001b[0m\u001b[1;32m    539\u001b[0m             \u001b[0;32mif\u001b[0m \u001b[0mself\u001b[0m\u001b[0;34m.\u001b[0m\u001b[0mndim\u001b[0m \u001b[0;34m==\u001b[0m \u001b[0;36m1\u001b[0m\u001b[0;34m:\u001b[0m\u001b[0;34m\u001b[0m\u001b[0;34m\u001b[0m\u001b[0m\n\u001b[1;32m    540\u001b[0m                 \u001b[0;32mreturn\u001b[0m \u001b[0mself\u001b[0m\u001b[0;34m.\u001b[0m\u001b[0m_box_func\u001b[0m\u001b[0;34m(\u001b[0m\u001b[0mresult\u001b[0m\u001b[0;34m)\u001b[0m\u001b[0;34m\u001b[0m\u001b[0;34m\u001b[0m\u001b[0m\n",
            "\u001b[0;31mIndexError\u001b[0m: index 10 is out of bounds for axis 0 with size 10"
          ]
        }
      ]
    },
    {
      "cell_type": "code",
      "metadata": {
        "colab": {
          "base_uri": "https://localhost:8080/"
        },
        "id": "R1jSNS81ZWLI",
        "outputId": "e5a2757c-9cf1-4ec9-993a-d225ce79e63e"
      },
      "source": [
        "y_test"
      ],
      "execution_count": 77,
      "outputs": [
        {
          "output_type": "execute_result",
          "data": {
            "text/plain": [
              "array([1, 1, 1, ..., 1, 1, 1])"
            ]
          },
          "metadata": {},
          "execution_count": 77
        }
      ]
    },
    {
      "cell_type": "code",
      "metadata": {
        "colab": {
          "base_uri": "https://localhost:8080/"
        },
        "id": "ZADVcpkgZYsz",
        "outputId": "10d985f8-b103-4b9d-ffad-6acc14306f2b"
      },
      "source": [
        "y_pred"
      ],
      "execution_count": 78,
      "outputs": [
        {
          "output_type": "execute_result",
          "data": {
            "text/plain": [
              "array([1, 1, 1, ..., 1, 1, 1])"
            ]
          },
          "metadata": {},
          "execution_count": 78
        }
      ]
    },
    {
      "cell_type": "code",
      "metadata": {
        "id": "o3IBez-TF0Cn"
      },
      "source": [
        "from sklearn.metrics import accuracy_score,confusion_matrix,classification_report\n",
        "conf = confusion_matrix(y_pred,y_test)\n",
        "acc = accuracy_score(y_pred,y_test)*100\n",
        "report = classification_report(y_pred,y_test)"
      ],
      "execution_count": 79,
      "outputs": []
    },
    {
      "cell_type": "code",
      "metadata": {
        "colab": {
          "base_uri": "https://localhost:8080/"
        },
        "id": "soAQkpg4famb",
        "outputId": "8ee23bb9-7c20-4673-efe2-552d1bdd16f1"
      },
      "source": [
        "print(conf)"
      ],
      "execution_count": 80,
      "outputs": [
        {
          "output_type": "stream",
          "text": [
            "[[ 1925     0    93]\n",
            " [    0 17275     0]\n",
            " [   26     0  2415]]\n"
          ],
          "name": "stdout"
        }
      ]
    },
    {
      "cell_type": "code",
      "metadata": {
        "colab": {
          "base_uri": "https://localhost:8080/"
        },
        "id": "euxQwS5-fgRX",
        "outputId": "f2fd6f39-388f-48a6-d88f-38e005f03385"
      },
      "source": [
        "print(f'{acc:.2f} %')"
      ],
      "execution_count": 81,
      "outputs": [
        {
          "output_type": "stream",
          "text": [
            "99.45 %\n"
          ],
          "name": "stdout"
        }
      ]
    },
    {
      "cell_type": "code",
      "metadata": {
        "colab": {
          "base_uri": "https://localhost:8080/"
        },
        "id": "MGNPNI5yfii3",
        "outputId": "9ecfbea8-a6c4-484f-9a3a-9d0de4b11a3a"
      },
      "source": [
        "print(report)"
      ],
      "execution_count": 82,
      "outputs": [
        {
          "output_type": "stream",
          "text": [
            "              precision    recall  f1-score   support\n",
            "\n",
            "           0       0.99      0.95      0.97      2018\n",
            "           1       1.00      1.00      1.00     17275\n",
            "           2       0.96      0.99      0.98      2441\n",
            "\n",
            "    accuracy                           0.99     21734\n",
            "   macro avg       0.98      0.98      0.98     21734\n",
            "weighted avg       0.99      0.99      0.99     21734\n",
            "\n"
          ],
          "name": "stdout"
        }
      ]
    },
    {
      "cell_type": "code",
      "metadata": {
        "id": "OKLKb2xo0tjn"
      },
      "source": [
        "y_pred = y_pred.astype(object)\n",
        "y_pred[y_pred==0] = 'Bad'\n",
        "y_pred[y_pred==1] = 'Good'\n",
        "y_pred[y_pred==2] = 'Interm'"
      ],
      "execution_count": 83,
      "outputs": []
    },
    {
      "cell_type": "code",
      "metadata": {
        "colab": {
          "base_uri": "https://localhost:8080/"
        },
        "id": "_hPi6kqj14QR",
        "outputId": "da4720a3-02aa-49a9-e398-477a402f4064"
      },
      "source": [
        "y_pred"
      ],
      "execution_count": 84,
      "outputs": [
        {
          "output_type": "execute_result",
          "data": {
            "text/plain": [
              "array(['Good', 'Good', 'Good', ..., 'Good', 'Good', 'Good'], dtype=object)"
            ]
          },
          "metadata": {},
          "execution_count": 84
        }
      ]
    },
    {
      "cell_type": "code",
      "metadata": {
        "id": "zZ3Df54z55xa"
      },
      "source": [
        "y_test= y_test.astype(object)\n",
        "y_test[y_test==0] = 'Bad'\n",
        "y_test[y_test==1] = 'Good'\n",
        "y_test[y_test==2] = 'Interm'"
      ],
      "execution_count": 85,
      "outputs": []
    },
    {
      "cell_type": "code",
      "metadata": {
        "colab": {
          "base_uri": "https://localhost:8080/"
        },
        "id": "fHKxD1eQ6F36",
        "outputId": "42e3aac4-4bac-4417-80b7-a034f0cc3aa5"
      },
      "source": [
        "y_test"
      ],
      "execution_count": 86,
      "outputs": [
        {
          "output_type": "execute_result",
          "data": {
            "text/plain": [
              "array(['Good', 'Good', 'Good', ..., 'Good', 'Good', 'Good'], dtype=object)"
            ]
          },
          "metadata": {},
          "execution_count": 86
        }
      ]
    },
    {
      "cell_type": "code",
      "metadata": {
        "colab": {
          "base_uri": "https://localhost:8080/"
        },
        "id": "c-CntyiU6dqm",
        "outputId": "1f78b865-a523-4195-b61d-de81697cbdae"
      },
      "source": [
        "comparision=np.concatenate((y_test.reshape(len(y_test),1), y_pred.reshape(len(y_pred),1)),1)\n",
        "print(comparision)"
      ],
      "execution_count": 87,
      "outputs": [
        {
          "output_type": "stream",
          "text": [
            "[['Good' 'Good']\n",
            " ['Good' 'Good']\n",
            " ['Good' 'Good']\n",
            " ...\n",
            " ['Good' 'Good']\n",
            " ['Good' 'Good']\n",
            " ['Good' 'Good']]\n"
          ],
          "name": "stdout"
        }
      ]
    },
    {
      "cell_type": "code",
      "metadata": {
        "colab": {
          "base_uri": "https://localhost:8080/",
          "height": 522
        },
        "id": "DUFsqg940hai",
        "outputId": "c9108234-5ba4-4012-86a8-d4700324c21a"
      },
      "source": [
        "score = sum(y_pred == y_test) / len(y_test)\n",
        "print(f'Prediction accuracy = {score*100}%')\n",
        "index = pd.date_range(start='2018-01-13 06:43:02', end='2018-01-13 16:21:20', freq='H')\n",
        "for i in range(y_pred.shape[0]):\n",
        "   print(index[i], y_pred[i], y_test[i])"
      ],
      "execution_count": 88,
      "outputs": [
        {
          "output_type": "stream",
          "text": [
            "Prediction accuracy = 99.45247078310481%\n",
            "2018-01-13 06:43:02 Good Good\n",
            "2018-01-13 07:43:02 Good Good\n",
            "2018-01-13 08:43:02 Good Good\n",
            "2018-01-13 09:43:02 Interm Interm\n",
            "2018-01-13 10:43:02 Bad Bad\n",
            "2018-01-13 11:43:02 Interm Interm\n",
            "2018-01-13 12:43:02 Interm Interm\n",
            "2018-01-13 13:43:02 Interm Interm\n",
            "2018-01-13 14:43:02 Good Good\n",
            "2018-01-13 15:43:02 Good Good\n"
          ],
          "name": "stdout"
        },
        {
          "output_type": "error",
          "ename": "IndexError",
          "evalue": "ignored",
          "traceback": [
            "\u001b[0;31m---------------------------------------------------------------------------\u001b[0m",
            "\u001b[0;31mIndexError\u001b[0m                                Traceback (most recent call last)",
            "\u001b[0;32m<ipython-input-88-aecfe923401f>\u001b[0m in \u001b[0;36m<module>\u001b[0;34m()\u001b[0m\n\u001b[1;32m      3\u001b[0m \u001b[0mindex\u001b[0m \u001b[0;34m=\u001b[0m \u001b[0mpd\u001b[0m\u001b[0;34m.\u001b[0m\u001b[0mdate_range\u001b[0m\u001b[0;34m(\u001b[0m\u001b[0mstart\u001b[0m\u001b[0;34m=\u001b[0m\u001b[0;34m'2018-01-13 06:43:02'\u001b[0m\u001b[0;34m,\u001b[0m \u001b[0mend\u001b[0m\u001b[0;34m=\u001b[0m\u001b[0;34m'2018-01-13 16:21:20'\u001b[0m\u001b[0;34m,\u001b[0m \u001b[0mfreq\u001b[0m\u001b[0;34m=\u001b[0m\u001b[0;34m'H'\u001b[0m\u001b[0;34m)\u001b[0m\u001b[0;34m\u001b[0m\u001b[0;34m\u001b[0m\u001b[0m\n\u001b[1;32m      4\u001b[0m \u001b[0;32mfor\u001b[0m \u001b[0mi\u001b[0m \u001b[0;32min\u001b[0m \u001b[0mrange\u001b[0m\u001b[0;34m(\u001b[0m\u001b[0my_pred\u001b[0m\u001b[0;34m.\u001b[0m\u001b[0mshape\u001b[0m\u001b[0;34m[\u001b[0m\u001b[0;36m0\u001b[0m\u001b[0;34m]\u001b[0m\u001b[0;34m)\u001b[0m\u001b[0;34m:\u001b[0m\u001b[0;34m\u001b[0m\u001b[0;34m\u001b[0m\u001b[0m\n\u001b[0;32m----> 5\u001b[0;31m    \u001b[0mprint\u001b[0m\u001b[0;34m(\u001b[0m\u001b[0mindex\u001b[0m\u001b[0;34m[\u001b[0m\u001b[0mi\u001b[0m\u001b[0;34m]\u001b[0m\u001b[0;34m,\u001b[0m \u001b[0my_pred\u001b[0m\u001b[0;34m[\u001b[0m\u001b[0mi\u001b[0m\u001b[0;34m]\u001b[0m\u001b[0;34m,\u001b[0m \u001b[0my_test\u001b[0m\u001b[0;34m[\u001b[0m\u001b[0mi\u001b[0m\u001b[0;34m]\u001b[0m\u001b[0;34m)\u001b[0m\u001b[0;34m\u001b[0m\u001b[0;34m\u001b[0m\u001b[0m\n\u001b[0m",
            "\u001b[0;32m/usr/local/lib/python3.7/dist-packages/pandas/core/indexes/extension.py\u001b[0m in \u001b[0;36m__getitem__\u001b[0;34m(self, key)\u001b[0m\n\u001b[1;32m    213\u001b[0m \u001b[0;34m\u001b[0m\u001b[0m\n\u001b[1;32m    214\u001b[0m     \u001b[0;32mdef\u001b[0m \u001b[0m__getitem__\u001b[0m\u001b[0;34m(\u001b[0m\u001b[0mself\u001b[0m\u001b[0;34m,\u001b[0m \u001b[0mkey\u001b[0m\u001b[0;34m)\u001b[0m\u001b[0;34m:\u001b[0m\u001b[0;34m\u001b[0m\u001b[0;34m\u001b[0m\u001b[0m\n\u001b[0;32m--> 215\u001b[0;31m         \u001b[0mresult\u001b[0m \u001b[0;34m=\u001b[0m \u001b[0mself\u001b[0m\u001b[0;34m.\u001b[0m\u001b[0m_data\u001b[0m\u001b[0;34m[\u001b[0m\u001b[0mkey\u001b[0m\u001b[0;34m]\u001b[0m\u001b[0;34m\u001b[0m\u001b[0;34m\u001b[0m\u001b[0m\n\u001b[0m\u001b[1;32m    216\u001b[0m         \u001b[0;32mif\u001b[0m \u001b[0misinstance\u001b[0m\u001b[0;34m(\u001b[0m\u001b[0mresult\u001b[0m\u001b[0;34m,\u001b[0m \u001b[0mtype\u001b[0m\u001b[0;34m(\u001b[0m\u001b[0mself\u001b[0m\u001b[0;34m.\u001b[0m\u001b[0m_data\u001b[0m\u001b[0;34m)\u001b[0m\u001b[0;34m)\u001b[0m\u001b[0;34m:\u001b[0m\u001b[0;34m\u001b[0m\u001b[0;34m\u001b[0m\u001b[0m\n\u001b[1;32m    217\u001b[0m             \u001b[0;32mif\u001b[0m \u001b[0mresult\u001b[0m\u001b[0;34m.\u001b[0m\u001b[0mndim\u001b[0m \u001b[0;34m==\u001b[0m \u001b[0;36m1\u001b[0m\u001b[0;34m:\u001b[0m\u001b[0;34m\u001b[0m\u001b[0;34m\u001b[0m\u001b[0m\n",
            "\u001b[0;32m/usr/local/lib/python3.7/dist-packages/pandas/core/arrays/datetimelike.py\u001b[0m in \u001b[0;36m__getitem__\u001b[0;34m(self, key)\u001b[0m\n\u001b[1;32m    536\u001b[0m         \u001b[0;32mif\u001b[0m \u001b[0mlib\u001b[0m\u001b[0;34m.\u001b[0m\u001b[0mis_integer\u001b[0m\u001b[0;34m(\u001b[0m\u001b[0mkey\u001b[0m\u001b[0;34m)\u001b[0m\u001b[0;34m:\u001b[0m\u001b[0;34m\u001b[0m\u001b[0;34m\u001b[0m\u001b[0m\n\u001b[1;32m    537\u001b[0m             \u001b[0;31m# fast-path\u001b[0m\u001b[0;34m\u001b[0m\u001b[0;34m\u001b[0m\u001b[0;34m\u001b[0m\u001b[0m\n\u001b[0;32m--> 538\u001b[0;31m             \u001b[0mresult\u001b[0m \u001b[0;34m=\u001b[0m \u001b[0mself\u001b[0m\u001b[0;34m.\u001b[0m\u001b[0m_data\u001b[0m\u001b[0;34m[\u001b[0m\u001b[0mkey\u001b[0m\u001b[0;34m]\u001b[0m\u001b[0;34m\u001b[0m\u001b[0;34m\u001b[0m\u001b[0m\n\u001b[0m\u001b[1;32m    539\u001b[0m             \u001b[0;32mif\u001b[0m \u001b[0mself\u001b[0m\u001b[0;34m.\u001b[0m\u001b[0mndim\u001b[0m \u001b[0;34m==\u001b[0m \u001b[0;36m1\u001b[0m\u001b[0;34m:\u001b[0m\u001b[0;34m\u001b[0m\u001b[0;34m\u001b[0m\u001b[0m\n\u001b[1;32m    540\u001b[0m                 \u001b[0;32mreturn\u001b[0m \u001b[0mself\u001b[0m\u001b[0;34m.\u001b[0m\u001b[0m_box_func\u001b[0m\u001b[0;34m(\u001b[0m\u001b[0mresult\u001b[0m\u001b[0;34m)\u001b[0m\u001b[0;34m\u001b[0m\u001b[0;34m\u001b[0m\u001b[0m\n",
            "\u001b[0;31mIndexError\u001b[0m: index 10 is out of bounds for axis 0 with size 10"
          ]
        }
      ]
    },
    {
      "cell_type": "code",
      "metadata": {
        "colab": {
          "base_uri": "https://localhost:8080/",
          "height": 248
        },
        "id": "I0s1aslwTUZf",
        "outputId": "d5a0b534-7c84-467a-e861-f0b4a38c044b"
      },
      "source": [
        "data = confusion_matrix(y_pred, y_test)\n",
        "df_cm = pd.DataFrame(data, columns=np.unique(y_test), index = np.unique(y_test))\n",
        "df_cm.index.name = 'Predicted'\n",
        "df_cm.columns.name = 'Actual'\n",
        "\n",
        "plt.figure(figsize = (4,3))\n",
        "\n",
        "sns.set(font_scale=1)#for label size\n",
        "sns.heatmap(df_cm/np.sum(df_cm), cmap=\"Blues\",annot=True,annot_kws={\"size\": 14})# font size\n",
        "plt.title(f'Accuracy = {round(acc, 2)}%', fontsize = 15)\n",
        "plt.show()"
      ],
      "execution_count": 89,
      "outputs": [
        {
          "output_type": "display_data",
          "data": {
            "image/png": "[encoded data removed]",
            "text/plain": [
              "<Figure size 288x216 with 2 Axes>"
            ]
          },
          "metadata": {
            "needs_background": "light"
          }
        }
      ]
    },
    {
      "cell_type": "code",
      "metadata": {
        "colab": {
          "base_uri": "https://localhost:8080/"
        },
        "id": "Bb3I5oeXKANt",
        "outputId": "9f88d336-c903-45ae-9143-cb676abe176b"
      },
      "source": [
        "y_pred = np.array(y_pred)\n",
        "y_pred = pd.DataFrame(y_pred)\n",
        "y_pred=np.argmax(y_pred.iloc[:,:].values, axis=1)\n",
        "y_pred"
      ],
      "execution_count": 90,
      "outputs": [
        {
          "output_type": "execute_result",
          "data": {
            "text/plain": [
              "array([0, 0, 0, ..., 0, 0, 0])"
            ]
          },
          "metadata": {},
          "execution_count": 90
        }
      ]
    },
    {
      "cell_type": "code",
      "metadata": {
        "id": "u8TFPNvUMgwF"
      },
      "source": [
        "y_pred= y_pred.astype(object)\n",
        "y_pred[y_pred==0] = 'Bad'\n",
        "y_pred[y_pred==1] = 'Good'\n",
        "y_pred[y_pred==2] = 'Interm'"
      ],
      "execution_count": null,
      "outputs": []
    },
    {
      "cell_type": "code",
      "metadata": {
        "id": "TbTOQXlmMo7l"
      },
      "source": [
        " y_pred = pd.DataFrame(y_pred)\n",
        " y_pred"
      ],
      "execution_count": null,
      "outputs": []
    },
    {
      "cell_type": "code",
      "metadata": {
        "id": "CIKAjXlHL7xV"
      },
      "source": [
        "y_test = pd.DataFrame(y_test)\n",
        "y_test"
      ],
      "execution_count": null,
      "outputs": []
    },
    {
      "cell_type": "code",
      "metadata": {
        "id": "Uac2AHccLokv"
      },
      "source": [
        "y_pred[0].value_counts().plot(kind='bar')"
      ],
      "execution_count": null,
      "outputs": []
    },
    {
      "cell_type": "code",
      "metadata": {
        "id": "-jO0lB3QOJEd"
      },
      "source": [
        "y_test = np.array(y_test)\n",
        "y_pred = np.array(y_pred)"
      ],
      "execution_count": null,
      "outputs": []
    },
    {
      "cell_type": "code",
      "metadata": {
        "id": "iXm0jSqjOT5a"
      },
      "source": [
        "# with the following sentence you can get a mask of the items bad classified\n",
        "mask = np.logical_not(np.equal(y_test, y_pred))\n",
        "# Now you can use the mask to see the elements bad classified:\n",
        "print(f\"Elements wrong classified: {y_test[mask]}\")\n",
        "print(f\"Prediction by the model for each of those elements: {y_pred[mask]}\")\n",
        "print(f\"Actual value for each of those elements: {np.asarray(y_test)[mask]}\")"
      ],
      "execution_count": null,
      "outputs": []
    },
    {
      "cell_type": "code",
      "metadata": {
        "id": "kBeQ8dobO-JF"
      },
      "source": [
        "Prediction=y_pred[mask]\n",
        "Prediction\n"
      ],
      "execution_count": null,
      "outputs": []
    },
    {
      "cell_type": "code",
      "metadata": {
        "id": "FksvYP1CPhde"
      },
      "source": [
        "Actual=y_test[mask]\n",
        "Actual"
      ],
      "execution_count": null,
      "outputs": []
    },
    {
      "cell_type": "code",
      "metadata": {
        "id": "gYAL5P5hP2mD"
      },
      "source": [
        "comp=np.concatenate((Actual.reshape(len(Actual),1), Prediction.reshape(len(Prediction),1)),1)\n",
        "comp = pd.DataFrame(comp)\n",
        "comp.columns=['Actual','Predicted']\n",
        "comp"
      ],
      "execution_count": null,
      "outputs": []
    },
    {
      "cell_type": "code",
      "metadata": {
        "id": "KFHxnxvLSMS7"
      },
      "source": [
        "comp[0].value_counts().plot(kind='bar')"
      ],
      "execution_count": null,
      "outputs": []
    },
    {
      "cell_type": "code",
      "metadata": {
        "id": "mWuVlGL2QPYu"
      },
      "source": [
        "comp[1].value_counts().plot(kind='bar')"
      ],
      "execution_count": null,
      "outputs": []
    },
    {
      "cell_type": "code",
      "metadata": {
        "id": "xPt3cKPHSSjU"
      },
      "source": [
        "y_pred= y_pred.astype(object)\n",
        "y_pred[y_pred==0] = 'Bad'\n",
        "y_pred[y_pred==1] = 'Good'\n",
        "y_pred[y_pred==2] = 'Interm'"
      ],
      "execution_count": null,
      "outputs": []
    },
    {
      "cell_type": "code",
      "metadata": {
        "id": "4U2aCurvTuso"
      },
      "source": [
        "mask1 = np.equal(y_test,y_pred)\n",
        "Predicted1 = y_pred[mask1]"
      ],
      "execution_count": null,
      "outputs": []
    },
    {
      "cell_type": "code",
      "metadata": {
        "id": "FW_4D1GnX-Wh"
      },
      "source": [
        "Predicted1 =pd.DataFrame(Predicted1)\n",
        "Predicted1"
      ],
      "execution_count": null,
      "outputs": []
    },
    {
      "cell_type": "code",
      "metadata": {
        "id": "jYnnU7qPYKlm"
      },
      "source": [
        "Predicted1[0].value_counts().plot(kind='bar')\n",
        "plt.show()\n"
      ],
      "execution_count": null,
      "outputs": []
    },
    {
      "cell_type": "code",
      "metadata": {
        "id": "d-GScciZY-cC"
      },
      "source": [
        "model.summary()"
      ],
      "execution_count": null,
      "outputs": []
    },
    {
      "cell_type": "code",
      "metadata": {
        "id": "_ETVYBqXgUz3"
      },
      "source": [
        ""
      ],
      "execution_count": null,
      "outputs": []
    }
  ]
}